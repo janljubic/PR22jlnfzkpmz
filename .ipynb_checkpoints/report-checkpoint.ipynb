{
 "cells": [
  {
   "cell_type": "markdown",
   "id": "1336b885",
   "metadata": {},
   "source": [
    "# ANALIZA ZAPOSLOVANJA V SLOVENIJI\n",
    "\n",
    "Člani skupine:\n",
    "- Jan Ljubič\n",
    "- Nikolas Filip Žnidaršič\n",
    "- Matic Zadobovšek\n",
    "- Kristijan Petrič\n",
    "\n",
    "V okviru projektne naloge smo se osredotočili na analizo zaposlovanja v Sloveniji. Naš namen je bil, da bi pridobili celovit pregled nad gospodarskimi dejavnostmi in trgom dela, zato smo se odločili, da bomo analizirali pet večjih bistvenih enot, ki zajemajo to področje:\n",
    "- brezposelnost,\n",
    "- delovna mesta,\n",
    "- opravljene delovne ure,\n",
    "- neto in bruto plača,\n",
    "- stopnja tveganja revščine.\n",
    "\n",
    "V spodnjem poročilu so predstavljene bistvene ugotovitve in odgovori na vprašanja, s katerimi smo se ukvarjali med samim potekom izdelave naloge.\n",
    "\n",
    "Uporabljena izvorna koda je priložena na dnu poročila v obliki priloge, ki vas preusmeri na ustrezno datoteko direktorija.\n",
    "\n",
    "Za lažje razumevanje oblike direktorija projekta, si lahko več preberete znotraj [info.md](info.md).\n",
    "\n",
    "Omeniti velja, da smo ponekod pri analizi uporabili interaktivne vizualizacije, ki se v brskalniku ne prikažejo, če nimate odprte .ipynb datoteke v 'načinu za urejanje' - zaradi tega smo vse takšne grafe shranili v poddirektorij [slike/interaktivne_vizualizacije](slike/interaktivne_vizualizacije) v obliki .html datotek."
   ]
  },
  {
   "cell_type": "markdown",
   "id": "f046717f",
   "metadata": {},
   "source": [
    "# DELOVNA MESTA\n",
    "\n",
    "## UGOTOVITVE IN ODGOVORI NA VPRAŠANJA\n",
    "\n",
    "V prvem delu smo se ukvarjali z analizo števila prostih delovnih mest za posamezno področje dela. \n",
    "\n",
    "Potrebno se je zavedati, da lahko višje število prostih delovnih mest pomeni več stvari, med katerimi velja omeniti predvsem:\n",
    "- rast gospodarske dejavnosti (višje število prostih delovnih mest običajno kaže na razvoj določene dejavnosti v gospodarstvu. Pomeni višje povpraševanje po delovni sili, kar je posledica številnih pozitivnih dejavnikov v neki dejavnosti - večje število naročil, širjenje podjetij, ki se ukvarjajo s to dejavnostjo...)\n",
    "- nizka brezposelnost (višje število prostih delovnih mest lahko pomeni, da je brezposelnost v neki dejavnosti precej nizka)\n",
    "- sezonske spremembe (v določeni dejavnosti lahko opazimo, da prihaja do povečanja potreb po delovni sili v nekaterih obdobjih v letu - tipično bi to bilo prisotno v turizmu)\n",
    "- večje odpuščanje delavcev (običajno višje število prostih delovnih mest kaže na potrebo po zaposlovanju več delavcev, ampak lahko pride tudi do situacij, ko podjetja množično odpuščajo svoje delavce, kar se kasneje odraža na večjem številu prostih delovnih mest)\n",
    "\n",
    "Spodaj je prikazanih zgolj nekaj bistvenih vizualizacij, ki nam pomagajo pri primerjanju gospodarskih dejavnosti med seboj glede na število prostih delovnih mest – podrobnejše vizualizacije, ki se nanašajo zgolj na eno dejavnost, so pripravljene znotraj datotek, ki so priložene v prilogi na dnu poročila.\n",
    "\n",
    "![](slike/analiza/delovna_mesta/lines_chart_prosta_delovna_mesta_vse_dejavnosti.png)\n",
    "\n",
    "![](slike/analiza/delovna_mesta/stacked_bar_chart_prosta_delovna_mesta_vse_dejavnosti.png)\n",
    "\n",
    "![](slike/analiza/delovna_mesta/matrika_korelacij_prosta_delovna_mesta_vse_dejavnosti.png)\n",
    "\n",
    "Med zanimivejši tematiki, s katerimi smo se srečali, spadata globalna finančna kriza, ki se je začela leta 2008 in pa obdobje pandemije koronavirusa, ki se je v Sloveniji začelo marca 2020 in je okvirno potekalo skozi leto 2020 in začetek leta 2021 (izpostaviti velja predvsem prvi, drugi in tretji val, vendar se zavedamo, da so se posamezni izbruhi pojavljali še kasneje, vendar so bili posledice bolj obvladljive)\n",
    "\n",
    "Globalna finančna kriza:\n",
    "- imela je negativne učinke na gospodarstva po vsem svetu, kar je vplivalo na recesijo in zmanjšanje zaposlovanja. Mnoga podjetja so se soočala s finančnimi težavami in so bila prisiljena proglasiti stečaj - to seveda vpliva k zmanjšanju delovnih mest in povečanje brezposelnosti. \n",
    "- kriza se je začela v Združenih državah Amerike septembra 2008, v Sloveniji pa so se začeli kazati prvi učinki krize v letih 2008 in 2009 - trend se je nadaljeval še v naslednjih nekaj letih.\n",
    "![](slike/analiza/delovna_mesta/lines_chart_globalna_financna_kriza_prosta_delovna_mesta.png)\n",
    "\n",
    "S pomočjo vizualizacij smo prišli do ugotovitev, da so v tem obdobju bile najbolj prizadete naslednje dejavnosti:\n",
    "- predelovalne dejavnosti (prišlo je do upada po povpraševanju po izdelkih in storitvah)\n",
    "- gradbeništvo (zmanjševanje investicij, padec povpraševanja, kar je povzročilo, da je prišlo do zmanjšanja gradbenih projektov)\n",
    "- trgovina, vzdrževanje in popravila motornih vozil (izrazit upad potrošnje)\n",
    "- finančne in zavarovalniške dejavnosti (lahko rečemo, da je bil finančni sektor osrednji del globalne krize - prizadete so bile banke, zavarovalnice, ki so se srečevale s številnimi težavami, npr. slabšanje kakovosti sredstev, omejeno zagotavljanje posojil)\n",
    "- druge raznovrstne poslovne dejavnosti (podobno razlogi kot v prej omenjenih dejavnostih)\n",
    "\n",
    "Po globalni finančni krizi je Slovenija začela doživljati gospodarsko rast v drugi polovici leta 2013 - trend se je nadaljeval še v prihodnjih letih, najvišja gospodarska rast BDP pa je bila dosežena v letu 2017. Do težav je ponovno prišlo v letu 2020, saj je prišlo do upada gospodarskih aktivnosti zaradi omenjene pandemije COVID-19. \n",
    "\n",
    "Na zgornjih vizualizacijah lahko opazimo, da se je število prostih delovnih mest postopamo povečevalo v obdobju gospodarske rasti Slovenije. To je pričakovano, saj se v obdobjih gospodarske rasti število delovnih mest povečuje - podjetja se odločajo za ustvarjanje novih delovnih mest, kar pomaga tudi k zmanjšanju stopnje brezposelnosti. To lahko vidimo tudi na spodnji vizualizaciji, kjer se osredotočamo na obdobje od ponovne pozitivne gospodarske rasti Slovenije od leta 2013 naprej pa vse do pričetka pandemije COVID-19.\n",
    "\n",
    "![](slike/analiza/delovna_mesta/stacked_bar_chart_2013_2020_prosta_delovna_mesta_vse_dejavnosti.png)\n",
    "\n",
    "Sedaj se dotaknimo še drugega pomembnega mejnika, ki smo ga omenjali zgoraj - pandemija COVID-19. V Sloveniji je pandemija imela pomemben vpliv na prosta delovna mesta in na gospodarsko rast, saj je prišlo do številnih negativnih posledic:\n",
    "- upad proste delovne sile (ukrepi za zajezitev širjenja virusa, kot so npr. zaprtje podjetij in omejitve dejavnosti - zaradi tega so mnoga podjetja doživela upad povpraševanja, kar je privedlo do zmanjšanja potrebe po delovni sili)\n",
    "- zmanjšanje zaposlovanja\n",
    "- zmanjšanje gospodarske aktivnosti\n",
    "- težave so se pojavile predvsem v določenih sektorjih, kot so turizem, gostinstvo, kulturne dejavnosti...\n",
    "\n",
    "![](slike/analiza/delovna_mesta/lines_chart_COVID19_prosta_delovna_mesta.png)\n",
    "\n",
    "Iz vizualizacij smo prišli do pričakovanih ugotovitev, saj lahko vidimo, da so bile najbolj prizadete naslednje dejavnosti:\n",
    "- gostinstvo (restavracije, kavarne, bari so bili med najbolj prizadetimi sektorji zaradi omejitev gibanja in zaprtja)\n",
    "- trgovina, vzdrževanje in popravila motornih vozil (fizične trgovine so bile prav tako prizadete zaradi omejenega števila strank in spremenjenih nakupovalnih navad)\n",
    "- kulturne, razvedrilne in rekreacijske dejavnosti (gledališča, koncertni prostori, športni dogodki in druge kulturne prireditve so bile zaradi omejitev javnih zbiranj precej prizadete)\n",
    "- druge raznovrstne poslovne dejavnosti (podobni razlogi kot zgoraj)\n",
    "- gradbeništvo (prekinitev gradbenih projektov, omejitve na gradbiščih, padec povpraševanja)\n",
    "- izobraževanje (izzivi s prehodom izobraževanja na daljavo oziroma hibridno izobraževanje)\n",
    "- predelovalne dejavnosti (odvisno od vrste industrije, saj so recimo farmacevtska industrija ali pa proizvodnja živil imele stabilno oziroma celo povečano, medtem ko so druge industrije npr. tekstilna, avtomobilska... doživele upad naročil)\n",
    "- promet in skladiščenje (zmanjšanje povpraševanja, omejitve in zaprtje mej...)\n",
    "\n",
    "V zadnjem obdobju smo priča postopnemu gospodarskemu okrevanju, kar se kaže tudi v ponovnem večanju števila prostih delovnih mest. Podjetja, ki so bila prej prisiljena zmanjšati število zaposlenih ali pa ustaviti svoje zaposlovanje, se sedaj ponovno odločajo za povečanje delovne sile, ker se povpraševanje po njihovih izdelkih povečuje.\n",
    "\n",
    "Med zanimivejše primere sezonskih trendov v zaposlovanju spada izobraževanje, saj lahko na spodnji vizualizaciji vidimo, da pred začetkom novega šolskega leta pride do povečanega povpraševanja po učiteljih in profesorjih.\n",
    "![](slike/analiza/delovna_mesta/lines_chart_prosta_delovna_mesta_izobrazevanje.png)\n",
    "\n",
    "V drugem delu smo se posvetili analizi števila zasedenih prostih delovnih mest omenjenih panog.\n",
    "\n",
    "Postavili smo si podobna vprašanja kot že prej, vendar nam ta dodatna analiza omogoča, da dobimo še boljši vpogled, predvsem pa lahko vidimo:\n",
    "- trend rasti in upadanja (analiziranje števila zasedenih delovnih mest nam pokaže trend rasti ali upadanja zaposlovanja)\n",
    "- različni vplivi na dejavnosti (vidimo lahko, kako so različne dejavnosti reagirale na gospodarske razmere, krize in druge vplive, ki so se zgodili v preteklih letih)\n",
    "- primerjava med dejavnostmi (vidimo lahko, katere dejavnosti so 'gonilne dejavnosti' gospodarske rasti oziroma katere so bolj občutljive na spremembe na trgu dela).\n",
    "\n",
    "Spodaj je prikazanih zgolj nekaj bistvenih vizualizacij, ki nam pomagajo pri primerjanju gospodarskih dejavnosti med seboj glede na število zasedenih delovnih mest.\n",
    "\n",
    "![](slike/analiza/delovna_mesta/lines_chart_zasedena_delovna_mesta_vse_dejavnosti.png)\n",
    "\n",
    "![](slike/analiza/delovna_mesta/stacked_bar_chart_zasedena_delovna_mesta_vse_dejavnosti.png)\n",
    "\n",
    "![](slike/analiza/delovna_mesta/matrika_korelacij_zasedena_delovna_mesta_vse_dejavnosti.png)\n",
    "\n",
    "Ugotovitve so bile podobne kot so bile že navedene zgoraj, vendar nam te dodatne vizualizacije ponudijo nove vpoglede predvsem v učinke gospodarske krize leta 2008 in pandemije COVID-19 v Sloveniji. Število zasedenih delovnih mest bolj neposredno odraža spremembe na trgu dela. Opaziti je mogoče zmanjšanje števila zasedenih delovnih mest v določenih sektorjih, kar nakazuje negativne učinke krize v teh dejavnostih. V obdobju pandemije COVID-19 pa lahko vidimo večje nihanje števila zasedenih delovnih mest v času, ko so bile uvedeni ukrepi za zajezitev virusa. Na ta način lahko vidimo, katere dejavnosti so se najbolj spopadale z izzivi, ki so se pojavljali skozi leta.\n",
    "\n",
    "Najprej nas zanima pregled najbolj prizadetih dejavnosti globalne finančne krize iz leta 2008.\n",
    "![](slike/analiza/delovna_mesta/lines_chart_globalna_financna_kriza_zasedena_delovna_mesta.png)\n",
    "\n",
    "V obdobju gospodarske rasti je prišlo do povečanja zasedenih delovnih mest, saj je prišlo do večjega povpraševanja po dobrinah in storitvah, kar vodi v povečano dejavnost podjetij. Podjetja so širila svoje dejavnosti in zaposlovala več delavcev.\n",
    "![](slike/analiza/delovna_mesta/stacked_bar_chart_2013_2020_zasedena_delovna_mesta.png)\n",
    "\n",
    "Z začetkom krize koronavirusa pa je prišlo do najbolj očitnega zmanjšanja števila zasedenih delovnih mest v naslednjih dejavnostih.\n",
    "![](slike/analiza/delovna_mesta/stacked_bar_chart_COVID19_zasedena_delovna_mesta.png)\n",
    "\n",
    "Med dejavnostmi, ki so se najbolje obdržale skozi leta, za katere smo analizirali dejavnosti, velja izpostaviti predvsem:\n",
    "- informacijske in komunikacijske dejavnosti (v informacijski dobi je povpraševanje po IT storitvah naraščalo)\n",
    "- zdravstvo in socialno varstvo (zdravstvo je ključen sektor v vsakem obdobju - pandemija COVID-19 je še dodatno povečala potrebo po zdravstveni oskrbi)\n",
    "- strokovne, znanstvene in tehnične dejavnosti (podjetja so v času kriz iskala strokovnjake, ki jim lahko pomagajo pri prilagajanje na spremembe)\n",
    "- izobraževanje (ljudje v času krize iščejo možnosti za dodatna izobraževanja in učenje novih veščin oziroma povečanje svoje konkurenčnosti na trgu dela)\n",
    "![](slike/analiza/delovna_mesta/lines_chart_zasedena_delovna_mesta_najboljse_dejavnosti.png)\n",
    "\n",
    "Kot primer dejavnosti v Sloveniji, ki je v zadnjih letih doživela precejšnje zmanjšanje, velja izpostaviti rudarstvo.\n",
    "![](slike/analiza/delovna_mesta/lines_chart_zasedena_delovna_mesta_rudarstvo.png)\n",
    "\n",
    "Preučili smo tudi stopnjo prostih delovnih mest (v %) - ugotovitve so bile podobne tistemu, kar smo že ugotovili iz podatkov o številu prostih in zasedenih delovnih mest, vseeno pa se lahko še dodatno prepričamo o gospodarski aktivnosti (višja stopnja prostih delovnih mest lahko kaže na večjo gospodarsko aktivnost in povpraševanje), pomanjkanju delovne sile (visoka stopnja prostih delovnih mest lahko nakazuje tudi na pomanjkanje usposobljenih delavcev) ali pa vpliv krize (v tem času je pričakovana nižja stopnja prostih delovnih mest).\n",
    "\n",
    "Na koncu smo se lotili še napovedovanja omenjenih podatkov za obdobje naslednjih 5 let.\n",
    "\n",
    "![](slike/analiza/delovna_mesta/linearna_regresija_prosta_delovna_mesta_vse_dejavnosti.png)\n",
    "\n",
    "![](slike/analiza/delovna_mesta/linearna_regresija_zasedena_delovna_mesta_vse_kategorije.png)\n",
    "\n",
    "![](slike/analiza/delovna_mesta/linearna_regresija_stopnja_prostih_delovnih_mest_vse_dejavnosti.png)\n",
    "\n",
    "Kot kažejo naše napovedi se nam v naslednjih 5 letih obeta največ prostih delovnih mest na področju predelovalnih dejavnosti, gradbeništva, trgovine, gostinstva in prometa, vendar je potrebno poudariti, da naše napovedi predvidevajo, da bo znotraj teh dejavnosti tudi prišlo do največjega zmanjšanja zasedenih delovnih mest, kar lahko pomeni odpustitve oziroma tudi številne izhode iz obstoječih zaposlitev. \n",
    "\n",
    "Največje povečanje števila zasedenih delovnih mest pa naše ugotovitve napovedujejo znotraj področij informacijske in komunikacijske dejavnosti, poslovanja z nepremičninami, strokovnimi in znanstvenimi dejavnostmi, izobraževanju, zdravstvu in drugih raznovrstnih poslovnih dejavnostih (tržne raziskave, storitve za podjetja, poslovno svetovanje...)."
   ]
  },
  {
   "cell_type": "markdown",
   "id": "9e3d7352",
   "metadata": {},
   "source": [
    "## PLAČE V SLOVENIJI\n",
    "\n",
    "V prvem delu analize podatkov smo podatke seveda ustrezno pripravili za obdelavo, podatki so razdeljeni na dejavnost ki so označene tudi z prvo črko od A do S, nato sledijo stolpci SPOL; STATUS ZAPOSLITVE, LETO, RAZRED NETO - SKUPAJ in pa posamezni razredi označeni od 1 do 20, med razredi je 5% naraščajoča razlika.\n",
    "\n",
    "Postavili smo si vprašanja 3 krovna vprašanja in jih tudi vizualizirali.\n",
    "\n",
    "### 1. Spreminjanje števila ljudi v posameznih plačilnih razredih\n",
    "\n",
    "V tem vprašanju smo se posvetili prvi od dejavnosti, ki je definirana v množici kot KMETIJSTVO IN LOV, GOZDARSTVO, RIBISTVO. Izbrali smo jo, ker smo po analizi vseh dejavnosti ugotovili, da ima le ta največji razpon med plačilnimi razredi. V našem primeru razpo definiramo kot število plačilnih razredov, ki jih vsebuje zbirka.\n",
    "\n",
    "Spodaj lahko vidimo prikazan graf, ki prikazuje število ljudi v posameznem plačnem razredu za dejavnost KMETIJSTVO IN LOV, GOZDARSTVO, RIBISTVO. \n",
    "\n",
    "![](slike/analiza/place/Stevilo_ljudi_v_placnem_razredu.png)\n",
    "\n",
    "Kot lahko razberemo iz število zaposlenih pada vendar se število ljudi v posameznem plačnem razredu spreminja samo na samem vrhu plačnih razredov pri razredu 12 in višje. Ugotovitev se nam zdi zanimiva, saj smo predvidevali, da bi se pri zmanjševanju števila delavske sile plača dvignila, da zaposljevalci preprečijo kakršno koli večjo škodo. Pri analizi smo dobili podobne rezultate vendar tudi pri dejavnostih, ki sem jim je število zaposlenih dvignilo je sprememba skozi leta v višjih razredih manj kot pričakovano.\n",
    "\n",
    "### 2. Razlike v plači med moškimi in ženskami\n",
    "\n",
    "V modernih časih lahko večkrat slišimo o diskriminaciji žensk na delovnem mestu predvsem glede plače. Tega vprašanja smo se lotili z hipotezo, da so moški bolje plačani, vendar mi nimamo dostopa do dejanskih plač, vendar imamo podano število, zaposlenih v posamezne plačnem sektorju. \n",
    "\n",
    "Prvi korak v analizi je bil, da smo izrisali graf, ki je prikazoval število zaposlenih v vsakem plačnem razredu za leto 2020. Na grafu lahko vidimo, da je število moških v večini višjih plačilnih razredov večje vendar se to lahko zgodi ker je v podatkih večje število moških vendar lahko kljub temu opazimo, da je med spoloma razlika v neto plačah.  \n",
    "\n",
    "![](slike/analiza/place/primerjav_moski_zenske.png)\n",
    "\n",
    "Ena od naših zamisli je, da moški izbirajo poklice, ki imajo plače v višjih plačilnih razredih, in so posledično bolje plačani, kar smo dokazali tudi z naslednjim grafom. \n",
    "\n",
    "![](slike/analiza/place/moski_zenske_po_aktivnosti.png)\n",
    "\n",
    "Z tem grafom, smo dokazali, da je tukaj nekaj resnice. Za bolj natančno analizo bi potrebovali veliko več podatkov, ki jih pa mi na žalost v naši podatkovni zbirki nimamo. \n",
    "\n",
    "### 3. Trendi plač za posamezne dejavnosti\n",
    "\n",
    "V tretjem vprašanju smo na iskali trende plač za vsako dejavnost skozi leta, za katera imamo podatke. Podatki so podani za letnike od 2009 do 2020 trend je prikaza na spodnjem grafu.\n",
    "\n",
    "![](slike/analiza/place/trend_zaposlovanja.png)\n",
    "\n",
    "v sklopu tega vprašanja smo poiskali tudi korelacijo med različnimi plačnimi razredi. Pri korelaciji smo iskali, če drži da se med leti preskoki zaposlenih med različnimi plačnimi razredi zgodijo samo za 2-3 razrede in potem korelacija strmo pada kar lahko vidimo tudi na spodnjem grafu.\n",
    "\n",
    "![](slike/analiza/place/korelacija_med_placnimi_razredi.png)\n",
    "\n",
    "### BRUTO PLAČE\n",
    "\n",
    "V sklopu plač smo v zbirki podatkov imeli tudi bruto plače vendar po analizi dokumentacije za zbirko podatkov smo ugotovili, da je v obeh zbirkah dobimo enake podatke, kot pri neto plačah, saj so podatki zaradi zakonov o zasebnosti namest dejanskih plač razdeljeni v plačilne razrede za katere nimamo dejanskih številk ampak število ljudi v posameznem plačnem razredu. Neto plače v naši zbirki so bile zračunane tako, da so od bruto plač odšteli prispevke in nato to dejansko vsoto pretvorili v število ljudi v plačnem razredu.\n",
    "\n",
    "\n"
   ]
  },
  {
   "cell_type": "markdown",
   "id": "0d97f109",
   "metadata": {},
   "source": [
    "# STOPNJA TVEGANJA REVŠČINE\n",
    "\n",
    "## UGOTOVITVE IN ODGOVORI NA VPRAŠANJA\n",
    "\n",
    "![](slike/analiza/stopnja_tveganja_revscine/casovni_trendi.png)\n",
    "Opazimo, da na splošno nivo tveganja revščine s časom upada v večini regij. Ponekod se začne trend obračati po letu 2020 (najverjetneje zaradi COVID krize). To je najbolj opazno v obalno-kraški regiji, kjer je odstotek oseb, ki so pod pragom revščine naratel celo na 25%.\n",
    "![](slike/analiza/stopnja_tveganja_revscine/2022.png)\n",
    "Natančneje si poglejmo stopnjo revščine med regijami v letu 2022. Polovica regij ima nadpovprečno stopnjo tveganja revščine (rdeča črtkana črta predstavlja povprečje v Sloveniji). Najbolj izstopata Goriška, ki ima dobro polovico povprečja in obalno-kraška, kjer imamo več kot dvakratno stopnjo povprečja.\n",
    "![](slike/analiza/stopnja_tveganja_revscine/boxplot.png)\n",
    "Z boxplot grafom opazimo, koliko se je stopnja revščine spreminjala skozi čas. Najbolj konstantna je ostala v regijah Koroška, Savinjska in Osrednjeslovenska, opazimo pa ogromno odstopanje na Posavskem in v jugovzhodni Sloveniji.\n",
    "![](slike/analiza/stopnja_tveganja_revscine/heatmap.png)\n",
    "S heatmap grafom ugotovimo prevsem, da je stopnja revščine najbolj skozi čas upadla na Pomurskem in Posavskem.\n",
    "![](slike/analiza/stopnja_tveganja_revscine/stopnja_tveganje_revscine.gif)\n",
    "Preko animacije opazimo, da je bila nekoč revnejša vzhodna Slovenija, nato pa se je stopnja revščine izenačila z zahodno Slovenijo. Konstantna pa je ostala v osrednji Sloveniji.\n",
    "\n"
   ]
  },
  {
   "cell_type": "markdown",
   "id": "e65f2e77",
   "metadata": {},
   "source": [
    "# DELOVNE URE\n",
    "\n",
    "## UGOTOVITVE IN ODGOVORI NA VPRAŠANJA\n",
    "\n",
    "![](slike/analiza/delovne_ure/opravljene.png)\n",
    "Opazimo predvsem, da je v gostinstvu najmanj opravljenih delovnih ur na delavca. Na splošno tudi število opravljenih ur upada. Najbolj to opazimo pri gradbeništvu.\n",
    "![](slike/analiza/delovne_ure/placane.png)\n",
    "Število plačanih ur ostaja večinoma konstantno, razen v kmetijstvu in poslovanju z nepremičninami, kjer se nekoliko zmanjšuje.\n",
    "![](slike/analiza/delovne_ure/razlika.png)\n",
    "Pripravili smo še heatmap za razliko med plačanimi in opravljenimi delovnimi urami (ki jih je manj, kot so dejansko plačane). Razlika je najmanjša v strokovnih, znanstvenih dejavnostih, največja pa v rudarstvu.\n",
    "![](slike/analiza/delovne_ure/razlika_skozi_cas.png)\n",
    "![](slike/analiza/delovne_ure/razlika_boxplot.png)\n",
    "Največja odstopanja so se zgodila ksozi čas na dejavnosti javne uprave in gradbeništvu. Najbolj konstantno razmerje med opravljenimi in plačanimi urami pa ostaja na področju dela s motornimi vozili."
   ]
  },
  {
   "cell_type": "markdown",
   "id": "a109de1d",
   "metadata": {},
   "source": [
    "# BREZPOSELNOST"
   ]
  },
  {
   "cell_type": "markdown",
   "id": "17ea7c90",
   "metadata": {},
   "source": [
    "### 1.) Vpliv dosežene stopnje izobrazbe na stopnjo brezposelnosti (vključno s predikcijami stopenj brezposelnosti za naslednjih 5 let)"
   ]
  },
  {
   "cell_type": "markdown",
   "id": "71a209a5",
   "metadata": {},
   "source": [
    "Prva izmed treh stvari, ki nas je zanimala iz podatkov brezposelnosti je bila ta, kako stopnja izobrazbe ljudi vpliva na stopnjo brezposelnosti. V ta namen smo iz podatkov odstranili neuporabne stolpce ter se odločili za običajni črtni graf, ki bo prikazoval upadanje/povečanje stopnje brezposelnosti med leti 2008 ter 2022 glede na stopnjo izobrazbe.\n",
    "\n",
    "Eden izmed problemov ki smo jih imeli je bil to, da smo imeli majhno količino podatkov/manjkajoče podatke. Za rešitev le tega smo uporabili KNN, s katerim smo \"napovedali\" predvideno vrednost manjkajočih polj. Ta pristop ni brez napak: podatki s tem postanejo \"prirejeni\", ampak se nam je ta način zdel boljši kot pa da bi te vrstice preprosto izpustili - s tem bi našo že tako omejeno zbirko podatkov še dodatno zmanjšali, s tem pa bi tudi rezultati/grafi postali slabši.\n",
    "\n",
    "Prav tako nas je zanimala še ena stvar: kakšen bo trend brezposelnosti čez npr. 5 let? Bo brezposelnih več ali manj? Bodo ljudje z visokošolsko/višješolsko izobrazbo procentualno predstavljali večji delež brezposelnih kot pa npr. tisti s srednjo strokovno izobrazbo? V ta namen smo uporabili linearno regresijo s katero smo glede na prejšnih 5 let napovedali naslednje leto. Problem je bil sicer to, da smo imeli omejeno količino podatkov, saj se podatki le za 15 let, kar je definitivno vplivalo na kvaliteto modelov."
   ]
  },
  {
   "cell_type": "markdown",
   "id": "9ac88969",
   "metadata": {},
   "source": [
    "![](slike/analiza/brezposelnost/stopnje_izobrazbe.png)"
   ]
  },
  {
   "cell_type": "markdown",
   "id": "4dd2241a",
   "metadata": {},
   "source": [
    "### 2.) Vpliv spola na stopnjo brezposelnosti:"
   ]
  },
  {
   "cell_type": "markdown",
   "id": "890f0195",
   "metadata": {},
   "source": [
    "Naslednje vprašanje, ki smo si ga zastavili se je glasilo: kako spol posameznika vpliva na stopnjo brezposelnosti? Tu nas brezposelnost v določenih letih ni zanimala, zato smo vrednosti let povprečili ter jih s tem gledali \"skupaj\".\n",
    "\n",
    "Spet smo filtrirali podatke na tak način, da smo dobili 6 vrstic, kjer so bili navedeni: dosežena izobrazba,delež brezposelnosti moških ter delež brezposelnosti žensk."
   ]
  },
  {
   "cell_type": "markdown",
   "id": "544eae13",
   "metadata": {},
   "source": [
    "![](slike/analiza/brezposelnost/spoli.png)"
   ]
  },
  {
   "cell_type": "markdown",
   "id": "fe6e167d",
   "metadata": {},
   "source": [
    "Iz grafa lahko zlahka razberemo prevladujočo se temo: delež brezposelnosti je večji pri ženskah kot pri moških z eno izjemo - nižja ali srednja poklicna izobrazba, kjer je brezposelnost večja pri moških.\n",
    "\n",
    "Potencialnih razlogov, zakaj pride do tega, je lahko več:\n",
    "- ženske se zaradi varstva otrok večkrat odločijo, da ostanejo doma ter se preživljajo s pomočjo socialne podpore;\n",
    "- ženske so zaradi starih kulturnih ideologij o tem, da moški delajo ter služijo denar za celotno družino medtem, ko one skrbijo za otroke, odločijo, da se ne bodo zaposlile;\n",
    "- zaradi napovedovanja podatkov z KNN (razloženo na začetku) pride do \"nepopolne slike situacije\", ker so podatki \"prirejeni/spremenjeni\".\n",
    "- zaradi majhnega nabora izmerjenih podatkov je lahko količina žensk/moških zelo majhna, kar pomeni, da bo vsak izmed teh posamezinkov močno vplival na celotno sliko."
   ]
  },
  {
   "cell_type": "markdown",
   "id": "4b85a9a8",
   "metadata": {},
   "source": [
    "### 3.) Vpliv regije na stopnjo brezposelnosti   "
   ]
  },
  {
   "cell_type": "markdown",
   "id": "ee913b3d",
   "metadata": {},
   "source": [
    "Kot zadnje vprašanje pa smo si zastavili vprašanje, ki se glasi: kako se na področju brezposelnosti razlikujeta 2 kohezijski regiji Slovenija: Zahodna in Vzhodna Slovenija? V ta namen smo podatke glede na regijo razdelili po letih, vrednosti doseženih stopenj izobrazbe pa smo povprečili za vsako regijo za vsako leto."
   ]
  },
  {
   "cell_type": "markdown",
   "id": "697e3ae0",
   "metadata": {},
   "source": [
    "Kohezijski regiji Slovenije:\n",
    "\n",
    "![](slike/kohezijski_regiji.png)"
   ]
  },
  {
   "cell_type": "markdown",
   "id": "b5e2a884",
   "metadata": {},
   "source": [
    "![](slike/analiza/brezposelnost/kohezijske_regije.png)"
   ]
  },
  {
   "cell_type": "markdown",
   "id": "91cb0225",
   "metadata": {},
   "source": [
    "Kot je razvidno iz grafa ter kot smo tudi pričakovali, ima Zahodna Slovenija manjšo stopnji brezposelnosti ne glede na leto (razen izjeme leta 2011), v katerem regiji primerjamo.\n",
    "\n",
    "Tak rezultat smo pričakovali, saj Zahodna Slovenija velja za bolj \"razvito\" ter višje izobraženo, vsebuje tudi glavno mesto - Ljubljano. \n",
    "\n",
    "Kot pa je razvidno iz grafa:\n",
    "- pandemija Covid-19 je v obeh kohezijskih regijah Slovenije pustila posledice - brezposelnost je takrat narasla, v letih po pandemiji pa začela upadati;\n",
    "- po recesiji leta 2008 je stopnja brezposelnosti iz leta v leto strmo naraščala, situacija pa se je začela obračati šele leta 2013;"
   ]
  },
  {
   "cell_type": "markdown",
   "id": "c1d0fc37",
   "metadata": {},
   "source": [
    "## PRILOGA\n",
    "\n",
    "Izvorna koda, ki smo jo uporabili v procesu pridobivanja, filtriranja in analiziranja podatkov. Tu se nahajajo tudi vse uporabljene vizualizacije.\n",
    "\n",
    "- [Delovna mesta](analiza/delovna_mesta/delovna_mesta.ipynb)\n",
    "- [Brezposelnost](analiza/brezposelnost/brezposelnost.ipynb)\n",
    "- [Delovne ure](analiza/delovne_ure/delovne_ure.ipynb)\n",
    "- [Placa](analiza/placa/placa.ipynb)\n",
    "- [Stopnja tveganja revscine](analiza/stopnja_tveganja_revscine/stopnja_tveganja_revscine.ipynb)"
   ]
  }
 ],
 "metadata": {
  "kernelspec": {
   "display_name": "Python 3 (ipykernel)",
   "language": "python",
   "name": "python3"
  },
  "language_info": {
   "codemirror_mode": {
    "name": "ipython",
    "version": 3
   },
   "file_extension": ".py",
   "mimetype": "text/x-python",
   "name": "python",
   "nbconvert_exporter": "python",
   "pygments_lexer": "ipython3",
   "version": "3.9.5"
  }
 },
 "nbformat": 4,
 "nbformat_minor": 5
}
