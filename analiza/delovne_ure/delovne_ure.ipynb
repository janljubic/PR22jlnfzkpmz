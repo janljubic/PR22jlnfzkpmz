{
 "cells": [
  {
   "cell_type": "markdown",
   "id": "5180df3a",
   "metadata": {},
   "source": [
    "# Povezava do vira podatkovne zbirke: https://podatki.gov.si/dataset/surs0727802s"
   ]
  },
  {
   "cell_type": "markdown",
   "id": "8b0b7766",
   "metadata": {},
   "source": [
    "## POVPREČNO MESEČNO ŠTEVILO PLAČANIH IN OPRAVLJENIH DELOVNIH UR NA ZAPOSLENO OSEBO PO DEJAVNOSTIH"
   ]
  },
  {
   "cell_type": "code",
   "execution_count": 161,
   "id": "4e809e51",
   "metadata": {},
   "outputs": [],
   "source": [
    "import warnings\n",
    "warnings.simplefilter(\"ignore\", category = FutureWarning)\n",
    "\n",
    "# Uvozimo vse potrebne knjižnice\n",
    "import pandas as pd\n",
    "import matplotlib.pyplot as plt\n",
    "from sklearn.impute import KNNImputer\n",
    "import plotly.express as px\n",
    "\n",
    "# OPOMBE:\n",
    "# Najprej smo opravili osnovno transformacijo podatkov s pomočjo programa PX-Win\n",
    "# (izbor podatkov, transformacijo vrstic in stolpcev)\n",
    "# Datoteko smo shranili kot .csv, ki ima podatke ločene z ';'\n",
    "# V Excelu smo šumnike nadomestili s sprejemljivimi inačicami (Š - S, Č - C, Ž - Z)\n",
    "\n",
    "# Uvozimo .csv datoteko, ki za delimiter uporablja ';'\n",
    "delovne_ure = pd.read_csv(\"../../podatki/delovne_ure/delovne_ure.csv\", sep = \";\")\n",
    "\n",
    "# Pretvorimo imena stolpcev v velike črke\n",
    "delovne_ure.columns = delovne_ure.columns.str.upper()\n",
    "\n",
    "# Pretvorimo vrstice v velike črke\n",
    "delovne_ure['URE'] = delovne_ure['URE'].apply(lambda x: x.upper())\n",
    "\n",
    "# Izberemo 5 najbljižjih sosedov\n",
    "imputer = KNNImputer(n_neighbors=5)\n",
    "\n",
    "# Nad vsakim stolpec uporabimo KNNImputer, da nadomestimo manjkajoče vrednosti z napovedjo\n",
    "delovne_ure.iloc[:, 2:] = imputer.fit_transform(delovne_ure.iloc[:, 2:])\n",
    "\n",
    "# Prva dva stolpca pretvorimo v 'STRING'\n",
    "delovne_ure.iloc[:, 0:2] = delovne_ure.iloc[:, 0:2].astype(str)\n",
    "# Preostale stolpce pretvorimo v 'INTEGER'\n",
    "delovne_ure.iloc[:, 2:] = delovne_ure.iloc[:, 2:].astype(int)\n",
    "\n",
    "opravljene_delovne_ure = delovne_ure.loc[delovne_ure['URE'] == 'OPRAVLJENE DELOVNE URE'].copy()\n",
    "placane_ure = delovne_ure.loc[delovne_ure['URE'] == 'PLACANE URE'].copy()\n",
    "\n",
    "\n",
    "df = opravljene_delovne_ure\n",
    "df['LETO'] = df['CETRTLETJE'].str[:4]\n",
    "columns_to_agg = df.columns[2:]\n",
    "opravljene_delovne_ure_grouped = df.groupby('LETO').agg({col: 'mean' for col in columns_to_agg if col != 'LETO'})\n",
    "# opravljene_delovne_ure_grouped = opravljene_delovne_ure_grouped.drop(opravljene_delovne_ure.columns[0], axis=1)\n",
    "\n",
    "df = placane_ure\n",
    "df['LETO'] = df['CETRTLETJE'].str[:4]\n",
    "columns_to_agg = df.columns[2:]\n",
    "placane_delovne_ure_grouped = df.groupby('LETO').agg({col: 'mean' for col in columns_to_agg if col != 'LETO'})"
   ]
  },
  {
   "cell_type": "code",
   "execution_count": 140,
   "id": "ad3ff319",
   "metadata": {},
   "outputs": [],
   "source": [
    "# Shranimo v .xlsx datoteko\n",
    "delovne_ure.to_excel('delovne_ure.xlsx', index=False)"
   ]
  },
  {
   "cell_type": "code",
   "execution_count": 162,
   "id": "b2510e7d",
   "metadata": {},
   "outputs": [
    {
     "data": {
      "text/plain": "      SKD DEJAVNOST - SKUPAJ  A KMETIJSTVO IN LOV, GOZDARSTVO, RIBISTVO   \nLETO                                                                      \n2008                  134.00                                     133.50  \\\n2009                  135.00                                     135.00   \n2010                  136.25                                     139.75   \n2011                  135.25                                     137.75   \n2012                  133.25                                     130.50   \n2013                  135.00                                     131.50   \n2014                  136.00                                     132.50   \n2015                  137.00                                     133.75   \n2016                  133.75                                     130.25   \n2017                  131.50                                     128.75   \n2018                  130.25                                     125.75   \n2019                  129.75                                     127.50   \n2020                  131.25                                     129.00   \n2021                  133.00                                     130.00   \n2022                  130.25                                     129.25   \n\n      B RUDARSTVO  C PREDELOVALNE DEJAVNOSTI   \nLETO                                           \n2008       133.75                     134.00  \\\n2009       129.75                     132.25   \n2010       128.75                     136.50   \n2011       130.00                     135.00   \n2012       131.00                     134.00   \n2013       130.00                     135.25   \n2014       130.25                     136.25   \n2015       132.50                     137.75   \n2016       127.00                     135.50   \n2017       127.00                     133.25   \n2018       128.50                     132.00   \n2019       129.00                     131.50   \n2020       133.00                     132.00   \n2021       130.00                     134.00   \n2022       127.25                     131.25   \n\n      D OSKRBA Z ELEKTRICNO ENERGIJO, PLINOM IN PARO   \nLETO                                                   \n2008                                          135.00  \\\n2009                                          134.00   \n2010                                          134.50   \n2011                                          133.00   \n2012                                          132.50   \n2013                                          135.50   \n2014                                          133.75   \n2015                                          137.00   \n2016                                          136.00   \n2017                                          136.00   \n2018                                          129.75   \n2019                                          130.00   \n2020                                          132.25   \n2021                                          131.25   \n2022                                          128.50   \n\n      E OSKRBA Z VODO, RAVNANJE Z ODPLAKAMI IN ODPADKI, SANIRANJE OKOLJA   \nLETO                                                                       \n2008                                             135.00                   \\\n2009                                             139.25                    \n2010                                             137.25                    \n2011                                             136.25                    \n2012                                             132.00                    \n2013                                             137.50                    \n2014                                             136.00                    \n2015                                             136.00                    \n2016                                             135.25                    \n2017                                             138.00                    \n2018                                             133.50                    \n2019                                             132.25                    \n2020                                             132.25                    \n2021                                             133.75                    \n2022                                             131.50                    \n\n      F GRADBENISTVO  G TRGOVINA, VZDRZEVANJE IN POPRAVILA MOTORNIH VOZIL   \nLETO                                                                        \n2008          136.50                                             134.50    \\\n2009          138.50                                             135.25     \n2010          140.25                                             137.00     \n2011          139.75                                             134.75     \n2012          139.00                                             134.25     \n2013          140.75                                             133.75     \n2014          142.00                                             135.75     \n2015          143.75                                             136.25     \n2016          132.75                                             132.25     \n2017          131.50                                             131.00     \n2018          129.50                                             129.25     \n2019          130.00                                             129.25     \n2020          132.25                                             130.00     \n2021          134.50                                             131.00     \n2022          133.00                                             129.50     \n\n      H PROMET IN SKLADISCENJE  I GOSTINSTVO   \nLETO                                           \n2008                    136.00        128.50  \\\n2009                    136.75        129.75   \n2010                    140.25        130.75   \n2011                    138.25        128.50   \n2012                    135.75        129.00   \n2013                    139.50        129.75   \n2014                    140.00        129.50   \n2015                    138.75        130.25   \n2016                    133.25        132.25   \n2017                    131.50        130.75   \n2018                    130.75        122.50   \n2019                    131.75        123.00   \n2020                    133.25        121.00   \n2021                    135.25        124.00   \n2022                    134.50        124.00   \n\n      J INFORMACIJSKE IN KOMUNIKACIJSKE DEJAVNOSTI   \nLETO                                                 \n2008                                        135.25  \\\n2009                                        138.25   \n2010                                        138.00   \n2011                                        137.00   \n2012                                        137.25   \n2013                                        137.00   \n2014                                        136.50   \n2015                                        139.25   \n2016                                        134.75   \n2017                                        133.00   \n2018                                        132.25   \n2019                                        133.00   \n2020                                        135.75   \n2021                                        136.25   \n2022                                        136.00   \n\n      K FINANCNE IN ZAVAROVALNISKE DEJAVNOSTI  L POSLOVANJE Z NEPREMICNINAMI   \nLETO                                                                           \n2008                                   133.00                         134.50  \\\n2009                                   137.25                         135.25   \n2010                                   137.75                         136.00   \n2011                                   135.75                         135.00   \n2012                                   128.75                         134.50   \n2013                                   131.50                         135.00   \n2014                                   131.25                         136.25   \n2015                                   131.75                         137.75   \n2016                                   130.25                         131.25   \n2017                                   129.25                         129.50   \n2018                                   127.50                         128.00   \n2019                                   128.00                         128.00   \n2020                                   133.25                         131.00   \n2021                                   132.75                         131.75   \n2022                                   129.50                         129.50   \n\n      M STROKOVNE, ZNANSTVENE IN TEHNICNE DEJAVNOSTI   \nLETO                                                   \n2008                                          135.25  \\\n2009                                          143.25   \n2010                                          139.00   \n2011                                          138.25   \n2012                                          134.25   \n2013                                          140.25   \n2014                                          139.25   \n2015                                          136.50   \n2016                                          133.00   \n2017                                          129.00   \n2018                                          129.50   \n2019                                          129.25   \n2020                                          131.25   \n2021                                          133.00   \n2022                                          131.00   \n\n      N DRUGE RAZNOVRSTNE POSLOVNE DEJAVNOSTI   \nLETO                                            \n2008                                   131.00  \\\n2009                                   133.75   \n2010                                   134.50   \n2011                                   133.75   \n2012                                   132.00   \n2013                                   133.25   \n2014                                   134.25   \n2015                                   133.75   \n2016                                   132.00   \n2017                                   127.00   \n2018                                   126.25   \n2019                                   125.50   \n2020                                   126.75   \n2021                                   128.75   \n2022                                   126.00   \n\n      O DEJAVNOST JAVNE UPRAVE IN OBRAMBE, DEJAVNOST OBVEZNE SOCIALNE VARNOSTI   \nLETO                                                                             \n2008                                             132.25                         \\\n2009                                             134.50                          \n2010                                             133.25                          \n2011                                             135.75                          \n2012                                             128.00                          \n2013                                             129.25                          \n2014                                             131.75                          \n2015                                             134.75                          \n2016                                             132.25                          \n2017                                             130.75                          \n2018                                             130.00                          \n2019                                             130.25                          \n2020                                             137.75                          \n2021                                             136.25                          \n2022                                             130.25                          \n\n      P IZOBRAZEVANJE  Q ZDRAVSTVO IN SOCIALNO VARSTVO   \nLETO                                                     \n2008           127.75                           141.75  \\\n2009           130.00                           142.25   \n2010           130.50                           139.50   \n2011           129.75                           138.50   \n2012           127.50                           136.50   \n2013           131.25                           136.00   \n2014           132.50                           142.50   \n2015           135.50                           142.00   \n2016           130.50                           141.50   \n2017           127.25                           137.00   \n2018           127.75                           135.50   \n2019           126.50                           135.25   \n2020           124.75                           135.75   \n2021           127.75                           138.00   \n2022           125.25                           132.75   \n\n      R KULTURNE, RAZVEDRILNE IN REKREACIJSKE DEJAVNOSTI  S DRUGE DEJAVNOSTI  \nLETO                                                                          \n2008                                             135.25               124.75  \n2009                                             135.50               126.25  \n2010                                             135.00               129.00  \n2011                                             132.25               127.25  \n2012                                             130.75               136.50  \n2013                                             130.00               135.50  \n2014                                             132.50               136.25  \n2015                                             134.25               137.00  \n2016                                             129.75               130.50  \n2017                                             127.25               128.25  \n2018                                             126.75               121.75  \n2019                                             127.00               122.75  \n2020                                             122.25               125.25  \n2021                                             127.50               127.25  \n2022                                             128.00               128.25  ",
      "text/html": "<div>\n<style scoped>\n    .dataframe tbody tr th:only-of-type {\n        vertical-align: middle;\n    }\n\n    .dataframe tbody tr th {\n        vertical-align: top;\n    }\n\n    .dataframe thead th {\n        text-align: right;\n    }\n</style>\n<table border=\"1\" class=\"dataframe\">\n  <thead>\n    <tr style=\"text-align: right;\">\n      <th></th>\n      <th>SKD DEJAVNOST - SKUPAJ</th>\n      <th>A KMETIJSTVO IN LOV, GOZDARSTVO, RIBISTVO</th>\n      <th>B RUDARSTVO</th>\n      <th>C PREDELOVALNE DEJAVNOSTI</th>\n      <th>D OSKRBA Z ELEKTRICNO ENERGIJO, PLINOM IN PARO</th>\n      <th>E OSKRBA Z VODO, RAVNANJE Z ODPLAKAMI IN ODPADKI, SANIRANJE OKOLJA</th>\n      <th>F GRADBENISTVO</th>\n      <th>G TRGOVINA, VZDRZEVANJE IN POPRAVILA MOTORNIH VOZIL</th>\n      <th>H PROMET IN SKLADISCENJE</th>\n      <th>I GOSTINSTVO</th>\n      <th>J INFORMACIJSKE IN KOMUNIKACIJSKE DEJAVNOSTI</th>\n      <th>K FINANCNE IN ZAVAROVALNISKE DEJAVNOSTI</th>\n      <th>L POSLOVANJE Z NEPREMICNINAMI</th>\n      <th>M STROKOVNE, ZNANSTVENE IN TEHNICNE DEJAVNOSTI</th>\n      <th>N DRUGE RAZNOVRSTNE POSLOVNE DEJAVNOSTI</th>\n      <th>O DEJAVNOST JAVNE UPRAVE IN OBRAMBE, DEJAVNOST OBVEZNE SOCIALNE VARNOSTI</th>\n      <th>P IZOBRAZEVANJE</th>\n      <th>Q ZDRAVSTVO IN SOCIALNO VARSTVO</th>\n      <th>R KULTURNE, RAZVEDRILNE IN REKREACIJSKE DEJAVNOSTI</th>\n      <th>S DRUGE DEJAVNOSTI</th>\n    </tr>\n    <tr>\n      <th>LETO</th>\n      <th></th>\n      <th></th>\n      <th></th>\n      <th></th>\n      <th></th>\n      <th></th>\n      <th></th>\n      <th></th>\n      <th></th>\n      <th></th>\n      <th></th>\n      <th></th>\n      <th></th>\n      <th></th>\n      <th></th>\n      <th></th>\n      <th></th>\n      <th></th>\n      <th></th>\n      <th></th>\n    </tr>\n  </thead>\n  <tbody>\n    <tr>\n      <th>2008</th>\n      <td>134.00</td>\n      <td>133.50</td>\n      <td>133.75</td>\n      <td>134.00</td>\n      <td>135.00</td>\n      <td>135.00</td>\n      <td>136.50</td>\n      <td>134.50</td>\n      <td>136.00</td>\n      <td>128.50</td>\n      <td>135.25</td>\n      <td>133.00</td>\n      <td>134.50</td>\n      <td>135.25</td>\n      <td>131.00</td>\n      <td>132.25</td>\n      <td>127.75</td>\n      <td>141.75</td>\n      <td>135.25</td>\n      <td>124.75</td>\n    </tr>\n    <tr>\n      <th>2009</th>\n      <td>135.00</td>\n      <td>135.00</td>\n      <td>129.75</td>\n      <td>132.25</td>\n      <td>134.00</td>\n      <td>139.25</td>\n      <td>138.50</td>\n      <td>135.25</td>\n      <td>136.75</td>\n      <td>129.75</td>\n      <td>138.25</td>\n      <td>137.25</td>\n      <td>135.25</td>\n      <td>143.25</td>\n      <td>133.75</td>\n      <td>134.50</td>\n      <td>130.00</td>\n      <td>142.25</td>\n      <td>135.50</td>\n      <td>126.25</td>\n    </tr>\n    <tr>\n      <th>2010</th>\n      <td>136.25</td>\n      <td>139.75</td>\n      <td>128.75</td>\n      <td>136.50</td>\n      <td>134.50</td>\n      <td>137.25</td>\n      <td>140.25</td>\n      <td>137.00</td>\n      <td>140.25</td>\n      <td>130.75</td>\n      <td>138.00</td>\n      <td>137.75</td>\n      <td>136.00</td>\n      <td>139.00</td>\n      <td>134.50</td>\n      <td>133.25</td>\n      <td>130.50</td>\n      <td>139.50</td>\n      <td>135.00</td>\n      <td>129.00</td>\n    </tr>\n    <tr>\n      <th>2011</th>\n      <td>135.25</td>\n      <td>137.75</td>\n      <td>130.00</td>\n      <td>135.00</td>\n      <td>133.00</td>\n      <td>136.25</td>\n      <td>139.75</td>\n      <td>134.75</td>\n      <td>138.25</td>\n      <td>128.50</td>\n      <td>137.00</td>\n      <td>135.75</td>\n      <td>135.00</td>\n      <td>138.25</td>\n      <td>133.75</td>\n      <td>135.75</td>\n      <td>129.75</td>\n      <td>138.50</td>\n      <td>132.25</td>\n      <td>127.25</td>\n    </tr>\n    <tr>\n      <th>2012</th>\n      <td>133.25</td>\n      <td>130.50</td>\n      <td>131.00</td>\n      <td>134.00</td>\n      <td>132.50</td>\n      <td>132.00</td>\n      <td>139.00</td>\n      <td>134.25</td>\n      <td>135.75</td>\n      <td>129.00</td>\n      <td>137.25</td>\n      <td>128.75</td>\n      <td>134.50</td>\n      <td>134.25</td>\n      <td>132.00</td>\n      <td>128.00</td>\n      <td>127.50</td>\n      <td>136.50</td>\n      <td>130.75</td>\n      <td>136.50</td>\n    </tr>\n    <tr>\n      <th>2013</th>\n      <td>135.00</td>\n      <td>131.50</td>\n      <td>130.00</td>\n      <td>135.25</td>\n      <td>135.50</td>\n      <td>137.50</td>\n      <td>140.75</td>\n      <td>133.75</td>\n      <td>139.50</td>\n      <td>129.75</td>\n      <td>137.00</td>\n      <td>131.50</td>\n      <td>135.00</td>\n      <td>140.25</td>\n      <td>133.25</td>\n      <td>129.25</td>\n      <td>131.25</td>\n      <td>136.00</td>\n      <td>130.00</td>\n      <td>135.50</td>\n    </tr>\n    <tr>\n      <th>2014</th>\n      <td>136.00</td>\n      <td>132.50</td>\n      <td>130.25</td>\n      <td>136.25</td>\n      <td>133.75</td>\n      <td>136.00</td>\n      <td>142.00</td>\n      <td>135.75</td>\n      <td>140.00</td>\n      <td>129.50</td>\n      <td>136.50</td>\n      <td>131.25</td>\n      <td>136.25</td>\n      <td>139.25</td>\n      <td>134.25</td>\n      <td>131.75</td>\n      <td>132.50</td>\n      <td>142.50</td>\n      <td>132.50</td>\n      <td>136.25</td>\n    </tr>\n    <tr>\n      <th>2015</th>\n      <td>137.00</td>\n      <td>133.75</td>\n      <td>132.50</td>\n      <td>137.75</td>\n      <td>137.00</td>\n      <td>136.00</td>\n      <td>143.75</td>\n      <td>136.25</td>\n      <td>138.75</td>\n      <td>130.25</td>\n      <td>139.25</td>\n      <td>131.75</td>\n      <td>137.75</td>\n      <td>136.50</td>\n      <td>133.75</td>\n      <td>134.75</td>\n      <td>135.50</td>\n      <td>142.00</td>\n      <td>134.25</td>\n      <td>137.00</td>\n    </tr>\n    <tr>\n      <th>2016</th>\n      <td>133.75</td>\n      <td>130.25</td>\n      <td>127.00</td>\n      <td>135.50</td>\n      <td>136.00</td>\n      <td>135.25</td>\n      <td>132.75</td>\n      <td>132.25</td>\n      <td>133.25</td>\n      <td>132.25</td>\n      <td>134.75</td>\n      <td>130.25</td>\n      <td>131.25</td>\n      <td>133.00</td>\n      <td>132.00</td>\n      <td>132.25</td>\n      <td>130.50</td>\n      <td>141.50</td>\n      <td>129.75</td>\n      <td>130.50</td>\n    </tr>\n    <tr>\n      <th>2017</th>\n      <td>131.50</td>\n      <td>128.75</td>\n      <td>127.00</td>\n      <td>133.25</td>\n      <td>136.00</td>\n      <td>138.00</td>\n      <td>131.50</td>\n      <td>131.00</td>\n      <td>131.50</td>\n      <td>130.75</td>\n      <td>133.00</td>\n      <td>129.25</td>\n      <td>129.50</td>\n      <td>129.00</td>\n      <td>127.00</td>\n      <td>130.75</td>\n      <td>127.25</td>\n      <td>137.00</td>\n      <td>127.25</td>\n      <td>128.25</td>\n    </tr>\n    <tr>\n      <th>2018</th>\n      <td>130.25</td>\n      <td>125.75</td>\n      <td>128.50</td>\n      <td>132.00</td>\n      <td>129.75</td>\n      <td>133.50</td>\n      <td>129.50</td>\n      <td>129.25</td>\n      <td>130.75</td>\n      <td>122.50</td>\n      <td>132.25</td>\n      <td>127.50</td>\n      <td>128.00</td>\n      <td>129.50</td>\n      <td>126.25</td>\n      <td>130.00</td>\n      <td>127.75</td>\n      <td>135.50</td>\n      <td>126.75</td>\n      <td>121.75</td>\n    </tr>\n    <tr>\n      <th>2019</th>\n      <td>129.75</td>\n      <td>127.50</td>\n      <td>129.00</td>\n      <td>131.50</td>\n      <td>130.00</td>\n      <td>132.25</td>\n      <td>130.00</td>\n      <td>129.25</td>\n      <td>131.75</td>\n      <td>123.00</td>\n      <td>133.00</td>\n      <td>128.00</td>\n      <td>128.00</td>\n      <td>129.25</td>\n      <td>125.50</td>\n      <td>130.25</td>\n      <td>126.50</td>\n      <td>135.25</td>\n      <td>127.00</td>\n      <td>122.75</td>\n    </tr>\n    <tr>\n      <th>2020</th>\n      <td>131.25</td>\n      <td>129.00</td>\n      <td>133.00</td>\n      <td>132.00</td>\n      <td>132.25</td>\n      <td>132.25</td>\n      <td>132.25</td>\n      <td>130.00</td>\n      <td>133.25</td>\n      <td>121.00</td>\n      <td>135.75</td>\n      <td>133.25</td>\n      <td>131.00</td>\n      <td>131.25</td>\n      <td>126.75</td>\n      <td>137.75</td>\n      <td>124.75</td>\n      <td>135.75</td>\n      <td>122.25</td>\n      <td>125.25</td>\n    </tr>\n    <tr>\n      <th>2021</th>\n      <td>133.00</td>\n      <td>130.00</td>\n      <td>130.00</td>\n      <td>134.00</td>\n      <td>131.25</td>\n      <td>133.75</td>\n      <td>134.50</td>\n      <td>131.00</td>\n      <td>135.25</td>\n      <td>124.00</td>\n      <td>136.25</td>\n      <td>132.75</td>\n      <td>131.75</td>\n      <td>133.00</td>\n      <td>128.75</td>\n      <td>136.25</td>\n      <td>127.75</td>\n      <td>138.00</td>\n      <td>127.50</td>\n      <td>127.25</td>\n    </tr>\n    <tr>\n      <th>2022</th>\n      <td>130.25</td>\n      <td>129.25</td>\n      <td>127.25</td>\n      <td>131.25</td>\n      <td>128.50</td>\n      <td>131.50</td>\n      <td>133.00</td>\n      <td>129.50</td>\n      <td>134.50</td>\n      <td>124.00</td>\n      <td>136.00</td>\n      <td>129.50</td>\n      <td>129.50</td>\n      <td>131.00</td>\n      <td>126.00</td>\n      <td>130.25</td>\n      <td>125.25</td>\n      <td>132.75</td>\n      <td>128.00</td>\n      <td>128.25</td>\n    </tr>\n  </tbody>\n</table>\n</div>"
     },
     "execution_count": 162,
     "metadata": {},
     "output_type": "execute_result"
    }
   ],
   "source": [
    "# Pregled vseh stolpcev\n",
    "opravljene_delovne_ure_grouped"
   ]
  },
  {
   "cell_type": "code",
   "execution_count": 142,
   "outputs": [
    {
     "data": {
      "text/plain": "      SKD DEJAVNOST - SKUPAJ  A KMETIJSTVO IN LOV, GOZDARSTVO, RIBISTVO   \nLETO                                                                      \n2008                  169.50                                     170.50  \\\n2009                  167.50                                     169.75   \n2010                  168.25                                     171.75   \n2011                  168.00                                     171.50   \n2012                  168.25                                     167.25   \n2013                  168.00                                     166.75   \n2014                  168.25                                     166.50   \n2015                  168.00                                     166.50   \n2016                  167.00                                     164.50   \n2017                  166.50                                     163.75   \n2018                  166.00                                     161.75   \n2019                  165.75                                     162.00   \n2020                  163.25                                     160.75   \n2021                  165.25                                     161.50   \n2022                  164.25                                     160.50   \n\n      B RUDARSTVO  C PREDELOVALNE DEJAVNOSTI   \nLETO                                           \n2008       174.25                     171.25  \\\n2009       170.75                     166.00   \n2010       169.00                     169.25   \n2011       170.00                     169.50   \n2012       173.75                     170.50   \n2013       172.00                     170.50   \n2014       170.50                     170.50   \n2015       170.25                     170.25   \n2016       166.75                     169.50   \n2017       168.00                     169.00   \n2018       169.25                     168.75   \n2019       170.00                     168.25   \n2020       171.25                     165.00   \n2021       167.75                     167.25   \n2022       166.00                     166.00   \n\n      D OSKRBA Z ELEKTRICNO ENERGIJO, PLINOM IN PARO   \nLETO                                                   \n2008                                          177.00  \\\n2009                                          172.25   \n2010                                          171.75   \n2011                                          171.00   \n2012                                          172.00   \n2013                                          172.00   \n2014                                          172.00   \n2015                                          171.75   \n2016                                          171.50   \n2017                                          172.50   \n2018                                          172.00   \n2019                                          171.25   \n2020                                          170.50   \n2021                                          169.00   \n2022                                          166.75   \n\n      E OSKRBA Z VODO, RAVNANJE Z ODPLAKAMI IN ODPADKI, SANIRANJE OKOLJA   \nLETO                                                                       \n2008                                             173.75                   \\\n2009                                             172.00                    \n2010                                             171.75                    \n2011                                             170.50                    \n2012                                             171.75                    \n2013                                             171.25                    \n2014                                             171.25                    \n2015                                             171.50                    \n2016                                             171.50                    \n2017                                             171.00                    \n2018                                             171.25                    \n2019                                             170.00                    \n2020                                             167.25                    \n2021                                             168.25                    \n2022                                             167.50                    \n\n      F GRADBENISTVO  G TRGOVINA, VZDRZEVANJE IN POPRAVILA MOTORNIH VOZIL   \nLETO                                                                        \n2008          169.00                                             168.25    \\\n2009          168.00                                             167.25     \n2010          168.50                                             167.25     \n2011          168.00                                             167.00     \n2012          168.25                                             167.00     \n2013          168.00                                             166.50     \n2014          168.25                                             166.25     \n2015          168.50                                             165.50     \n2016          164.50                                             164.50     \n2017          164.50                                             163.75     \n2018          163.00                                             163.25     \n2019          162.75                                             163.50     \n2020          162.25                                             160.75     \n2021          164.00                                             162.00     \n2022          164.00                                             162.25     \n\n      H PROMET IN SKLADISCENJE  I GOSTINSTVO   \nLETO                                           \n2008                    172.50        163.25  \\\n2009                    170.25        162.25   \n2010                    173.50        163.00   \n2011                    173.25        161.75   \n2012                    170.75        158.50   \n2013                    171.25        158.75   \n2014                    171.00        157.00   \n2015                    171.25        156.00   \n2016                    165.25        163.50   \n2017                    165.00        162.50   \n2018                    165.50        154.75   \n2019                    166.00        155.25   \n2020                    165.00        149.25   \n2021                    166.50        152.50   \n2022                    166.75        155.25   \n\n      J INFORMACIJSKE IN KOMUNIKACIJSKE DEJAVNOSTI   \nLETO                                                 \n2008                                        170.50  \\\n2009                                        169.75   \n2010                                        169.50   \n2011                                        168.75   \n2012                                        169.25   \n2013                                        168.75   \n2014                                        168.00   \n2015                                        168.75   \n2016                                        168.50   \n2017                                        168.25   \n2018                                        167.50   \n2019                                        168.25   \n2020                                        167.75   \n2021                                        167.50   \n2022                                        166.75   \n\n      K FINANCNE IN ZAVAROVALNISKE DEJAVNOSTI  L POSLOVANJE Z NEPREMICNINAMI   \nLETO                                                                           \n2008                                   167.25                         167.50  \\\n2009                                   167.00                         166.50   \n2010                                   167.50                         166.00   \n2011                                   166.75                         166.25   \n2012                                   166.75                         166.00   \n2013                                   166.50                         165.25   \n2014                                   166.00                         165.50   \n2015                                   165.50                         164.75   \n2016                                   165.75                         163.75   \n2017                                   165.00                         163.25   \n2018                                   165.50                         162.75   \n2019                                   165.50                         162.25   \n2020                                   166.50                         162.00   \n2021                                   165.50                         161.25   \n2022                                   164.00                         161.25   \n\n      M STROKOVNE, ZNANSTVENE IN TEHNICNE DEJAVNOSTI   \nLETO                                                   \n2008                                          168.50  \\\n2009                                          168.00   \n2010                                          167.75   \n2011                                          166.50   \n2012                                          165.75   \n2013                                          165.25   \n2014                                          165.00   \n2015                                          164.25   \n2016                                          161.75   \n2017                                          161.50   \n2018                                          162.00   \n2019                                          162.25   \n2020                                          160.75   \n2021                                          161.75   \n2022                                          161.50   \n\n      N DRUGE RAZNOVRSTNE POSLOVNE DEJAVNOSTI   \nLETO                                            \n2008                                   164.75  \\\n2009                                   164.25   \n2010                                   163.75   \n2011                                   164.25   \n2012                                   163.25   \n2013                                   163.00   \n2014                                   162.50   \n2015                                   161.25   \n2016                                   161.75   \n2017                                   160.25   \n2018                                   159.75   \n2019                                   159.00   \n2020                                   157.00   \n2021                                   158.75   \n2022                                   158.25   \n\n      O DEJAVNOST JAVNE UPRAVE IN OBRAMBE, DEJAVNOST OBVEZNE SOCIALNE VARNOSTI   \nLETO                                                                             \n2008                                             169.50                         \\\n2009                                             169.00                          \n2010                                             168.75                          \n2011                                             168.00                          \n2012                                             168.25                          \n2013                                             169.75                          \n2014                                             170.50                          \n2015                                             170.50                          \n2016                                             171.00                          \n2017                                             171.75                          \n2018                                             172.25                          \n2019                                             172.25                          \n2020                                             172.25                          \n2021                                             172.00                          \n2022                                             169.00                          \n\n      P IZOBRAZEVANJE  Q ZDRAVSTVO IN SOCIALNO VARSTVO   \nLETO                                                     \n2008           165.75                           176.00  \\\n2009           165.50                           174.00   \n2010           165.50                           173.25   \n2011           164.75                           172.50   \n2012           165.00                           172.75   \n2013           165.00                           172.25   \n2014           166.50                           175.25   \n2015           166.25                           175.25   \n2016           166.50                           174.50   \n2017           165.25                           173.50   \n2018           165.25                           173.00   \n2019           165.50                           173.00   \n2020           159.25                           171.25   \n2021           162.50                           174.00   \n2022           162.50                           170.25   \n\n      R KULTURNE, RAZVEDRILNE IN REKREACIJSKE DEJAVNOSTI  S DRUGE DEJAVNOSTI  \nLETO                                                                          \n2008                                             166.25               159.75  \n2009                                             166.00               158.50  \n2010                                             166.25               160.50  \n2011                                             165.50               160.25  \n2012                                             166.00               168.25  \n2013                                             166.00               168.00  \n2014                                             166.25               167.00  \n2015                                             165.25               166.25  \n2016                                             164.50               161.25  \n2017                                             164.50               161.00  \n2018                                             164.75               155.00  \n2019                                             165.00               155.25  \n2020                                             156.75               154.50  \n2021                                             161.25               155.50  \n2022                                             163.00               157.00  ",
      "text/html": "<div>\n<style scoped>\n    .dataframe tbody tr th:only-of-type {\n        vertical-align: middle;\n    }\n\n    .dataframe tbody tr th {\n        vertical-align: top;\n    }\n\n    .dataframe thead th {\n        text-align: right;\n    }\n</style>\n<table border=\"1\" class=\"dataframe\">\n  <thead>\n    <tr style=\"text-align: right;\">\n      <th></th>\n      <th>SKD DEJAVNOST - SKUPAJ</th>\n      <th>A KMETIJSTVO IN LOV, GOZDARSTVO, RIBISTVO</th>\n      <th>B RUDARSTVO</th>\n      <th>C PREDELOVALNE DEJAVNOSTI</th>\n      <th>D OSKRBA Z ELEKTRICNO ENERGIJO, PLINOM IN PARO</th>\n      <th>E OSKRBA Z VODO, RAVNANJE Z ODPLAKAMI IN ODPADKI, SANIRANJE OKOLJA</th>\n      <th>F GRADBENISTVO</th>\n      <th>G TRGOVINA, VZDRZEVANJE IN POPRAVILA MOTORNIH VOZIL</th>\n      <th>H PROMET IN SKLADISCENJE</th>\n      <th>I GOSTINSTVO</th>\n      <th>J INFORMACIJSKE IN KOMUNIKACIJSKE DEJAVNOSTI</th>\n      <th>K FINANCNE IN ZAVAROVALNISKE DEJAVNOSTI</th>\n      <th>L POSLOVANJE Z NEPREMICNINAMI</th>\n      <th>M STROKOVNE, ZNANSTVENE IN TEHNICNE DEJAVNOSTI</th>\n      <th>N DRUGE RAZNOVRSTNE POSLOVNE DEJAVNOSTI</th>\n      <th>O DEJAVNOST JAVNE UPRAVE IN OBRAMBE, DEJAVNOST OBVEZNE SOCIALNE VARNOSTI</th>\n      <th>P IZOBRAZEVANJE</th>\n      <th>Q ZDRAVSTVO IN SOCIALNO VARSTVO</th>\n      <th>R KULTURNE, RAZVEDRILNE IN REKREACIJSKE DEJAVNOSTI</th>\n      <th>S DRUGE DEJAVNOSTI</th>\n    </tr>\n    <tr>\n      <th>LETO</th>\n      <th></th>\n      <th></th>\n      <th></th>\n      <th></th>\n      <th></th>\n      <th></th>\n      <th></th>\n      <th></th>\n      <th></th>\n      <th></th>\n      <th></th>\n      <th></th>\n      <th></th>\n      <th></th>\n      <th></th>\n      <th></th>\n      <th></th>\n      <th></th>\n      <th></th>\n      <th></th>\n    </tr>\n  </thead>\n  <tbody>\n    <tr>\n      <th>2008</th>\n      <td>169.50</td>\n      <td>170.50</td>\n      <td>174.25</td>\n      <td>171.25</td>\n      <td>177.00</td>\n      <td>173.75</td>\n      <td>169.00</td>\n      <td>168.25</td>\n      <td>172.50</td>\n      <td>163.25</td>\n      <td>170.50</td>\n      <td>167.25</td>\n      <td>167.50</td>\n      <td>168.50</td>\n      <td>164.75</td>\n      <td>169.50</td>\n      <td>165.75</td>\n      <td>176.00</td>\n      <td>166.25</td>\n      <td>159.75</td>\n    </tr>\n    <tr>\n      <th>2009</th>\n      <td>167.50</td>\n      <td>169.75</td>\n      <td>170.75</td>\n      <td>166.00</td>\n      <td>172.25</td>\n      <td>172.00</td>\n      <td>168.00</td>\n      <td>167.25</td>\n      <td>170.25</td>\n      <td>162.25</td>\n      <td>169.75</td>\n      <td>167.00</td>\n      <td>166.50</td>\n      <td>168.00</td>\n      <td>164.25</td>\n      <td>169.00</td>\n      <td>165.50</td>\n      <td>174.00</td>\n      <td>166.00</td>\n      <td>158.50</td>\n    </tr>\n    <tr>\n      <th>2010</th>\n      <td>168.25</td>\n      <td>171.75</td>\n      <td>169.00</td>\n      <td>169.25</td>\n      <td>171.75</td>\n      <td>171.75</td>\n      <td>168.50</td>\n      <td>167.25</td>\n      <td>173.50</td>\n      <td>163.00</td>\n      <td>169.50</td>\n      <td>167.50</td>\n      <td>166.00</td>\n      <td>167.75</td>\n      <td>163.75</td>\n      <td>168.75</td>\n      <td>165.50</td>\n      <td>173.25</td>\n      <td>166.25</td>\n      <td>160.50</td>\n    </tr>\n    <tr>\n      <th>2011</th>\n      <td>168.00</td>\n      <td>171.50</td>\n      <td>170.00</td>\n      <td>169.50</td>\n      <td>171.00</td>\n      <td>170.50</td>\n      <td>168.00</td>\n      <td>167.00</td>\n      <td>173.25</td>\n      <td>161.75</td>\n      <td>168.75</td>\n      <td>166.75</td>\n      <td>166.25</td>\n      <td>166.50</td>\n      <td>164.25</td>\n      <td>168.00</td>\n      <td>164.75</td>\n      <td>172.50</td>\n      <td>165.50</td>\n      <td>160.25</td>\n    </tr>\n    <tr>\n      <th>2012</th>\n      <td>168.25</td>\n      <td>167.25</td>\n      <td>173.75</td>\n      <td>170.50</td>\n      <td>172.00</td>\n      <td>171.75</td>\n      <td>168.25</td>\n      <td>167.00</td>\n      <td>170.75</td>\n      <td>158.50</td>\n      <td>169.25</td>\n      <td>166.75</td>\n      <td>166.00</td>\n      <td>165.75</td>\n      <td>163.25</td>\n      <td>168.25</td>\n      <td>165.00</td>\n      <td>172.75</td>\n      <td>166.00</td>\n      <td>168.25</td>\n    </tr>\n    <tr>\n      <th>2013</th>\n      <td>168.00</td>\n      <td>166.75</td>\n      <td>172.00</td>\n      <td>170.50</td>\n      <td>172.00</td>\n      <td>171.25</td>\n      <td>168.00</td>\n      <td>166.50</td>\n      <td>171.25</td>\n      <td>158.75</td>\n      <td>168.75</td>\n      <td>166.50</td>\n      <td>165.25</td>\n      <td>165.25</td>\n      <td>163.00</td>\n      <td>169.75</td>\n      <td>165.00</td>\n      <td>172.25</td>\n      <td>166.00</td>\n      <td>168.00</td>\n    </tr>\n    <tr>\n      <th>2014</th>\n      <td>168.25</td>\n      <td>166.50</td>\n      <td>170.50</td>\n      <td>170.50</td>\n      <td>172.00</td>\n      <td>171.25</td>\n      <td>168.25</td>\n      <td>166.25</td>\n      <td>171.00</td>\n      <td>157.00</td>\n      <td>168.00</td>\n      <td>166.00</td>\n      <td>165.50</td>\n      <td>165.00</td>\n      <td>162.50</td>\n      <td>170.50</td>\n      <td>166.50</td>\n      <td>175.25</td>\n      <td>166.25</td>\n      <td>167.00</td>\n    </tr>\n    <tr>\n      <th>2015</th>\n      <td>168.00</td>\n      <td>166.50</td>\n      <td>170.25</td>\n      <td>170.25</td>\n      <td>171.75</td>\n      <td>171.50</td>\n      <td>168.50</td>\n      <td>165.50</td>\n      <td>171.25</td>\n      <td>156.00</td>\n      <td>168.75</td>\n      <td>165.50</td>\n      <td>164.75</td>\n      <td>164.25</td>\n      <td>161.25</td>\n      <td>170.50</td>\n      <td>166.25</td>\n      <td>175.25</td>\n      <td>165.25</td>\n      <td>166.25</td>\n    </tr>\n    <tr>\n      <th>2016</th>\n      <td>167.00</td>\n      <td>164.50</td>\n      <td>166.75</td>\n      <td>169.50</td>\n      <td>171.50</td>\n      <td>171.50</td>\n      <td>164.50</td>\n      <td>164.50</td>\n      <td>165.25</td>\n      <td>163.50</td>\n      <td>168.50</td>\n      <td>165.75</td>\n      <td>163.75</td>\n      <td>161.75</td>\n      <td>161.75</td>\n      <td>171.00</td>\n      <td>166.50</td>\n      <td>174.50</td>\n      <td>164.50</td>\n      <td>161.25</td>\n    </tr>\n    <tr>\n      <th>2017</th>\n      <td>166.50</td>\n      <td>163.75</td>\n      <td>168.00</td>\n      <td>169.00</td>\n      <td>172.50</td>\n      <td>171.00</td>\n      <td>164.50</td>\n      <td>163.75</td>\n      <td>165.00</td>\n      <td>162.50</td>\n      <td>168.25</td>\n      <td>165.00</td>\n      <td>163.25</td>\n      <td>161.50</td>\n      <td>160.25</td>\n      <td>171.75</td>\n      <td>165.25</td>\n      <td>173.50</td>\n      <td>164.50</td>\n      <td>161.00</td>\n    </tr>\n    <tr>\n      <th>2018</th>\n      <td>166.00</td>\n      <td>161.75</td>\n      <td>169.25</td>\n      <td>168.75</td>\n      <td>172.00</td>\n      <td>171.25</td>\n      <td>163.00</td>\n      <td>163.25</td>\n      <td>165.50</td>\n      <td>154.75</td>\n      <td>167.50</td>\n      <td>165.50</td>\n      <td>162.75</td>\n      <td>162.00</td>\n      <td>159.75</td>\n      <td>172.25</td>\n      <td>165.25</td>\n      <td>173.00</td>\n      <td>164.75</td>\n      <td>155.00</td>\n    </tr>\n    <tr>\n      <th>2019</th>\n      <td>165.75</td>\n      <td>162.00</td>\n      <td>170.00</td>\n      <td>168.25</td>\n      <td>171.25</td>\n      <td>170.00</td>\n      <td>162.75</td>\n      <td>163.50</td>\n      <td>166.00</td>\n      <td>155.25</td>\n      <td>168.25</td>\n      <td>165.50</td>\n      <td>162.25</td>\n      <td>162.25</td>\n      <td>159.00</td>\n      <td>172.25</td>\n      <td>165.50</td>\n      <td>173.00</td>\n      <td>165.00</td>\n      <td>155.25</td>\n    </tr>\n    <tr>\n      <th>2020</th>\n      <td>163.25</td>\n      <td>160.75</td>\n      <td>171.25</td>\n      <td>165.00</td>\n      <td>170.50</td>\n      <td>167.25</td>\n      <td>162.25</td>\n      <td>160.75</td>\n      <td>165.00</td>\n      <td>149.25</td>\n      <td>167.75</td>\n      <td>166.50</td>\n      <td>162.00</td>\n      <td>160.75</td>\n      <td>157.00</td>\n      <td>172.25</td>\n      <td>159.25</td>\n      <td>171.25</td>\n      <td>156.75</td>\n      <td>154.50</td>\n    </tr>\n    <tr>\n      <th>2021</th>\n      <td>165.25</td>\n      <td>161.50</td>\n      <td>167.75</td>\n      <td>167.25</td>\n      <td>169.00</td>\n      <td>168.25</td>\n      <td>164.00</td>\n      <td>162.00</td>\n      <td>166.50</td>\n      <td>152.50</td>\n      <td>167.50</td>\n      <td>165.50</td>\n      <td>161.25</td>\n      <td>161.75</td>\n      <td>158.75</td>\n      <td>172.00</td>\n      <td>162.50</td>\n      <td>174.00</td>\n      <td>161.25</td>\n      <td>155.50</td>\n    </tr>\n    <tr>\n      <th>2022</th>\n      <td>164.25</td>\n      <td>160.50</td>\n      <td>166.00</td>\n      <td>166.00</td>\n      <td>166.75</td>\n      <td>167.50</td>\n      <td>164.00</td>\n      <td>162.25</td>\n      <td>166.75</td>\n      <td>155.25</td>\n      <td>166.75</td>\n      <td>164.00</td>\n      <td>161.25</td>\n      <td>161.50</td>\n      <td>158.25</td>\n      <td>169.00</td>\n      <td>162.50</td>\n      <td>170.25</td>\n      <td>163.00</td>\n      <td>157.00</td>\n    </tr>\n  </tbody>\n</table>\n</div>"
     },
     "execution_count": 142,
     "metadata": {},
     "output_type": "execute_result"
    }
   ],
   "source": [
    "placane_delovne_ure_grouped"
   ],
   "metadata": {
    "collapsed": false
   }
  },
  {
   "cell_type": "markdown",
   "id": "6ee79005",
   "metadata": {},
   "source": [
    "---"
   ]
  },
  {
   "cell_type": "code",
   "execution_count": 169,
   "outputs": [
    {
     "data": {
      "application/vnd.plotly.v1+json": {
       "data": [
        {
         "alignmentgroup": "True",
         "hovertemplate": "Dejavnost=A KMETIJSTVO IN LOV, GOZDARSTVO, RIBISTVO<br>LETO=%{x}<br>Vrednost=%{y}<extra></extra>",
         "legendgroup": "A KMETIJSTVO IN LOV, GOZDARSTVO, RIBISTVO",
         "marker": {
          "color": "#636efa",
          "pattern": {
           "shape": ""
          }
         },
         "name": "A KMETIJSTVO IN LOV, GOZDARSTVO, RIBISTVO",
         "offsetgroup": "A KMETIJSTVO IN LOV, GOZDARSTVO, RIBISTVO",
         "orientation": "v",
         "showlegend": true,
         "textposition": "auto",
         "x": [
          "2008",
          "2009",
          "2010",
          "2011",
          "2012",
          "2013",
          "2014",
          "2015",
          "2016",
          "2017",
          "2018",
          "2019",
          "2020",
          "2021",
          "2022"
         ],
         "xaxis": "x",
         "y": [
          133.5,
          135.0,
          139.75,
          137.75,
          130.5,
          131.5,
          132.5,
          133.75,
          130.25,
          128.75,
          125.75,
          127.5,
          129.0,
          130.0,
          129.25
         ],
         "yaxis": "y",
         "type": "bar"
        },
        {
         "alignmentgroup": "True",
         "hovertemplate": "Dejavnost=B RUDARSTVO<br>LETO=%{x}<br>Vrednost=%{y}<extra></extra>",
         "legendgroup": "B RUDARSTVO",
         "marker": {
          "color": "#EF553B",
          "pattern": {
           "shape": ""
          }
         },
         "name": "B RUDARSTVO",
         "offsetgroup": "B RUDARSTVO",
         "orientation": "v",
         "showlegend": true,
         "textposition": "auto",
         "x": [
          "2008",
          "2009",
          "2010",
          "2011",
          "2012",
          "2013",
          "2014",
          "2015",
          "2016",
          "2017",
          "2018",
          "2019",
          "2020",
          "2021",
          "2022"
         ],
         "xaxis": "x",
         "y": [
          133.75,
          129.75,
          128.75,
          130.0,
          131.0,
          130.0,
          130.25,
          132.5,
          127.0,
          127.0,
          128.5,
          129.0,
          133.0,
          130.0,
          127.25
         ],
         "yaxis": "y",
         "type": "bar"
        },
        {
         "alignmentgroup": "True",
         "hovertemplate": "Dejavnost=C PREDELOVALNE DEJAVNOSTI<br>LETO=%{x}<br>Vrednost=%{y}<extra></extra>",
         "legendgroup": "C PREDELOVALNE DEJAVNOSTI",
         "marker": {
          "color": "#00cc96",
          "pattern": {
           "shape": ""
          }
         },
         "name": "C PREDELOVALNE DEJAVNOSTI",
         "offsetgroup": "C PREDELOVALNE DEJAVNOSTI",
         "orientation": "v",
         "showlegend": true,
         "textposition": "auto",
         "x": [
          "2008",
          "2009",
          "2010",
          "2011",
          "2012",
          "2013",
          "2014",
          "2015",
          "2016",
          "2017",
          "2018",
          "2019",
          "2020",
          "2021",
          "2022"
         ],
         "xaxis": "x",
         "y": [
          134.0,
          132.25,
          136.5,
          135.0,
          134.0,
          135.25,
          136.25,
          137.75,
          135.5,
          133.25,
          132.0,
          131.5,
          132.0,
          134.0,
          131.25
         ],
         "yaxis": "y",
         "type": "bar"
        },
        {
         "alignmentgroup": "True",
         "hovertemplate": "Dejavnost=D OSKRBA Z ELEKTRICNO ENERGIJO, PLINOM IN PARO<br>LETO=%{x}<br>Vrednost=%{y}<extra></extra>",
         "legendgroup": "D OSKRBA Z ELEKTRICNO ENERGIJO, PLINOM IN PARO",
         "marker": {
          "color": "#ab63fa",
          "pattern": {
           "shape": ""
          }
         },
         "name": "D OSKRBA Z ELEKTRICNO ENERGIJO, PLINOM IN PARO",
         "offsetgroup": "D OSKRBA Z ELEKTRICNO ENERGIJO, PLINOM IN PARO",
         "orientation": "v",
         "showlegend": true,
         "textposition": "auto",
         "x": [
          "2008",
          "2009",
          "2010",
          "2011",
          "2012",
          "2013",
          "2014",
          "2015",
          "2016",
          "2017",
          "2018",
          "2019",
          "2020",
          "2021",
          "2022"
         ],
         "xaxis": "x",
         "y": [
          135.0,
          134.0,
          134.5,
          133.0,
          132.5,
          135.5,
          133.75,
          137.0,
          136.0,
          136.0,
          129.75,
          130.0,
          132.25,
          131.25,
          128.5
         ],
         "yaxis": "y",
         "type": "bar"
        },
        {
         "alignmentgroup": "True",
         "hovertemplate": "Dejavnost=E OSKRBA Z VODO, RAVNANJE Z ODPLAKAMI IN ODPADKI, SANIRANJE OKOLJA<br>LETO=%{x}<br>Vrednost=%{y}<extra></extra>",
         "legendgroup": "E OSKRBA Z VODO, RAVNANJE Z ODPLAKAMI IN ODPADKI, SANIRANJE OKOLJA",
         "marker": {
          "color": "#FFA15A",
          "pattern": {
           "shape": ""
          }
         },
         "name": "E OSKRBA Z VODO, RAVNANJE Z ODPLAKAMI IN ODPADKI, SANIRANJE OKOLJA",
         "offsetgroup": "E OSKRBA Z VODO, RAVNANJE Z ODPLAKAMI IN ODPADKI, SANIRANJE OKOLJA",
         "orientation": "v",
         "showlegend": true,
         "textposition": "auto",
         "x": [
          "2008",
          "2009",
          "2010",
          "2011",
          "2012",
          "2013",
          "2014",
          "2015",
          "2016",
          "2017",
          "2018",
          "2019",
          "2020",
          "2021",
          "2022"
         ],
         "xaxis": "x",
         "y": [
          135.0,
          139.25,
          137.25,
          136.25,
          132.0,
          137.5,
          136.0,
          136.0,
          135.25,
          138.0,
          133.5,
          132.25,
          132.25,
          133.75,
          131.5
         ],
         "yaxis": "y",
         "type": "bar"
        },
        {
         "alignmentgroup": "True",
         "hovertemplate": "Dejavnost=F GRADBENISTVO<br>LETO=%{x}<br>Vrednost=%{y}<extra></extra>",
         "legendgroup": "F GRADBENISTVO",
         "marker": {
          "color": "#19d3f3",
          "pattern": {
           "shape": ""
          }
         },
         "name": "F GRADBENISTVO",
         "offsetgroup": "F GRADBENISTVO",
         "orientation": "v",
         "showlegend": true,
         "textposition": "auto",
         "x": [
          "2008",
          "2009",
          "2010",
          "2011",
          "2012",
          "2013",
          "2014",
          "2015",
          "2016",
          "2017",
          "2018",
          "2019",
          "2020",
          "2021",
          "2022"
         ],
         "xaxis": "x",
         "y": [
          136.5,
          138.5,
          140.25,
          139.75,
          139.0,
          140.75,
          142.0,
          143.75,
          132.75,
          131.5,
          129.5,
          130.0,
          132.25,
          134.5,
          133.0
         ],
         "yaxis": "y",
         "type": "bar"
        },
        {
         "alignmentgroup": "True",
         "hovertemplate": "Dejavnost=G TRGOVINA, VZDRZEVANJE IN POPRAVILA MOTORNIH VOZIL<br>LETO=%{x}<br>Vrednost=%{y}<extra></extra>",
         "legendgroup": "G TRGOVINA, VZDRZEVANJE IN POPRAVILA MOTORNIH VOZIL",
         "marker": {
          "color": "#FF6692",
          "pattern": {
           "shape": ""
          }
         },
         "name": "G TRGOVINA, VZDRZEVANJE IN POPRAVILA MOTORNIH VOZIL",
         "offsetgroup": "G TRGOVINA, VZDRZEVANJE IN POPRAVILA MOTORNIH VOZIL",
         "orientation": "v",
         "showlegend": true,
         "textposition": "auto",
         "x": [
          "2008",
          "2009",
          "2010",
          "2011",
          "2012",
          "2013",
          "2014",
          "2015",
          "2016",
          "2017",
          "2018",
          "2019",
          "2020",
          "2021",
          "2022"
         ],
         "xaxis": "x",
         "y": [
          134.5,
          135.25,
          137.0,
          134.75,
          134.25,
          133.75,
          135.75,
          136.25,
          132.25,
          131.0,
          129.25,
          129.25,
          130.0,
          131.0,
          129.5
         ],
         "yaxis": "y",
         "type": "bar"
        },
        {
         "alignmentgroup": "True",
         "hovertemplate": "Dejavnost=H PROMET IN SKLADISCENJE<br>LETO=%{x}<br>Vrednost=%{y}<extra></extra>",
         "legendgroup": "H PROMET IN SKLADISCENJE",
         "marker": {
          "color": "#B6E880",
          "pattern": {
           "shape": ""
          }
         },
         "name": "H PROMET IN SKLADISCENJE",
         "offsetgroup": "H PROMET IN SKLADISCENJE",
         "orientation": "v",
         "showlegend": true,
         "textposition": "auto",
         "x": [
          "2008",
          "2009",
          "2010",
          "2011",
          "2012",
          "2013",
          "2014",
          "2015",
          "2016",
          "2017",
          "2018",
          "2019",
          "2020",
          "2021",
          "2022"
         ],
         "xaxis": "x",
         "y": [
          136.0,
          136.75,
          140.25,
          138.25,
          135.75,
          139.5,
          140.0,
          138.75,
          133.25,
          131.5,
          130.75,
          131.75,
          133.25,
          135.25,
          134.5
         ],
         "yaxis": "y",
         "type": "bar"
        },
        {
         "alignmentgroup": "True",
         "hovertemplate": "Dejavnost=I GOSTINSTVO<br>LETO=%{x}<br>Vrednost=%{y}<extra></extra>",
         "legendgroup": "I GOSTINSTVO",
         "marker": {
          "color": "#FF97FF",
          "pattern": {
           "shape": ""
          }
         },
         "name": "I GOSTINSTVO",
         "offsetgroup": "I GOSTINSTVO",
         "orientation": "v",
         "showlegend": true,
         "textposition": "auto",
         "x": [
          "2008",
          "2009",
          "2010",
          "2011",
          "2012",
          "2013",
          "2014",
          "2015",
          "2016",
          "2017",
          "2018",
          "2019",
          "2020",
          "2021",
          "2022"
         ],
         "xaxis": "x",
         "y": [
          128.5,
          129.75,
          130.75,
          128.5,
          129.0,
          129.75,
          129.5,
          130.25,
          132.25,
          130.75,
          122.5,
          123.0,
          121.0,
          124.0,
          124.0
         ],
         "yaxis": "y",
         "type": "bar"
        },
        {
         "alignmentgroup": "True",
         "hovertemplate": "Dejavnost=J INFORMACIJSKE IN KOMUNIKACIJSKE DEJAVNOSTI<br>LETO=%{x}<br>Vrednost=%{y}<extra></extra>",
         "legendgroup": "J INFORMACIJSKE IN KOMUNIKACIJSKE DEJAVNOSTI",
         "marker": {
          "color": "#FECB52",
          "pattern": {
           "shape": ""
          }
         },
         "name": "J INFORMACIJSKE IN KOMUNIKACIJSKE DEJAVNOSTI",
         "offsetgroup": "J INFORMACIJSKE IN KOMUNIKACIJSKE DEJAVNOSTI",
         "orientation": "v",
         "showlegend": true,
         "textposition": "auto",
         "x": [
          "2008",
          "2009",
          "2010",
          "2011",
          "2012",
          "2013",
          "2014",
          "2015",
          "2016",
          "2017",
          "2018",
          "2019",
          "2020",
          "2021",
          "2022"
         ],
         "xaxis": "x",
         "y": [
          135.25,
          138.25,
          138.0,
          137.0,
          137.25,
          137.0,
          136.5,
          139.25,
          134.75,
          133.0,
          132.25,
          133.0,
          135.75,
          136.25,
          136.0
         ],
         "yaxis": "y",
         "type": "bar"
        },
        {
         "alignmentgroup": "True",
         "hovertemplate": "Dejavnost=K FINANCNE IN ZAVAROVALNISKE DEJAVNOSTI<br>LETO=%{x}<br>Vrednost=%{y}<extra></extra>",
         "legendgroup": "K FINANCNE IN ZAVAROVALNISKE DEJAVNOSTI",
         "marker": {
          "color": "#636efa",
          "pattern": {
           "shape": ""
          }
         },
         "name": "K FINANCNE IN ZAVAROVALNISKE DEJAVNOSTI",
         "offsetgroup": "K FINANCNE IN ZAVAROVALNISKE DEJAVNOSTI",
         "orientation": "v",
         "showlegend": true,
         "textposition": "auto",
         "x": [
          "2008",
          "2009",
          "2010",
          "2011",
          "2012",
          "2013",
          "2014",
          "2015",
          "2016",
          "2017",
          "2018",
          "2019",
          "2020",
          "2021",
          "2022"
         ],
         "xaxis": "x",
         "y": [
          133.0,
          137.25,
          137.75,
          135.75,
          128.75,
          131.5,
          131.25,
          131.75,
          130.25,
          129.25,
          127.5,
          128.0,
          133.25,
          132.75,
          129.5
         ],
         "yaxis": "y",
         "type": "bar"
        },
        {
         "alignmentgroup": "True",
         "hovertemplate": "Dejavnost=L POSLOVANJE Z NEPREMICNINAMI<br>LETO=%{x}<br>Vrednost=%{y}<extra></extra>",
         "legendgroup": "L POSLOVANJE Z NEPREMICNINAMI",
         "marker": {
          "color": "#EF553B",
          "pattern": {
           "shape": ""
          }
         },
         "name": "L POSLOVANJE Z NEPREMICNINAMI",
         "offsetgroup": "L POSLOVANJE Z NEPREMICNINAMI",
         "orientation": "v",
         "showlegend": true,
         "textposition": "auto",
         "x": [
          "2008",
          "2009",
          "2010",
          "2011",
          "2012",
          "2013",
          "2014",
          "2015",
          "2016",
          "2017",
          "2018",
          "2019",
          "2020",
          "2021",
          "2022"
         ],
         "xaxis": "x",
         "y": [
          134.5,
          135.25,
          136.0,
          135.0,
          134.5,
          135.0,
          136.25,
          137.75,
          131.25,
          129.5,
          128.0,
          128.0,
          131.0,
          131.75,
          129.5
         ],
         "yaxis": "y",
         "type": "bar"
        },
        {
         "alignmentgroup": "True",
         "hovertemplate": "Dejavnost=M STROKOVNE, ZNANSTVENE IN TEHNICNE DEJAVNOSTI<br>LETO=%{x}<br>Vrednost=%{y}<extra></extra>",
         "legendgroup": "M STROKOVNE, ZNANSTVENE IN TEHNICNE DEJAVNOSTI",
         "marker": {
          "color": "#00cc96",
          "pattern": {
           "shape": ""
          }
         },
         "name": "M STROKOVNE, ZNANSTVENE IN TEHNICNE DEJAVNOSTI",
         "offsetgroup": "M STROKOVNE, ZNANSTVENE IN TEHNICNE DEJAVNOSTI",
         "orientation": "v",
         "showlegend": true,
         "textposition": "auto",
         "x": [
          "2008",
          "2009",
          "2010",
          "2011",
          "2012",
          "2013",
          "2014",
          "2015",
          "2016",
          "2017",
          "2018",
          "2019",
          "2020",
          "2021",
          "2022"
         ],
         "xaxis": "x",
         "y": [
          135.25,
          143.25,
          139.0,
          138.25,
          134.25,
          140.25,
          139.25,
          136.5,
          133.0,
          129.0,
          129.5,
          129.25,
          131.25,
          133.0,
          131.0
         ],
         "yaxis": "y",
         "type": "bar"
        },
        {
         "alignmentgroup": "True",
         "hovertemplate": "Dejavnost=N DRUGE RAZNOVRSTNE POSLOVNE DEJAVNOSTI<br>LETO=%{x}<br>Vrednost=%{y}<extra></extra>",
         "legendgroup": "N DRUGE RAZNOVRSTNE POSLOVNE DEJAVNOSTI",
         "marker": {
          "color": "#ab63fa",
          "pattern": {
           "shape": ""
          }
         },
         "name": "N DRUGE RAZNOVRSTNE POSLOVNE DEJAVNOSTI",
         "offsetgroup": "N DRUGE RAZNOVRSTNE POSLOVNE DEJAVNOSTI",
         "orientation": "v",
         "showlegend": true,
         "textposition": "auto",
         "x": [
          "2008",
          "2009",
          "2010",
          "2011",
          "2012",
          "2013",
          "2014",
          "2015",
          "2016",
          "2017",
          "2018",
          "2019",
          "2020",
          "2021",
          "2022"
         ],
         "xaxis": "x",
         "y": [
          131.0,
          133.75,
          134.5,
          133.75,
          132.0,
          133.25,
          134.25,
          133.75,
          132.0,
          127.0,
          126.25,
          125.5,
          126.75,
          128.75,
          126.0
         ],
         "yaxis": "y",
         "type": "bar"
        },
        {
         "alignmentgroup": "True",
         "hovertemplate": "Dejavnost=O DEJAVNOST JAVNE UPRAVE IN OBRAMBE, DEJAVNOST OBVEZNE SOCIALNE VARNOSTI<br>LETO=%{x}<br>Vrednost=%{y}<extra></extra>",
         "legendgroup": "O DEJAVNOST JAVNE UPRAVE IN OBRAMBE, DEJAVNOST OBVEZNE SOCIALNE VARNOSTI",
         "marker": {
          "color": "#FFA15A",
          "pattern": {
           "shape": ""
          }
         },
         "name": "O DEJAVNOST JAVNE UPRAVE IN OBRAMBE, DEJAVNOST OBVEZNE SOCIALNE VARNOSTI",
         "offsetgroup": "O DEJAVNOST JAVNE UPRAVE IN OBRAMBE, DEJAVNOST OBVEZNE SOCIALNE VARNOSTI",
         "orientation": "v",
         "showlegend": true,
         "textposition": "auto",
         "x": [
          "2008",
          "2009",
          "2010",
          "2011",
          "2012",
          "2013",
          "2014",
          "2015",
          "2016",
          "2017",
          "2018",
          "2019",
          "2020",
          "2021",
          "2022"
         ],
         "xaxis": "x",
         "y": [
          132.25,
          134.5,
          133.25,
          135.75,
          128.0,
          129.25,
          131.75,
          134.75,
          132.25,
          130.75,
          130.0,
          130.25,
          137.75,
          136.25,
          130.25
         ],
         "yaxis": "y",
         "type": "bar"
        },
        {
         "alignmentgroup": "True",
         "hovertemplate": "Dejavnost=P IZOBRAZEVANJE<br>LETO=%{x}<br>Vrednost=%{y}<extra></extra>",
         "legendgroup": "P IZOBRAZEVANJE",
         "marker": {
          "color": "#19d3f3",
          "pattern": {
           "shape": ""
          }
         },
         "name": "P IZOBRAZEVANJE",
         "offsetgroup": "P IZOBRAZEVANJE",
         "orientation": "v",
         "showlegend": true,
         "textposition": "auto",
         "x": [
          "2008",
          "2009",
          "2010",
          "2011",
          "2012",
          "2013",
          "2014",
          "2015",
          "2016",
          "2017",
          "2018",
          "2019",
          "2020",
          "2021",
          "2022"
         ],
         "xaxis": "x",
         "y": [
          127.75,
          130.0,
          130.5,
          129.75,
          127.5,
          131.25,
          132.5,
          135.5,
          130.5,
          127.25,
          127.75,
          126.5,
          124.75,
          127.75,
          125.25
         ],
         "yaxis": "y",
         "type": "bar"
        },
        {
         "alignmentgroup": "True",
         "hovertemplate": "Dejavnost=Q ZDRAVSTVO IN SOCIALNO VARSTVO<br>LETO=%{x}<br>Vrednost=%{y}<extra></extra>",
         "legendgroup": "Q ZDRAVSTVO IN SOCIALNO VARSTVO",
         "marker": {
          "color": "#FF6692",
          "pattern": {
           "shape": ""
          }
         },
         "name": "Q ZDRAVSTVO IN SOCIALNO VARSTVO",
         "offsetgroup": "Q ZDRAVSTVO IN SOCIALNO VARSTVO",
         "orientation": "v",
         "showlegend": true,
         "textposition": "auto",
         "x": [
          "2008",
          "2009",
          "2010",
          "2011",
          "2012",
          "2013",
          "2014",
          "2015",
          "2016",
          "2017",
          "2018",
          "2019",
          "2020",
          "2021",
          "2022"
         ],
         "xaxis": "x",
         "y": [
          141.75,
          142.25,
          139.5,
          138.5,
          136.5,
          136.0,
          142.5,
          142.0,
          141.5,
          137.0,
          135.5,
          135.25,
          135.75,
          138.0,
          132.75
         ],
         "yaxis": "y",
         "type": "bar"
        },
        {
         "alignmentgroup": "True",
         "hovertemplate": "Dejavnost=R KULTURNE, RAZVEDRILNE IN REKREACIJSKE DEJAVNOSTI<br>LETO=%{x}<br>Vrednost=%{y}<extra></extra>",
         "legendgroup": "R KULTURNE, RAZVEDRILNE IN REKREACIJSKE DEJAVNOSTI",
         "marker": {
          "color": "#B6E880",
          "pattern": {
           "shape": ""
          }
         },
         "name": "R KULTURNE, RAZVEDRILNE IN REKREACIJSKE DEJAVNOSTI",
         "offsetgroup": "R KULTURNE, RAZVEDRILNE IN REKREACIJSKE DEJAVNOSTI",
         "orientation": "v",
         "showlegend": true,
         "textposition": "auto",
         "x": [
          "2008",
          "2009",
          "2010",
          "2011",
          "2012",
          "2013",
          "2014",
          "2015",
          "2016",
          "2017",
          "2018",
          "2019",
          "2020",
          "2021",
          "2022"
         ],
         "xaxis": "x",
         "y": [
          135.25,
          135.5,
          135.0,
          132.25,
          130.75,
          130.0,
          132.5,
          134.25,
          129.75,
          127.25,
          126.75,
          127.0,
          122.25,
          127.5,
          128.0
         ],
         "yaxis": "y",
         "type": "bar"
        },
        {
         "alignmentgroup": "True",
         "hovertemplate": "Dejavnost=S DRUGE DEJAVNOSTI<br>LETO=%{x}<br>Vrednost=%{y}<extra></extra>",
         "legendgroup": "S DRUGE DEJAVNOSTI",
         "marker": {
          "color": "#FF97FF",
          "pattern": {
           "shape": ""
          }
         },
         "name": "S DRUGE DEJAVNOSTI",
         "offsetgroup": "S DRUGE DEJAVNOSTI",
         "orientation": "v",
         "showlegend": true,
         "textposition": "auto",
         "x": [
          "2008",
          "2009",
          "2010",
          "2011",
          "2012",
          "2013",
          "2014",
          "2015",
          "2016",
          "2017",
          "2018",
          "2019",
          "2020",
          "2021",
          "2022"
         ],
         "xaxis": "x",
         "y": [
          124.75,
          126.25,
          129.0,
          127.25,
          136.5,
          135.5,
          136.25,
          137.0,
          130.5,
          128.25,
          121.75,
          122.75,
          125.25,
          127.25,
          128.25
         ],
         "yaxis": "y",
         "type": "bar"
        }
       ],
       "layout": {
        "template": {
         "data": {
          "histogram2dcontour": [
           {
            "type": "histogram2dcontour",
            "colorbar": {
             "outlinewidth": 0,
             "ticks": ""
            },
            "colorscale": [
             [
              0.0,
              "#0d0887"
             ],
             [
              0.1111111111111111,
              "#46039f"
             ],
             [
              0.2222222222222222,
              "#7201a8"
             ],
             [
              0.3333333333333333,
              "#9c179e"
             ],
             [
              0.4444444444444444,
              "#bd3786"
             ],
             [
              0.5555555555555556,
              "#d8576b"
             ],
             [
              0.6666666666666666,
              "#ed7953"
             ],
             [
              0.7777777777777778,
              "#fb9f3a"
             ],
             [
              0.8888888888888888,
              "#fdca26"
             ],
             [
              1.0,
              "#f0f921"
             ]
            ]
           }
          ],
          "choropleth": [
           {
            "type": "choropleth",
            "colorbar": {
             "outlinewidth": 0,
             "ticks": ""
            }
           }
          ],
          "histogram2d": [
           {
            "type": "histogram2d",
            "colorbar": {
             "outlinewidth": 0,
             "ticks": ""
            },
            "colorscale": [
             [
              0.0,
              "#0d0887"
             ],
             [
              0.1111111111111111,
              "#46039f"
             ],
             [
              0.2222222222222222,
              "#7201a8"
             ],
             [
              0.3333333333333333,
              "#9c179e"
             ],
             [
              0.4444444444444444,
              "#bd3786"
             ],
             [
              0.5555555555555556,
              "#d8576b"
             ],
             [
              0.6666666666666666,
              "#ed7953"
             ],
             [
              0.7777777777777778,
              "#fb9f3a"
             ],
             [
              0.8888888888888888,
              "#fdca26"
             ],
             [
              1.0,
              "#f0f921"
             ]
            ]
           }
          ],
          "heatmap": [
           {
            "type": "heatmap",
            "colorbar": {
             "outlinewidth": 0,
             "ticks": ""
            },
            "colorscale": [
             [
              0.0,
              "#0d0887"
             ],
             [
              0.1111111111111111,
              "#46039f"
             ],
             [
              0.2222222222222222,
              "#7201a8"
             ],
             [
              0.3333333333333333,
              "#9c179e"
             ],
             [
              0.4444444444444444,
              "#bd3786"
             ],
             [
              0.5555555555555556,
              "#d8576b"
             ],
             [
              0.6666666666666666,
              "#ed7953"
             ],
             [
              0.7777777777777778,
              "#fb9f3a"
             ],
             [
              0.8888888888888888,
              "#fdca26"
             ],
             [
              1.0,
              "#f0f921"
             ]
            ]
           }
          ],
          "heatmapgl": [
           {
            "type": "heatmapgl",
            "colorbar": {
             "outlinewidth": 0,
             "ticks": ""
            },
            "colorscale": [
             [
              0.0,
              "#0d0887"
             ],
             [
              0.1111111111111111,
              "#46039f"
             ],
             [
              0.2222222222222222,
              "#7201a8"
             ],
             [
              0.3333333333333333,
              "#9c179e"
             ],
             [
              0.4444444444444444,
              "#bd3786"
             ],
             [
              0.5555555555555556,
              "#d8576b"
             ],
             [
              0.6666666666666666,
              "#ed7953"
             ],
             [
              0.7777777777777778,
              "#fb9f3a"
             ],
             [
              0.8888888888888888,
              "#fdca26"
             ],
             [
              1.0,
              "#f0f921"
             ]
            ]
           }
          ],
          "contourcarpet": [
           {
            "type": "contourcarpet",
            "colorbar": {
             "outlinewidth": 0,
             "ticks": ""
            }
           }
          ],
          "contour": [
           {
            "type": "contour",
            "colorbar": {
             "outlinewidth": 0,
             "ticks": ""
            },
            "colorscale": [
             [
              0.0,
              "#0d0887"
             ],
             [
              0.1111111111111111,
              "#46039f"
             ],
             [
              0.2222222222222222,
              "#7201a8"
             ],
             [
              0.3333333333333333,
              "#9c179e"
             ],
             [
              0.4444444444444444,
              "#bd3786"
             ],
             [
              0.5555555555555556,
              "#d8576b"
             ],
             [
              0.6666666666666666,
              "#ed7953"
             ],
             [
              0.7777777777777778,
              "#fb9f3a"
             ],
             [
              0.8888888888888888,
              "#fdca26"
             ],
             [
              1.0,
              "#f0f921"
             ]
            ]
           }
          ],
          "surface": [
           {
            "type": "surface",
            "colorbar": {
             "outlinewidth": 0,
             "ticks": ""
            },
            "colorscale": [
             [
              0.0,
              "#0d0887"
             ],
             [
              0.1111111111111111,
              "#46039f"
             ],
             [
              0.2222222222222222,
              "#7201a8"
             ],
             [
              0.3333333333333333,
              "#9c179e"
             ],
             [
              0.4444444444444444,
              "#bd3786"
             ],
             [
              0.5555555555555556,
              "#d8576b"
             ],
             [
              0.6666666666666666,
              "#ed7953"
             ],
             [
              0.7777777777777778,
              "#fb9f3a"
             ],
             [
              0.8888888888888888,
              "#fdca26"
             ],
             [
              1.0,
              "#f0f921"
             ]
            ]
           }
          ],
          "mesh3d": [
           {
            "type": "mesh3d",
            "colorbar": {
             "outlinewidth": 0,
             "ticks": ""
            }
           }
          ],
          "scatter": [
           {
            "marker": {
             "line": {
              "color": "#283442"
             }
            },
            "type": "scatter"
           }
          ],
          "parcoords": [
           {
            "type": "parcoords",
            "line": {
             "colorbar": {
              "outlinewidth": 0,
              "ticks": ""
             }
            }
           }
          ],
          "scatterpolargl": [
           {
            "type": "scatterpolargl",
            "marker": {
             "colorbar": {
              "outlinewidth": 0,
              "ticks": ""
             }
            }
           }
          ],
          "bar": [
           {
            "error_x": {
             "color": "#f2f5fa"
            },
            "error_y": {
             "color": "#f2f5fa"
            },
            "marker": {
             "line": {
              "color": "rgb(17,17,17)",
              "width": 0.5
             },
             "pattern": {
              "fillmode": "overlay",
              "size": 10,
              "solidity": 0.2
             }
            },
            "type": "bar"
           }
          ],
          "scattergeo": [
           {
            "type": "scattergeo",
            "marker": {
             "colorbar": {
              "outlinewidth": 0,
              "ticks": ""
             }
            }
           }
          ],
          "scatterpolar": [
           {
            "type": "scatterpolar",
            "marker": {
             "colorbar": {
              "outlinewidth": 0,
              "ticks": ""
             }
            }
           }
          ],
          "histogram": [
           {
            "marker": {
             "pattern": {
              "fillmode": "overlay",
              "size": 10,
              "solidity": 0.2
             }
            },
            "type": "histogram"
           }
          ],
          "scattergl": [
           {
            "marker": {
             "line": {
              "color": "#283442"
             }
            },
            "type": "scattergl"
           }
          ],
          "scatter3d": [
           {
            "type": "scatter3d",
            "line": {
             "colorbar": {
              "outlinewidth": 0,
              "ticks": ""
             }
            },
            "marker": {
             "colorbar": {
              "outlinewidth": 0,
              "ticks": ""
             }
            }
           }
          ],
          "scattermapbox": [
           {
            "type": "scattermapbox",
            "marker": {
             "colorbar": {
              "outlinewidth": 0,
              "ticks": ""
             }
            }
           }
          ],
          "scatterternary": [
           {
            "type": "scatterternary",
            "marker": {
             "colorbar": {
              "outlinewidth": 0,
              "ticks": ""
             }
            }
           }
          ],
          "scattercarpet": [
           {
            "type": "scattercarpet",
            "marker": {
             "colorbar": {
              "outlinewidth": 0,
              "ticks": ""
             }
            }
           }
          ],
          "carpet": [
           {
            "aaxis": {
             "endlinecolor": "#A2B1C6",
             "gridcolor": "#506784",
             "linecolor": "#506784",
             "minorgridcolor": "#506784",
             "startlinecolor": "#A2B1C6"
            },
            "baxis": {
             "endlinecolor": "#A2B1C6",
             "gridcolor": "#506784",
             "linecolor": "#506784",
             "minorgridcolor": "#506784",
             "startlinecolor": "#A2B1C6"
            },
            "type": "carpet"
           }
          ],
          "table": [
           {
            "cells": {
             "fill": {
              "color": "#506784"
             },
             "line": {
              "color": "rgb(17,17,17)"
             }
            },
            "header": {
             "fill": {
              "color": "#2a3f5f"
             },
             "line": {
              "color": "rgb(17,17,17)"
             }
            },
            "type": "table"
           }
          ],
          "barpolar": [
           {
            "marker": {
             "line": {
              "color": "rgb(17,17,17)",
              "width": 0.5
             },
             "pattern": {
              "fillmode": "overlay",
              "size": 10,
              "solidity": 0.2
             }
            },
            "type": "barpolar"
           }
          ],
          "pie": [
           {
            "automargin": true,
            "type": "pie"
           }
          ]
         },
         "layout": {
          "autotypenumbers": "strict",
          "colorway": [
           "#636efa",
           "#EF553B",
           "#00cc96",
           "#ab63fa",
           "#FFA15A",
           "#19d3f3",
           "#FF6692",
           "#B6E880",
           "#FF97FF",
           "#FECB52"
          ],
          "font": {
           "color": "#f2f5fa"
          },
          "hovermode": "closest",
          "hoverlabel": {
           "align": "left"
          },
          "paper_bgcolor": "rgb(17,17,17)",
          "plot_bgcolor": "rgb(17,17,17)",
          "polar": {
           "bgcolor": "rgb(17,17,17)",
           "angularaxis": {
            "gridcolor": "#506784",
            "linecolor": "#506784",
            "ticks": ""
           },
           "radialaxis": {
            "gridcolor": "#506784",
            "linecolor": "#506784",
            "ticks": ""
           }
          },
          "ternary": {
           "bgcolor": "rgb(17,17,17)",
           "aaxis": {
            "gridcolor": "#506784",
            "linecolor": "#506784",
            "ticks": ""
           },
           "baxis": {
            "gridcolor": "#506784",
            "linecolor": "#506784",
            "ticks": ""
           },
           "caxis": {
            "gridcolor": "#506784",
            "linecolor": "#506784",
            "ticks": ""
           }
          },
          "coloraxis": {
           "colorbar": {
            "outlinewidth": 0,
            "ticks": ""
           }
          },
          "colorscale": {
           "sequential": [
            [
             0.0,
             "#0d0887"
            ],
            [
             0.1111111111111111,
             "#46039f"
            ],
            [
             0.2222222222222222,
             "#7201a8"
            ],
            [
             0.3333333333333333,
             "#9c179e"
            ],
            [
             0.4444444444444444,
             "#bd3786"
            ],
            [
             0.5555555555555556,
             "#d8576b"
            ],
            [
             0.6666666666666666,
             "#ed7953"
            ],
            [
             0.7777777777777778,
             "#fb9f3a"
            ],
            [
             0.8888888888888888,
             "#fdca26"
            ],
            [
             1.0,
             "#f0f921"
            ]
           ],
           "sequentialminus": [
            [
             0.0,
             "#0d0887"
            ],
            [
             0.1111111111111111,
             "#46039f"
            ],
            [
             0.2222222222222222,
             "#7201a8"
            ],
            [
             0.3333333333333333,
             "#9c179e"
            ],
            [
             0.4444444444444444,
             "#bd3786"
            ],
            [
             0.5555555555555556,
             "#d8576b"
            ],
            [
             0.6666666666666666,
             "#ed7953"
            ],
            [
             0.7777777777777778,
             "#fb9f3a"
            ],
            [
             0.8888888888888888,
             "#fdca26"
            ],
            [
             1.0,
             "#f0f921"
            ]
           ],
           "diverging": [
            [
             0,
             "#8e0152"
            ],
            [
             0.1,
             "#c51b7d"
            ],
            [
             0.2,
             "#de77ae"
            ],
            [
             0.3,
             "#f1b6da"
            ],
            [
             0.4,
             "#fde0ef"
            ],
            [
             0.5,
             "#f7f7f7"
            ],
            [
             0.6,
             "#e6f5d0"
            ],
            [
             0.7,
             "#b8e186"
            ],
            [
             0.8,
             "#7fbc41"
            ],
            [
             0.9,
             "#4d9221"
            ],
            [
             1,
             "#276419"
            ]
           ]
          },
          "xaxis": {
           "gridcolor": "#283442",
           "linecolor": "#506784",
           "ticks": "",
           "title": {
            "standoff": 15
           },
           "zerolinecolor": "#283442",
           "automargin": true,
           "zerolinewidth": 2
          },
          "yaxis": {
           "gridcolor": "#283442",
           "linecolor": "#506784",
           "ticks": "",
           "title": {
            "standoff": 15
           },
           "zerolinecolor": "#283442",
           "automargin": true,
           "zerolinewidth": 2
          },
          "scene": {
           "xaxis": {
            "backgroundcolor": "rgb(17,17,17)",
            "gridcolor": "#506784",
            "linecolor": "#506784",
            "showbackground": true,
            "ticks": "",
            "zerolinecolor": "#C8D4E3",
            "gridwidth": 2
           },
           "yaxis": {
            "backgroundcolor": "rgb(17,17,17)",
            "gridcolor": "#506784",
            "linecolor": "#506784",
            "showbackground": true,
            "ticks": "",
            "zerolinecolor": "#C8D4E3",
            "gridwidth": 2
           },
           "zaxis": {
            "backgroundcolor": "rgb(17,17,17)",
            "gridcolor": "#506784",
            "linecolor": "#506784",
            "showbackground": true,
            "ticks": "",
            "zerolinecolor": "#C8D4E3",
            "gridwidth": 2
           }
          },
          "shapedefaults": {
           "line": {
            "color": "#f2f5fa"
           }
          },
          "annotationdefaults": {
           "arrowcolor": "#f2f5fa",
           "arrowhead": 0,
           "arrowwidth": 1
          },
          "geo": {
           "bgcolor": "rgb(17,17,17)",
           "landcolor": "rgb(17,17,17)",
           "subunitcolor": "#506784",
           "showland": true,
           "showlakes": true,
           "lakecolor": "rgb(17,17,17)"
          },
          "title": {
           "x": 0.05
          },
          "updatemenudefaults": {
           "bgcolor": "#506784",
           "borderwidth": 0
          },
          "sliderdefaults": {
           "bgcolor": "#C8D4E3",
           "borderwidth": 1,
           "bordercolor": "rgb(17,17,17)",
           "tickwidth": 0
          },
          "mapbox": {
           "style": "dark"
          }
         }
        },
        "xaxis": {
         "anchor": "y",
         "domain": [
          0.0,
          1.0
         ],
         "title": {
          "text": "Leto"
         }
        },
        "yaxis": {
         "anchor": "x",
         "domain": [
          0.0,
          1.0
         ],
         "title": {
          "text": "Ure"
         }
        },
        "legend": {
         "title": {
          "text": "Dejavnost"
         },
         "tracegroupgap": 0
        },
        "margin": {
         "t": 60
        },
        "barmode": "stack",
        "title": {
         "text": "Opravljene delovne ure"
        }
       },
       "config": {
        "plotlyServerURL": "https://plot.ly"
       }
      },
      "text/html": "<div>                            <div id=\"8613c795-b8dd-4432-911a-cacd50c8f2df\" class=\"plotly-graph-div\" style=\"height:525px; width:100%;\"></div>            <script type=\"text/javascript\">                require([\"plotly\"], function(Plotly) {                    window.PLOTLYENV=window.PLOTLYENV || {};                                    if (document.getElementById(\"8613c795-b8dd-4432-911a-cacd50c8f2df\")) {                    Plotly.newPlot(                        \"8613c795-b8dd-4432-911a-cacd50c8f2df\",                        [{\"alignmentgroup\":\"True\",\"hovertemplate\":\"Dejavnost=A KMETIJSTVO IN LOV, GOZDARSTVO, RIBISTVO<br>LETO=%{x}<br>Vrednost=%{y}<extra></extra>\",\"legendgroup\":\"A KMETIJSTVO IN LOV, GOZDARSTVO, RIBISTVO\",\"marker\":{\"color\":\"#636efa\",\"pattern\":{\"shape\":\"\"}},\"name\":\"A KMETIJSTVO IN LOV, GOZDARSTVO, RIBISTVO\",\"offsetgroup\":\"A KMETIJSTVO IN LOV, GOZDARSTVO, RIBISTVO\",\"orientation\":\"v\",\"showlegend\":true,\"textposition\":\"auto\",\"x\":[\"2008\",\"2009\",\"2010\",\"2011\",\"2012\",\"2013\",\"2014\",\"2015\",\"2016\",\"2017\",\"2018\",\"2019\",\"2020\",\"2021\",\"2022\"],\"xaxis\":\"x\",\"y\":[133.5,135.0,139.75,137.75,130.5,131.5,132.5,133.75,130.25,128.75,125.75,127.5,129.0,130.0,129.25],\"yaxis\":\"y\",\"type\":\"bar\"},{\"alignmentgroup\":\"True\",\"hovertemplate\":\"Dejavnost=B RUDARSTVO<br>LETO=%{x}<br>Vrednost=%{y}<extra></extra>\",\"legendgroup\":\"B RUDARSTVO\",\"marker\":{\"color\":\"#EF553B\",\"pattern\":{\"shape\":\"\"}},\"name\":\"B RUDARSTVO\",\"offsetgroup\":\"B RUDARSTVO\",\"orientation\":\"v\",\"showlegend\":true,\"textposition\":\"auto\",\"x\":[\"2008\",\"2009\",\"2010\",\"2011\",\"2012\",\"2013\",\"2014\",\"2015\",\"2016\",\"2017\",\"2018\",\"2019\",\"2020\",\"2021\",\"2022\"],\"xaxis\":\"x\",\"y\":[133.75,129.75,128.75,130.0,131.0,130.0,130.25,132.5,127.0,127.0,128.5,129.0,133.0,130.0,127.25],\"yaxis\":\"y\",\"type\":\"bar\"},{\"alignmentgroup\":\"True\",\"hovertemplate\":\"Dejavnost=C PREDELOVALNE DEJAVNOSTI<br>LETO=%{x}<br>Vrednost=%{y}<extra></extra>\",\"legendgroup\":\"C PREDELOVALNE DEJAVNOSTI\",\"marker\":{\"color\":\"#00cc96\",\"pattern\":{\"shape\":\"\"}},\"name\":\"C PREDELOVALNE DEJAVNOSTI\",\"offsetgroup\":\"C PREDELOVALNE DEJAVNOSTI\",\"orientation\":\"v\",\"showlegend\":true,\"textposition\":\"auto\",\"x\":[\"2008\",\"2009\",\"2010\",\"2011\",\"2012\",\"2013\",\"2014\",\"2015\",\"2016\",\"2017\",\"2018\",\"2019\",\"2020\",\"2021\",\"2022\"],\"xaxis\":\"x\",\"y\":[134.0,132.25,136.5,135.0,134.0,135.25,136.25,137.75,135.5,133.25,132.0,131.5,132.0,134.0,131.25],\"yaxis\":\"y\",\"type\":\"bar\"},{\"alignmentgroup\":\"True\",\"hovertemplate\":\"Dejavnost=D OSKRBA Z ELEKTRICNO ENERGIJO, PLINOM IN PARO<br>LETO=%{x}<br>Vrednost=%{y}<extra></extra>\",\"legendgroup\":\"D OSKRBA Z ELEKTRICNO ENERGIJO, PLINOM IN PARO\",\"marker\":{\"color\":\"#ab63fa\",\"pattern\":{\"shape\":\"\"}},\"name\":\"D OSKRBA Z ELEKTRICNO ENERGIJO, PLINOM IN PARO\",\"offsetgroup\":\"D OSKRBA Z ELEKTRICNO ENERGIJO, PLINOM IN PARO\",\"orientation\":\"v\",\"showlegend\":true,\"textposition\":\"auto\",\"x\":[\"2008\",\"2009\",\"2010\",\"2011\",\"2012\",\"2013\",\"2014\",\"2015\",\"2016\",\"2017\",\"2018\",\"2019\",\"2020\",\"2021\",\"2022\"],\"xaxis\":\"x\",\"y\":[135.0,134.0,134.5,133.0,132.5,135.5,133.75,137.0,136.0,136.0,129.75,130.0,132.25,131.25,128.5],\"yaxis\":\"y\",\"type\":\"bar\"},{\"alignmentgroup\":\"True\",\"hovertemplate\":\"Dejavnost=E OSKRBA Z VODO, RAVNANJE Z ODPLAKAMI IN ODPADKI, SANIRANJE OKOLJA<br>LETO=%{x}<br>Vrednost=%{y}<extra></extra>\",\"legendgroup\":\"E OSKRBA Z VODO, RAVNANJE Z ODPLAKAMI IN ODPADKI, SANIRANJE OKOLJA\",\"marker\":{\"color\":\"#FFA15A\",\"pattern\":{\"shape\":\"\"}},\"name\":\"E OSKRBA Z VODO, RAVNANJE Z ODPLAKAMI IN ODPADKI, SANIRANJE OKOLJA\",\"offsetgroup\":\"E OSKRBA Z VODO, RAVNANJE Z ODPLAKAMI IN ODPADKI, SANIRANJE OKOLJA\",\"orientation\":\"v\",\"showlegend\":true,\"textposition\":\"auto\",\"x\":[\"2008\",\"2009\",\"2010\",\"2011\",\"2012\",\"2013\",\"2014\",\"2015\",\"2016\",\"2017\",\"2018\",\"2019\",\"2020\",\"2021\",\"2022\"],\"xaxis\":\"x\",\"y\":[135.0,139.25,137.25,136.25,132.0,137.5,136.0,136.0,135.25,138.0,133.5,132.25,132.25,133.75,131.5],\"yaxis\":\"y\",\"type\":\"bar\"},{\"alignmentgroup\":\"True\",\"hovertemplate\":\"Dejavnost=F GRADBENISTVO<br>LETO=%{x}<br>Vrednost=%{y}<extra></extra>\",\"legendgroup\":\"F GRADBENISTVO\",\"marker\":{\"color\":\"#19d3f3\",\"pattern\":{\"shape\":\"\"}},\"name\":\"F GRADBENISTVO\",\"offsetgroup\":\"F GRADBENISTVO\",\"orientation\":\"v\",\"showlegend\":true,\"textposition\":\"auto\",\"x\":[\"2008\",\"2009\",\"2010\",\"2011\",\"2012\",\"2013\",\"2014\",\"2015\",\"2016\",\"2017\",\"2018\",\"2019\",\"2020\",\"2021\",\"2022\"],\"xaxis\":\"x\",\"y\":[136.5,138.5,140.25,139.75,139.0,140.75,142.0,143.75,132.75,131.5,129.5,130.0,132.25,134.5,133.0],\"yaxis\":\"y\",\"type\":\"bar\"},{\"alignmentgroup\":\"True\",\"hovertemplate\":\"Dejavnost=G TRGOVINA, VZDRZEVANJE IN POPRAVILA MOTORNIH VOZIL<br>LETO=%{x}<br>Vrednost=%{y}<extra></extra>\",\"legendgroup\":\"G TRGOVINA, VZDRZEVANJE IN POPRAVILA MOTORNIH VOZIL\",\"marker\":{\"color\":\"#FF6692\",\"pattern\":{\"shape\":\"\"}},\"name\":\"G TRGOVINA, VZDRZEVANJE IN POPRAVILA MOTORNIH VOZIL\",\"offsetgroup\":\"G TRGOVINA, VZDRZEVANJE IN POPRAVILA MOTORNIH VOZIL\",\"orientation\":\"v\",\"showlegend\":true,\"textposition\":\"auto\",\"x\":[\"2008\",\"2009\",\"2010\",\"2011\",\"2012\",\"2013\",\"2014\",\"2015\",\"2016\",\"2017\",\"2018\",\"2019\",\"2020\",\"2021\",\"2022\"],\"xaxis\":\"x\",\"y\":[134.5,135.25,137.0,134.75,134.25,133.75,135.75,136.25,132.25,131.0,129.25,129.25,130.0,131.0,129.5],\"yaxis\":\"y\",\"type\":\"bar\"},{\"alignmentgroup\":\"True\",\"hovertemplate\":\"Dejavnost=H PROMET IN SKLADISCENJE<br>LETO=%{x}<br>Vrednost=%{y}<extra></extra>\",\"legendgroup\":\"H PROMET IN SKLADISCENJE\",\"marker\":{\"color\":\"#B6E880\",\"pattern\":{\"shape\":\"\"}},\"name\":\"H PROMET IN SKLADISCENJE\",\"offsetgroup\":\"H PROMET IN SKLADISCENJE\",\"orientation\":\"v\",\"showlegend\":true,\"textposition\":\"auto\",\"x\":[\"2008\",\"2009\",\"2010\",\"2011\",\"2012\",\"2013\",\"2014\",\"2015\",\"2016\",\"2017\",\"2018\",\"2019\",\"2020\",\"2021\",\"2022\"],\"xaxis\":\"x\",\"y\":[136.0,136.75,140.25,138.25,135.75,139.5,140.0,138.75,133.25,131.5,130.75,131.75,133.25,135.25,134.5],\"yaxis\":\"y\",\"type\":\"bar\"},{\"alignmentgroup\":\"True\",\"hovertemplate\":\"Dejavnost=I GOSTINSTVO<br>LETO=%{x}<br>Vrednost=%{y}<extra></extra>\",\"legendgroup\":\"I GOSTINSTVO\",\"marker\":{\"color\":\"#FF97FF\",\"pattern\":{\"shape\":\"\"}},\"name\":\"I GOSTINSTVO\",\"offsetgroup\":\"I GOSTINSTVO\",\"orientation\":\"v\",\"showlegend\":true,\"textposition\":\"auto\",\"x\":[\"2008\",\"2009\",\"2010\",\"2011\",\"2012\",\"2013\",\"2014\",\"2015\",\"2016\",\"2017\",\"2018\",\"2019\",\"2020\",\"2021\",\"2022\"],\"xaxis\":\"x\",\"y\":[128.5,129.75,130.75,128.5,129.0,129.75,129.5,130.25,132.25,130.75,122.5,123.0,121.0,124.0,124.0],\"yaxis\":\"y\",\"type\":\"bar\"},{\"alignmentgroup\":\"True\",\"hovertemplate\":\"Dejavnost=J INFORMACIJSKE IN KOMUNIKACIJSKE DEJAVNOSTI<br>LETO=%{x}<br>Vrednost=%{y}<extra></extra>\",\"legendgroup\":\"J INFORMACIJSKE IN KOMUNIKACIJSKE DEJAVNOSTI\",\"marker\":{\"color\":\"#FECB52\",\"pattern\":{\"shape\":\"\"}},\"name\":\"J INFORMACIJSKE IN KOMUNIKACIJSKE DEJAVNOSTI\",\"offsetgroup\":\"J INFORMACIJSKE IN KOMUNIKACIJSKE DEJAVNOSTI\",\"orientation\":\"v\",\"showlegend\":true,\"textposition\":\"auto\",\"x\":[\"2008\",\"2009\",\"2010\",\"2011\",\"2012\",\"2013\",\"2014\",\"2015\",\"2016\",\"2017\",\"2018\",\"2019\",\"2020\",\"2021\",\"2022\"],\"xaxis\":\"x\",\"y\":[135.25,138.25,138.0,137.0,137.25,137.0,136.5,139.25,134.75,133.0,132.25,133.0,135.75,136.25,136.0],\"yaxis\":\"y\",\"type\":\"bar\"},{\"alignmentgroup\":\"True\",\"hovertemplate\":\"Dejavnost=K FINANCNE IN ZAVAROVALNISKE DEJAVNOSTI<br>LETO=%{x}<br>Vrednost=%{y}<extra></extra>\",\"legendgroup\":\"K FINANCNE IN ZAVAROVALNISKE DEJAVNOSTI\",\"marker\":{\"color\":\"#636efa\",\"pattern\":{\"shape\":\"\"}},\"name\":\"K FINANCNE IN ZAVAROVALNISKE DEJAVNOSTI\",\"offsetgroup\":\"K FINANCNE IN ZAVAROVALNISKE DEJAVNOSTI\",\"orientation\":\"v\",\"showlegend\":true,\"textposition\":\"auto\",\"x\":[\"2008\",\"2009\",\"2010\",\"2011\",\"2012\",\"2013\",\"2014\",\"2015\",\"2016\",\"2017\",\"2018\",\"2019\",\"2020\",\"2021\",\"2022\"],\"xaxis\":\"x\",\"y\":[133.0,137.25,137.75,135.75,128.75,131.5,131.25,131.75,130.25,129.25,127.5,128.0,133.25,132.75,129.5],\"yaxis\":\"y\",\"type\":\"bar\"},{\"alignmentgroup\":\"True\",\"hovertemplate\":\"Dejavnost=L POSLOVANJE Z NEPREMICNINAMI<br>LETO=%{x}<br>Vrednost=%{y}<extra></extra>\",\"legendgroup\":\"L POSLOVANJE Z NEPREMICNINAMI\",\"marker\":{\"color\":\"#EF553B\",\"pattern\":{\"shape\":\"\"}},\"name\":\"L POSLOVANJE Z NEPREMICNINAMI\",\"offsetgroup\":\"L POSLOVANJE Z NEPREMICNINAMI\",\"orientation\":\"v\",\"showlegend\":true,\"textposition\":\"auto\",\"x\":[\"2008\",\"2009\",\"2010\",\"2011\",\"2012\",\"2013\",\"2014\",\"2015\",\"2016\",\"2017\",\"2018\",\"2019\",\"2020\",\"2021\",\"2022\"],\"xaxis\":\"x\",\"y\":[134.5,135.25,136.0,135.0,134.5,135.0,136.25,137.75,131.25,129.5,128.0,128.0,131.0,131.75,129.5],\"yaxis\":\"y\",\"type\":\"bar\"},{\"alignmentgroup\":\"True\",\"hovertemplate\":\"Dejavnost=M STROKOVNE, ZNANSTVENE IN TEHNICNE DEJAVNOSTI<br>LETO=%{x}<br>Vrednost=%{y}<extra></extra>\",\"legendgroup\":\"M STROKOVNE, ZNANSTVENE IN TEHNICNE DEJAVNOSTI\",\"marker\":{\"color\":\"#00cc96\",\"pattern\":{\"shape\":\"\"}},\"name\":\"M STROKOVNE, ZNANSTVENE IN TEHNICNE DEJAVNOSTI\",\"offsetgroup\":\"M STROKOVNE, ZNANSTVENE IN TEHNICNE DEJAVNOSTI\",\"orientation\":\"v\",\"showlegend\":true,\"textposition\":\"auto\",\"x\":[\"2008\",\"2009\",\"2010\",\"2011\",\"2012\",\"2013\",\"2014\",\"2015\",\"2016\",\"2017\",\"2018\",\"2019\",\"2020\",\"2021\",\"2022\"],\"xaxis\":\"x\",\"y\":[135.25,143.25,139.0,138.25,134.25,140.25,139.25,136.5,133.0,129.0,129.5,129.25,131.25,133.0,131.0],\"yaxis\":\"y\",\"type\":\"bar\"},{\"alignmentgroup\":\"True\",\"hovertemplate\":\"Dejavnost=N DRUGE RAZNOVRSTNE POSLOVNE DEJAVNOSTI<br>LETO=%{x}<br>Vrednost=%{y}<extra></extra>\",\"legendgroup\":\"N DRUGE RAZNOVRSTNE POSLOVNE DEJAVNOSTI\",\"marker\":{\"color\":\"#ab63fa\",\"pattern\":{\"shape\":\"\"}},\"name\":\"N DRUGE RAZNOVRSTNE POSLOVNE DEJAVNOSTI\",\"offsetgroup\":\"N DRUGE RAZNOVRSTNE POSLOVNE DEJAVNOSTI\",\"orientation\":\"v\",\"showlegend\":true,\"textposition\":\"auto\",\"x\":[\"2008\",\"2009\",\"2010\",\"2011\",\"2012\",\"2013\",\"2014\",\"2015\",\"2016\",\"2017\",\"2018\",\"2019\",\"2020\",\"2021\",\"2022\"],\"xaxis\":\"x\",\"y\":[131.0,133.75,134.5,133.75,132.0,133.25,134.25,133.75,132.0,127.0,126.25,125.5,126.75,128.75,126.0],\"yaxis\":\"y\",\"type\":\"bar\"},{\"alignmentgroup\":\"True\",\"hovertemplate\":\"Dejavnost=O DEJAVNOST JAVNE UPRAVE IN OBRAMBE, DEJAVNOST OBVEZNE SOCIALNE VARNOSTI<br>LETO=%{x}<br>Vrednost=%{y}<extra></extra>\",\"legendgroup\":\"O DEJAVNOST JAVNE UPRAVE IN OBRAMBE, DEJAVNOST OBVEZNE SOCIALNE VARNOSTI\",\"marker\":{\"color\":\"#FFA15A\",\"pattern\":{\"shape\":\"\"}},\"name\":\"O DEJAVNOST JAVNE UPRAVE IN OBRAMBE, DEJAVNOST OBVEZNE SOCIALNE VARNOSTI\",\"offsetgroup\":\"O DEJAVNOST JAVNE UPRAVE IN OBRAMBE, DEJAVNOST OBVEZNE SOCIALNE VARNOSTI\",\"orientation\":\"v\",\"showlegend\":true,\"textposition\":\"auto\",\"x\":[\"2008\",\"2009\",\"2010\",\"2011\",\"2012\",\"2013\",\"2014\",\"2015\",\"2016\",\"2017\",\"2018\",\"2019\",\"2020\",\"2021\",\"2022\"],\"xaxis\":\"x\",\"y\":[132.25,134.5,133.25,135.75,128.0,129.25,131.75,134.75,132.25,130.75,130.0,130.25,137.75,136.25,130.25],\"yaxis\":\"y\",\"type\":\"bar\"},{\"alignmentgroup\":\"True\",\"hovertemplate\":\"Dejavnost=P IZOBRAZEVANJE<br>LETO=%{x}<br>Vrednost=%{y}<extra></extra>\",\"legendgroup\":\"P IZOBRAZEVANJE\",\"marker\":{\"color\":\"#19d3f3\",\"pattern\":{\"shape\":\"\"}},\"name\":\"P IZOBRAZEVANJE\",\"offsetgroup\":\"P IZOBRAZEVANJE\",\"orientation\":\"v\",\"showlegend\":true,\"textposition\":\"auto\",\"x\":[\"2008\",\"2009\",\"2010\",\"2011\",\"2012\",\"2013\",\"2014\",\"2015\",\"2016\",\"2017\",\"2018\",\"2019\",\"2020\",\"2021\",\"2022\"],\"xaxis\":\"x\",\"y\":[127.75,130.0,130.5,129.75,127.5,131.25,132.5,135.5,130.5,127.25,127.75,126.5,124.75,127.75,125.25],\"yaxis\":\"y\",\"type\":\"bar\"},{\"alignmentgroup\":\"True\",\"hovertemplate\":\"Dejavnost=Q ZDRAVSTVO IN SOCIALNO VARSTVO<br>LETO=%{x}<br>Vrednost=%{y}<extra></extra>\",\"legendgroup\":\"Q ZDRAVSTVO IN SOCIALNO VARSTVO\",\"marker\":{\"color\":\"#FF6692\",\"pattern\":{\"shape\":\"\"}},\"name\":\"Q ZDRAVSTVO IN SOCIALNO VARSTVO\",\"offsetgroup\":\"Q ZDRAVSTVO IN SOCIALNO VARSTVO\",\"orientation\":\"v\",\"showlegend\":true,\"textposition\":\"auto\",\"x\":[\"2008\",\"2009\",\"2010\",\"2011\",\"2012\",\"2013\",\"2014\",\"2015\",\"2016\",\"2017\",\"2018\",\"2019\",\"2020\",\"2021\",\"2022\"],\"xaxis\":\"x\",\"y\":[141.75,142.25,139.5,138.5,136.5,136.0,142.5,142.0,141.5,137.0,135.5,135.25,135.75,138.0,132.75],\"yaxis\":\"y\",\"type\":\"bar\"},{\"alignmentgroup\":\"True\",\"hovertemplate\":\"Dejavnost=R KULTURNE, RAZVEDRILNE IN REKREACIJSKE DEJAVNOSTI<br>LETO=%{x}<br>Vrednost=%{y}<extra></extra>\",\"legendgroup\":\"R KULTURNE, RAZVEDRILNE IN REKREACIJSKE DEJAVNOSTI\",\"marker\":{\"color\":\"#B6E880\",\"pattern\":{\"shape\":\"\"}},\"name\":\"R KULTURNE, RAZVEDRILNE IN REKREACIJSKE DEJAVNOSTI\",\"offsetgroup\":\"R KULTURNE, RAZVEDRILNE IN REKREACIJSKE DEJAVNOSTI\",\"orientation\":\"v\",\"showlegend\":true,\"textposition\":\"auto\",\"x\":[\"2008\",\"2009\",\"2010\",\"2011\",\"2012\",\"2013\",\"2014\",\"2015\",\"2016\",\"2017\",\"2018\",\"2019\",\"2020\",\"2021\",\"2022\"],\"xaxis\":\"x\",\"y\":[135.25,135.5,135.0,132.25,130.75,130.0,132.5,134.25,129.75,127.25,126.75,127.0,122.25,127.5,128.0],\"yaxis\":\"y\",\"type\":\"bar\"},{\"alignmentgroup\":\"True\",\"hovertemplate\":\"Dejavnost=S DRUGE DEJAVNOSTI<br>LETO=%{x}<br>Vrednost=%{y}<extra></extra>\",\"legendgroup\":\"S DRUGE DEJAVNOSTI\",\"marker\":{\"color\":\"#FF97FF\",\"pattern\":{\"shape\":\"\"}},\"name\":\"S DRUGE DEJAVNOSTI\",\"offsetgroup\":\"S DRUGE DEJAVNOSTI\",\"orientation\":\"v\",\"showlegend\":true,\"textposition\":\"auto\",\"x\":[\"2008\",\"2009\",\"2010\",\"2011\",\"2012\",\"2013\",\"2014\",\"2015\",\"2016\",\"2017\",\"2018\",\"2019\",\"2020\",\"2021\",\"2022\"],\"xaxis\":\"x\",\"y\":[124.75,126.25,129.0,127.25,136.5,135.5,136.25,137.0,130.5,128.25,121.75,122.75,125.25,127.25,128.25],\"yaxis\":\"y\",\"type\":\"bar\"}],                        {\"template\":{\"data\":{\"histogram2dcontour\":[{\"type\":\"histogram2dcontour\",\"colorbar\":{\"outlinewidth\":0,\"ticks\":\"\"},\"colorscale\":[[0.0,\"#0d0887\"],[0.1111111111111111,\"#46039f\"],[0.2222222222222222,\"#7201a8\"],[0.3333333333333333,\"#9c179e\"],[0.4444444444444444,\"#bd3786\"],[0.5555555555555556,\"#d8576b\"],[0.6666666666666666,\"#ed7953\"],[0.7777777777777778,\"#fb9f3a\"],[0.8888888888888888,\"#fdca26\"],[1.0,\"#f0f921\"]]}],\"choropleth\":[{\"type\":\"choropleth\",\"colorbar\":{\"outlinewidth\":0,\"ticks\":\"\"}}],\"histogram2d\":[{\"type\":\"histogram2d\",\"colorbar\":{\"outlinewidth\":0,\"ticks\":\"\"},\"colorscale\":[[0.0,\"#0d0887\"],[0.1111111111111111,\"#46039f\"],[0.2222222222222222,\"#7201a8\"],[0.3333333333333333,\"#9c179e\"],[0.4444444444444444,\"#bd3786\"],[0.5555555555555556,\"#d8576b\"],[0.6666666666666666,\"#ed7953\"],[0.7777777777777778,\"#fb9f3a\"],[0.8888888888888888,\"#fdca26\"],[1.0,\"#f0f921\"]]}],\"heatmap\":[{\"type\":\"heatmap\",\"colorbar\":{\"outlinewidth\":0,\"ticks\":\"\"},\"colorscale\":[[0.0,\"#0d0887\"],[0.1111111111111111,\"#46039f\"],[0.2222222222222222,\"#7201a8\"],[0.3333333333333333,\"#9c179e\"],[0.4444444444444444,\"#bd3786\"],[0.5555555555555556,\"#d8576b\"],[0.6666666666666666,\"#ed7953\"],[0.7777777777777778,\"#fb9f3a\"],[0.8888888888888888,\"#fdca26\"],[1.0,\"#f0f921\"]]}],\"heatmapgl\":[{\"type\":\"heatmapgl\",\"colorbar\":{\"outlinewidth\":0,\"ticks\":\"\"},\"colorscale\":[[0.0,\"#0d0887\"],[0.1111111111111111,\"#46039f\"],[0.2222222222222222,\"#7201a8\"],[0.3333333333333333,\"#9c179e\"],[0.4444444444444444,\"#bd3786\"],[0.5555555555555556,\"#d8576b\"],[0.6666666666666666,\"#ed7953\"],[0.7777777777777778,\"#fb9f3a\"],[0.8888888888888888,\"#fdca26\"],[1.0,\"#f0f921\"]]}],\"contourcarpet\":[{\"type\":\"contourcarpet\",\"colorbar\":{\"outlinewidth\":0,\"ticks\":\"\"}}],\"contour\":[{\"type\":\"contour\",\"colorbar\":{\"outlinewidth\":0,\"ticks\":\"\"},\"colorscale\":[[0.0,\"#0d0887\"],[0.1111111111111111,\"#46039f\"],[0.2222222222222222,\"#7201a8\"],[0.3333333333333333,\"#9c179e\"],[0.4444444444444444,\"#bd3786\"],[0.5555555555555556,\"#d8576b\"],[0.6666666666666666,\"#ed7953\"],[0.7777777777777778,\"#fb9f3a\"],[0.8888888888888888,\"#fdca26\"],[1.0,\"#f0f921\"]]}],\"surface\":[{\"type\":\"surface\",\"colorbar\":{\"outlinewidth\":0,\"ticks\":\"\"},\"colorscale\":[[0.0,\"#0d0887\"],[0.1111111111111111,\"#46039f\"],[0.2222222222222222,\"#7201a8\"],[0.3333333333333333,\"#9c179e\"],[0.4444444444444444,\"#bd3786\"],[0.5555555555555556,\"#d8576b\"],[0.6666666666666666,\"#ed7953\"],[0.7777777777777778,\"#fb9f3a\"],[0.8888888888888888,\"#fdca26\"],[1.0,\"#f0f921\"]]}],\"mesh3d\":[{\"type\":\"mesh3d\",\"colorbar\":{\"outlinewidth\":0,\"ticks\":\"\"}}],\"scatter\":[{\"marker\":{\"line\":{\"color\":\"#283442\"}},\"type\":\"scatter\"}],\"parcoords\":[{\"type\":\"parcoords\",\"line\":{\"colorbar\":{\"outlinewidth\":0,\"ticks\":\"\"}}}],\"scatterpolargl\":[{\"type\":\"scatterpolargl\",\"marker\":{\"colorbar\":{\"outlinewidth\":0,\"ticks\":\"\"}}}],\"bar\":[{\"error_x\":{\"color\":\"#f2f5fa\"},\"error_y\":{\"color\":\"#f2f5fa\"},\"marker\":{\"line\":{\"color\":\"rgb(17,17,17)\",\"width\":0.5},\"pattern\":{\"fillmode\":\"overlay\",\"size\":10,\"solidity\":0.2}},\"type\":\"bar\"}],\"scattergeo\":[{\"type\":\"scattergeo\",\"marker\":{\"colorbar\":{\"outlinewidth\":0,\"ticks\":\"\"}}}],\"scatterpolar\":[{\"type\":\"scatterpolar\",\"marker\":{\"colorbar\":{\"outlinewidth\":0,\"ticks\":\"\"}}}],\"histogram\":[{\"marker\":{\"pattern\":{\"fillmode\":\"overlay\",\"size\":10,\"solidity\":0.2}},\"type\":\"histogram\"}],\"scattergl\":[{\"marker\":{\"line\":{\"color\":\"#283442\"}},\"type\":\"scattergl\"}],\"scatter3d\":[{\"type\":\"scatter3d\",\"line\":{\"colorbar\":{\"outlinewidth\":0,\"ticks\":\"\"}},\"marker\":{\"colorbar\":{\"outlinewidth\":0,\"ticks\":\"\"}}}],\"scattermapbox\":[{\"type\":\"scattermapbox\",\"marker\":{\"colorbar\":{\"outlinewidth\":0,\"ticks\":\"\"}}}],\"scatterternary\":[{\"type\":\"scatterternary\",\"marker\":{\"colorbar\":{\"outlinewidth\":0,\"ticks\":\"\"}}}],\"scattercarpet\":[{\"type\":\"scattercarpet\",\"marker\":{\"colorbar\":{\"outlinewidth\":0,\"ticks\":\"\"}}}],\"carpet\":[{\"aaxis\":{\"endlinecolor\":\"#A2B1C6\",\"gridcolor\":\"#506784\",\"linecolor\":\"#506784\",\"minorgridcolor\":\"#506784\",\"startlinecolor\":\"#A2B1C6\"},\"baxis\":{\"endlinecolor\":\"#A2B1C6\",\"gridcolor\":\"#506784\",\"linecolor\":\"#506784\",\"minorgridcolor\":\"#506784\",\"startlinecolor\":\"#A2B1C6\"},\"type\":\"carpet\"}],\"table\":[{\"cells\":{\"fill\":{\"color\":\"#506784\"},\"line\":{\"color\":\"rgb(17,17,17)\"}},\"header\":{\"fill\":{\"color\":\"#2a3f5f\"},\"line\":{\"color\":\"rgb(17,17,17)\"}},\"type\":\"table\"}],\"barpolar\":[{\"marker\":{\"line\":{\"color\":\"rgb(17,17,17)\",\"width\":0.5},\"pattern\":{\"fillmode\":\"overlay\",\"size\":10,\"solidity\":0.2}},\"type\":\"barpolar\"}],\"pie\":[{\"automargin\":true,\"type\":\"pie\"}]},\"layout\":{\"autotypenumbers\":\"strict\",\"colorway\":[\"#636efa\",\"#EF553B\",\"#00cc96\",\"#ab63fa\",\"#FFA15A\",\"#19d3f3\",\"#FF6692\",\"#B6E880\",\"#FF97FF\",\"#FECB52\"],\"font\":{\"color\":\"#f2f5fa\"},\"hovermode\":\"closest\",\"hoverlabel\":{\"align\":\"left\"},\"paper_bgcolor\":\"rgb(17,17,17)\",\"plot_bgcolor\":\"rgb(17,17,17)\",\"polar\":{\"bgcolor\":\"rgb(17,17,17)\",\"angularaxis\":{\"gridcolor\":\"#506784\",\"linecolor\":\"#506784\",\"ticks\":\"\"},\"radialaxis\":{\"gridcolor\":\"#506784\",\"linecolor\":\"#506784\",\"ticks\":\"\"}},\"ternary\":{\"bgcolor\":\"rgb(17,17,17)\",\"aaxis\":{\"gridcolor\":\"#506784\",\"linecolor\":\"#506784\",\"ticks\":\"\"},\"baxis\":{\"gridcolor\":\"#506784\",\"linecolor\":\"#506784\",\"ticks\":\"\"},\"caxis\":{\"gridcolor\":\"#506784\",\"linecolor\":\"#506784\",\"ticks\":\"\"}},\"coloraxis\":{\"colorbar\":{\"outlinewidth\":0,\"ticks\":\"\"}},\"colorscale\":{\"sequential\":[[0.0,\"#0d0887\"],[0.1111111111111111,\"#46039f\"],[0.2222222222222222,\"#7201a8\"],[0.3333333333333333,\"#9c179e\"],[0.4444444444444444,\"#bd3786\"],[0.5555555555555556,\"#d8576b\"],[0.6666666666666666,\"#ed7953\"],[0.7777777777777778,\"#fb9f3a\"],[0.8888888888888888,\"#fdca26\"],[1.0,\"#f0f921\"]],\"sequentialminus\":[[0.0,\"#0d0887\"],[0.1111111111111111,\"#46039f\"],[0.2222222222222222,\"#7201a8\"],[0.3333333333333333,\"#9c179e\"],[0.4444444444444444,\"#bd3786\"],[0.5555555555555556,\"#d8576b\"],[0.6666666666666666,\"#ed7953\"],[0.7777777777777778,\"#fb9f3a\"],[0.8888888888888888,\"#fdca26\"],[1.0,\"#f0f921\"]],\"diverging\":[[0,\"#8e0152\"],[0.1,\"#c51b7d\"],[0.2,\"#de77ae\"],[0.3,\"#f1b6da\"],[0.4,\"#fde0ef\"],[0.5,\"#f7f7f7\"],[0.6,\"#e6f5d0\"],[0.7,\"#b8e186\"],[0.8,\"#7fbc41\"],[0.9,\"#4d9221\"],[1,\"#276419\"]]},\"xaxis\":{\"gridcolor\":\"#283442\",\"linecolor\":\"#506784\",\"ticks\":\"\",\"title\":{\"standoff\":15},\"zerolinecolor\":\"#283442\",\"automargin\":true,\"zerolinewidth\":2},\"yaxis\":{\"gridcolor\":\"#283442\",\"linecolor\":\"#506784\",\"ticks\":\"\",\"title\":{\"standoff\":15},\"zerolinecolor\":\"#283442\",\"automargin\":true,\"zerolinewidth\":2},\"scene\":{\"xaxis\":{\"backgroundcolor\":\"rgb(17,17,17)\",\"gridcolor\":\"#506784\",\"linecolor\":\"#506784\",\"showbackground\":true,\"ticks\":\"\",\"zerolinecolor\":\"#C8D4E3\",\"gridwidth\":2},\"yaxis\":{\"backgroundcolor\":\"rgb(17,17,17)\",\"gridcolor\":\"#506784\",\"linecolor\":\"#506784\",\"showbackground\":true,\"ticks\":\"\",\"zerolinecolor\":\"#C8D4E3\",\"gridwidth\":2},\"zaxis\":{\"backgroundcolor\":\"rgb(17,17,17)\",\"gridcolor\":\"#506784\",\"linecolor\":\"#506784\",\"showbackground\":true,\"ticks\":\"\",\"zerolinecolor\":\"#C8D4E3\",\"gridwidth\":2}},\"shapedefaults\":{\"line\":{\"color\":\"#f2f5fa\"}},\"annotationdefaults\":{\"arrowcolor\":\"#f2f5fa\",\"arrowhead\":0,\"arrowwidth\":1},\"geo\":{\"bgcolor\":\"rgb(17,17,17)\",\"landcolor\":\"rgb(17,17,17)\",\"subunitcolor\":\"#506784\",\"showland\":true,\"showlakes\":true,\"lakecolor\":\"rgb(17,17,17)\"},\"title\":{\"x\":0.05},\"updatemenudefaults\":{\"bgcolor\":\"#506784\",\"borderwidth\":0},\"sliderdefaults\":{\"bgcolor\":\"#C8D4E3\",\"borderwidth\":1,\"bordercolor\":\"rgb(17,17,17)\",\"tickwidth\":0},\"mapbox\":{\"style\":\"dark\"}}},\"xaxis\":{\"anchor\":\"y\",\"domain\":[0.0,1.0],\"title\":{\"text\":\"Leto\"}},\"yaxis\":{\"anchor\":\"x\",\"domain\":[0.0,1.0],\"title\":{\"text\":\"Ure\"}},\"legend\":{\"title\":{\"text\":\"Dejavnost\"},\"tracegroupgap\":0},\"margin\":{\"t\":60},\"barmode\":\"stack\",\"title\":{\"text\":\"Opravljene delovne ure\"}},                        {\"responsive\": true}                    ).then(function(){\n                            \nvar gd = document.getElementById('8613c795-b8dd-4432-911a-cacd50c8f2df');\nvar x = new MutationObserver(function (mutations, observer) {{\n        var display = window.getComputedStyle(gd).display;\n        if (!display || display === 'none') {{\n            console.log([gd, 'removed!']);\n            Plotly.purge(gd);\n            observer.disconnect();\n        }}\n}});\n\n// Listen for the removal of the full notebook cells\nvar notebookContainer = gd.closest('#notebook-container');\nif (notebookContainer) {{\n    x.observe(notebookContainer, {childList: true});\n}}\n\n// Listen for the clearing of the current output cell\nvar outputEl = gd.closest('.output');\nif (outputEl) {{\n    x.observe(outputEl, {childList: true});\n}}\n\n                        })                };                });            </script>        </div>"
     },
     "metadata": {},
     "output_type": "display_data"
    }
   ],
   "source": [
    "df = opravljene_delovne_ure_grouped\n",
    "df = df.drop(columns=['SKD DEJAVNOST - SKUPAJ'], inplace=False)\n",
    "df['LETO'] = df.index\n",
    "melted_df = df.melt(id_vars='LETO', var_name='Dejavnost', value_name='Vrednost')\n",
    "\n",
    "fig = px.bar(melted_df, x='LETO', y='Vrednost', color='Dejavnost', barmode='stack')\n",
    "\n",
    "fig.update_layout(\n",
    "    title='Opravljene delovne ure',\n",
    "    xaxis_title='Leto',\n",
    "    yaxis_title='Ure',\n",
    ")\n",
    "\n",
    "fig.show()"
   ],
   "metadata": {
    "collapsed": false
   }
  },
  {
   "cell_type": "code",
   "execution_count": 168,
   "outputs": [
    {
     "data": {
      "application/vnd.plotly.v1+json": {
       "data": [
        {
         "alignmentgroup": "True",
         "hovertemplate": "Dejavnost=A KMETIJSTVO IN LOV, GOZDARSTVO, RIBISTVO<br>LETO=%{x}<br>Vrednost=%{y}<extra></extra>",
         "legendgroup": "A KMETIJSTVO IN LOV, GOZDARSTVO, RIBISTVO",
         "marker": {
          "color": "#636efa",
          "pattern": {
           "shape": ""
          }
         },
         "name": "A KMETIJSTVO IN LOV, GOZDARSTVO, RIBISTVO",
         "offsetgroup": "A KMETIJSTVO IN LOV, GOZDARSTVO, RIBISTVO",
         "orientation": "v",
         "showlegend": true,
         "textposition": "auto",
         "x": [
          "2008",
          "2009",
          "2010",
          "2011",
          "2012",
          "2013",
          "2014",
          "2015",
          "2016",
          "2017",
          "2018",
          "2019",
          "2020",
          "2021",
          "2022"
         ],
         "xaxis": "x",
         "y": [
          170.5,
          169.75,
          171.75,
          171.5,
          167.25,
          166.75,
          166.5,
          166.5,
          164.5,
          163.75,
          161.75,
          162.0,
          160.75,
          161.5,
          160.5
         ],
         "yaxis": "y",
         "type": "bar"
        },
        {
         "alignmentgroup": "True",
         "hovertemplate": "Dejavnost=B RUDARSTVO<br>LETO=%{x}<br>Vrednost=%{y}<extra></extra>",
         "legendgroup": "B RUDARSTVO",
         "marker": {
          "color": "#EF553B",
          "pattern": {
           "shape": ""
          }
         },
         "name": "B RUDARSTVO",
         "offsetgroup": "B RUDARSTVO",
         "orientation": "v",
         "showlegend": true,
         "textposition": "auto",
         "x": [
          "2008",
          "2009",
          "2010",
          "2011",
          "2012",
          "2013",
          "2014",
          "2015",
          "2016",
          "2017",
          "2018",
          "2019",
          "2020",
          "2021",
          "2022"
         ],
         "xaxis": "x",
         "y": [
          174.25,
          170.75,
          169.0,
          170.0,
          173.75,
          172.0,
          170.5,
          170.25,
          166.75,
          168.0,
          169.25,
          170.0,
          171.25,
          167.75,
          166.0
         ],
         "yaxis": "y",
         "type": "bar"
        },
        {
         "alignmentgroup": "True",
         "hovertemplate": "Dejavnost=C PREDELOVALNE DEJAVNOSTI<br>LETO=%{x}<br>Vrednost=%{y}<extra></extra>",
         "legendgroup": "C PREDELOVALNE DEJAVNOSTI",
         "marker": {
          "color": "#00cc96",
          "pattern": {
           "shape": ""
          }
         },
         "name": "C PREDELOVALNE DEJAVNOSTI",
         "offsetgroup": "C PREDELOVALNE DEJAVNOSTI",
         "orientation": "v",
         "showlegend": true,
         "textposition": "auto",
         "x": [
          "2008",
          "2009",
          "2010",
          "2011",
          "2012",
          "2013",
          "2014",
          "2015",
          "2016",
          "2017",
          "2018",
          "2019",
          "2020",
          "2021",
          "2022"
         ],
         "xaxis": "x",
         "y": [
          171.25,
          166.0,
          169.25,
          169.5,
          170.5,
          170.5,
          170.5,
          170.25,
          169.5,
          169.0,
          168.75,
          168.25,
          165.0,
          167.25,
          166.0
         ],
         "yaxis": "y",
         "type": "bar"
        },
        {
         "alignmentgroup": "True",
         "hovertemplate": "Dejavnost=D OSKRBA Z ELEKTRICNO ENERGIJO, PLINOM IN PARO<br>LETO=%{x}<br>Vrednost=%{y}<extra></extra>",
         "legendgroup": "D OSKRBA Z ELEKTRICNO ENERGIJO, PLINOM IN PARO",
         "marker": {
          "color": "#ab63fa",
          "pattern": {
           "shape": ""
          }
         },
         "name": "D OSKRBA Z ELEKTRICNO ENERGIJO, PLINOM IN PARO",
         "offsetgroup": "D OSKRBA Z ELEKTRICNO ENERGIJO, PLINOM IN PARO",
         "orientation": "v",
         "showlegend": true,
         "textposition": "auto",
         "x": [
          "2008",
          "2009",
          "2010",
          "2011",
          "2012",
          "2013",
          "2014",
          "2015",
          "2016",
          "2017",
          "2018",
          "2019",
          "2020",
          "2021",
          "2022"
         ],
         "xaxis": "x",
         "y": [
          177.0,
          172.25,
          171.75,
          171.0,
          172.0,
          172.0,
          172.0,
          171.75,
          171.5,
          172.5,
          172.0,
          171.25,
          170.5,
          169.0,
          166.75
         ],
         "yaxis": "y",
         "type": "bar"
        },
        {
         "alignmentgroup": "True",
         "hovertemplate": "Dejavnost=E OSKRBA Z VODO, RAVNANJE Z ODPLAKAMI IN ODPADKI, SANIRANJE OKOLJA<br>LETO=%{x}<br>Vrednost=%{y}<extra></extra>",
         "legendgroup": "E OSKRBA Z VODO, RAVNANJE Z ODPLAKAMI IN ODPADKI, SANIRANJE OKOLJA",
         "marker": {
          "color": "#FFA15A",
          "pattern": {
           "shape": ""
          }
         },
         "name": "E OSKRBA Z VODO, RAVNANJE Z ODPLAKAMI IN ODPADKI, SANIRANJE OKOLJA",
         "offsetgroup": "E OSKRBA Z VODO, RAVNANJE Z ODPLAKAMI IN ODPADKI, SANIRANJE OKOLJA",
         "orientation": "v",
         "showlegend": true,
         "textposition": "auto",
         "x": [
          "2008",
          "2009",
          "2010",
          "2011",
          "2012",
          "2013",
          "2014",
          "2015",
          "2016",
          "2017",
          "2018",
          "2019",
          "2020",
          "2021",
          "2022"
         ],
         "xaxis": "x",
         "y": [
          173.75,
          172.0,
          171.75,
          170.5,
          171.75,
          171.25,
          171.25,
          171.5,
          171.5,
          171.0,
          171.25,
          170.0,
          167.25,
          168.25,
          167.5
         ],
         "yaxis": "y",
         "type": "bar"
        },
        {
         "alignmentgroup": "True",
         "hovertemplate": "Dejavnost=F GRADBENISTVO<br>LETO=%{x}<br>Vrednost=%{y}<extra></extra>",
         "legendgroup": "F GRADBENISTVO",
         "marker": {
          "color": "#19d3f3",
          "pattern": {
           "shape": ""
          }
         },
         "name": "F GRADBENISTVO",
         "offsetgroup": "F GRADBENISTVO",
         "orientation": "v",
         "showlegend": true,
         "textposition": "auto",
         "x": [
          "2008",
          "2009",
          "2010",
          "2011",
          "2012",
          "2013",
          "2014",
          "2015",
          "2016",
          "2017",
          "2018",
          "2019",
          "2020",
          "2021",
          "2022"
         ],
         "xaxis": "x",
         "y": [
          169.0,
          168.0,
          168.5,
          168.0,
          168.25,
          168.0,
          168.25,
          168.5,
          164.5,
          164.5,
          163.0,
          162.75,
          162.25,
          164.0,
          164.0
         ],
         "yaxis": "y",
         "type": "bar"
        },
        {
         "alignmentgroup": "True",
         "hovertemplate": "Dejavnost=G TRGOVINA, VZDRZEVANJE IN POPRAVILA MOTORNIH VOZIL<br>LETO=%{x}<br>Vrednost=%{y}<extra></extra>",
         "legendgroup": "G TRGOVINA, VZDRZEVANJE IN POPRAVILA MOTORNIH VOZIL",
         "marker": {
          "color": "#FF6692",
          "pattern": {
           "shape": ""
          }
         },
         "name": "G TRGOVINA, VZDRZEVANJE IN POPRAVILA MOTORNIH VOZIL",
         "offsetgroup": "G TRGOVINA, VZDRZEVANJE IN POPRAVILA MOTORNIH VOZIL",
         "orientation": "v",
         "showlegend": true,
         "textposition": "auto",
         "x": [
          "2008",
          "2009",
          "2010",
          "2011",
          "2012",
          "2013",
          "2014",
          "2015",
          "2016",
          "2017",
          "2018",
          "2019",
          "2020",
          "2021",
          "2022"
         ],
         "xaxis": "x",
         "y": [
          168.25,
          167.25,
          167.25,
          167.0,
          167.0,
          166.5,
          166.25,
          165.5,
          164.5,
          163.75,
          163.25,
          163.5,
          160.75,
          162.0,
          162.25
         ],
         "yaxis": "y",
         "type": "bar"
        },
        {
         "alignmentgroup": "True",
         "hovertemplate": "Dejavnost=H PROMET IN SKLADISCENJE<br>LETO=%{x}<br>Vrednost=%{y}<extra></extra>",
         "legendgroup": "H PROMET IN SKLADISCENJE",
         "marker": {
          "color": "#B6E880",
          "pattern": {
           "shape": ""
          }
         },
         "name": "H PROMET IN SKLADISCENJE",
         "offsetgroup": "H PROMET IN SKLADISCENJE",
         "orientation": "v",
         "showlegend": true,
         "textposition": "auto",
         "x": [
          "2008",
          "2009",
          "2010",
          "2011",
          "2012",
          "2013",
          "2014",
          "2015",
          "2016",
          "2017",
          "2018",
          "2019",
          "2020",
          "2021",
          "2022"
         ],
         "xaxis": "x",
         "y": [
          172.5,
          170.25,
          173.5,
          173.25,
          170.75,
          171.25,
          171.0,
          171.25,
          165.25,
          165.0,
          165.5,
          166.0,
          165.0,
          166.5,
          166.75
         ],
         "yaxis": "y",
         "type": "bar"
        },
        {
         "alignmentgroup": "True",
         "hovertemplate": "Dejavnost=I GOSTINSTVO<br>LETO=%{x}<br>Vrednost=%{y}<extra></extra>",
         "legendgroup": "I GOSTINSTVO",
         "marker": {
          "color": "#FF97FF",
          "pattern": {
           "shape": ""
          }
         },
         "name": "I GOSTINSTVO",
         "offsetgroup": "I GOSTINSTVO",
         "orientation": "v",
         "showlegend": true,
         "textposition": "auto",
         "x": [
          "2008",
          "2009",
          "2010",
          "2011",
          "2012",
          "2013",
          "2014",
          "2015",
          "2016",
          "2017",
          "2018",
          "2019",
          "2020",
          "2021",
          "2022"
         ],
         "xaxis": "x",
         "y": [
          163.25,
          162.25,
          163.0,
          161.75,
          158.5,
          158.75,
          157.0,
          156.0,
          163.5,
          162.5,
          154.75,
          155.25,
          149.25,
          152.5,
          155.25
         ],
         "yaxis": "y",
         "type": "bar"
        },
        {
         "alignmentgroup": "True",
         "hovertemplate": "Dejavnost=J INFORMACIJSKE IN KOMUNIKACIJSKE DEJAVNOSTI<br>LETO=%{x}<br>Vrednost=%{y}<extra></extra>",
         "legendgroup": "J INFORMACIJSKE IN KOMUNIKACIJSKE DEJAVNOSTI",
         "marker": {
          "color": "#FECB52",
          "pattern": {
           "shape": ""
          }
         },
         "name": "J INFORMACIJSKE IN KOMUNIKACIJSKE DEJAVNOSTI",
         "offsetgroup": "J INFORMACIJSKE IN KOMUNIKACIJSKE DEJAVNOSTI",
         "orientation": "v",
         "showlegend": true,
         "textposition": "auto",
         "x": [
          "2008",
          "2009",
          "2010",
          "2011",
          "2012",
          "2013",
          "2014",
          "2015",
          "2016",
          "2017",
          "2018",
          "2019",
          "2020",
          "2021",
          "2022"
         ],
         "xaxis": "x",
         "y": [
          170.5,
          169.75,
          169.5,
          168.75,
          169.25,
          168.75,
          168.0,
          168.75,
          168.5,
          168.25,
          167.5,
          168.25,
          167.75,
          167.5,
          166.75
         ],
         "yaxis": "y",
         "type": "bar"
        },
        {
         "alignmentgroup": "True",
         "hovertemplate": "Dejavnost=K FINANCNE IN ZAVAROVALNISKE DEJAVNOSTI<br>LETO=%{x}<br>Vrednost=%{y}<extra></extra>",
         "legendgroup": "K FINANCNE IN ZAVAROVALNISKE DEJAVNOSTI",
         "marker": {
          "color": "#636efa",
          "pattern": {
           "shape": ""
          }
         },
         "name": "K FINANCNE IN ZAVAROVALNISKE DEJAVNOSTI",
         "offsetgroup": "K FINANCNE IN ZAVAROVALNISKE DEJAVNOSTI",
         "orientation": "v",
         "showlegend": true,
         "textposition": "auto",
         "x": [
          "2008",
          "2009",
          "2010",
          "2011",
          "2012",
          "2013",
          "2014",
          "2015",
          "2016",
          "2017",
          "2018",
          "2019",
          "2020",
          "2021",
          "2022"
         ],
         "xaxis": "x",
         "y": [
          167.25,
          167.0,
          167.5,
          166.75,
          166.75,
          166.5,
          166.0,
          165.5,
          165.75,
          165.0,
          165.5,
          165.5,
          166.5,
          165.5,
          164.0
         ],
         "yaxis": "y",
         "type": "bar"
        },
        {
         "alignmentgroup": "True",
         "hovertemplate": "Dejavnost=L POSLOVANJE Z NEPREMICNINAMI<br>LETO=%{x}<br>Vrednost=%{y}<extra></extra>",
         "legendgroup": "L POSLOVANJE Z NEPREMICNINAMI",
         "marker": {
          "color": "#EF553B",
          "pattern": {
           "shape": ""
          }
         },
         "name": "L POSLOVANJE Z NEPREMICNINAMI",
         "offsetgroup": "L POSLOVANJE Z NEPREMICNINAMI",
         "orientation": "v",
         "showlegend": true,
         "textposition": "auto",
         "x": [
          "2008",
          "2009",
          "2010",
          "2011",
          "2012",
          "2013",
          "2014",
          "2015",
          "2016",
          "2017",
          "2018",
          "2019",
          "2020",
          "2021",
          "2022"
         ],
         "xaxis": "x",
         "y": [
          167.5,
          166.5,
          166.0,
          166.25,
          166.0,
          165.25,
          165.5,
          164.75,
          163.75,
          163.25,
          162.75,
          162.25,
          162.0,
          161.25,
          161.25
         ],
         "yaxis": "y",
         "type": "bar"
        },
        {
         "alignmentgroup": "True",
         "hovertemplate": "Dejavnost=M STROKOVNE, ZNANSTVENE IN TEHNICNE DEJAVNOSTI<br>LETO=%{x}<br>Vrednost=%{y}<extra></extra>",
         "legendgroup": "M STROKOVNE, ZNANSTVENE IN TEHNICNE DEJAVNOSTI",
         "marker": {
          "color": "#00cc96",
          "pattern": {
           "shape": ""
          }
         },
         "name": "M STROKOVNE, ZNANSTVENE IN TEHNICNE DEJAVNOSTI",
         "offsetgroup": "M STROKOVNE, ZNANSTVENE IN TEHNICNE DEJAVNOSTI",
         "orientation": "v",
         "showlegend": true,
         "textposition": "auto",
         "x": [
          "2008",
          "2009",
          "2010",
          "2011",
          "2012",
          "2013",
          "2014",
          "2015",
          "2016",
          "2017",
          "2018",
          "2019",
          "2020",
          "2021",
          "2022"
         ],
         "xaxis": "x",
         "y": [
          168.5,
          168.0,
          167.75,
          166.5,
          165.75,
          165.25,
          165.0,
          164.25,
          161.75,
          161.5,
          162.0,
          162.25,
          160.75,
          161.75,
          161.5
         ],
         "yaxis": "y",
         "type": "bar"
        },
        {
         "alignmentgroup": "True",
         "hovertemplate": "Dejavnost=N DRUGE RAZNOVRSTNE POSLOVNE DEJAVNOSTI<br>LETO=%{x}<br>Vrednost=%{y}<extra></extra>",
         "legendgroup": "N DRUGE RAZNOVRSTNE POSLOVNE DEJAVNOSTI",
         "marker": {
          "color": "#ab63fa",
          "pattern": {
           "shape": ""
          }
         },
         "name": "N DRUGE RAZNOVRSTNE POSLOVNE DEJAVNOSTI",
         "offsetgroup": "N DRUGE RAZNOVRSTNE POSLOVNE DEJAVNOSTI",
         "orientation": "v",
         "showlegend": true,
         "textposition": "auto",
         "x": [
          "2008",
          "2009",
          "2010",
          "2011",
          "2012",
          "2013",
          "2014",
          "2015",
          "2016",
          "2017",
          "2018",
          "2019",
          "2020",
          "2021",
          "2022"
         ],
         "xaxis": "x",
         "y": [
          164.75,
          164.25,
          163.75,
          164.25,
          163.25,
          163.0,
          162.5,
          161.25,
          161.75,
          160.25,
          159.75,
          159.0,
          157.0,
          158.75,
          158.25
         ],
         "yaxis": "y",
         "type": "bar"
        },
        {
         "alignmentgroup": "True",
         "hovertemplate": "Dejavnost=O DEJAVNOST JAVNE UPRAVE IN OBRAMBE, DEJAVNOST OBVEZNE SOCIALNE VARNOSTI<br>LETO=%{x}<br>Vrednost=%{y}<extra></extra>",
         "legendgroup": "O DEJAVNOST JAVNE UPRAVE IN OBRAMBE, DEJAVNOST OBVEZNE SOCIALNE VARNOSTI",
         "marker": {
          "color": "#FFA15A",
          "pattern": {
           "shape": ""
          }
         },
         "name": "O DEJAVNOST JAVNE UPRAVE IN OBRAMBE, DEJAVNOST OBVEZNE SOCIALNE VARNOSTI",
         "offsetgroup": "O DEJAVNOST JAVNE UPRAVE IN OBRAMBE, DEJAVNOST OBVEZNE SOCIALNE VARNOSTI",
         "orientation": "v",
         "showlegend": true,
         "textposition": "auto",
         "x": [
          "2008",
          "2009",
          "2010",
          "2011",
          "2012",
          "2013",
          "2014",
          "2015",
          "2016",
          "2017",
          "2018",
          "2019",
          "2020",
          "2021",
          "2022"
         ],
         "xaxis": "x",
         "y": [
          169.5,
          169.0,
          168.75,
          168.0,
          168.25,
          169.75,
          170.5,
          170.5,
          171.0,
          171.75,
          172.25,
          172.25,
          172.25,
          172.0,
          169.0
         ],
         "yaxis": "y",
         "type": "bar"
        },
        {
         "alignmentgroup": "True",
         "hovertemplate": "Dejavnost=P IZOBRAZEVANJE<br>LETO=%{x}<br>Vrednost=%{y}<extra></extra>",
         "legendgroup": "P IZOBRAZEVANJE",
         "marker": {
          "color": "#19d3f3",
          "pattern": {
           "shape": ""
          }
         },
         "name": "P IZOBRAZEVANJE",
         "offsetgroup": "P IZOBRAZEVANJE",
         "orientation": "v",
         "showlegend": true,
         "textposition": "auto",
         "x": [
          "2008",
          "2009",
          "2010",
          "2011",
          "2012",
          "2013",
          "2014",
          "2015",
          "2016",
          "2017",
          "2018",
          "2019",
          "2020",
          "2021",
          "2022"
         ],
         "xaxis": "x",
         "y": [
          165.75,
          165.5,
          165.5,
          164.75,
          165.0,
          165.0,
          166.5,
          166.25,
          166.5,
          165.25,
          165.25,
          165.5,
          159.25,
          162.5,
          162.5
         ],
         "yaxis": "y",
         "type": "bar"
        },
        {
         "alignmentgroup": "True",
         "hovertemplate": "Dejavnost=Q ZDRAVSTVO IN SOCIALNO VARSTVO<br>LETO=%{x}<br>Vrednost=%{y}<extra></extra>",
         "legendgroup": "Q ZDRAVSTVO IN SOCIALNO VARSTVO",
         "marker": {
          "color": "#FF6692",
          "pattern": {
           "shape": ""
          }
         },
         "name": "Q ZDRAVSTVO IN SOCIALNO VARSTVO",
         "offsetgroup": "Q ZDRAVSTVO IN SOCIALNO VARSTVO",
         "orientation": "v",
         "showlegend": true,
         "textposition": "auto",
         "x": [
          "2008",
          "2009",
          "2010",
          "2011",
          "2012",
          "2013",
          "2014",
          "2015",
          "2016",
          "2017",
          "2018",
          "2019",
          "2020",
          "2021",
          "2022"
         ],
         "xaxis": "x",
         "y": [
          176.0,
          174.0,
          173.25,
          172.5,
          172.75,
          172.25,
          175.25,
          175.25,
          174.5,
          173.5,
          173.0,
          173.0,
          171.25,
          174.0,
          170.25
         ],
         "yaxis": "y",
         "type": "bar"
        },
        {
         "alignmentgroup": "True",
         "hovertemplate": "Dejavnost=R KULTURNE, RAZVEDRILNE IN REKREACIJSKE DEJAVNOSTI<br>LETO=%{x}<br>Vrednost=%{y}<extra></extra>",
         "legendgroup": "R KULTURNE, RAZVEDRILNE IN REKREACIJSKE DEJAVNOSTI",
         "marker": {
          "color": "#B6E880",
          "pattern": {
           "shape": ""
          }
         },
         "name": "R KULTURNE, RAZVEDRILNE IN REKREACIJSKE DEJAVNOSTI",
         "offsetgroup": "R KULTURNE, RAZVEDRILNE IN REKREACIJSKE DEJAVNOSTI",
         "orientation": "v",
         "showlegend": true,
         "textposition": "auto",
         "x": [
          "2008",
          "2009",
          "2010",
          "2011",
          "2012",
          "2013",
          "2014",
          "2015",
          "2016",
          "2017",
          "2018",
          "2019",
          "2020",
          "2021",
          "2022"
         ],
         "xaxis": "x",
         "y": [
          166.25,
          166.0,
          166.25,
          165.5,
          166.0,
          166.0,
          166.25,
          165.25,
          164.5,
          164.5,
          164.75,
          165.0,
          156.75,
          161.25,
          163.0
         ],
         "yaxis": "y",
         "type": "bar"
        },
        {
         "alignmentgroup": "True",
         "hovertemplate": "Dejavnost=S DRUGE DEJAVNOSTI<br>LETO=%{x}<br>Vrednost=%{y}<extra></extra>",
         "legendgroup": "S DRUGE DEJAVNOSTI",
         "marker": {
          "color": "#FF97FF",
          "pattern": {
           "shape": ""
          }
         },
         "name": "S DRUGE DEJAVNOSTI",
         "offsetgroup": "S DRUGE DEJAVNOSTI",
         "orientation": "v",
         "showlegend": true,
         "textposition": "auto",
         "x": [
          "2008",
          "2009",
          "2010",
          "2011",
          "2012",
          "2013",
          "2014",
          "2015",
          "2016",
          "2017",
          "2018",
          "2019",
          "2020",
          "2021",
          "2022"
         ],
         "xaxis": "x",
         "y": [
          159.75,
          158.5,
          160.5,
          160.25,
          168.25,
          168.0,
          167.0,
          166.25,
          161.25,
          161.0,
          155.0,
          155.25,
          154.5,
          155.5,
          157.0
         ],
         "yaxis": "y",
         "type": "bar"
        }
       ],
       "layout": {
        "template": {
         "data": {
          "histogram2dcontour": [
           {
            "type": "histogram2dcontour",
            "colorbar": {
             "outlinewidth": 0,
             "ticks": ""
            },
            "colorscale": [
             [
              0.0,
              "#0d0887"
             ],
             [
              0.1111111111111111,
              "#46039f"
             ],
             [
              0.2222222222222222,
              "#7201a8"
             ],
             [
              0.3333333333333333,
              "#9c179e"
             ],
             [
              0.4444444444444444,
              "#bd3786"
             ],
             [
              0.5555555555555556,
              "#d8576b"
             ],
             [
              0.6666666666666666,
              "#ed7953"
             ],
             [
              0.7777777777777778,
              "#fb9f3a"
             ],
             [
              0.8888888888888888,
              "#fdca26"
             ],
             [
              1.0,
              "#f0f921"
             ]
            ]
           }
          ],
          "choropleth": [
           {
            "type": "choropleth",
            "colorbar": {
             "outlinewidth": 0,
             "ticks": ""
            }
           }
          ],
          "histogram2d": [
           {
            "type": "histogram2d",
            "colorbar": {
             "outlinewidth": 0,
             "ticks": ""
            },
            "colorscale": [
             [
              0.0,
              "#0d0887"
             ],
             [
              0.1111111111111111,
              "#46039f"
             ],
             [
              0.2222222222222222,
              "#7201a8"
             ],
             [
              0.3333333333333333,
              "#9c179e"
             ],
             [
              0.4444444444444444,
              "#bd3786"
             ],
             [
              0.5555555555555556,
              "#d8576b"
             ],
             [
              0.6666666666666666,
              "#ed7953"
             ],
             [
              0.7777777777777778,
              "#fb9f3a"
             ],
             [
              0.8888888888888888,
              "#fdca26"
             ],
             [
              1.0,
              "#f0f921"
             ]
            ]
           }
          ],
          "heatmap": [
           {
            "type": "heatmap",
            "colorbar": {
             "outlinewidth": 0,
             "ticks": ""
            },
            "colorscale": [
             [
              0.0,
              "#0d0887"
             ],
             [
              0.1111111111111111,
              "#46039f"
             ],
             [
              0.2222222222222222,
              "#7201a8"
             ],
             [
              0.3333333333333333,
              "#9c179e"
             ],
             [
              0.4444444444444444,
              "#bd3786"
             ],
             [
              0.5555555555555556,
              "#d8576b"
             ],
             [
              0.6666666666666666,
              "#ed7953"
             ],
             [
              0.7777777777777778,
              "#fb9f3a"
             ],
             [
              0.8888888888888888,
              "#fdca26"
             ],
             [
              1.0,
              "#f0f921"
             ]
            ]
           }
          ],
          "heatmapgl": [
           {
            "type": "heatmapgl",
            "colorbar": {
             "outlinewidth": 0,
             "ticks": ""
            },
            "colorscale": [
             [
              0.0,
              "#0d0887"
             ],
             [
              0.1111111111111111,
              "#46039f"
             ],
             [
              0.2222222222222222,
              "#7201a8"
             ],
             [
              0.3333333333333333,
              "#9c179e"
             ],
             [
              0.4444444444444444,
              "#bd3786"
             ],
             [
              0.5555555555555556,
              "#d8576b"
             ],
             [
              0.6666666666666666,
              "#ed7953"
             ],
             [
              0.7777777777777778,
              "#fb9f3a"
             ],
             [
              0.8888888888888888,
              "#fdca26"
             ],
             [
              1.0,
              "#f0f921"
             ]
            ]
           }
          ],
          "contourcarpet": [
           {
            "type": "contourcarpet",
            "colorbar": {
             "outlinewidth": 0,
             "ticks": ""
            }
           }
          ],
          "contour": [
           {
            "type": "contour",
            "colorbar": {
             "outlinewidth": 0,
             "ticks": ""
            },
            "colorscale": [
             [
              0.0,
              "#0d0887"
             ],
             [
              0.1111111111111111,
              "#46039f"
             ],
             [
              0.2222222222222222,
              "#7201a8"
             ],
             [
              0.3333333333333333,
              "#9c179e"
             ],
             [
              0.4444444444444444,
              "#bd3786"
             ],
             [
              0.5555555555555556,
              "#d8576b"
             ],
             [
              0.6666666666666666,
              "#ed7953"
             ],
             [
              0.7777777777777778,
              "#fb9f3a"
             ],
             [
              0.8888888888888888,
              "#fdca26"
             ],
             [
              1.0,
              "#f0f921"
             ]
            ]
           }
          ],
          "surface": [
           {
            "type": "surface",
            "colorbar": {
             "outlinewidth": 0,
             "ticks": ""
            },
            "colorscale": [
             [
              0.0,
              "#0d0887"
             ],
             [
              0.1111111111111111,
              "#46039f"
             ],
             [
              0.2222222222222222,
              "#7201a8"
             ],
             [
              0.3333333333333333,
              "#9c179e"
             ],
             [
              0.4444444444444444,
              "#bd3786"
             ],
             [
              0.5555555555555556,
              "#d8576b"
             ],
             [
              0.6666666666666666,
              "#ed7953"
             ],
             [
              0.7777777777777778,
              "#fb9f3a"
             ],
             [
              0.8888888888888888,
              "#fdca26"
             ],
             [
              1.0,
              "#f0f921"
             ]
            ]
           }
          ],
          "mesh3d": [
           {
            "type": "mesh3d",
            "colorbar": {
             "outlinewidth": 0,
             "ticks": ""
            }
           }
          ],
          "scatter": [
           {
            "marker": {
             "line": {
              "color": "#283442"
             }
            },
            "type": "scatter"
           }
          ],
          "parcoords": [
           {
            "type": "parcoords",
            "line": {
             "colorbar": {
              "outlinewidth": 0,
              "ticks": ""
             }
            }
           }
          ],
          "scatterpolargl": [
           {
            "type": "scatterpolargl",
            "marker": {
             "colorbar": {
              "outlinewidth": 0,
              "ticks": ""
             }
            }
           }
          ],
          "bar": [
           {
            "error_x": {
             "color": "#f2f5fa"
            },
            "error_y": {
             "color": "#f2f5fa"
            },
            "marker": {
             "line": {
              "color": "rgb(17,17,17)",
              "width": 0.5
             },
             "pattern": {
              "fillmode": "overlay",
              "size": 10,
              "solidity": 0.2
             }
            },
            "type": "bar"
           }
          ],
          "scattergeo": [
           {
            "type": "scattergeo",
            "marker": {
             "colorbar": {
              "outlinewidth": 0,
              "ticks": ""
             }
            }
           }
          ],
          "scatterpolar": [
           {
            "type": "scatterpolar",
            "marker": {
             "colorbar": {
              "outlinewidth": 0,
              "ticks": ""
             }
            }
           }
          ],
          "histogram": [
           {
            "marker": {
             "pattern": {
              "fillmode": "overlay",
              "size": 10,
              "solidity": 0.2
             }
            },
            "type": "histogram"
           }
          ],
          "scattergl": [
           {
            "marker": {
             "line": {
              "color": "#283442"
             }
            },
            "type": "scattergl"
           }
          ],
          "scatter3d": [
           {
            "type": "scatter3d",
            "line": {
             "colorbar": {
              "outlinewidth": 0,
              "ticks": ""
             }
            },
            "marker": {
             "colorbar": {
              "outlinewidth": 0,
              "ticks": ""
             }
            }
           }
          ],
          "scattermapbox": [
           {
            "type": "scattermapbox",
            "marker": {
             "colorbar": {
              "outlinewidth": 0,
              "ticks": ""
             }
            }
           }
          ],
          "scatterternary": [
           {
            "type": "scatterternary",
            "marker": {
             "colorbar": {
              "outlinewidth": 0,
              "ticks": ""
             }
            }
           }
          ],
          "scattercarpet": [
           {
            "type": "scattercarpet",
            "marker": {
             "colorbar": {
              "outlinewidth": 0,
              "ticks": ""
             }
            }
           }
          ],
          "carpet": [
           {
            "aaxis": {
             "endlinecolor": "#A2B1C6",
             "gridcolor": "#506784",
             "linecolor": "#506784",
             "minorgridcolor": "#506784",
             "startlinecolor": "#A2B1C6"
            },
            "baxis": {
             "endlinecolor": "#A2B1C6",
             "gridcolor": "#506784",
             "linecolor": "#506784",
             "minorgridcolor": "#506784",
             "startlinecolor": "#A2B1C6"
            },
            "type": "carpet"
           }
          ],
          "table": [
           {
            "cells": {
             "fill": {
              "color": "#506784"
             },
             "line": {
              "color": "rgb(17,17,17)"
             }
            },
            "header": {
             "fill": {
              "color": "#2a3f5f"
             },
             "line": {
              "color": "rgb(17,17,17)"
             }
            },
            "type": "table"
           }
          ],
          "barpolar": [
           {
            "marker": {
             "line": {
              "color": "rgb(17,17,17)",
              "width": 0.5
             },
             "pattern": {
              "fillmode": "overlay",
              "size": 10,
              "solidity": 0.2
             }
            },
            "type": "barpolar"
           }
          ],
          "pie": [
           {
            "automargin": true,
            "type": "pie"
           }
          ]
         },
         "layout": {
          "autotypenumbers": "strict",
          "colorway": [
           "#636efa",
           "#EF553B",
           "#00cc96",
           "#ab63fa",
           "#FFA15A",
           "#19d3f3",
           "#FF6692",
           "#B6E880",
           "#FF97FF",
           "#FECB52"
          ],
          "font": {
           "color": "#f2f5fa"
          },
          "hovermode": "closest",
          "hoverlabel": {
           "align": "left"
          },
          "paper_bgcolor": "rgb(17,17,17)",
          "plot_bgcolor": "rgb(17,17,17)",
          "polar": {
           "bgcolor": "rgb(17,17,17)",
           "angularaxis": {
            "gridcolor": "#506784",
            "linecolor": "#506784",
            "ticks": ""
           },
           "radialaxis": {
            "gridcolor": "#506784",
            "linecolor": "#506784",
            "ticks": ""
           }
          },
          "ternary": {
           "bgcolor": "rgb(17,17,17)",
           "aaxis": {
            "gridcolor": "#506784",
            "linecolor": "#506784",
            "ticks": ""
           },
           "baxis": {
            "gridcolor": "#506784",
            "linecolor": "#506784",
            "ticks": ""
           },
           "caxis": {
            "gridcolor": "#506784",
            "linecolor": "#506784",
            "ticks": ""
           }
          },
          "coloraxis": {
           "colorbar": {
            "outlinewidth": 0,
            "ticks": ""
           }
          },
          "colorscale": {
           "sequential": [
            [
             0.0,
             "#0d0887"
            ],
            [
             0.1111111111111111,
             "#46039f"
            ],
            [
             0.2222222222222222,
             "#7201a8"
            ],
            [
             0.3333333333333333,
             "#9c179e"
            ],
            [
             0.4444444444444444,
             "#bd3786"
            ],
            [
             0.5555555555555556,
             "#d8576b"
            ],
            [
             0.6666666666666666,
             "#ed7953"
            ],
            [
             0.7777777777777778,
             "#fb9f3a"
            ],
            [
             0.8888888888888888,
             "#fdca26"
            ],
            [
             1.0,
             "#f0f921"
            ]
           ],
           "sequentialminus": [
            [
             0.0,
             "#0d0887"
            ],
            [
             0.1111111111111111,
             "#46039f"
            ],
            [
             0.2222222222222222,
             "#7201a8"
            ],
            [
             0.3333333333333333,
             "#9c179e"
            ],
            [
             0.4444444444444444,
             "#bd3786"
            ],
            [
             0.5555555555555556,
             "#d8576b"
            ],
            [
             0.6666666666666666,
             "#ed7953"
            ],
            [
             0.7777777777777778,
             "#fb9f3a"
            ],
            [
             0.8888888888888888,
             "#fdca26"
            ],
            [
             1.0,
             "#f0f921"
            ]
           ],
           "diverging": [
            [
             0,
             "#8e0152"
            ],
            [
             0.1,
             "#c51b7d"
            ],
            [
             0.2,
             "#de77ae"
            ],
            [
             0.3,
             "#f1b6da"
            ],
            [
             0.4,
             "#fde0ef"
            ],
            [
             0.5,
             "#f7f7f7"
            ],
            [
             0.6,
             "#e6f5d0"
            ],
            [
             0.7,
             "#b8e186"
            ],
            [
             0.8,
             "#7fbc41"
            ],
            [
             0.9,
             "#4d9221"
            ],
            [
             1,
             "#276419"
            ]
           ]
          },
          "xaxis": {
           "gridcolor": "#283442",
           "linecolor": "#506784",
           "ticks": "",
           "title": {
            "standoff": 15
           },
           "zerolinecolor": "#283442",
           "automargin": true,
           "zerolinewidth": 2
          },
          "yaxis": {
           "gridcolor": "#283442",
           "linecolor": "#506784",
           "ticks": "",
           "title": {
            "standoff": 15
           },
           "zerolinecolor": "#283442",
           "automargin": true,
           "zerolinewidth": 2
          },
          "scene": {
           "xaxis": {
            "backgroundcolor": "rgb(17,17,17)",
            "gridcolor": "#506784",
            "linecolor": "#506784",
            "showbackground": true,
            "ticks": "",
            "zerolinecolor": "#C8D4E3",
            "gridwidth": 2
           },
           "yaxis": {
            "backgroundcolor": "rgb(17,17,17)",
            "gridcolor": "#506784",
            "linecolor": "#506784",
            "showbackground": true,
            "ticks": "",
            "zerolinecolor": "#C8D4E3",
            "gridwidth": 2
           },
           "zaxis": {
            "backgroundcolor": "rgb(17,17,17)",
            "gridcolor": "#506784",
            "linecolor": "#506784",
            "showbackground": true,
            "ticks": "",
            "zerolinecolor": "#C8D4E3",
            "gridwidth": 2
           }
          },
          "shapedefaults": {
           "line": {
            "color": "#f2f5fa"
           }
          },
          "annotationdefaults": {
           "arrowcolor": "#f2f5fa",
           "arrowhead": 0,
           "arrowwidth": 1
          },
          "geo": {
           "bgcolor": "rgb(17,17,17)",
           "landcolor": "rgb(17,17,17)",
           "subunitcolor": "#506784",
           "showland": true,
           "showlakes": true,
           "lakecolor": "rgb(17,17,17)"
          },
          "title": {
           "x": 0.05
          },
          "updatemenudefaults": {
           "bgcolor": "#506784",
           "borderwidth": 0
          },
          "sliderdefaults": {
           "bgcolor": "#C8D4E3",
           "borderwidth": 1,
           "bordercolor": "rgb(17,17,17)",
           "tickwidth": 0
          },
          "mapbox": {
           "style": "dark"
          }
         }
        },
        "xaxis": {
         "anchor": "y",
         "domain": [
          0.0,
          1.0
         ],
         "title": {
          "text": "Leto"
         }
        },
        "yaxis": {
         "anchor": "x",
         "domain": [
          0.0,
          1.0
         ],
         "title": {
          "text": "Ure"
         }
        },
        "legend": {
         "title": {
          "text": "Dejavnost"
         },
         "tracegroupgap": 0
        },
        "margin": {
         "t": 60
        },
        "barmode": "stack",
        "title": {
         "text": "Plačane delovne ure"
        }
       },
       "config": {
        "plotlyServerURL": "https://plot.ly"
       }
      },
      "text/html": "<div>                            <div id=\"03d8c11d-7ccf-4ad2-9217-9e0809efef03\" class=\"plotly-graph-div\" style=\"height:525px; width:100%;\"></div>            <script type=\"text/javascript\">                require([\"plotly\"], function(Plotly) {                    window.PLOTLYENV=window.PLOTLYENV || {};                                    if (document.getElementById(\"03d8c11d-7ccf-4ad2-9217-9e0809efef03\")) {                    Plotly.newPlot(                        \"03d8c11d-7ccf-4ad2-9217-9e0809efef03\",                        [{\"alignmentgroup\":\"True\",\"hovertemplate\":\"Dejavnost=A KMETIJSTVO IN LOV, GOZDARSTVO, RIBISTVO<br>LETO=%{x}<br>Vrednost=%{y}<extra></extra>\",\"legendgroup\":\"A KMETIJSTVO IN LOV, GOZDARSTVO, RIBISTVO\",\"marker\":{\"color\":\"#636efa\",\"pattern\":{\"shape\":\"\"}},\"name\":\"A KMETIJSTVO IN LOV, GOZDARSTVO, RIBISTVO\",\"offsetgroup\":\"A KMETIJSTVO IN LOV, GOZDARSTVO, RIBISTVO\",\"orientation\":\"v\",\"showlegend\":true,\"textposition\":\"auto\",\"x\":[\"2008\",\"2009\",\"2010\",\"2011\",\"2012\",\"2013\",\"2014\",\"2015\",\"2016\",\"2017\",\"2018\",\"2019\",\"2020\",\"2021\",\"2022\"],\"xaxis\":\"x\",\"y\":[170.5,169.75,171.75,171.5,167.25,166.75,166.5,166.5,164.5,163.75,161.75,162.0,160.75,161.5,160.5],\"yaxis\":\"y\",\"type\":\"bar\"},{\"alignmentgroup\":\"True\",\"hovertemplate\":\"Dejavnost=B RUDARSTVO<br>LETO=%{x}<br>Vrednost=%{y}<extra></extra>\",\"legendgroup\":\"B RUDARSTVO\",\"marker\":{\"color\":\"#EF553B\",\"pattern\":{\"shape\":\"\"}},\"name\":\"B RUDARSTVO\",\"offsetgroup\":\"B RUDARSTVO\",\"orientation\":\"v\",\"showlegend\":true,\"textposition\":\"auto\",\"x\":[\"2008\",\"2009\",\"2010\",\"2011\",\"2012\",\"2013\",\"2014\",\"2015\",\"2016\",\"2017\",\"2018\",\"2019\",\"2020\",\"2021\",\"2022\"],\"xaxis\":\"x\",\"y\":[174.25,170.75,169.0,170.0,173.75,172.0,170.5,170.25,166.75,168.0,169.25,170.0,171.25,167.75,166.0],\"yaxis\":\"y\",\"type\":\"bar\"},{\"alignmentgroup\":\"True\",\"hovertemplate\":\"Dejavnost=C PREDELOVALNE DEJAVNOSTI<br>LETO=%{x}<br>Vrednost=%{y}<extra></extra>\",\"legendgroup\":\"C PREDELOVALNE DEJAVNOSTI\",\"marker\":{\"color\":\"#00cc96\",\"pattern\":{\"shape\":\"\"}},\"name\":\"C PREDELOVALNE DEJAVNOSTI\",\"offsetgroup\":\"C PREDELOVALNE DEJAVNOSTI\",\"orientation\":\"v\",\"showlegend\":true,\"textposition\":\"auto\",\"x\":[\"2008\",\"2009\",\"2010\",\"2011\",\"2012\",\"2013\",\"2014\",\"2015\",\"2016\",\"2017\",\"2018\",\"2019\",\"2020\",\"2021\",\"2022\"],\"xaxis\":\"x\",\"y\":[171.25,166.0,169.25,169.5,170.5,170.5,170.5,170.25,169.5,169.0,168.75,168.25,165.0,167.25,166.0],\"yaxis\":\"y\",\"type\":\"bar\"},{\"alignmentgroup\":\"True\",\"hovertemplate\":\"Dejavnost=D OSKRBA Z ELEKTRICNO ENERGIJO, PLINOM IN PARO<br>LETO=%{x}<br>Vrednost=%{y}<extra></extra>\",\"legendgroup\":\"D OSKRBA Z ELEKTRICNO ENERGIJO, PLINOM IN PARO\",\"marker\":{\"color\":\"#ab63fa\",\"pattern\":{\"shape\":\"\"}},\"name\":\"D OSKRBA Z ELEKTRICNO ENERGIJO, PLINOM IN PARO\",\"offsetgroup\":\"D OSKRBA Z ELEKTRICNO ENERGIJO, PLINOM IN PARO\",\"orientation\":\"v\",\"showlegend\":true,\"textposition\":\"auto\",\"x\":[\"2008\",\"2009\",\"2010\",\"2011\",\"2012\",\"2013\",\"2014\",\"2015\",\"2016\",\"2017\",\"2018\",\"2019\",\"2020\",\"2021\",\"2022\"],\"xaxis\":\"x\",\"y\":[177.0,172.25,171.75,171.0,172.0,172.0,172.0,171.75,171.5,172.5,172.0,171.25,170.5,169.0,166.75],\"yaxis\":\"y\",\"type\":\"bar\"},{\"alignmentgroup\":\"True\",\"hovertemplate\":\"Dejavnost=E OSKRBA Z VODO, RAVNANJE Z ODPLAKAMI IN ODPADKI, SANIRANJE OKOLJA<br>LETO=%{x}<br>Vrednost=%{y}<extra></extra>\",\"legendgroup\":\"E OSKRBA Z VODO, RAVNANJE Z ODPLAKAMI IN ODPADKI, SANIRANJE OKOLJA\",\"marker\":{\"color\":\"#FFA15A\",\"pattern\":{\"shape\":\"\"}},\"name\":\"E OSKRBA Z VODO, RAVNANJE Z ODPLAKAMI IN ODPADKI, SANIRANJE OKOLJA\",\"offsetgroup\":\"E OSKRBA Z VODO, RAVNANJE Z ODPLAKAMI IN ODPADKI, SANIRANJE OKOLJA\",\"orientation\":\"v\",\"showlegend\":true,\"textposition\":\"auto\",\"x\":[\"2008\",\"2009\",\"2010\",\"2011\",\"2012\",\"2013\",\"2014\",\"2015\",\"2016\",\"2017\",\"2018\",\"2019\",\"2020\",\"2021\",\"2022\"],\"xaxis\":\"x\",\"y\":[173.75,172.0,171.75,170.5,171.75,171.25,171.25,171.5,171.5,171.0,171.25,170.0,167.25,168.25,167.5],\"yaxis\":\"y\",\"type\":\"bar\"},{\"alignmentgroup\":\"True\",\"hovertemplate\":\"Dejavnost=F GRADBENISTVO<br>LETO=%{x}<br>Vrednost=%{y}<extra></extra>\",\"legendgroup\":\"F GRADBENISTVO\",\"marker\":{\"color\":\"#19d3f3\",\"pattern\":{\"shape\":\"\"}},\"name\":\"F GRADBENISTVO\",\"offsetgroup\":\"F GRADBENISTVO\",\"orientation\":\"v\",\"showlegend\":true,\"textposition\":\"auto\",\"x\":[\"2008\",\"2009\",\"2010\",\"2011\",\"2012\",\"2013\",\"2014\",\"2015\",\"2016\",\"2017\",\"2018\",\"2019\",\"2020\",\"2021\",\"2022\"],\"xaxis\":\"x\",\"y\":[169.0,168.0,168.5,168.0,168.25,168.0,168.25,168.5,164.5,164.5,163.0,162.75,162.25,164.0,164.0],\"yaxis\":\"y\",\"type\":\"bar\"},{\"alignmentgroup\":\"True\",\"hovertemplate\":\"Dejavnost=G TRGOVINA, VZDRZEVANJE IN POPRAVILA MOTORNIH VOZIL<br>LETO=%{x}<br>Vrednost=%{y}<extra></extra>\",\"legendgroup\":\"G TRGOVINA, VZDRZEVANJE IN POPRAVILA MOTORNIH VOZIL\",\"marker\":{\"color\":\"#FF6692\",\"pattern\":{\"shape\":\"\"}},\"name\":\"G TRGOVINA, VZDRZEVANJE IN POPRAVILA MOTORNIH VOZIL\",\"offsetgroup\":\"G TRGOVINA, VZDRZEVANJE IN POPRAVILA MOTORNIH VOZIL\",\"orientation\":\"v\",\"showlegend\":true,\"textposition\":\"auto\",\"x\":[\"2008\",\"2009\",\"2010\",\"2011\",\"2012\",\"2013\",\"2014\",\"2015\",\"2016\",\"2017\",\"2018\",\"2019\",\"2020\",\"2021\",\"2022\"],\"xaxis\":\"x\",\"y\":[168.25,167.25,167.25,167.0,167.0,166.5,166.25,165.5,164.5,163.75,163.25,163.5,160.75,162.0,162.25],\"yaxis\":\"y\",\"type\":\"bar\"},{\"alignmentgroup\":\"True\",\"hovertemplate\":\"Dejavnost=H PROMET IN SKLADISCENJE<br>LETO=%{x}<br>Vrednost=%{y}<extra></extra>\",\"legendgroup\":\"H PROMET IN SKLADISCENJE\",\"marker\":{\"color\":\"#B6E880\",\"pattern\":{\"shape\":\"\"}},\"name\":\"H PROMET IN SKLADISCENJE\",\"offsetgroup\":\"H PROMET IN SKLADISCENJE\",\"orientation\":\"v\",\"showlegend\":true,\"textposition\":\"auto\",\"x\":[\"2008\",\"2009\",\"2010\",\"2011\",\"2012\",\"2013\",\"2014\",\"2015\",\"2016\",\"2017\",\"2018\",\"2019\",\"2020\",\"2021\",\"2022\"],\"xaxis\":\"x\",\"y\":[172.5,170.25,173.5,173.25,170.75,171.25,171.0,171.25,165.25,165.0,165.5,166.0,165.0,166.5,166.75],\"yaxis\":\"y\",\"type\":\"bar\"},{\"alignmentgroup\":\"True\",\"hovertemplate\":\"Dejavnost=I GOSTINSTVO<br>LETO=%{x}<br>Vrednost=%{y}<extra></extra>\",\"legendgroup\":\"I GOSTINSTVO\",\"marker\":{\"color\":\"#FF97FF\",\"pattern\":{\"shape\":\"\"}},\"name\":\"I GOSTINSTVO\",\"offsetgroup\":\"I GOSTINSTVO\",\"orientation\":\"v\",\"showlegend\":true,\"textposition\":\"auto\",\"x\":[\"2008\",\"2009\",\"2010\",\"2011\",\"2012\",\"2013\",\"2014\",\"2015\",\"2016\",\"2017\",\"2018\",\"2019\",\"2020\",\"2021\",\"2022\"],\"xaxis\":\"x\",\"y\":[163.25,162.25,163.0,161.75,158.5,158.75,157.0,156.0,163.5,162.5,154.75,155.25,149.25,152.5,155.25],\"yaxis\":\"y\",\"type\":\"bar\"},{\"alignmentgroup\":\"True\",\"hovertemplate\":\"Dejavnost=J INFORMACIJSKE IN KOMUNIKACIJSKE DEJAVNOSTI<br>LETO=%{x}<br>Vrednost=%{y}<extra></extra>\",\"legendgroup\":\"J INFORMACIJSKE IN KOMUNIKACIJSKE DEJAVNOSTI\",\"marker\":{\"color\":\"#FECB52\",\"pattern\":{\"shape\":\"\"}},\"name\":\"J INFORMACIJSKE IN KOMUNIKACIJSKE DEJAVNOSTI\",\"offsetgroup\":\"J INFORMACIJSKE IN KOMUNIKACIJSKE DEJAVNOSTI\",\"orientation\":\"v\",\"showlegend\":true,\"textposition\":\"auto\",\"x\":[\"2008\",\"2009\",\"2010\",\"2011\",\"2012\",\"2013\",\"2014\",\"2015\",\"2016\",\"2017\",\"2018\",\"2019\",\"2020\",\"2021\",\"2022\"],\"xaxis\":\"x\",\"y\":[170.5,169.75,169.5,168.75,169.25,168.75,168.0,168.75,168.5,168.25,167.5,168.25,167.75,167.5,166.75],\"yaxis\":\"y\",\"type\":\"bar\"},{\"alignmentgroup\":\"True\",\"hovertemplate\":\"Dejavnost=K FINANCNE IN ZAVAROVALNISKE DEJAVNOSTI<br>LETO=%{x}<br>Vrednost=%{y}<extra></extra>\",\"legendgroup\":\"K FINANCNE IN ZAVAROVALNISKE DEJAVNOSTI\",\"marker\":{\"color\":\"#636efa\",\"pattern\":{\"shape\":\"\"}},\"name\":\"K FINANCNE IN ZAVAROVALNISKE DEJAVNOSTI\",\"offsetgroup\":\"K FINANCNE IN ZAVAROVALNISKE DEJAVNOSTI\",\"orientation\":\"v\",\"showlegend\":true,\"textposition\":\"auto\",\"x\":[\"2008\",\"2009\",\"2010\",\"2011\",\"2012\",\"2013\",\"2014\",\"2015\",\"2016\",\"2017\",\"2018\",\"2019\",\"2020\",\"2021\",\"2022\"],\"xaxis\":\"x\",\"y\":[167.25,167.0,167.5,166.75,166.75,166.5,166.0,165.5,165.75,165.0,165.5,165.5,166.5,165.5,164.0],\"yaxis\":\"y\",\"type\":\"bar\"},{\"alignmentgroup\":\"True\",\"hovertemplate\":\"Dejavnost=L POSLOVANJE Z NEPREMICNINAMI<br>LETO=%{x}<br>Vrednost=%{y}<extra></extra>\",\"legendgroup\":\"L POSLOVANJE Z NEPREMICNINAMI\",\"marker\":{\"color\":\"#EF553B\",\"pattern\":{\"shape\":\"\"}},\"name\":\"L POSLOVANJE Z NEPREMICNINAMI\",\"offsetgroup\":\"L POSLOVANJE Z NEPREMICNINAMI\",\"orientation\":\"v\",\"showlegend\":true,\"textposition\":\"auto\",\"x\":[\"2008\",\"2009\",\"2010\",\"2011\",\"2012\",\"2013\",\"2014\",\"2015\",\"2016\",\"2017\",\"2018\",\"2019\",\"2020\",\"2021\",\"2022\"],\"xaxis\":\"x\",\"y\":[167.5,166.5,166.0,166.25,166.0,165.25,165.5,164.75,163.75,163.25,162.75,162.25,162.0,161.25,161.25],\"yaxis\":\"y\",\"type\":\"bar\"},{\"alignmentgroup\":\"True\",\"hovertemplate\":\"Dejavnost=M STROKOVNE, ZNANSTVENE IN TEHNICNE DEJAVNOSTI<br>LETO=%{x}<br>Vrednost=%{y}<extra></extra>\",\"legendgroup\":\"M STROKOVNE, ZNANSTVENE IN TEHNICNE DEJAVNOSTI\",\"marker\":{\"color\":\"#00cc96\",\"pattern\":{\"shape\":\"\"}},\"name\":\"M STROKOVNE, ZNANSTVENE IN TEHNICNE DEJAVNOSTI\",\"offsetgroup\":\"M STROKOVNE, ZNANSTVENE IN TEHNICNE DEJAVNOSTI\",\"orientation\":\"v\",\"showlegend\":true,\"textposition\":\"auto\",\"x\":[\"2008\",\"2009\",\"2010\",\"2011\",\"2012\",\"2013\",\"2014\",\"2015\",\"2016\",\"2017\",\"2018\",\"2019\",\"2020\",\"2021\",\"2022\"],\"xaxis\":\"x\",\"y\":[168.5,168.0,167.75,166.5,165.75,165.25,165.0,164.25,161.75,161.5,162.0,162.25,160.75,161.75,161.5],\"yaxis\":\"y\",\"type\":\"bar\"},{\"alignmentgroup\":\"True\",\"hovertemplate\":\"Dejavnost=N DRUGE RAZNOVRSTNE POSLOVNE DEJAVNOSTI<br>LETO=%{x}<br>Vrednost=%{y}<extra></extra>\",\"legendgroup\":\"N DRUGE RAZNOVRSTNE POSLOVNE DEJAVNOSTI\",\"marker\":{\"color\":\"#ab63fa\",\"pattern\":{\"shape\":\"\"}},\"name\":\"N DRUGE RAZNOVRSTNE POSLOVNE DEJAVNOSTI\",\"offsetgroup\":\"N DRUGE RAZNOVRSTNE POSLOVNE DEJAVNOSTI\",\"orientation\":\"v\",\"showlegend\":true,\"textposition\":\"auto\",\"x\":[\"2008\",\"2009\",\"2010\",\"2011\",\"2012\",\"2013\",\"2014\",\"2015\",\"2016\",\"2017\",\"2018\",\"2019\",\"2020\",\"2021\",\"2022\"],\"xaxis\":\"x\",\"y\":[164.75,164.25,163.75,164.25,163.25,163.0,162.5,161.25,161.75,160.25,159.75,159.0,157.0,158.75,158.25],\"yaxis\":\"y\",\"type\":\"bar\"},{\"alignmentgroup\":\"True\",\"hovertemplate\":\"Dejavnost=O DEJAVNOST JAVNE UPRAVE IN OBRAMBE, DEJAVNOST OBVEZNE SOCIALNE VARNOSTI<br>LETO=%{x}<br>Vrednost=%{y}<extra></extra>\",\"legendgroup\":\"O DEJAVNOST JAVNE UPRAVE IN OBRAMBE, DEJAVNOST OBVEZNE SOCIALNE VARNOSTI\",\"marker\":{\"color\":\"#FFA15A\",\"pattern\":{\"shape\":\"\"}},\"name\":\"O DEJAVNOST JAVNE UPRAVE IN OBRAMBE, DEJAVNOST OBVEZNE SOCIALNE VARNOSTI\",\"offsetgroup\":\"O DEJAVNOST JAVNE UPRAVE IN OBRAMBE, DEJAVNOST OBVEZNE SOCIALNE VARNOSTI\",\"orientation\":\"v\",\"showlegend\":true,\"textposition\":\"auto\",\"x\":[\"2008\",\"2009\",\"2010\",\"2011\",\"2012\",\"2013\",\"2014\",\"2015\",\"2016\",\"2017\",\"2018\",\"2019\",\"2020\",\"2021\",\"2022\"],\"xaxis\":\"x\",\"y\":[169.5,169.0,168.75,168.0,168.25,169.75,170.5,170.5,171.0,171.75,172.25,172.25,172.25,172.0,169.0],\"yaxis\":\"y\",\"type\":\"bar\"},{\"alignmentgroup\":\"True\",\"hovertemplate\":\"Dejavnost=P IZOBRAZEVANJE<br>LETO=%{x}<br>Vrednost=%{y}<extra></extra>\",\"legendgroup\":\"P IZOBRAZEVANJE\",\"marker\":{\"color\":\"#19d3f3\",\"pattern\":{\"shape\":\"\"}},\"name\":\"P IZOBRAZEVANJE\",\"offsetgroup\":\"P IZOBRAZEVANJE\",\"orientation\":\"v\",\"showlegend\":true,\"textposition\":\"auto\",\"x\":[\"2008\",\"2009\",\"2010\",\"2011\",\"2012\",\"2013\",\"2014\",\"2015\",\"2016\",\"2017\",\"2018\",\"2019\",\"2020\",\"2021\",\"2022\"],\"xaxis\":\"x\",\"y\":[165.75,165.5,165.5,164.75,165.0,165.0,166.5,166.25,166.5,165.25,165.25,165.5,159.25,162.5,162.5],\"yaxis\":\"y\",\"type\":\"bar\"},{\"alignmentgroup\":\"True\",\"hovertemplate\":\"Dejavnost=Q ZDRAVSTVO IN SOCIALNO VARSTVO<br>LETO=%{x}<br>Vrednost=%{y}<extra></extra>\",\"legendgroup\":\"Q ZDRAVSTVO IN SOCIALNO VARSTVO\",\"marker\":{\"color\":\"#FF6692\",\"pattern\":{\"shape\":\"\"}},\"name\":\"Q ZDRAVSTVO IN SOCIALNO VARSTVO\",\"offsetgroup\":\"Q ZDRAVSTVO IN SOCIALNO VARSTVO\",\"orientation\":\"v\",\"showlegend\":true,\"textposition\":\"auto\",\"x\":[\"2008\",\"2009\",\"2010\",\"2011\",\"2012\",\"2013\",\"2014\",\"2015\",\"2016\",\"2017\",\"2018\",\"2019\",\"2020\",\"2021\",\"2022\"],\"xaxis\":\"x\",\"y\":[176.0,174.0,173.25,172.5,172.75,172.25,175.25,175.25,174.5,173.5,173.0,173.0,171.25,174.0,170.25],\"yaxis\":\"y\",\"type\":\"bar\"},{\"alignmentgroup\":\"True\",\"hovertemplate\":\"Dejavnost=R KULTURNE, RAZVEDRILNE IN REKREACIJSKE DEJAVNOSTI<br>LETO=%{x}<br>Vrednost=%{y}<extra></extra>\",\"legendgroup\":\"R KULTURNE, RAZVEDRILNE IN REKREACIJSKE DEJAVNOSTI\",\"marker\":{\"color\":\"#B6E880\",\"pattern\":{\"shape\":\"\"}},\"name\":\"R KULTURNE, RAZVEDRILNE IN REKREACIJSKE DEJAVNOSTI\",\"offsetgroup\":\"R KULTURNE, RAZVEDRILNE IN REKREACIJSKE DEJAVNOSTI\",\"orientation\":\"v\",\"showlegend\":true,\"textposition\":\"auto\",\"x\":[\"2008\",\"2009\",\"2010\",\"2011\",\"2012\",\"2013\",\"2014\",\"2015\",\"2016\",\"2017\",\"2018\",\"2019\",\"2020\",\"2021\",\"2022\"],\"xaxis\":\"x\",\"y\":[166.25,166.0,166.25,165.5,166.0,166.0,166.25,165.25,164.5,164.5,164.75,165.0,156.75,161.25,163.0],\"yaxis\":\"y\",\"type\":\"bar\"},{\"alignmentgroup\":\"True\",\"hovertemplate\":\"Dejavnost=S DRUGE DEJAVNOSTI<br>LETO=%{x}<br>Vrednost=%{y}<extra></extra>\",\"legendgroup\":\"S DRUGE DEJAVNOSTI\",\"marker\":{\"color\":\"#FF97FF\",\"pattern\":{\"shape\":\"\"}},\"name\":\"S DRUGE DEJAVNOSTI\",\"offsetgroup\":\"S DRUGE DEJAVNOSTI\",\"orientation\":\"v\",\"showlegend\":true,\"textposition\":\"auto\",\"x\":[\"2008\",\"2009\",\"2010\",\"2011\",\"2012\",\"2013\",\"2014\",\"2015\",\"2016\",\"2017\",\"2018\",\"2019\",\"2020\",\"2021\",\"2022\"],\"xaxis\":\"x\",\"y\":[159.75,158.5,160.5,160.25,168.25,168.0,167.0,166.25,161.25,161.0,155.0,155.25,154.5,155.5,157.0],\"yaxis\":\"y\",\"type\":\"bar\"}],                        {\"template\":{\"data\":{\"histogram2dcontour\":[{\"type\":\"histogram2dcontour\",\"colorbar\":{\"outlinewidth\":0,\"ticks\":\"\"},\"colorscale\":[[0.0,\"#0d0887\"],[0.1111111111111111,\"#46039f\"],[0.2222222222222222,\"#7201a8\"],[0.3333333333333333,\"#9c179e\"],[0.4444444444444444,\"#bd3786\"],[0.5555555555555556,\"#d8576b\"],[0.6666666666666666,\"#ed7953\"],[0.7777777777777778,\"#fb9f3a\"],[0.8888888888888888,\"#fdca26\"],[1.0,\"#f0f921\"]]}],\"choropleth\":[{\"type\":\"choropleth\",\"colorbar\":{\"outlinewidth\":0,\"ticks\":\"\"}}],\"histogram2d\":[{\"type\":\"histogram2d\",\"colorbar\":{\"outlinewidth\":0,\"ticks\":\"\"},\"colorscale\":[[0.0,\"#0d0887\"],[0.1111111111111111,\"#46039f\"],[0.2222222222222222,\"#7201a8\"],[0.3333333333333333,\"#9c179e\"],[0.4444444444444444,\"#bd3786\"],[0.5555555555555556,\"#d8576b\"],[0.6666666666666666,\"#ed7953\"],[0.7777777777777778,\"#fb9f3a\"],[0.8888888888888888,\"#fdca26\"],[1.0,\"#f0f921\"]]}],\"heatmap\":[{\"type\":\"heatmap\",\"colorbar\":{\"outlinewidth\":0,\"ticks\":\"\"},\"colorscale\":[[0.0,\"#0d0887\"],[0.1111111111111111,\"#46039f\"],[0.2222222222222222,\"#7201a8\"],[0.3333333333333333,\"#9c179e\"],[0.4444444444444444,\"#bd3786\"],[0.5555555555555556,\"#d8576b\"],[0.6666666666666666,\"#ed7953\"],[0.7777777777777778,\"#fb9f3a\"],[0.8888888888888888,\"#fdca26\"],[1.0,\"#f0f921\"]]}],\"heatmapgl\":[{\"type\":\"heatmapgl\",\"colorbar\":{\"outlinewidth\":0,\"ticks\":\"\"},\"colorscale\":[[0.0,\"#0d0887\"],[0.1111111111111111,\"#46039f\"],[0.2222222222222222,\"#7201a8\"],[0.3333333333333333,\"#9c179e\"],[0.4444444444444444,\"#bd3786\"],[0.5555555555555556,\"#d8576b\"],[0.6666666666666666,\"#ed7953\"],[0.7777777777777778,\"#fb9f3a\"],[0.8888888888888888,\"#fdca26\"],[1.0,\"#f0f921\"]]}],\"contourcarpet\":[{\"type\":\"contourcarpet\",\"colorbar\":{\"outlinewidth\":0,\"ticks\":\"\"}}],\"contour\":[{\"type\":\"contour\",\"colorbar\":{\"outlinewidth\":0,\"ticks\":\"\"},\"colorscale\":[[0.0,\"#0d0887\"],[0.1111111111111111,\"#46039f\"],[0.2222222222222222,\"#7201a8\"],[0.3333333333333333,\"#9c179e\"],[0.4444444444444444,\"#bd3786\"],[0.5555555555555556,\"#d8576b\"],[0.6666666666666666,\"#ed7953\"],[0.7777777777777778,\"#fb9f3a\"],[0.8888888888888888,\"#fdca26\"],[1.0,\"#f0f921\"]]}],\"surface\":[{\"type\":\"surface\",\"colorbar\":{\"outlinewidth\":0,\"ticks\":\"\"},\"colorscale\":[[0.0,\"#0d0887\"],[0.1111111111111111,\"#46039f\"],[0.2222222222222222,\"#7201a8\"],[0.3333333333333333,\"#9c179e\"],[0.4444444444444444,\"#bd3786\"],[0.5555555555555556,\"#d8576b\"],[0.6666666666666666,\"#ed7953\"],[0.7777777777777778,\"#fb9f3a\"],[0.8888888888888888,\"#fdca26\"],[1.0,\"#f0f921\"]]}],\"mesh3d\":[{\"type\":\"mesh3d\",\"colorbar\":{\"outlinewidth\":0,\"ticks\":\"\"}}],\"scatter\":[{\"marker\":{\"line\":{\"color\":\"#283442\"}},\"type\":\"scatter\"}],\"parcoords\":[{\"type\":\"parcoords\",\"line\":{\"colorbar\":{\"outlinewidth\":0,\"ticks\":\"\"}}}],\"scatterpolargl\":[{\"type\":\"scatterpolargl\",\"marker\":{\"colorbar\":{\"outlinewidth\":0,\"ticks\":\"\"}}}],\"bar\":[{\"error_x\":{\"color\":\"#f2f5fa\"},\"error_y\":{\"color\":\"#f2f5fa\"},\"marker\":{\"line\":{\"color\":\"rgb(17,17,17)\",\"width\":0.5},\"pattern\":{\"fillmode\":\"overlay\",\"size\":10,\"solidity\":0.2}},\"type\":\"bar\"}],\"scattergeo\":[{\"type\":\"scattergeo\",\"marker\":{\"colorbar\":{\"outlinewidth\":0,\"ticks\":\"\"}}}],\"scatterpolar\":[{\"type\":\"scatterpolar\",\"marker\":{\"colorbar\":{\"outlinewidth\":0,\"ticks\":\"\"}}}],\"histogram\":[{\"marker\":{\"pattern\":{\"fillmode\":\"overlay\",\"size\":10,\"solidity\":0.2}},\"type\":\"histogram\"}],\"scattergl\":[{\"marker\":{\"line\":{\"color\":\"#283442\"}},\"type\":\"scattergl\"}],\"scatter3d\":[{\"type\":\"scatter3d\",\"line\":{\"colorbar\":{\"outlinewidth\":0,\"ticks\":\"\"}},\"marker\":{\"colorbar\":{\"outlinewidth\":0,\"ticks\":\"\"}}}],\"scattermapbox\":[{\"type\":\"scattermapbox\",\"marker\":{\"colorbar\":{\"outlinewidth\":0,\"ticks\":\"\"}}}],\"scatterternary\":[{\"type\":\"scatterternary\",\"marker\":{\"colorbar\":{\"outlinewidth\":0,\"ticks\":\"\"}}}],\"scattercarpet\":[{\"type\":\"scattercarpet\",\"marker\":{\"colorbar\":{\"outlinewidth\":0,\"ticks\":\"\"}}}],\"carpet\":[{\"aaxis\":{\"endlinecolor\":\"#A2B1C6\",\"gridcolor\":\"#506784\",\"linecolor\":\"#506784\",\"minorgridcolor\":\"#506784\",\"startlinecolor\":\"#A2B1C6\"},\"baxis\":{\"endlinecolor\":\"#A2B1C6\",\"gridcolor\":\"#506784\",\"linecolor\":\"#506784\",\"minorgridcolor\":\"#506784\",\"startlinecolor\":\"#A2B1C6\"},\"type\":\"carpet\"}],\"table\":[{\"cells\":{\"fill\":{\"color\":\"#506784\"},\"line\":{\"color\":\"rgb(17,17,17)\"}},\"header\":{\"fill\":{\"color\":\"#2a3f5f\"},\"line\":{\"color\":\"rgb(17,17,17)\"}},\"type\":\"table\"}],\"barpolar\":[{\"marker\":{\"line\":{\"color\":\"rgb(17,17,17)\",\"width\":0.5},\"pattern\":{\"fillmode\":\"overlay\",\"size\":10,\"solidity\":0.2}},\"type\":\"barpolar\"}],\"pie\":[{\"automargin\":true,\"type\":\"pie\"}]},\"layout\":{\"autotypenumbers\":\"strict\",\"colorway\":[\"#636efa\",\"#EF553B\",\"#00cc96\",\"#ab63fa\",\"#FFA15A\",\"#19d3f3\",\"#FF6692\",\"#B6E880\",\"#FF97FF\",\"#FECB52\"],\"font\":{\"color\":\"#f2f5fa\"},\"hovermode\":\"closest\",\"hoverlabel\":{\"align\":\"left\"},\"paper_bgcolor\":\"rgb(17,17,17)\",\"plot_bgcolor\":\"rgb(17,17,17)\",\"polar\":{\"bgcolor\":\"rgb(17,17,17)\",\"angularaxis\":{\"gridcolor\":\"#506784\",\"linecolor\":\"#506784\",\"ticks\":\"\"},\"radialaxis\":{\"gridcolor\":\"#506784\",\"linecolor\":\"#506784\",\"ticks\":\"\"}},\"ternary\":{\"bgcolor\":\"rgb(17,17,17)\",\"aaxis\":{\"gridcolor\":\"#506784\",\"linecolor\":\"#506784\",\"ticks\":\"\"},\"baxis\":{\"gridcolor\":\"#506784\",\"linecolor\":\"#506784\",\"ticks\":\"\"},\"caxis\":{\"gridcolor\":\"#506784\",\"linecolor\":\"#506784\",\"ticks\":\"\"}},\"coloraxis\":{\"colorbar\":{\"outlinewidth\":0,\"ticks\":\"\"}},\"colorscale\":{\"sequential\":[[0.0,\"#0d0887\"],[0.1111111111111111,\"#46039f\"],[0.2222222222222222,\"#7201a8\"],[0.3333333333333333,\"#9c179e\"],[0.4444444444444444,\"#bd3786\"],[0.5555555555555556,\"#d8576b\"],[0.6666666666666666,\"#ed7953\"],[0.7777777777777778,\"#fb9f3a\"],[0.8888888888888888,\"#fdca26\"],[1.0,\"#f0f921\"]],\"sequentialminus\":[[0.0,\"#0d0887\"],[0.1111111111111111,\"#46039f\"],[0.2222222222222222,\"#7201a8\"],[0.3333333333333333,\"#9c179e\"],[0.4444444444444444,\"#bd3786\"],[0.5555555555555556,\"#d8576b\"],[0.6666666666666666,\"#ed7953\"],[0.7777777777777778,\"#fb9f3a\"],[0.8888888888888888,\"#fdca26\"],[1.0,\"#f0f921\"]],\"diverging\":[[0,\"#8e0152\"],[0.1,\"#c51b7d\"],[0.2,\"#de77ae\"],[0.3,\"#f1b6da\"],[0.4,\"#fde0ef\"],[0.5,\"#f7f7f7\"],[0.6,\"#e6f5d0\"],[0.7,\"#b8e186\"],[0.8,\"#7fbc41\"],[0.9,\"#4d9221\"],[1,\"#276419\"]]},\"xaxis\":{\"gridcolor\":\"#283442\",\"linecolor\":\"#506784\",\"ticks\":\"\",\"title\":{\"standoff\":15},\"zerolinecolor\":\"#283442\",\"automargin\":true,\"zerolinewidth\":2},\"yaxis\":{\"gridcolor\":\"#283442\",\"linecolor\":\"#506784\",\"ticks\":\"\",\"title\":{\"standoff\":15},\"zerolinecolor\":\"#283442\",\"automargin\":true,\"zerolinewidth\":2},\"scene\":{\"xaxis\":{\"backgroundcolor\":\"rgb(17,17,17)\",\"gridcolor\":\"#506784\",\"linecolor\":\"#506784\",\"showbackground\":true,\"ticks\":\"\",\"zerolinecolor\":\"#C8D4E3\",\"gridwidth\":2},\"yaxis\":{\"backgroundcolor\":\"rgb(17,17,17)\",\"gridcolor\":\"#506784\",\"linecolor\":\"#506784\",\"showbackground\":true,\"ticks\":\"\",\"zerolinecolor\":\"#C8D4E3\",\"gridwidth\":2},\"zaxis\":{\"backgroundcolor\":\"rgb(17,17,17)\",\"gridcolor\":\"#506784\",\"linecolor\":\"#506784\",\"showbackground\":true,\"ticks\":\"\",\"zerolinecolor\":\"#C8D4E3\",\"gridwidth\":2}},\"shapedefaults\":{\"line\":{\"color\":\"#f2f5fa\"}},\"annotationdefaults\":{\"arrowcolor\":\"#f2f5fa\",\"arrowhead\":0,\"arrowwidth\":1},\"geo\":{\"bgcolor\":\"rgb(17,17,17)\",\"landcolor\":\"rgb(17,17,17)\",\"subunitcolor\":\"#506784\",\"showland\":true,\"showlakes\":true,\"lakecolor\":\"rgb(17,17,17)\"},\"title\":{\"x\":0.05},\"updatemenudefaults\":{\"bgcolor\":\"#506784\",\"borderwidth\":0},\"sliderdefaults\":{\"bgcolor\":\"#C8D4E3\",\"borderwidth\":1,\"bordercolor\":\"rgb(17,17,17)\",\"tickwidth\":0},\"mapbox\":{\"style\":\"dark\"}}},\"xaxis\":{\"anchor\":\"y\",\"domain\":[0.0,1.0],\"title\":{\"text\":\"Leto\"}},\"yaxis\":{\"anchor\":\"x\",\"domain\":[0.0,1.0],\"title\":{\"text\":\"Ure\"}},\"legend\":{\"title\":{\"text\":\"Dejavnost\"},\"tracegroupgap\":0},\"margin\":{\"t\":60},\"barmode\":\"stack\",\"title\":{\"text\":\"Pla\\u010dane delovne ure\"}},                        {\"responsive\": true}                    ).then(function(){\n                            \nvar gd = document.getElementById('03d8c11d-7ccf-4ad2-9217-9e0809efef03');\nvar x = new MutationObserver(function (mutations, observer) {{\n        var display = window.getComputedStyle(gd).display;\n        if (!display || display === 'none') {{\n            console.log([gd, 'removed!']);\n            Plotly.purge(gd);\n            observer.disconnect();\n        }}\n}});\n\n// Listen for the removal of the full notebook cells\nvar notebookContainer = gd.closest('#notebook-container');\nif (notebookContainer) {{\n    x.observe(notebookContainer, {childList: true});\n}}\n\n// Listen for the clearing of the current output cell\nvar outputEl = gd.closest('.output');\nif (outputEl) {{\n    x.observe(outputEl, {childList: true});\n}}\n\n                        })                };                });            </script>        </div>"
     },
     "metadata": {},
     "output_type": "display_data"
    }
   ],
   "source": [
    "df = placane_delovne_ure_grouped\n",
    "df = df.drop(columns=['SKD DEJAVNOST - SKUPAJ'], inplace=False)\n",
    "df['LETO'] = df.index\n",
    "melted_df = df.melt(id_vars='LETO', var_name='Dejavnost', value_name='Vrednost')\n",
    "\n",
    "fig = px.bar(melted_df, x='LETO', y='Vrednost', color='Dejavnost', barmode='stack')\n",
    "\n",
    "fig.update_layout(\n",
    "    title='Plačane delovne ure',\n",
    "    xaxis_title='Leto',\n",
    "    yaxis_title='Ure',\n",
    ")\n",
    "\n",
    "fig.show()"
   ],
   "metadata": {
    "collapsed": false
   }
  },
  {
   "cell_type": "code",
   "execution_count": null,
   "outputs": [],
   "source": [],
   "metadata": {
    "collapsed": false
   }
  }
 ],
 "metadata": {
  "kernelspec": {
   "display_name": "Python 3 (ipykernel)",
   "language": "python",
   "name": "python3"
  },
  "language_info": {
   "codemirror_mode": {
    "name": "ipython",
    "version": 3
   },
   "file_extension": ".py",
   "mimetype": "text/x-python",
   "name": "python",
   "nbconvert_exporter": "python",
   "pygments_lexer": "ipython3",
   "version": "3.9.5"
  }
 },
 "nbformat": 4,
 "nbformat_minor": 5
}
