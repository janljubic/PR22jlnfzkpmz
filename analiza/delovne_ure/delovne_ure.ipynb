{
 "cells": [
  {
   "cell_type": "markdown",
   "id": "5180df3a",
   "metadata": {},
   "source": [
    "# Povezava do vira podatkovne zbirke: https://podatki.gov.si/dataset/surs0727802s"
   ]
  },
  {
   "cell_type": "markdown",
   "id": "8b0b7766",
   "metadata": {},
   "source": [
    "## POVPREČNO MESEČNO ŠTEVILO PLAČANIH IN OPRAVLJENIH DELOVNIH UR NA ZAPOSLENO OSEBO PO DEJAVNOSTIH"
   ]
  },
  {
   "cell_type": "code",
   "execution_count": 66,
   "id": "4e809e51",
   "metadata": {},
   "outputs": [],
   "source": [
    "import warnings\n",
    "warnings.simplefilter(\"ignore\", category = FutureWarning)\n",
    "\n",
    "# Uvozimo vse potrebne knjižnice\n",
    "import pandas as pd\n",
    "import matplotlib.pyplot as plt\n",
    "from sklearn.impute import KNNImputer\n",
    "import plotly.express as px\n",
    "import plotly.graph_objects as go\n",
    "import seaborn as sns\n",
    "\n",
    "# OPOMBE:\n",
    "# Najprej smo opravili osnovno transformacijo podatkov s pomočjo programa PX-Win\n",
    "# (izbor podatkov, transformacijo vrstic in stolpcev)\n",
    "# Datoteko smo shranili kot .csv, ki ima podatke ločene z ';'\n",
    "# V Excelu smo šumnike nadomestili s sprejemljivimi inačicami (Š - S, Č - C, Ž - Z)\n",
    "\n",
    "# Uvozimo .csv datoteko, ki za delimiter uporablja ';'\n",
    "delovne_ure = pd.read_csv(\"../../podatki/delovne_ure/delovne_ure.csv\", sep = \";\")\n",
    "\n",
    "# Pretvorimo imena stolpcev v velike črke\n",
    "delovne_ure.columns = delovne_ure.columns.str.upper()\n",
    "\n",
    "# Pretvorimo vrstice v velike črke\n",
    "delovne_ure['URE'] = delovne_ure['URE'].apply(lambda x: x.upper())\n",
    "\n",
    "# Izberemo 5 najbljižjih sosedov\n",
    "imputer = KNNImputer(n_neighbors=5)\n",
    "\n",
    "# Nad vsakim stolpec uporabimo KNNImputer, da nadomestimo manjkajoče vrednosti z napovedjo\n",
    "delovne_ure.iloc[:, 2:] = imputer.fit_transform(delovne_ure.iloc[:, 2:])\n",
    "\n",
    "# Prva dva stolpca pretvorimo v 'STRING'\n",
    "delovne_ure.iloc[:, 0:2] = delovne_ure.iloc[:, 0:2].astype(str)\n",
    "# Preostale stolpce pretvorimo v 'INTEGER'\n",
    "delovne_ure.iloc[:, 2:] = delovne_ure.iloc[:, 2:].astype(int)\n",
    "\n",
    "opravljene_delovne_ure = delovne_ure.loc[delovne_ure['URE'] == 'OPRAVLJENE DELOVNE URE'].copy()\n",
    "placane_ure = delovne_ure.loc[delovne_ure['URE'] == 'PLACANE URE'].copy()\n",
    "\n",
    "\n",
    "df = opravljene_delovne_ure\n",
    "df['LETO'] = df['CETRTLETJE'].str[:4]\n",
    "columns_to_agg = df.columns[2:]\n",
    "opravljene_delovne_ure_grouped = df.groupby('LETO').agg({col: 'mean' for col in columns_to_agg if col != 'LETO'})\n",
    "# opravljene_delovne_ure_grouped = opravljene_delovne_ure_grouped.drop(opravljene_delovne_ure.columns[0], axis=1)\n",
    "\n",
    "df = placane_ure\n",
    "df['LETO'] = df['CETRTLETJE'].str[:4]\n",
    "columns_to_agg = df.columns[2:]\n",
    "placane_delovne_ure_grouped = df.groupby('LETO').agg({col: 'mean' for col in columns_to_agg if col != 'LETO'})"
   ]
  },
  {
   "cell_type": "code",
   "execution_count": 67,
   "id": "ad3ff319",
   "metadata": {},
   "outputs": [],
   "source": [
    "# Shranimo v .xlsx datoteko\n",
    "delovne_ure.to_excel('delovne_ure.xlsx', index=False)"
   ]
  },
  {
   "cell_type": "code",
   "execution_count": 68,
   "id": "b2510e7d",
   "metadata": {},
   "outputs": [
    {
     "data": {
      "text/plain": "      SKD DEJAVNOST - SKUPAJ  A KMETIJSTVO IN LOV, GOZDARSTVO, RIBISTVO   \nLETO                                                                      \n2008                  134.00                                     133.50  \\\n2009                  135.00                                     135.00   \n2010                  136.25                                     139.75   \n2011                  135.25                                     137.75   \n2012                  133.25                                     130.50   \n2013                  135.00                                     131.50   \n2014                  136.00                                     132.50   \n2015                  137.00                                     133.75   \n2016                  133.75                                     130.25   \n2017                  131.50                                     128.75   \n2018                  130.25                                     125.75   \n2019                  129.75                                     127.50   \n2020                  131.25                                     129.00   \n2021                  133.00                                     130.00   \n2022                  130.25                                     129.25   \n\n      B RUDARSTVO  C PREDELOVALNE DEJAVNOSTI   \nLETO                                           \n2008       133.75                     134.00  \\\n2009       129.75                     132.25   \n2010       128.75                     136.50   \n2011       130.00                     135.00   \n2012       131.00                     134.00   \n2013       130.00                     135.25   \n2014       130.25                     136.25   \n2015       132.50                     137.75   \n2016       127.00                     135.50   \n2017       127.00                     133.25   \n2018       128.50                     132.00   \n2019       129.00                     131.50   \n2020       133.00                     132.00   \n2021       130.00                     134.00   \n2022       127.25                     131.25   \n\n      D OSKRBA Z ELEKTRICNO ENERGIJO, PLINOM IN PARO   \nLETO                                                   \n2008                                          135.00  \\\n2009                                          134.00   \n2010                                          134.50   \n2011                                          133.00   \n2012                                          132.50   \n2013                                          135.50   \n2014                                          133.75   \n2015                                          137.00   \n2016                                          136.00   \n2017                                          136.00   \n2018                                          129.75   \n2019                                          130.00   \n2020                                          132.25   \n2021                                          131.25   \n2022                                          128.50   \n\n      E OSKRBA Z VODO, RAVNANJE Z ODPLAKAMI IN ODPADKI, SANIRANJE OKOLJA   \nLETO                                                                       \n2008                                             135.00                   \\\n2009                                             139.25                    \n2010                                             137.25                    \n2011                                             136.25                    \n2012                                             132.00                    \n2013                                             137.50                    \n2014                                             136.00                    \n2015                                             136.00                    \n2016                                             135.25                    \n2017                                             138.00                    \n2018                                             133.50                    \n2019                                             132.25                    \n2020                                             132.25                    \n2021                                             133.75                    \n2022                                             131.50                    \n\n      F GRADBENISTVO  G TRGOVINA, VZDRZEVANJE IN POPRAVILA MOTORNIH VOZIL   \nLETO                                                                        \n2008          136.50                                             134.50    \\\n2009          138.50                                             135.25     \n2010          140.25                                             137.00     \n2011          139.75                                             134.75     \n2012          139.00                                             134.25     \n2013          140.75                                             133.75     \n2014          142.00                                             135.75     \n2015          143.75                                             136.25     \n2016          132.75                                             132.25     \n2017          131.50                                             131.00     \n2018          129.50                                             129.25     \n2019          130.00                                             129.25     \n2020          132.25                                             130.00     \n2021          134.50                                             131.00     \n2022          133.00                                             129.50     \n\n      H PROMET IN SKLADISCENJE  I GOSTINSTVO   \nLETO                                           \n2008                    136.00        128.50  \\\n2009                    136.75        129.75   \n2010                    140.25        130.75   \n2011                    138.25        128.50   \n2012                    135.75        129.00   \n2013                    139.50        129.75   \n2014                    140.00        129.50   \n2015                    138.75        130.25   \n2016                    133.25        132.25   \n2017                    131.50        130.75   \n2018                    130.75        122.50   \n2019                    131.75        123.00   \n2020                    133.25        121.00   \n2021                    135.25        124.00   \n2022                    134.50        124.00   \n\n      J INFORMACIJSKE IN KOMUNIKACIJSKE DEJAVNOSTI   \nLETO                                                 \n2008                                        135.25  \\\n2009                                        138.25   \n2010                                        138.00   \n2011                                        137.00   \n2012                                        137.25   \n2013                                        137.00   \n2014                                        136.50   \n2015                                        139.25   \n2016                                        134.75   \n2017                                        133.00   \n2018                                        132.25   \n2019                                        133.00   \n2020                                        135.75   \n2021                                        136.25   \n2022                                        136.00   \n\n      K FINANCNE IN ZAVAROVALNISKE DEJAVNOSTI  L POSLOVANJE Z NEPREMICNINAMI   \nLETO                                                                           \n2008                                   133.00                         134.50  \\\n2009                                   137.25                         135.25   \n2010                                   137.75                         136.00   \n2011                                   135.75                         135.00   \n2012                                   128.75                         134.50   \n2013                                   131.50                         135.00   \n2014                                   131.25                         136.25   \n2015                                   131.75                         137.75   \n2016                                   130.25                         131.25   \n2017                                   129.25                         129.50   \n2018                                   127.50                         128.00   \n2019                                   128.00                         128.00   \n2020                                   133.25                         131.00   \n2021                                   132.75                         131.75   \n2022                                   129.50                         129.50   \n\n      M STROKOVNE, ZNANSTVENE IN TEHNICNE DEJAVNOSTI   \nLETO                                                   \n2008                                          135.25  \\\n2009                                          143.25   \n2010                                          139.00   \n2011                                          138.25   \n2012                                          134.25   \n2013                                          140.25   \n2014                                          139.25   \n2015                                          136.50   \n2016                                          133.00   \n2017                                          129.00   \n2018                                          129.50   \n2019                                          129.25   \n2020                                          131.25   \n2021                                          133.00   \n2022                                          131.00   \n\n      N DRUGE RAZNOVRSTNE POSLOVNE DEJAVNOSTI   \nLETO                                            \n2008                                   131.00  \\\n2009                                   133.75   \n2010                                   134.50   \n2011                                   133.75   \n2012                                   132.00   \n2013                                   133.25   \n2014                                   134.25   \n2015                                   133.75   \n2016                                   132.00   \n2017                                   127.00   \n2018                                   126.25   \n2019                                   125.50   \n2020                                   126.75   \n2021                                   128.75   \n2022                                   126.00   \n\n      O DEJAVNOST JAVNE UPRAVE IN OBRAMBE, DEJAVNOST OBVEZNE SOCIALNE VARNOSTI   \nLETO                                                                             \n2008                                             132.25                         \\\n2009                                             134.50                          \n2010                                             133.25                          \n2011                                             135.75                          \n2012                                             128.00                          \n2013                                             129.25                          \n2014                                             131.75                          \n2015                                             134.75                          \n2016                                             132.25                          \n2017                                             130.75                          \n2018                                             130.00                          \n2019                                             130.25                          \n2020                                             137.75                          \n2021                                             136.25                          \n2022                                             130.25                          \n\n      P IZOBRAZEVANJE  Q ZDRAVSTVO IN SOCIALNO VARSTVO   \nLETO                                                     \n2008           127.75                           141.75  \\\n2009           130.00                           142.25   \n2010           130.50                           139.50   \n2011           129.75                           138.50   \n2012           127.50                           136.50   \n2013           131.25                           136.00   \n2014           132.50                           142.50   \n2015           135.50                           142.00   \n2016           130.50                           141.50   \n2017           127.25                           137.00   \n2018           127.75                           135.50   \n2019           126.50                           135.25   \n2020           124.75                           135.75   \n2021           127.75                           138.00   \n2022           125.25                           132.75   \n\n      R KULTURNE, RAZVEDRILNE IN REKREACIJSKE DEJAVNOSTI  S DRUGE DEJAVNOSTI  \nLETO                                                                          \n2008                                             135.25               124.75  \n2009                                             135.50               126.25  \n2010                                             135.00               129.00  \n2011                                             132.25               127.25  \n2012                                             130.75               136.50  \n2013                                             130.00               135.50  \n2014                                             132.50               136.25  \n2015                                             134.25               137.00  \n2016                                             129.75               130.50  \n2017                                             127.25               128.25  \n2018                                             126.75               121.75  \n2019                                             127.00               122.75  \n2020                                             122.25               125.25  \n2021                                             127.50               127.25  \n2022                                             128.00               128.25  ",
      "text/html": "<div>\n<style scoped>\n    .dataframe tbody tr th:only-of-type {\n        vertical-align: middle;\n    }\n\n    .dataframe tbody tr th {\n        vertical-align: top;\n    }\n\n    .dataframe thead th {\n        text-align: right;\n    }\n</style>\n<table border=\"1\" class=\"dataframe\">\n  <thead>\n    <tr style=\"text-align: right;\">\n      <th></th>\n      <th>SKD DEJAVNOST - SKUPAJ</th>\n      <th>A KMETIJSTVO IN LOV, GOZDARSTVO, RIBISTVO</th>\n      <th>B RUDARSTVO</th>\n      <th>C PREDELOVALNE DEJAVNOSTI</th>\n      <th>D OSKRBA Z ELEKTRICNO ENERGIJO, PLINOM IN PARO</th>\n      <th>E OSKRBA Z VODO, RAVNANJE Z ODPLAKAMI IN ODPADKI, SANIRANJE OKOLJA</th>\n      <th>F GRADBENISTVO</th>\n      <th>G TRGOVINA, VZDRZEVANJE IN POPRAVILA MOTORNIH VOZIL</th>\n      <th>H PROMET IN SKLADISCENJE</th>\n      <th>I GOSTINSTVO</th>\n      <th>J INFORMACIJSKE IN KOMUNIKACIJSKE DEJAVNOSTI</th>\n      <th>K FINANCNE IN ZAVAROVALNISKE DEJAVNOSTI</th>\n      <th>L POSLOVANJE Z NEPREMICNINAMI</th>\n      <th>M STROKOVNE, ZNANSTVENE IN TEHNICNE DEJAVNOSTI</th>\n      <th>N DRUGE RAZNOVRSTNE POSLOVNE DEJAVNOSTI</th>\n      <th>O DEJAVNOST JAVNE UPRAVE IN OBRAMBE, DEJAVNOST OBVEZNE SOCIALNE VARNOSTI</th>\n      <th>P IZOBRAZEVANJE</th>\n      <th>Q ZDRAVSTVO IN SOCIALNO VARSTVO</th>\n      <th>R KULTURNE, RAZVEDRILNE IN REKREACIJSKE DEJAVNOSTI</th>\n      <th>S DRUGE DEJAVNOSTI</th>\n    </tr>\n    <tr>\n      <th>LETO</th>\n      <th></th>\n      <th></th>\n      <th></th>\n      <th></th>\n      <th></th>\n      <th></th>\n      <th></th>\n      <th></th>\n      <th></th>\n      <th></th>\n      <th></th>\n      <th></th>\n      <th></th>\n      <th></th>\n      <th></th>\n      <th></th>\n      <th></th>\n      <th></th>\n      <th></th>\n      <th></th>\n    </tr>\n  </thead>\n  <tbody>\n    <tr>\n      <th>2008</th>\n      <td>134.00</td>\n      <td>133.50</td>\n      <td>133.75</td>\n      <td>134.00</td>\n      <td>135.00</td>\n      <td>135.00</td>\n      <td>136.50</td>\n      <td>134.50</td>\n      <td>136.00</td>\n      <td>128.50</td>\n      <td>135.25</td>\n      <td>133.00</td>\n      <td>134.50</td>\n      <td>135.25</td>\n      <td>131.00</td>\n      <td>132.25</td>\n      <td>127.75</td>\n      <td>141.75</td>\n      <td>135.25</td>\n      <td>124.75</td>\n    </tr>\n    <tr>\n      <th>2009</th>\n      <td>135.00</td>\n      <td>135.00</td>\n      <td>129.75</td>\n      <td>132.25</td>\n      <td>134.00</td>\n      <td>139.25</td>\n      <td>138.50</td>\n      <td>135.25</td>\n      <td>136.75</td>\n      <td>129.75</td>\n      <td>138.25</td>\n      <td>137.25</td>\n      <td>135.25</td>\n      <td>143.25</td>\n      <td>133.75</td>\n      <td>134.50</td>\n      <td>130.00</td>\n      <td>142.25</td>\n      <td>135.50</td>\n      <td>126.25</td>\n    </tr>\n    <tr>\n      <th>2010</th>\n      <td>136.25</td>\n      <td>139.75</td>\n      <td>128.75</td>\n      <td>136.50</td>\n      <td>134.50</td>\n      <td>137.25</td>\n      <td>140.25</td>\n      <td>137.00</td>\n      <td>140.25</td>\n      <td>130.75</td>\n      <td>138.00</td>\n      <td>137.75</td>\n      <td>136.00</td>\n      <td>139.00</td>\n      <td>134.50</td>\n      <td>133.25</td>\n      <td>130.50</td>\n      <td>139.50</td>\n      <td>135.00</td>\n      <td>129.00</td>\n    </tr>\n    <tr>\n      <th>2011</th>\n      <td>135.25</td>\n      <td>137.75</td>\n      <td>130.00</td>\n      <td>135.00</td>\n      <td>133.00</td>\n      <td>136.25</td>\n      <td>139.75</td>\n      <td>134.75</td>\n      <td>138.25</td>\n      <td>128.50</td>\n      <td>137.00</td>\n      <td>135.75</td>\n      <td>135.00</td>\n      <td>138.25</td>\n      <td>133.75</td>\n      <td>135.75</td>\n      <td>129.75</td>\n      <td>138.50</td>\n      <td>132.25</td>\n      <td>127.25</td>\n    </tr>\n    <tr>\n      <th>2012</th>\n      <td>133.25</td>\n      <td>130.50</td>\n      <td>131.00</td>\n      <td>134.00</td>\n      <td>132.50</td>\n      <td>132.00</td>\n      <td>139.00</td>\n      <td>134.25</td>\n      <td>135.75</td>\n      <td>129.00</td>\n      <td>137.25</td>\n      <td>128.75</td>\n      <td>134.50</td>\n      <td>134.25</td>\n      <td>132.00</td>\n      <td>128.00</td>\n      <td>127.50</td>\n      <td>136.50</td>\n      <td>130.75</td>\n      <td>136.50</td>\n    </tr>\n    <tr>\n      <th>2013</th>\n      <td>135.00</td>\n      <td>131.50</td>\n      <td>130.00</td>\n      <td>135.25</td>\n      <td>135.50</td>\n      <td>137.50</td>\n      <td>140.75</td>\n      <td>133.75</td>\n      <td>139.50</td>\n      <td>129.75</td>\n      <td>137.00</td>\n      <td>131.50</td>\n      <td>135.00</td>\n      <td>140.25</td>\n      <td>133.25</td>\n      <td>129.25</td>\n      <td>131.25</td>\n      <td>136.00</td>\n      <td>130.00</td>\n      <td>135.50</td>\n    </tr>\n    <tr>\n      <th>2014</th>\n      <td>136.00</td>\n      <td>132.50</td>\n      <td>130.25</td>\n      <td>136.25</td>\n      <td>133.75</td>\n      <td>136.00</td>\n      <td>142.00</td>\n      <td>135.75</td>\n      <td>140.00</td>\n      <td>129.50</td>\n      <td>136.50</td>\n      <td>131.25</td>\n      <td>136.25</td>\n      <td>139.25</td>\n      <td>134.25</td>\n      <td>131.75</td>\n      <td>132.50</td>\n      <td>142.50</td>\n      <td>132.50</td>\n      <td>136.25</td>\n    </tr>\n    <tr>\n      <th>2015</th>\n      <td>137.00</td>\n      <td>133.75</td>\n      <td>132.50</td>\n      <td>137.75</td>\n      <td>137.00</td>\n      <td>136.00</td>\n      <td>143.75</td>\n      <td>136.25</td>\n      <td>138.75</td>\n      <td>130.25</td>\n      <td>139.25</td>\n      <td>131.75</td>\n      <td>137.75</td>\n      <td>136.50</td>\n      <td>133.75</td>\n      <td>134.75</td>\n      <td>135.50</td>\n      <td>142.00</td>\n      <td>134.25</td>\n      <td>137.00</td>\n    </tr>\n    <tr>\n      <th>2016</th>\n      <td>133.75</td>\n      <td>130.25</td>\n      <td>127.00</td>\n      <td>135.50</td>\n      <td>136.00</td>\n      <td>135.25</td>\n      <td>132.75</td>\n      <td>132.25</td>\n      <td>133.25</td>\n      <td>132.25</td>\n      <td>134.75</td>\n      <td>130.25</td>\n      <td>131.25</td>\n      <td>133.00</td>\n      <td>132.00</td>\n      <td>132.25</td>\n      <td>130.50</td>\n      <td>141.50</td>\n      <td>129.75</td>\n      <td>130.50</td>\n    </tr>\n    <tr>\n      <th>2017</th>\n      <td>131.50</td>\n      <td>128.75</td>\n      <td>127.00</td>\n      <td>133.25</td>\n      <td>136.00</td>\n      <td>138.00</td>\n      <td>131.50</td>\n      <td>131.00</td>\n      <td>131.50</td>\n      <td>130.75</td>\n      <td>133.00</td>\n      <td>129.25</td>\n      <td>129.50</td>\n      <td>129.00</td>\n      <td>127.00</td>\n      <td>130.75</td>\n      <td>127.25</td>\n      <td>137.00</td>\n      <td>127.25</td>\n      <td>128.25</td>\n    </tr>\n    <tr>\n      <th>2018</th>\n      <td>130.25</td>\n      <td>125.75</td>\n      <td>128.50</td>\n      <td>132.00</td>\n      <td>129.75</td>\n      <td>133.50</td>\n      <td>129.50</td>\n      <td>129.25</td>\n      <td>130.75</td>\n      <td>122.50</td>\n      <td>132.25</td>\n      <td>127.50</td>\n      <td>128.00</td>\n      <td>129.50</td>\n      <td>126.25</td>\n      <td>130.00</td>\n      <td>127.75</td>\n      <td>135.50</td>\n      <td>126.75</td>\n      <td>121.75</td>\n    </tr>\n    <tr>\n      <th>2019</th>\n      <td>129.75</td>\n      <td>127.50</td>\n      <td>129.00</td>\n      <td>131.50</td>\n      <td>130.00</td>\n      <td>132.25</td>\n      <td>130.00</td>\n      <td>129.25</td>\n      <td>131.75</td>\n      <td>123.00</td>\n      <td>133.00</td>\n      <td>128.00</td>\n      <td>128.00</td>\n      <td>129.25</td>\n      <td>125.50</td>\n      <td>130.25</td>\n      <td>126.50</td>\n      <td>135.25</td>\n      <td>127.00</td>\n      <td>122.75</td>\n    </tr>\n    <tr>\n      <th>2020</th>\n      <td>131.25</td>\n      <td>129.00</td>\n      <td>133.00</td>\n      <td>132.00</td>\n      <td>132.25</td>\n      <td>132.25</td>\n      <td>132.25</td>\n      <td>130.00</td>\n      <td>133.25</td>\n      <td>121.00</td>\n      <td>135.75</td>\n      <td>133.25</td>\n      <td>131.00</td>\n      <td>131.25</td>\n      <td>126.75</td>\n      <td>137.75</td>\n      <td>124.75</td>\n      <td>135.75</td>\n      <td>122.25</td>\n      <td>125.25</td>\n    </tr>\n    <tr>\n      <th>2021</th>\n      <td>133.00</td>\n      <td>130.00</td>\n      <td>130.00</td>\n      <td>134.00</td>\n      <td>131.25</td>\n      <td>133.75</td>\n      <td>134.50</td>\n      <td>131.00</td>\n      <td>135.25</td>\n      <td>124.00</td>\n      <td>136.25</td>\n      <td>132.75</td>\n      <td>131.75</td>\n      <td>133.00</td>\n      <td>128.75</td>\n      <td>136.25</td>\n      <td>127.75</td>\n      <td>138.00</td>\n      <td>127.50</td>\n      <td>127.25</td>\n    </tr>\n    <tr>\n      <th>2022</th>\n      <td>130.25</td>\n      <td>129.25</td>\n      <td>127.25</td>\n      <td>131.25</td>\n      <td>128.50</td>\n      <td>131.50</td>\n      <td>133.00</td>\n      <td>129.50</td>\n      <td>134.50</td>\n      <td>124.00</td>\n      <td>136.00</td>\n      <td>129.50</td>\n      <td>129.50</td>\n      <td>131.00</td>\n      <td>126.00</td>\n      <td>130.25</td>\n      <td>125.25</td>\n      <td>132.75</td>\n      <td>128.00</td>\n      <td>128.25</td>\n    </tr>\n  </tbody>\n</table>\n</div>"
     },
     "execution_count": 68,
     "metadata": {},
     "output_type": "execute_result"
    }
   ],
   "source": [
    "# Pregled vseh stolpcev\n",
    "opravljene_delovne_ure_grouped"
   ]
  },
  {
   "cell_type": "code",
   "execution_count": 69,
   "outputs": [
    {
     "data": {
      "text/plain": "      SKD DEJAVNOST - SKUPAJ  A KMETIJSTVO IN LOV, GOZDARSTVO, RIBISTVO   \nLETO                                                                      \n2008                  169.50                                     170.50  \\\n2009                  167.50                                     169.75   \n2010                  168.25                                     171.75   \n2011                  168.00                                     171.50   \n2012                  168.25                                     167.25   \n2013                  168.00                                     166.75   \n2014                  168.25                                     166.50   \n2015                  168.00                                     166.50   \n2016                  167.00                                     164.50   \n2017                  166.50                                     163.75   \n2018                  166.00                                     161.75   \n2019                  165.75                                     162.00   \n2020                  163.25                                     160.75   \n2021                  165.25                                     161.50   \n2022                  164.25                                     160.50   \n\n      B RUDARSTVO  C PREDELOVALNE DEJAVNOSTI   \nLETO                                           \n2008       174.25                     171.25  \\\n2009       170.75                     166.00   \n2010       169.00                     169.25   \n2011       170.00                     169.50   \n2012       173.75                     170.50   \n2013       172.00                     170.50   \n2014       170.50                     170.50   \n2015       170.25                     170.25   \n2016       166.75                     169.50   \n2017       168.00                     169.00   \n2018       169.25                     168.75   \n2019       170.00                     168.25   \n2020       171.25                     165.00   \n2021       167.75                     167.25   \n2022       166.00                     166.00   \n\n      D OSKRBA Z ELEKTRICNO ENERGIJO, PLINOM IN PARO   \nLETO                                                   \n2008                                          177.00  \\\n2009                                          172.25   \n2010                                          171.75   \n2011                                          171.00   \n2012                                          172.00   \n2013                                          172.00   \n2014                                          172.00   \n2015                                          171.75   \n2016                                          171.50   \n2017                                          172.50   \n2018                                          172.00   \n2019                                          171.25   \n2020                                          170.50   \n2021                                          169.00   \n2022                                          166.75   \n\n      E OSKRBA Z VODO, RAVNANJE Z ODPLAKAMI IN ODPADKI, SANIRANJE OKOLJA   \nLETO                                                                       \n2008                                             173.75                   \\\n2009                                             172.00                    \n2010                                             171.75                    \n2011                                             170.50                    \n2012                                             171.75                    \n2013                                             171.25                    \n2014                                             171.25                    \n2015                                             171.50                    \n2016                                             171.50                    \n2017                                             171.00                    \n2018                                             171.25                    \n2019                                             170.00                    \n2020                                             167.25                    \n2021                                             168.25                    \n2022                                             167.50                    \n\n      F GRADBENISTVO  G TRGOVINA, VZDRZEVANJE IN POPRAVILA MOTORNIH VOZIL   \nLETO                                                                        \n2008          169.00                                             168.25    \\\n2009          168.00                                             167.25     \n2010          168.50                                             167.25     \n2011          168.00                                             167.00     \n2012          168.25                                             167.00     \n2013          168.00                                             166.50     \n2014          168.25                                             166.25     \n2015          168.50                                             165.50     \n2016          164.50                                             164.50     \n2017          164.50                                             163.75     \n2018          163.00                                             163.25     \n2019          162.75                                             163.50     \n2020          162.25                                             160.75     \n2021          164.00                                             162.00     \n2022          164.00                                             162.25     \n\n      H PROMET IN SKLADISCENJE  I GOSTINSTVO   \nLETO                                           \n2008                    172.50        163.25  \\\n2009                    170.25        162.25   \n2010                    173.50        163.00   \n2011                    173.25        161.75   \n2012                    170.75        158.50   \n2013                    171.25        158.75   \n2014                    171.00        157.00   \n2015                    171.25        156.00   \n2016                    165.25        163.50   \n2017                    165.00        162.50   \n2018                    165.50        154.75   \n2019                    166.00        155.25   \n2020                    165.00        149.25   \n2021                    166.50        152.50   \n2022                    166.75        155.25   \n\n      J INFORMACIJSKE IN KOMUNIKACIJSKE DEJAVNOSTI   \nLETO                                                 \n2008                                        170.50  \\\n2009                                        169.75   \n2010                                        169.50   \n2011                                        168.75   \n2012                                        169.25   \n2013                                        168.75   \n2014                                        168.00   \n2015                                        168.75   \n2016                                        168.50   \n2017                                        168.25   \n2018                                        167.50   \n2019                                        168.25   \n2020                                        167.75   \n2021                                        167.50   \n2022                                        166.75   \n\n      K FINANCNE IN ZAVAROVALNISKE DEJAVNOSTI  L POSLOVANJE Z NEPREMICNINAMI   \nLETO                                                                           \n2008                                   167.25                         167.50  \\\n2009                                   167.00                         166.50   \n2010                                   167.50                         166.00   \n2011                                   166.75                         166.25   \n2012                                   166.75                         166.00   \n2013                                   166.50                         165.25   \n2014                                   166.00                         165.50   \n2015                                   165.50                         164.75   \n2016                                   165.75                         163.75   \n2017                                   165.00                         163.25   \n2018                                   165.50                         162.75   \n2019                                   165.50                         162.25   \n2020                                   166.50                         162.00   \n2021                                   165.50                         161.25   \n2022                                   164.00                         161.25   \n\n      M STROKOVNE, ZNANSTVENE IN TEHNICNE DEJAVNOSTI   \nLETO                                                   \n2008                                          168.50  \\\n2009                                          168.00   \n2010                                          167.75   \n2011                                          166.50   \n2012                                          165.75   \n2013                                          165.25   \n2014                                          165.00   \n2015                                          164.25   \n2016                                          161.75   \n2017                                          161.50   \n2018                                          162.00   \n2019                                          162.25   \n2020                                          160.75   \n2021                                          161.75   \n2022                                          161.50   \n\n      N DRUGE RAZNOVRSTNE POSLOVNE DEJAVNOSTI   \nLETO                                            \n2008                                   164.75  \\\n2009                                   164.25   \n2010                                   163.75   \n2011                                   164.25   \n2012                                   163.25   \n2013                                   163.00   \n2014                                   162.50   \n2015                                   161.25   \n2016                                   161.75   \n2017                                   160.25   \n2018                                   159.75   \n2019                                   159.00   \n2020                                   157.00   \n2021                                   158.75   \n2022                                   158.25   \n\n      O DEJAVNOST JAVNE UPRAVE IN OBRAMBE, DEJAVNOST OBVEZNE SOCIALNE VARNOSTI   \nLETO                                                                             \n2008                                             169.50                         \\\n2009                                             169.00                          \n2010                                             168.75                          \n2011                                             168.00                          \n2012                                             168.25                          \n2013                                             169.75                          \n2014                                             170.50                          \n2015                                             170.50                          \n2016                                             171.00                          \n2017                                             171.75                          \n2018                                             172.25                          \n2019                                             172.25                          \n2020                                             172.25                          \n2021                                             172.00                          \n2022                                             169.00                          \n\n      P IZOBRAZEVANJE  Q ZDRAVSTVO IN SOCIALNO VARSTVO   \nLETO                                                     \n2008           165.75                           176.00  \\\n2009           165.50                           174.00   \n2010           165.50                           173.25   \n2011           164.75                           172.50   \n2012           165.00                           172.75   \n2013           165.00                           172.25   \n2014           166.50                           175.25   \n2015           166.25                           175.25   \n2016           166.50                           174.50   \n2017           165.25                           173.50   \n2018           165.25                           173.00   \n2019           165.50                           173.00   \n2020           159.25                           171.25   \n2021           162.50                           174.00   \n2022           162.50                           170.25   \n\n      R KULTURNE, RAZVEDRILNE IN REKREACIJSKE DEJAVNOSTI  S DRUGE DEJAVNOSTI  \nLETO                                                                          \n2008                                             166.25               159.75  \n2009                                             166.00               158.50  \n2010                                             166.25               160.50  \n2011                                             165.50               160.25  \n2012                                             166.00               168.25  \n2013                                             166.00               168.00  \n2014                                             166.25               167.00  \n2015                                             165.25               166.25  \n2016                                             164.50               161.25  \n2017                                             164.50               161.00  \n2018                                             164.75               155.00  \n2019                                             165.00               155.25  \n2020                                             156.75               154.50  \n2021                                             161.25               155.50  \n2022                                             163.00               157.00  ",
      "text/html": "<div>\n<style scoped>\n    .dataframe tbody tr th:only-of-type {\n        vertical-align: middle;\n    }\n\n    .dataframe tbody tr th {\n        vertical-align: top;\n    }\n\n    .dataframe thead th {\n        text-align: right;\n    }\n</style>\n<table border=\"1\" class=\"dataframe\">\n  <thead>\n    <tr style=\"text-align: right;\">\n      <th></th>\n      <th>SKD DEJAVNOST - SKUPAJ</th>\n      <th>A KMETIJSTVO IN LOV, GOZDARSTVO, RIBISTVO</th>\n      <th>B RUDARSTVO</th>\n      <th>C PREDELOVALNE DEJAVNOSTI</th>\n      <th>D OSKRBA Z ELEKTRICNO ENERGIJO, PLINOM IN PARO</th>\n      <th>E OSKRBA Z VODO, RAVNANJE Z ODPLAKAMI IN ODPADKI, SANIRANJE OKOLJA</th>\n      <th>F GRADBENISTVO</th>\n      <th>G TRGOVINA, VZDRZEVANJE IN POPRAVILA MOTORNIH VOZIL</th>\n      <th>H PROMET IN SKLADISCENJE</th>\n      <th>I GOSTINSTVO</th>\n      <th>J INFORMACIJSKE IN KOMUNIKACIJSKE DEJAVNOSTI</th>\n      <th>K FINANCNE IN ZAVAROVALNISKE DEJAVNOSTI</th>\n      <th>L POSLOVANJE Z NEPREMICNINAMI</th>\n      <th>M STROKOVNE, ZNANSTVENE IN TEHNICNE DEJAVNOSTI</th>\n      <th>N DRUGE RAZNOVRSTNE POSLOVNE DEJAVNOSTI</th>\n      <th>O DEJAVNOST JAVNE UPRAVE IN OBRAMBE, DEJAVNOST OBVEZNE SOCIALNE VARNOSTI</th>\n      <th>P IZOBRAZEVANJE</th>\n      <th>Q ZDRAVSTVO IN SOCIALNO VARSTVO</th>\n      <th>R KULTURNE, RAZVEDRILNE IN REKREACIJSKE DEJAVNOSTI</th>\n      <th>S DRUGE DEJAVNOSTI</th>\n    </tr>\n    <tr>\n      <th>LETO</th>\n      <th></th>\n      <th></th>\n      <th></th>\n      <th></th>\n      <th></th>\n      <th></th>\n      <th></th>\n      <th></th>\n      <th></th>\n      <th></th>\n      <th></th>\n      <th></th>\n      <th></th>\n      <th></th>\n      <th></th>\n      <th></th>\n      <th></th>\n      <th></th>\n      <th></th>\n      <th></th>\n    </tr>\n  </thead>\n  <tbody>\n    <tr>\n      <th>2008</th>\n      <td>169.50</td>\n      <td>170.50</td>\n      <td>174.25</td>\n      <td>171.25</td>\n      <td>177.00</td>\n      <td>173.75</td>\n      <td>169.00</td>\n      <td>168.25</td>\n      <td>172.50</td>\n      <td>163.25</td>\n      <td>170.50</td>\n      <td>167.25</td>\n      <td>167.50</td>\n      <td>168.50</td>\n      <td>164.75</td>\n      <td>169.50</td>\n      <td>165.75</td>\n      <td>176.00</td>\n      <td>166.25</td>\n      <td>159.75</td>\n    </tr>\n    <tr>\n      <th>2009</th>\n      <td>167.50</td>\n      <td>169.75</td>\n      <td>170.75</td>\n      <td>166.00</td>\n      <td>172.25</td>\n      <td>172.00</td>\n      <td>168.00</td>\n      <td>167.25</td>\n      <td>170.25</td>\n      <td>162.25</td>\n      <td>169.75</td>\n      <td>167.00</td>\n      <td>166.50</td>\n      <td>168.00</td>\n      <td>164.25</td>\n      <td>169.00</td>\n      <td>165.50</td>\n      <td>174.00</td>\n      <td>166.00</td>\n      <td>158.50</td>\n    </tr>\n    <tr>\n      <th>2010</th>\n      <td>168.25</td>\n      <td>171.75</td>\n      <td>169.00</td>\n      <td>169.25</td>\n      <td>171.75</td>\n      <td>171.75</td>\n      <td>168.50</td>\n      <td>167.25</td>\n      <td>173.50</td>\n      <td>163.00</td>\n      <td>169.50</td>\n      <td>167.50</td>\n      <td>166.00</td>\n      <td>167.75</td>\n      <td>163.75</td>\n      <td>168.75</td>\n      <td>165.50</td>\n      <td>173.25</td>\n      <td>166.25</td>\n      <td>160.50</td>\n    </tr>\n    <tr>\n      <th>2011</th>\n      <td>168.00</td>\n      <td>171.50</td>\n      <td>170.00</td>\n      <td>169.50</td>\n      <td>171.00</td>\n      <td>170.50</td>\n      <td>168.00</td>\n      <td>167.00</td>\n      <td>173.25</td>\n      <td>161.75</td>\n      <td>168.75</td>\n      <td>166.75</td>\n      <td>166.25</td>\n      <td>166.50</td>\n      <td>164.25</td>\n      <td>168.00</td>\n      <td>164.75</td>\n      <td>172.50</td>\n      <td>165.50</td>\n      <td>160.25</td>\n    </tr>\n    <tr>\n      <th>2012</th>\n      <td>168.25</td>\n      <td>167.25</td>\n      <td>173.75</td>\n      <td>170.50</td>\n      <td>172.00</td>\n      <td>171.75</td>\n      <td>168.25</td>\n      <td>167.00</td>\n      <td>170.75</td>\n      <td>158.50</td>\n      <td>169.25</td>\n      <td>166.75</td>\n      <td>166.00</td>\n      <td>165.75</td>\n      <td>163.25</td>\n      <td>168.25</td>\n      <td>165.00</td>\n      <td>172.75</td>\n      <td>166.00</td>\n      <td>168.25</td>\n    </tr>\n    <tr>\n      <th>2013</th>\n      <td>168.00</td>\n      <td>166.75</td>\n      <td>172.00</td>\n      <td>170.50</td>\n      <td>172.00</td>\n      <td>171.25</td>\n      <td>168.00</td>\n      <td>166.50</td>\n      <td>171.25</td>\n      <td>158.75</td>\n      <td>168.75</td>\n      <td>166.50</td>\n      <td>165.25</td>\n      <td>165.25</td>\n      <td>163.00</td>\n      <td>169.75</td>\n      <td>165.00</td>\n      <td>172.25</td>\n      <td>166.00</td>\n      <td>168.00</td>\n    </tr>\n    <tr>\n      <th>2014</th>\n      <td>168.25</td>\n      <td>166.50</td>\n      <td>170.50</td>\n      <td>170.50</td>\n      <td>172.00</td>\n      <td>171.25</td>\n      <td>168.25</td>\n      <td>166.25</td>\n      <td>171.00</td>\n      <td>157.00</td>\n      <td>168.00</td>\n      <td>166.00</td>\n      <td>165.50</td>\n      <td>165.00</td>\n      <td>162.50</td>\n      <td>170.50</td>\n      <td>166.50</td>\n      <td>175.25</td>\n      <td>166.25</td>\n      <td>167.00</td>\n    </tr>\n    <tr>\n      <th>2015</th>\n      <td>168.00</td>\n      <td>166.50</td>\n      <td>170.25</td>\n      <td>170.25</td>\n      <td>171.75</td>\n      <td>171.50</td>\n      <td>168.50</td>\n      <td>165.50</td>\n      <td>171.25</td>\n      <td>156.00</td>\n      <td>168.75</td>\n      <td>165.50</td>\n      <td>164.75</td>\n      <td>164.25</td>\n      <td>161.25</td>\n      <td>170.50</td>\n      <td>166.25</td>\n      <td>175.25</td>\n      <td>165.25</td>\n      <td>166.25</td>\n    </tr>\n    <tr>\n      <th>2016</th>\n      <td>167.00</td>\n      <td>164.50</td>\n      <td>166.75</td>\n      <td>169.50</td>\n      <td>171.50</td>\n      <td>171.50</td>\n      <td>164.50</td>\n      <td>164.50</td>\n      <td>165.25</td>\n      <td>163.50</td>\n      <td>168.50</td>\n      <td>165.75</td>\n      <td>163.75</td>\n      <td>161.75</td>\n      <td>161.75</td>\n      <td>171.00</td>\n      <td>166.50</td>\n      <td>174.50</td>\n      <td>164.50</td>\n      <td>161.25</td>\n    </tr>\n    <tr>\n      <th>2017</th>\n      <td>166.50</td>\n      <td>163.75</td>\n      <td>168.00</td>\n      <td>169.00</td>\n      <td>172.50</td>\n      <td>171.00</td>\n      <td>164.50</td>\n      <td>163.75</td>\n      <td>165.00</td>\n      <td>162.50</td>\n      <td>168.25</td>\n      <td>165.00</td>\n      <td>163.25</td>\n      <td>161.50</td>\n      <td>160.25</td>\n      <td>171.75</td>\n      <td>165.25</td>\n      <td>173.50</td>\n      <td>164.50</td>\n      <td>161.00</td>\n    </tr>\n    <tr>\n      <th>2018</th>\n      <td>166.00</td>\n      <td>161.75</td>\n      <td>169.25</td>\n      <td>168.75</td>\n      <td>172.00</td>\n      <td>171.25</td>\n      <td>163.00</td>\n      <td>163.25</td>\n      <td>165.50</td>\n      <td>154.75</td>\n      <td>167.50</td>\n      <td>165.50</td>\n      <td>162.75</td>\n      <td>162.00</td>\n      <td>159.75</td>\n      <td>172.25</td>\n      <td>165.25</td>\n      <td>173.00</td>\n      <td>164.75</td>\n      <td>155.00</td>\n    </tr>\n    <tr>\n      <th>2019</th>\n      <td>165.75</td>\n      <td>162.00</td>\n      <td>170.00</td>\n      <td>168.25</td>\n      <td>171.25</td>\n      <td>170.00</td>\n      <td>162.75</td>\n      <td>163.50</td>\n      <td>166.00</td>\n      <td>155.25</td>\n      <td>168.25</td>\n      <td>165.50</td>\n      <td>162.25</td>\n      <td>162.25</td>\n      <td>159.00</td>\n      <td>172.25</td>\n      <td>165.50</td>\n      <td>173.00</td>\n      <td>165.00</td>\n      <td>155.25</td>\n    </tr>\n    <tr>\n      <th>2020</th>\n      <td>163.25</td>\n      <td>160.75</td>\n      <td>171.25</td>\n      <td>165.00</td>\n      <td>170.50</td>\n      <td>167.25</td>\n      <td>162.25</td>\n      <td>160.75</td>\n      <td>165.00</td>\n      <td>149.25</td>\n      <td>167.75</td>\n      <td>166.50</td>\n      <td>162.00</td>\n      <td>160.75</td>\n      <td>157.00</td>\n      <td>172.25</td>\n      <td>159.25</td>\n      <td>171.25</td>\n      <td>156.75</td>\n      <td>154.50</td>\n    </tr>\n    <tr>\n      <th>2021</th>\n      <td>165.25</td>\n      <td>161.50</td>\n      <td>167.75</td>\n      <td>167.25</td>\n      <td>169.00</td>\n      <td>168.25</td>\n      <td>164.00</td>\n      <td>162.00</td>\n      <td>166.50</td>\n      <td>152.50</td>\n      <td>167.50</td>\n      <td>165.50</td>\n      <td>161.25</td>\n      <td>161.75</td>\n      <td>158.75</td>\n      <td>172.00</td>\n      <td>162.50</td>\n      <td>174.00</td>\n      <td>161.25</td>\n      <td>155.50</td>\n    </tr>\n    <tr>\n      <th>2022</th>\n      <td>164.25</td>\n      <td>160.50</td>\n      <td>166.00</td>\n      <td>166.00</td>\n      <td>166.75</td>\n      <td>167.50</td>\n      <td>164.00</td>\n      <td>162.25</td>\n      <td>166.75</td>\n      <td>155.25</td>\n      <td>166.75</td>\n      <td>164.00</td>\n      <td>161.25</td>\n      <td>161.50</td>\n      <td>158.25</td>\n      <td>169.00</td>\n      <td>162.50</td>\n      <td>170.25</td>\n      <td>163.00</td>\n      <td>157.00</td>\n    </tr>\n  </tbody>\n</table>\n</div>"
     },
     "execution_count": 69,
     "metadata": {},
     "output_type": "execute_result"
    }
   ],
   "source": [
    "placane_delovne_ure_grouped"
   ],
   "metadata": {
    "collapsed": false
   }
  },
  {
   "cell_type": "markdown",
   "id": "6ee79005",
   "metadata": {},
   "source": [
    "---"
   ]
  },
  {
   "cell_type": "code",
   "execution_count": 70,
   "outputs": [
    {
     "data": {
      "application/vnd.plotly.v1+json": {
       "data": [
        {
         "coloraxis": "coloraxis",
         "name": "0",
         "x": [
          "2008",
          "2009",
          "2010",
          "2011",
          "2012",
          "2013",
          "2014",
          "2015",
          "2016",
          "2017",
          "2018",
          "2019",
          "2020",
          "2021",
          "2022"
         ],
         "y": [
          "A KMETIJSTVO IN LOV, GOZDARSTVO, RIBISTVO",
          "B RUDARSTVO",
          "C PREDELOVALNE DEJAVNOSTI",
          "D OSKRBA Z ELEKTRICNO ENERGIJO, PLINOM IN PARO",
          "E OSKRBA Z VODO, RAVNANJE Z ODPLAKAMI IN ODPADKI, SANIRANJE OKOLJA",
          "F GRADBENISTVO",
          "G TRGOVINA, VZDRZEVANJE IN POPRAVILA MOTORNIH VOZIL",
          "H PROMET IN SKLADISCENJE",
          "I GOSTINSTVO",
          "J INFORMACIJSKE IN KOMUNIKACIJSKE DEJAVNOSTI",
          "K FINANCNE IN ZAVAROVALNISKE DEJAVNOSTI",
          "L POSLOVANJE Z NEPREMICNINAMI",
          "M STROKOVNE, ZNANSTVENE IN TEHNICNE DEJAVNOSTI",
          "N DRUGE RAZNOVRSTNE POSLOVNE DEJAVNOSTI",
          "O DEJAVNOST JAVNE UPRAVE IN OBRAMBE, DEJAVNOST OBVEZNE SOCIALNE VARNOSTI",
          "P IZOBRAZEVANJE",
          "Q ZDRAVSTVO IN SOCIALNO VARSTVO",
          "R KULTURNE, RAZVEDRILNE IN REKREACIJSKE DEJAVNOSTI",
          "S DRUGE DEJAVNOSTI"
         ],
         "z": [
          [
           133.5,
           135.0,
           139.75,
           137.75,
           130.5,
           131.5,
           132.5,
           133.75,
           130.25,
           128.75,
           125.75,
           127.5,
           129.0,
           130.0,
           129.25
          ],
          [
           133.75,
           129.75,
           128.75,
           130.0,
           131.0,
           130.0,
           130.25,
           132.5,
           127.0,
           127.0,
           128.5,
           129.0,
           133.0,
           130.0,
           127.25
          ],
          [
           134.0,
           132.25,
           136.5,
           135.0,
           134.0,
           135.25,
           136.25,
           137.75,
           135.5,
           133.25,
           132.0,
           131.5,
           132.0,
           134.0,
           131.25
          ],
          [
           135.0,
           134.0,
           134.5,
           133.0,
           132.5,
           135.5,
           133.75,
           137.0,
           136.0,
           136.0,
           129.75,
           130.0,
           132.25,
           131.25,
           128.5
          ],
          [
           135.0,
           139.25,
           137.25,
           136.25,
           132.0,
           137.5,
           136.0,
           136.0,
           135.25,
           138.0,
           133.5,
           132.25,
           132.25,
           133.75,
           131.5
          ],
          [
           136.5,
           138.5,
           140.25,
           139.75,
           139.0,
           140.75,
           142.0,
           143.75,
           132.75,
           131.5,
           129.5,
           130.0,
           132.25,
           134.5,
           133.0
          ],
          [
           134.5,
           135.25,
           137.0,
           134.75,
           134.25,
           133.75,
           135.75,
           136.25,
           132.25,
           131.0,
           129.25,
           129.25,
           130.0,
           131.0,
           129.5
          ],
          [
           136.0,
           136.75,
           140.25,
           138.25,
           135.75,
           139.5,
           140.0,
           138.75,
           133.25,
           131.5,
           130.75,
           131.75,
           133.25,
           135.25,
           134.5
          ],
          [
           128.5,
           129.75,
           130.75,
           128.5,
           129.0,
           129.75,
           129.5,
           130.25,
           132.25,
           130.75,
           122.5,
           123.0,
           121.0,
           124.0,
           124.0
          ],
          [
           135.25,
           138.25,
           138.0,
           137.0,
           137.25,
           137.0,
           136.5,
           139.25,
           134.75,
           133.0,
           132.25,
           133.0,
           135.75,
           136.25,
           136.0
          ],
          [
           133.0,
           137.25,
           137.75,
           135.75,
           128.75,
           131.5,
           131.25,
           131.75,
           130.25,
           129.25,
           127.5,
           128.0,
           133.25,
           132.75,
           129.5
          ],
          [
           134.5,
           135.25,
           136.0,
           135.0,
           134.5,
           135.0,
           136.25,
           137.75,
           131.25,
           129.5,
           128.0,
           128.0,
           131.0,
           131.75,
           129.5
          ],
          [
           135.25,
           143.25,
           139.0,
           138.25,
           134.25,
           140.25,
           139.25,
           136.5,
           133.0,
           129.0,
           129.5,
           129.25,
           131.25,
           133.0,
           131.0
          ],
          [
           131.0,
           133.75,
           134.5,
           133.75,
           132.0,
           133.25,
           134.25,
           133.75,
           132.0,
           127.0,
           126.25,
           125.5,
           126.75,
           128.75,
           126.0
          ],
          [
           132.25,
           134.5,
           133.25,
           135.75,
           128.0,
           129.25,
           131.75,
           134.75,
           132.25,
           130.75,
           130.0,
           130.25,
           137.75,
           136.25,
           130.25
          ],
          [
           127.75,
           130.0,
           130.5,
           129.75,
           127.5,
           131.25,
           132.5,
           135.5,
           130.5,
           127.25,
           127.75,
           126.5,
           124.75,
           127.75,
           125.25
          ],
          [
           141.75,
           142.25,
           139.5,
           138.5,
           136.5,
           136.0,
           142.5,
           142.0,
           141.5,
           137.0,
           135.5,
           135.25,
           135.75,
           138.0,
           132.75
          ],
          [
           135.25,
           135.5,
           135.0,
           132.25,
           130.75,
           130.0,
           132.5,
           134.25,
           129.75,
           127.25,
           126.75,
           127.0,
           122.25,
           127.5,
           128.0
          ],
          [
           124.75,
           126.25,
           129.0,
           127.25,
           136.5,
           135.5,
           136.25,
           137.0,
           130.5,
           128.25,
           121.75,
           122.75,
           125.25,
           127.25,
           128.25
          ]
         ],
         "type": "heatmap",
         "xaxis": "x",
         "yaxis": "y",
         "hovertemplate": "Leto: %{x}<br>Kategorija: %{y}<br>color: %{z}<extra></extra>"
        }
       ],
       "layout": {
        "template": {
         "data": {
          "histogram2dcontour": [
           {
            "type": "histogram2dcontour",
            "colorbar": {
             "outlinewidth": 0,
             "ticks": ""
            },
            "colorscale": [
             [
              0.0,
              "#0d0887"
             ],
             [
              0.1111111111111111,
              "#46039f"
             ],
             [
              0.2222222222222222,
              "#7201a8"
             ],
             [
              0.3333333333333333,
              "#9c179e"
             ],
             [
              0.4444444444444444,
              "#bd3786"
             ],
             [
              0.5555555555555556,
              "#d8576b"
             ],
             [
              0.6666666666666666,
              "#ed7953"
             ],
             [
              0.7777777777777778,
              "#fb9f3a"
             ],
             [
              0.8888888888888888,
              "#fdca26"
             ],
             [
              1.0,
              "#f0f921"
             ]
            ]
           }
          ],
          "choropleth": [
           {
            "type": "choropleth",
            "colorbar": {
             "outlinewidth": 0,
             "ticks": ""
            }
           }
          ],
          "histogram2d": [
           {
            "type": "histogram2d",
            "colorbar": {
             "outlinewidth": 0,
             "ticks": ""
            },
            "colorscale": [
             [
              0.0,
              "#0d0887"
             ],
             [
              0.1111111111111111,
              "#46039f"
             ],
             [
              0.2222222222222222,
              "#7201a8"
             ],
             [
              0.3333333333333333,
              "#9c179e"
             ],
             [
              0.4444444444444444,
              "#bd3786"
             ],
             [
              0.5555555555555556,
              "#d8576b"
             ],
             [
              0.6666666666666666,
              "#ed7953"
             ],
             [
              0.7777777777777778,
              "#fb9f3a"
             ],
             [
              0.8888888888888888,
              "#fdca26"
             ],
             [
              1.0,
              "#f0f921"
             ]
            ]
           }
          ],
          "heatmap": [
           {
            "type": "heatmap",
            "colorbar": {
             "outlinewidth": 0,
             "ticks": ""
            },
            "colorscale": [
             [
              0.0,
              "#0d0887"
             ],
             [
              0.1111111111111111,
              "#46039f"
             ],
             [
              0.2222222222222222,
              "#7201a8"
             ],
             [
              0.3333333333333333,
              "#9c179e"
             ],
             [
              0.4444444444444444,
              "#bd3786"
             ],
             [
              0.5555555555555556,
              "#d8576b"
             ],
             [
              0.6666666666666666,
              "#ed7953"
             ],
             [
              0.7777777777777778,
              "#fb9f3a"
             ],
             [
              0.8888888888888888,
              "#fdca26"
             ],
             [
              1.0,
              "#f0f921"
             ]
            ]
           }
          ],
          "heatmapgl": [
           {
            "type": "heatmapgl",
            "colorbar": {
             "outlinewidth": 0,
             "ticks": ""
            },
            "colorscale": [
             [
              0.0,
              "#0d0887"
             ],
             [
              0.1111111111111111,
              "#46039f"
             ],
             [
              0.2222222222222222,
              "#7201a8"
             ],
             [
              0.3333333333333333,
              "#9c179e"
             ],
             [
              0.4444444444444444,
              "#bd3786"
             ],
             [
              0.5555555555555556,
              "#d8576b"
             ],
             [
              0.6666666666666666,
              "#ed7953"
             ],
             [
              0.7777777777777778,
              "#fb9f3a"
             ],
             [
              0.8888888888888888,
              "#fdca26"
             ],
             [
              1.0,
              "#f0f921"
             ]
            ]
           }
          ],
          "contourcarpet": [
           {
            "type": "contourcarpet",
            "colorbar": {
             "outlinewidth": 0,
             "ticks": ""
            }
           }
          ],
          "contour": [
           {
            "type": "contour",
            "colorbar": {
             "outlinewidth": 0,
             "ticks": ""
            },
            "colorscale": [
             [
              0.0,
              "#0d0887"
             ],
             [
              0.1111111111111111,
              "#46039f"
             ],
             [
              0.2222222222222222,
              "#7201a8"
             ],
             [
              0.3333333333333333,
              "#9c179e"
             ],
             [
              0.4444444444444444,
              "#bd3786"
             ],
             [
              0.5555555555555556,
              "#d8576b"
             ],
             [
              0.6666666666666666,
              "#ed7953"
             ],
             [
              0.7777777777777778,
              "#fb9f3a"
             ],
             [
              0.8888888888888888,
              "#fdca26"
             ],
             [
              1.0,
              "#f0f921"
             ]
            ]
           }
          ],
          "surface": [
           {
            "type": "surface",
            "colorbar": {
             "outlinewidth": 0,
             "ticks": ""
            },
            "colorscale": [
             [
              0.0,
              "#0d0887"
             ],
             [
              0.1111111111111111,
              "#46039f"
             ],
             [
              0.2222222222222222,
              "#7201a8"
             ],
             [
              0.3333333333333333,
              "#9c179e"
             ],
             [
              0.4444444444444444,
              "#bd3786"
             ],
             [
              0.5555555555555556,
              "#d8576b"
             ],
             [
              0.6666666666666666,
              "#ed7953"
             ],
             [
              0.7777777777777778,
              "#fb9f3a"
             ],
             [
              0.8888888888888888,
              "#fdca26"
             ],
             [
              1.0,
              "#f0f921"
             ]
            ]
           }
          ],
          "mesh3d": [
           {
            "type": "mesh3d",
            "colorbar": {
             "outlinewidth": 0,
             "ticks": ""
            }
           }
          ],
          "scatter": [
           {
            "marker": {
             "line": {
              "color": "#283442"
             }
            },
            "type": "scatter"
           }
          ],
          "parcoords": [
           {
            "type": "parcoords",
            "line": {
             "colorbar": {
              "outlinewidth": 0,
              "ticks": ""
             }
            }
           }
          ],
          "scatterpolargl": [
           {
            "type": "scatterpolargl",
            "marker": {
             "colorbar": {
              "outlinewidth": 0,
              "ticks": ""
             }
            }
           }
          ],
          "bar": [
           {
            "error_x": {
             "color": "#f2f5fa"
            },
            "error_y": {
             "color": "#f2f5fa"
            },
            "marker": {
             "line": {
              "color": "rgb(17,17,17)",
              "width": 0.5
             },
             "pattern": {
              "fillmode": "overlay",
              "size": 10,
              "solidity": 0.2
             }
            },
            "type": "bar"
           }
          ],
          "scattergeo": [
           {
            "type": "scattergeo",
            "marker": {
             "colorbar": {
              "outlinewidth": 0,
              "ticks": ""
             }
            }
           }
          ],
          "scatterpolar": [
           {
            "type": "scatterpolar",
            "marker": {
             "colorbar": {
              "outlinewidth": 0,
              "ticks": ""
             }
            }
           }
          ],
          "histogram": [
           {
            "marker": {
             "pattern": {
              "fillmode": "overlay",
              "size": 10,
              "solidity": 0.2
             }
            },
            "type": "histogram"
           }
          ],
          "scattergl": [
           {
            "marker": {
             "line": {
              "color": "#283442"
             }
            },
            "type": "scattergl"
           }
          ],
          "scatter3d": [
           {
            "type": "scatter3d",
            "line": {
             "colorbar": {
              "outlinewidth": 0,
              "ticks": ""
             }
            },
            "marker": {
             "colorbar": {
              "outlinewidth": 0,
              "ticks": ""
             }
            }
           }
          ],
          "scattermapbox": [
           {
            "type": "scattermapbox",
            "marker": {
             "colorbar": {
              "outlinewidth": 0,
              "ticks": ""
             }
            }
           }
          ],
          "scatterternary": [
           {
            "type": "scatterternary",
            "marker": {
             "colorbar": {
              "outlinewidth": 0,
              "ticks": ""
             }
            }
           }
          ],
          "scattercarpet": [
           {
            "type": "scattercarpet",
            "marker": {
             "colorbar": {
              "outlinewidth": 0,
              "ticks": ""
             }
            }
           }
          ],
          "carpet": [
           {
            "aaxis": {
             "endlinecolor": "#A2B1C6",
             "gridcolor": "#506784",
             "linecolor": "#506784",
             "minorgridcolor": "#506784",
             "startlinecolor": "#A2B1C6"
            },
            "baxis": {
             "endlinecolor": "#A2B1C6",
             "gridcolor": "#506784",
             "linecolor": "#506784",
             "minorgridcolor": "#506784",
             "startlinecolor": "#A2B1C6"
            },
            "type": "carpet"
           }
          ],
          "table": [
           {
            "cells": {
             "fill": {
              "color": "#506784"
             },
             "line": {
              "color": "rgb(17,17,17)"
             }
            },
            "header": {
             "fill": {
              "color": "#2a3f5f"
             },
             "line": {
              "color": "rgb(17,17,17)"
             }
            },
            "type": "table"
           }
          ],
          "barpolar": [
           {
            "marker": {
             "line": {
              "color": "rgb(17,17,17)",
              "width": 0.5
             },
             "pattern": {
              "fillmode": "overlay",
              "size": 10,
              "solidity": 0.2
             }
            },
            "type": "barpolar"
           }
          ],
          "pie": [
           {
            "automargin": true,
            "type": "pie"
           }
          ]
         },
         "layout": {
          "autotypenumbers": "strict",
          "colorway": [
           "#636efa",
           "#EF553B",
           "#00cc96",
           "#ab63fa",
           "#FFA15A",
           "#19d3f3",
           "#FF6692",
           "#B6E880",
           "#FF97FF",
           "#FECB52"
          ],
          "font": {
           "color": "#f2f5fa"
          },
          "hovermode": "closest",
          "hoverlabel": {
           "align": "left"
          },
          "paper_bgcolor": "rgb(17,17,17)",
          "plot_bgcolor": "rgb(17,17,17)",
          "polar": {
           "bgcolor": "rgb(17,17,17)",
           "angularaxis": {
            "gridcolor": "#506784",
            "linecolor": "#506784",
            "ticks": ""
           },
           "radialaxis": {
            "gridcolor": "#506784",
            "linecolor": "#506784",
            "ticks": ""
           }
          },
          "ternary": {
           "bgcolor": "rgb(17,17,17)",
           "aaxis": {
            "gridcolor": "#506784",
            "linecolor": "#506784",
            "ticks": ""
           },
           "baxis": {
            "gridcolor": "#506784",
            "linecolor": "#506784",
            "ticks": ""
           },
           "caxis": {
            "gridcolor": "#506784",
            "linecolor": "#506784",
            "ticks": ""
           }
          },
          "coloraxis": {
           "colorbar": {
            "outlinewidth": 0,
            "ticks": ""
           }
          },
          "colorscale": {
           "sequential": [
            [
             0.0,
             "#0d0887"
            ],
            [
             0.1111111111111111,
             "#46039f"
            ],
            [
             0.2222222222222222,
             "#7201a8"
            ],
            [
             0.3333333333333333,
             "#9c179e"
            ],
            [
             0.4444444444444444,
             "#bd3786"
            ],
            [
             0.5555555555555556,
             "#d8576b"
            ],
            [
             0.6666666666666666,
             "#ed7953"
            ],
            [
             0.7777777777777778,
             "#fb9f3a"
            ],
            [
             0.8888888888888888,
             "#fdca26"
            ],
            [
             1.0,
             "#f0f921"
            ]
           ],
           "sequentialminus": [
            [
             0.0,
             "#0d0887"
            ],
            [
             0.1111111111111111,
             "#46039f"
            ],
            [
             0.2222222222222222,
             "#7201a8"
            ],
            [
             0.3333333333333333,
             "#9c179e"
            ],
            [
             0.4444444444444444,
             "#bd3786"
            ],
            [
             0.5555555555555556,
             "#d8576b"
            ],
            [
             0.6666666666666666,
             "#ed7953"
            ],
            [
             0.7777777777777778,
             "#fb9f3a"
            ],
            [
             0.8888888888888888,
             "#fdca26"
            ],
            [
             1.0,
             "#f0f921"
            ]
           ],
           "diverging": [
            [
             0,
             "#8e0152"
            ],
            [
             0.1,
             "#c51b7d"
            ],
            [
             0.2,
             "#de77ae"
            ],
            [
             0.3,
             "#f1b6da"
            ],
            [
             0.4,
             "#fde0ef"
            ],
            [
             0.5,
             "#f7f7f7"
            ],
            [
             0.6,
             "#e6f5d0"
            ],
            [
             0.7,
             "#b8e186"
            ],
            [
             0.8,
             "#7fbc41"
            ],
            [
             0.9,
             "#4d9221"
            ],
            [
             1,
             "#276419"
            ]
           ]
          },
          "xaxis": {
           "gridcolor": "#283442",
           "linecolor": "#506784",
           "ticks": "",
           "title": {
            "standoff": 15
           },
           "zerolinecolor": "#283442",
           "automargin": true,
           "zerolinewidth": 2
          },
          "yaxis": {
           "gridcolor": "#283442",
           "linecolor": "#506784",
           "ticks": "",
           "title": {
            "standoff": 15
           },
           "zerolinecolor": "#283442",
           "automargin": true,
           "zerolinewidth": 2
          },
          "scene": {
           "xaxis": {
            "backgroundcolor": "rgb(17,17,17)",
            "gridcolor": "#506784",
            "linecolor": "#506784",
            "showbackground": true,
            "ticks": "",
            "zerolinecolor": "#C8D4E3",
            "gridwidth": 2
           },
           "yaxis": {
            "backgroundcolor": "rgb(17,17,17)",
            "gridcolor": "#506784",
            "linecolor": "#506784",
            "showbackground": true,
            "ticks": "",
            "zerolinecolor": "#C8D4E3",
            "gridwidth": 2
           },
           "zaxis": {
            "backgroundcolor": "rgb(17,17,17)",
            "gridcolor": "#506784",
            "linecolor": "#506784",
            "showbackground": true,
            "ticks": "",
            "zerolinecolor": "#C8D4E3",
            "gridwidth": 2
           }
          },
          "shapedefaults": {
           "line": {
            "color": "#f2f5fa"
           }
          },
          "annotationdefaults": {
           "arrowcolor": "#f2f5fa",
           "arrowhead": 0,
           "arrowwidth": 1
          },
          "geo": {
           "bgcolor": "rgb(17,17,17)",
           "landcolor": "rgb(17,17,17)",
           "subunitcolor": "#506784",
           "showland": true,
           "showlakes": true,
           "lakecolor": "rgb(17,17,17)"
          },
          "title": {
           "x": 0.05
          },
          "updatemenudefaults": {
           "bgcolor": "#506784",
           "borderwidth": 0
          },
          "sliderdefaults": {
           "bgcolor": "#C8D4E3",
           "borderwidth": 1,
           "bordercolor": "rgb(17,17,17)",
           "tickwidth": 0
          },
          "mapbox": {
           "style": "dark"
          }
         }
        },
        "xaxis": {
         "anchor": "y",
         "domain": [
          0.0,
          1.0
         ],
         "scaleanchor": "y",
         "constrain": "domain",
         "title": {
          "text": "Leto"
         }
        },
        "yaxis": {
         "anchor": "x",
         "domain": [
          0.0,
          1.0
         ],
         "autorange": "reversed",
         "constrain": "domain",
         "title": {
          "text": "Kategorija"
         }
        },
        "coloraxis": {
         "colorscale": [
          [
           0.0,
           "#440154"
          ],
          [
           0.1111111111111111,
           "#482878"
          ],
          [
           0.2222222222222222,
           "#3e4989"
          ],
          [
           0.3333333333333333,
           "#31688e"
          ],
          [
           0.4444444444444444,
           "#26828e"
          ],
          [
           0.5555555555555556,
           "#1f9e89"
          ],
          [
           0.6666666666666666,
           "#35b779"
          ],
          [
           0.7777777777777778,
           "#6ece58"
          ],
          [
           0.8888888888888888,
           "#b5de2b"
          ],
          [
           1.0,
           "#fde725"
          ]
         ]
        },
        "title": {
         "text": "Opravljene delovne ure"
        },
        "height": 800,
        "width": 1200
       },
       "config": {
        "plotlyServerURL": "https://plot.ly"
       }
      },
      "text/html": "<div>                            <div id=\"6ff20fe9-f740-4ada-af67-9d391a0d78fe\" class=\"plotly-graph-div\" style=\"height:800px; width:1200px;\"></div>            <script type=\"text/javascript\">                require([\"plotly\"], function(Plotly) {                    window.PLOTLYENV=window.PLOTLYENV || {};                                    if (document.getElementById(\"6ff20fe9-f740-4ada-af67-9d391a0d78fe\")) {                    Plotly.newPlot(                        \"6ff20fe9-f740-4ada-af67-9d391a0d78fe\",                        [{\"coloraxis\":\"coloraxis\",\"name\":\"0\",\"x\":[\"2008\",\"2009\",\"2010\",\"2011\",\"2012\",\"2013\",\"2014\",\"2015\",\"2016\",\"2017\",\"2018\",\"2019\",\"2020\",\"2021\",\"2022\"],\"y\":[\"A KMETIJSTVO IN LOV, GOZDARSTVO, RIBISTVO\",\"B RUDARSTVO\",\"C PREDELOVALNE DEJAVNOSTI\",\"D OSKRBA Z ELEKTRICNO ENERGIJO, PLINOM IN PARO\",\"E OSKRBA Z VODO, RAVNANJE Z ODPLAKAMI IN ODPADKI, SANIRANJE OKOLJA\",\"F GRADBENISTVO\",\"G TRGOVINA, VZDRZEVANJE IN POPRAVILA MOTORNIH VOZIL\",\"H PROMET IN SKLADISCENJE\",\"I GOSTINSTVO\",\"J INFORMACIJSKE IN KOMUNIKACIJSKE DEJAVNOSTI\",\"K FINANCNE IN ZAVAROVALNISKE DEJAVNOSTI\",\"L POSLOVANJE Z NEPREMICNINAMI\",\"M STROKOVNE, ZNANSTVENE IN TEHNICNE DEJAVNOSTI\",\"N DRUGE RAZNOVRSTNE POSLOVNE DEJAVNOSTI\",\"O DEJAVNOST JAVNE UPRAVE IN OBRAMBE, DEJAVNOST OBVEZNE SOCIALNE VARNOSTI\",\"P IZOBRAZEVANJE\",\"Q ZDRAVSTVO IN SOCIALNO VARSTVO\",\"R KULTURNE, RAZVEDRILNE IN REKREACIJSKE DEJAVNOSTI\",\"S DRUGE DEJAVNOSTI\"],\"z\":[[133.5,135.0,139.75,137.75,130.5,131.5,132.5,133.75,130.25,128.75,125.75,127.5,129.0,130.0,129.25],[133.75,129.75,128.75,130.0,131.0,130.0,130.25,132.5,127.0,127.0,128.5,129.0,133.0,130.0,127.25],[134.0,132.25,136.5,135.0,134.0,135.25,136.25,137.75,135.5,133.25,132.0,131.5,132.0,134.0,131.25],[135.0,134.0,134.5,133.0,132.5,135.5,133.75,137.0,136.0,136.0,129.75,130.0,132.25,131.25,128.5],[135.0,139.25,137.25,136.25,132.0,137.5,136.0,136.0,135.25,138.0,133.5,132.25,132.25,133.75,131.5],[136.5,138.5,140.25,139.75,139.0,140.75,142.0,143.75,132.75,131.5,129.5,130.0,132.25,134.5,133.0],[134.5,135.25,137.0,134.75,134.25,133.75,135.75,136.25,132.25,131.0,129.25,129.25,130.0,131.0,129.5],[136.0,136.75,140.25,138.25,135.75,139.5,140.0,138.75,133.25,131.5,130.75,131.75,133.25,135.25,134.5],[128.5,129.75,130.75,128.5,129.0,129.75,129.5,130.25,132.25,130.75,122.5,123.0,121.0,124.0,124.0],[135.25,138.25,138.0,137.0,137.25,137.0,136.5,139.25,134.75,133.0,132.25,133.0,135.75,136.25,136.0],[133.0,137.25,137.75,135.75,128.75,131.5,131.25,131.75,130.25,129.25,127.5,128.0,133.25,132.75,129.5],[134.5,135.25,136.0,135.0,134.5,135.0,136.25,137.75,131.25,129.5,128.0,128.0,131.0,131.75,129.5],[135.25,143.25,139.0,138.25,134.25,140.25,139.25,136.5,133.0,129.0,129.5,129.25,131.25,133.0,131.0],[131.0,133.75,134.5,133.75,132.0,133.25,134.25,133.75,132.0,127.0,126.25,125.5,126.75,128.75,126.0],[132.25,134.5,133.25,135.75,128.0,129.25,131.75,134.75,132.25,130.75,130.0,130.25,137.75,136.25,130.25],[127.75,130.0,130.5,129.75,127.5,131.25,132.5,135.5,130.5,127.25,127.75,126.5,124.75,127.75,125.25],[141.75,142.25,139.5,138.5,136.5,136.0,142.5,142.0,141.5,137.0,135.5,135.25,135.75,138.0,132.75],[135.25,135.5,135.0,132.25,130.75,130.0,132.5,134.25,129.75,127.25,126.75,127.0,122.25,127.5,128.0],[124.75,126.25,129.0,127.25,136.5,135.5,136.25,137.0,130.5,128.25,121.75,122.75,125.25,127.25,128.25]],\"type\":\"heatmap\",\"xaxis\":\"x\",\"yaxis\":\"y\",\"hovertemplate\":\"Leto: %{x}<br>Kategorija: %{y}<br>color: %{z}<extra></extra>\"}],                        {\"template\":{\"data\":{\"histogram2dcontour\":[{\"type\":\"histogram2dcontour\",\"colorbar\":{\"outlinewidth\":0,\"ticks\":\"\"},\"colorscale\":[[0.0,\"#0d0887\"],[0.1111111111111111,\"#46039f\"],[0.2222222222222222,\"#7201a8\"],[0.3333333333333333,\"#9c179e\"],[0.4444444444444444,\"#bd3786\"],[0.5555555555555556,\"#d8576b\"],[0.6666666666666666,\"#ed7953\"],[0.7777777777777778,\"#fb9f3a\"],[0.8888888888888888,\"#fdca26\"],[1.0,\"#f0f921\"]]}],\"choropleth\":[{\"type\":\"choropleth\",\"colorbar\":{\"outlinewidth\":0,\"ticks\":\"\"}}],\"histogram2d\":[{\"type\":\"histogram2d\",\"colorbar\":{\"outlinewidth\":0,\"ticks\":\"\"},\"colorscale\":[[0.0,\"#0d0887\"],[0.1111111111111111,\"#46039f\"],[0.2222222222222222,\"#7201a8\"],[0.3333333333333333,\"#9c179e\"],[0.4444444444444444,\"#bd3786\"],[0.5555555555555556,\"#d8576b\"],[0.6666666666666666,\"#ed7953\"],[0.7777777777777778,\"#fb9f3a\"],[0.8888888888888888,\"#fdca26\"],[1.0,\"#f0f921\"]]}],\"heatmap\":[{\"type\":\"heatmap\",\"colorbar\":{\"outlinewidth\":0,\"ticks\":\"\"},\"colorscale\":[[0.0,\"#0d0887\"],[0.1111111111111111,\"#46039f\"],[0.2222222222222222,\"#7201a8\"],[0.3333333333333333,\"#9c179e\"],[0.4444444444444444,\"#bd3786\"],[0.5555555555555556,\"#d8576b\"],[0.6666666666666666,\"#ed7953\"],[0.7777777777777778,\"#fb9f3a\"],[0.8888888888888888,\"#fdca26\"],[1.0,\"#f0f921\"]]}],\"heatmapgl\":[{\"type\":\"heatmapgl\",\"colorbar\":{\"outlinewidth\":0,\"ticks\":\"\"},\"colorscale\":[[0.0,\"#0d0887\"],[0.1111111111111111,\"#46039f\"],[0.2222222222222222,\"#7201a8\"],[0.3333333333333333,\"#9c179e\"],[0.4444444444444444,\"#bd3786\"],[0.5555555555555556,\"#d8576b\"],[0.6666666666666666,\"#ed7953\"],[0.7777777777777778,\"#fb9f3a\"],[0.8888888888888888,\"#fdca26\"],[1.0,\"#f0f921\"]]}],\"contourcarpet\":[{\"type\":\"contourcarpet\",\"colorbar\":{\"outlinewidth\":0,\"ticks\":\"\"}}],\"contour\":[{\"type\":\"contour\",\"colorbar\":{\"outlinewidth\":0,\"ticks\":\"\"},\"colorscale\":[[0.0,\"#0d0887\"],[0.1111111111111111,\"#46039f\"],[0.2222222222222222,\"#7201a8\"],[0.3333333333333333,\"#9c179e\"],[0.4444444444444444,\"#bd3786\"],[0.5555555555555556,\"#d8576b\"],[0.6666666666666666,\"#ed7953\"],[0.7777777777777778,\"#fb9f3a\"],[0.8888888888888888,\"#fdca26\"],[1.0,\"#f0f921\"]]}],\"surface\":[{\"type\":\"surface\",\"colorbar\":{\"outlinewidth\":0,\"ticks\":\"\"},\"colorscale\":[[0.0,\"#0d0887\"],[0.1111111111111111,\"#46039f\"],[0.2222222222222222,\"#7201a8\"],[0.3333333333333333,\"#9c179e\"],[0.4444444444444444,\"#bd3786\"],[0.5555555555555556,\"#d8576b\"],[0.6666666666666666,\"#ed7953\"],[0.7777777777777778,\"#fb9f3a\"],[0.8888888888888888,\"#fdca26\"],[1.0,\"#f0f921\"]]}],\"mesh3d\":[{\"type\":\"mesh3d\",\"colorbar\":{\"outlinewidth\":0,\"ticks\":\"\"}}],\"scatter\":[{\"marker\":{\"line\":{\"color\":\"#283442\"}},\"type\":\"scatter\"}],\"parcoords\":[{\"type\":\"parcoords\",\"line\":{\"colorbar\":{\"outlinewidth\":0,\"ticks\":\"\"}}}],\"scatterpolargl\":[{\"type\":\"scatterpolargl\",\"marker\":{\"colorbar\":{\"outlinewidth\":0,\"ticks\":\"\"}}}],\"bar\":[{\"error_x\":{\"color\":\"#f2f5fa\"},\"error_y\":{\"color\":\"#f2f5fa\"},\"marker\":{\"line\":{\"color\":\"rgb(17,17,17)\",\"width\":0.5},\"pattern\":{\"fillmode\":\"overlay\",\"size\":10,\"solidity\":0.2}},\"type\":\"bar\"}],\"scattergeo\":[{\"type\":\"scattergeo\",\"marker\":{\"colorbar\":{\"outlinewidth\":0,\"ticks\":\"\"}}}],\"scatterpolar\":[{\"type\":\"scatterpolar\",\"marker\":{\"colorbar\":{\"outlinewidth\":0,\"ticks\":\"\"}}}],\"histogram\":[{\"marker\":{\"pattern\":{\"fillmode\":\"overlay\",\"size\":10,\"solidity\":0.2}},\"type\":\"histogram\"}],\"scattergl\":[{\"marker\":{\"line\":{\"color\":\"#283442\"}},\"type\":\"scattergl\"}],\"scatter3d\":[{\"type\":\"scatter3d\",\"line\":{\"colorbar\":{\"outlinewidth\":0,\"ticks\":\"\"}},\"marker\":{\"colorbar\":{\"outlinewidth\":0,\"ticks\":\"\"}}}],\"scattermapbox\":[{\"type\":\"scattermapbox\",\"marker\":{\"colorbar\":{\"outlinewidth\":0,\"ticks\":\"\"}}}],\"scatterternary\":[{\"type\":\"scatterternary\",\"marker\":{\"colorbar\":{\"outlinewidth\":0,\"ticks\":\"\"}}}],\"scattercarpet\":[{\"type\":\"scattercarpet\",\"marker\":{\"colorbar\":{\"outlinewidth\":0,\"ticks\":\"\"}}}],\"carpet\":[{\"aaxis\":{\"endlinecolor\":\"#A2B1C6\",\"gridcolor\":\"#506784\",\"linecolor\":\"#506784\",\"minorgridcolor\":\"#506784\",\"startlinecolor\":\"#A2B1C6\"},\"baxis\":{\"endlinecolor\":\"#A2B1C6\",\"gridcolor\":\"#506784\",\"linecolor\":\"#506784\",\"minorgridcolor\":\"#506784\",\"startlinecolor\":\"#A2B1C6\"},\"type\":\"carpet\"}],\"table\":[{\"cells\":{\"fill\":{\"color\":\"#506784\"},\"line\":{\"color\":\"rgb(17,17,17)\"}},\"header\":{\"fill\":{\"color\":\"#2a3f5f\"},\"line\":{\"color\":\"rgb(17,17,17)\"}},\"type\":\"table\"}],\"barpolar\":[{\"marker\":{\"line\":{\"color\":\"rgb(17,17,17)\",\"width\":0.5},\"pattern\":{\"fillmode\":\"overlay\",\"size\":10,\"solidity\":0.2}},\"type\":\"barpolar\"}],\"pie\":[{\"automargin\":true,\"type\":\"pie\"}]},\"layout\":{\"autotypenumbers\":\"strict\",\"colorway\":[\"#636efa\",\"#EF553B\",\"#00cc96\",\"#ab63fa\",\"#FFA15A\",\"#19d3f3\",\"#FF6692\",\"#B6E880\",\"#FF97FF\",\"#FECB52\"],\"font\":{\"color\":\"#f2f5fa\"},\"hovermode\":\"closest\",\"hoverlabel\":{\"align\":\"left\"},\"paper_bgcolor\":\"rgb(17,17,17)\",\"plot_bgcolor\":\"rgb(17,17,17)\",\"polar\":{\"bgcolor\":\"rgb(17,17,17)\",\"angularaxis\":{\"gridcolor\":\"#506784\",\"linecolor\":\"#506784\",\"ticks\":\"\"},\"radialaxis\":{\"gridcolor\":\"#506784\",\"linecolor\":\"#506784\",\"ticks\":\"\"}},\"ternary\":{\"bgcolor\":\"rgb(17,17,17)\",\"aaxis\":{\"gridcolor\":\"#506784\",\"linecolor\":\"#506784\",\"ticks\":\"\"},\"baxis\":{\"gridcolor\":\"#506784\",\"linecolor\":\"#506784\",\"ticks\":\"\"},\"caxis\":{\"gridcolor\":\"#506784\",\"linecolor\":\"#506784\",\"ticks\":\"\"}},\"coloraxis\":{\"colorbar\":{\"outlinewidth\":0,\"ticks\":\"\"}},\"colorscale\":{\"sequential\":[[0.0,\"#0d0887\"],[0.1111111111111111,\"#46039f\"],[0.2222222222222222,\"#7201a8\"],[0.3333333333333333,\"#9c179e\"],[0.4444444444444444,\"#bd3786\"],[0.5555555555555556,\"#d8576b\"],[0.6666666666666666,\"#ed7953\"],[0.7777777777777778,\"#fb9f3a\"],[0.8888888888888888,\"#fdca26\"],[1.0,\"#f0f921\"]],\"sequentialminus\":[[0.0,\"#0d0887\"],[0.1111111111111111,\"#46039f\"],[0.2222222222222222,\"#7201a8\"],[0.3333333333333333,\"#9c179e\"],[0.4444444444444444,\"#bd3786\"],[0.5555555555555556,\"#d8576b\"],[0.6666666666666666,\"#ed7953\"],[0.7777777777777778,\"#fb9f3a\"],[0.8888888888888888,\"#fdca26\"],[1.0,\"#f0f921\"]],\"diverging\":[[0,\"#8e0152\"],[0.1,\"#c51b7d\"],[0.2,\"#de77ae\"],[0.3,\"#f1b6da\"],[0.4,\"#fde0ef\"],[0.5,\"#f7f7f7\"],[0.6,\"#e6f5d0\"],[0.7,\"#b8e186\"],[0.8,\"#7fbc41\"],[0.9,\"#4d9221\"],[1,\"#276419\"]]},\"xaxis\":{\"gridcolor\":\"#283442\",\"linecolor\":\"#506784\",\"ticks\":\"\",\"title\":{\"standoff\":15},\"zerolinecolor\":\"#283442\",\"automargin\":true,\"zerolinewidth\":2},\"yaxis\":{\"gridcolor\":\"#283442\",\"linecolor\":\"#506784\",\"ticks\":\"\",\"title\":{\"standoff\":15},\"zerolinecolor\":\"#283442\",\"automargin\":true,\"zerolinewidth\":2},\"scene\":{\"xaxis\":{\"backgroundcolor\":\"rgb(17,17,17)\",\"gridcolor\":\"#506784\",\"linecolor\":\"#506784\",\"showbackground\":true,\"ticks\":\"\",\"zerolinecolor\":\"#C8D4E3\",\"gridwidth\":2},\"yaxis\":{\"backgroundcolor\":\"rgb(17,17,17)\",\"gridcolor\":\"#506784\",\"linecolor\":\"#506784\",\"showbackground\":true,\"ticks\":\"\",\"zerolinecolor\":\"#C8D4E3\",\"gridwidth\":2},\"zaxis\":{\"backgroundcolor\":\"rgb(17,17,17)\",\"gridcolor\":\"#506784\",\"linecolor\":\"#506784\",\"showbackground\":true,\"ticks\":\"\",\"zerolinecolor\":\"#C8D4E3\",\"gridwidth\":2}},\"shapedefaults\":{\"line\":{\"color\":\"#f2f5fa\"}},\"annotationdefaults\":{\"arrowcolor\":\"#f2f5fa\",\"arrowhead\":0,\"arrowwidth\":1},\"geo\":{\"bgcolor\":\"rgb(17,17,17)\",\"landcolor\":\"rgb(17,17,17)\",\"subunitcolor\":\"#506784\",\"showland\":true,\"showlakes\":true,\"lakecolor\":\"rgb(17,17,17)\"},\"title\":{\"x\":0.05},\"updatemenudefaults\":{\"bgcolor\":\"#506784\",\"borderwidth\":0},\"sliderdefaults\":{\"bgcolor\":\"#C8D4E3\",\"borderwidth\":1,\"bordercolor\":\"rgb(17,17,17)\",\"tickwidth\":0},\"mapbox\":{\"style\":\"dark\"}}},\"xaxis\":{\"anchor\":\"y\",\"domain\":[0.0,1.0],\"scaleanchor\":\"y\",\"constrain\":\"domain\",\"title\":{\"text\":\"Leto\"}},\"yaxis\":{\"anchor\":\"x\",\"domain\":[0.0,1.0],\"autorange\":\"reversed\",\"constrain\":\"domain\",\"title\":{\"text\":\"Kategorija\"}},\"coloraxis\":{\"colorscale\":[[0.0,\"#440154\"],[0.1111111111111111,\"#482878\"],[0.2222222222222222,\"#3e4989\"],[0.3333333333333333,\"#31688e\"],[0.4444444444444444,\"#26828e\"],[0.5555555555555556,\"#1f9e89\"],[0.6666666666666666,\"#35b779\"],[0.7777777777777778,\"#6ece58\"],[0.8888888888888888,\"#b5de2b\"],[1.0,\"#fde725\"]]},\"title\":{\"text\":\"Opravljene delovne ure\"},\"height\":800,\"width\":1200},                        {\"responsive\": true}                    ).then(function(){\n                            \nvar gd = document.getElementById('6ff20fe9-f740-4ada-af67-9d391a0d78fe');\nvar x = new MutationObserver(function (mutations, observer) {{\n        var display = window.getComputedStyle(gd).display;\n        if (!display || display === 'none') {{\n            console.log([gd, 'removed!']);\n            Plotly.purge(gd);\n            observer.disconnect();\n        }}\n}});\n\n// Listen for the removal of the full notebook cells\nvar notebookContainer = gd.closest('#notebook-container');\nif (notebookContainer) {{\n    x.observe(notebookContainer, {childList: true});\n}}\n\n// Listen for the clearing of the current output cell\nvar outputEl = gd.closest('.output');\nif (outputEl) {{\n    x.observe(outputEl, {childList: true});\n}}\n\n                        })                };                });            </script>        </div>"
     },
     "metadata": {},
     "output_type": "display_data"
    }
   ],
   "source": [
    "df = opravljene_delovne_ure_grouped\n",
    "df_selected = df.iloc[:, 0:]\n",
    "\n",
    "fig = px.imshow(df_selected.iloc[:, 1:].transpose(), x=df_selected.index, y=df_selected.columns[1:],\n",
    "                color_continuous_scale='viridis', title='Opravljene delovne ure',\n",
    "                labels={'x': 'Leto', 'y': 'Kategorija'}, width=1200, height=800)\n",
    "fig.update_layout(yaxis_autorange='reversed')\n",
    "fig.show()\n",
    "\n"
   ],
   "metadata": {
    "collapsed": false
   }
  },
  {
   "cell_type": "code",
   "execution_count": 71,
   "outputs": [
    {
     "data": {
      "application/vnd.plotly.v1+json": {
       "data": [
        {
         "coloraxis": "coloraxis",
         "name": "0",
         "x": [
          "2008",
          "2009",
          "2010",
          "2011",
          "2012",
          "2013",
          "2014",
          "2015",
          "2016",
          "2017",
          "2018",
          "2019",
          "2020",
          "2021",
          "2022"
         ],
         "y": [
          "A KMETIJSTVO IN LOV, GOZDARSTVO, RIBISTVO",
          "B RUDARSTVO",
          "C PREDELOVALNE DEJAVNOSTI",
          "D OSKRBA Z ELEKTRICNO ENERGIJO, PLINOM IN PARO",
          "E OSKRBA Z VODO, RAVNANJE Z ODPLAKAMI IN ODPADKI, SANIRANJE OKOLJA",
          "F GRADBENISTVO",
          "G TRGOVINA, VZDRZEVANJE IN POPRAVILA MOTORNIH VOZIL",
          "H PROMET IN SKLADISCENJE",
          "I GOSTINSTVO",
          "J INFORMACIJSKE IN KOMUNIKACIJSKE DEJAVNOSTI",
          "K FINANCNE IN ZAVAROVALNISKE DEJAVNOSTI",
          "L POSLOVANJE Z NEPREMICNINAMI",
          "M STROKOVNE, ZNANSTVENE IN TEHNICNE DEJAVNOSTI",
          "N DRUGE RAZNOVRSTNE POSLOVNE DEJAVNOSTI",
          "O DEJAVNOST JAVNE UPRAVE IN OBRAMBE, DEJAVNOST OBVEZNE SOCIALNE VARNOSTI",
          "P IZOBRAZEVANJE",
          "Q ZDRAVSTVO IN SOCIALNO VARSTVO",
          "R KULTURNE, RAZVEDRILNE IN REKREACIJSKE DEJAVNOSTI",
          "S DRUGE DEJAVNOSTI"
         ],
         "z": [
          [
           170.5,
           169.75,
           171.75,
           171.5,
           167.25,
           166.75,
           166.5,
           166.5,
           164.5,
           163.75,
           161.75,
           162.0,
           160.75,
           161.5,
           160.5
          ],
          [
           174.25,
           170.75,
           169.0,
           170.0,
           173.75,
           172.0,
           170.5,
           170.25,
           166.75,
           168.0,
           169.25,
           170.0,
           171.25,
           167.75,
           166.0
          ],
          [
           171.25,
           166.0,
           169.25,
           169.5,
           170.5,
           170.5,
           170.5,
           170.25,
           169.5,
           169.0,
           168.75,
           168.25,
           165.0,
           167.25,
           166.0
          ],
          [
           177.0,
           172.25,
           171.75,
           171.0,
           172.0,
           172.0,
           172.0,
           171.75,
           171.5,
           172.5,
           172.0,
           171.25,
           170.5,
           169.0,
           166.75
          ],
          [
           173.75,
           172.0,
           171.75,
           170.5,
           171.75,
           171.25,
           171.25,
           171.5,
           171.5,
           171.0,
           171.25,
           170.0,
           167.25,
           168.25,
           167.5
          ],
          [
           169.0,
           168.0,
           168.5,
           168.0,
           168.25,
           168.0,
           168.25,
           168.5,
           164.5,
           164.5,
           163.0,
           162.75,
           162.25,
           164.0,
           164.0
          ],
          [
           168.25,
           167.25,
           167.25,
           167.0,
           167.0,
           166.5,
           166.25,
           165.5,
           164.5,
           163.75,
           163.25,
           163.5,
           160.75,
           162.0,
           162.25
          ],
          [
           172.5,
           170.25,
           173.5,
           173.25,
           170.75,
           171.25,
           171.0,
           171.25,
           165.25,
           165.0,
           165.5,
           166.0,
           165.0,
           166.5,
           166.75
          ],
          [
           163.25,
           162.25,
           163.0,
           161.75,
           158.5,
           158.75,
           157.0,
           156.0,
           163.5,
           162.5,
           154.75,
           155.25,
           149.25,
           152.5,
           155.25
          ],
          [
           170.5,
           169.75,
           169.5,
           168.75,
           169.25,
           168.75,
           168.0,
           168.75,
           168.5,
           168.25,
           167.5,
           168.25,
           167.75,
           167.5,
           166.75
          ],
          [
           167.25,
           167.0,
           167.5,
           166.75,
           166.75,
           166.5,
           166.0,
           165.5,
           165.75,
           165.0,
           165.5,
           165.5,
           166.5,
           165.5,
           164.0
          ],
          [
           167.5,
           166.5,
           166.0,
           166.25,
           166.0,
           165.25,
           165.5,
           164.75,
           163.75,
           163.25,
           162.75,
           162.25,
           162.0,
           161.25,
           161.25
          ],
          [
           168.5,
           168.0,
           167.75,
           166.5,
           165.75,
           165.25,
           165.0,
           164.25,
           161.75,
           161.5,
           162.0,
           162.25,
           160.75,
           161.75,
           161.5
          ],
          [
           164.75,
           164.25,
           163.75,
           164.25,
           163.25,
           163.0,
           162.5,
           161.25,
           161.75,
           160.25,
           159.75,
           159.0,
           157.0,
           158.75,
           158.25
          ],
          [
           169.5,
           169.0,
           168.75,
           168.0,
           168.25,
           169.75,
           170.5,
           170.5,
           171.0,
           171.75,
           172.25,
           172.25,
           172.25,
           172.0,
           169.0
          ],
          [
           165.75,
           165.5,
           165.5,
           164.75,
           165.0,
           165.0,
           166.5,
           166.25,
           166.5,
           165.25,
           165.25,
           165.5,
           159.25,
           162.5,
           162.5
          ],
          [
           176.0,
           174.0,
           173.25,
           172.5,
           172.75,
           172.25,
           175.25,
           175.25,
           174.5,
           173.5,
           173.0,
           173.0,
           171.25,
           174.0,
           170.25
          ],
          [
           166.25,
           166.0,
           166.25,
           165.5,
           166.0,
           166.0,
           166.25,
           165.25,
           164.5,
           164.5,
           164.75,
           165.0,
           156.75,
           161.25,
           163.0
          ],
          [
           159.75,
           158.5,
           160.5,
           160.25,
           168.25,
           168.0,
           167.0,
           166.25,
           161.25,
           161.0,
           155.0,
           155.25,
           154.5,
           155.5,
           157.0
          ]
         ],
         "type": "heatmap",
         "xaxis": "x",
         "yaxis": "y",
         "hovertemplate": "Leto: %{x}<br>Kategorija: %{y}<br>color: %{z}<extra></extra>"
        }
       ],
       "layout": {
        "template": {
         "data": {
          "histogram2dcontour": [
           {
            "type": "histogram2dcontour",
            "colorbar": {
             "outlinewidth": 0,
             "ticks": ""
            },
            "colorscale": [
             [
              0.0,
              "#0d0887"
             ],
             [
              0.1111111111111111,
              "#46039f"
             ],
             [
              0.2222222222222222,
              "#7201a8"
             ],
             [
              0.3333333333333333,
              "#9c179e"
             ],
             [
              0.4444444444444444,
              "#bd3786"
             ],
             [
              0.5555555555555556,
              "#d8576b"
             ],
             [
              0.6666666666666666,
              "#ed7953"
             ],
             [
              0.7777777777777778,
              "#fb9f3a"
             ],
             [
              0.8888888888888888,
              "#fdca26"
             ],
             [
              1.0,
              "#f0f921"
             ]
            ]
           }
          ],
          "choropleth": [
           {
            "type": "choropleth",
            "colorbar": {
             "outlinewidth": 0,
             "ticks": ""
            }
           }
          ],
          "histogram2d": [
           {
            "type": "histogram2d",
            "colorbar": {
             "outlinewidth": 0,
             "ticks": ""
            },
            "colorscale": [
             [
              0.0,
              "#0d0887"
             ],
             [
              0.1111111111111111,
              "#46039f"
             ],
             [
              0.2222222222222222,
              "#7201a8"
             ],
             [
              0.3333333333333333,
              "#9c179e"
             ],
             [
              0.4444444444444444,
              "#bd3786"
             ],
             [
              0.5555555555555556,
              "#d8576b"
             ],
             [
              0.6666666666666666,
              "#ed7953"
             ],
             [
              0.7777777777777778,
              "#fb9f3a"
             ],
             [
              0.8888888888888888,
              "#fdca26"
             ],
             [
              1.0,
              "#f0f921"
             ]
            ]
           }
          ],
          "heatmap": [
           {
            "type": "heatmap",
            "colorbar": {
             "outlinewidth": 0,
             "ticks": ""
            },
            "colorscale": [
             [
              0.0,
              "#0d0887"
             ],
             [
              0.1111111111111111,
              "#46039f"
             ],
             [
              0.2222222222222222,
              "#7201a8"
             ],
             [
              0.3333333333333333,
              "#9c179e"
             ],
             [
              0.4444444444444444,
              "#bd3786"
             ],
             [
              0.5555555555555556,
              "#d8576b"
             ],
             [
              0.6666666666666666,
              "#ed7953"
             ],
             [
              0.7777777777777778,
              "#fb9f3a"
             ],
             [
              0.8888888888888888,
              "#fdca26"
             ],
             [
              1.0,
              "#f0f921"
             ]
            ]
           }
          ],
          "heatmapgl": [
           {
            "type": "heatmapgl",
            "colorbar": {
             "outlinewidth": 0,
             "ticks": ""
            },
            "colorscale": [
             [
              0.0,
              "#0d0887"
             ],
             [
              0.1111111111111111,
              "#46039f"
             ],
             [
              0.2222222222222222,
              "#7201a8"
             ],
             [
              0.3333333333333333,
              "#9c179e"
             ],
             [
              0.4444444444444444,
              "#bd3786"
             ],
             [
              0.5555555555555556,
              "#d8576b"
             ],
             [
              0.6666666666666666,
              "#ed7953"
             ],
             [
              0.7777777777777778,
              "#fb9f3a"
             ],
             [
              0.8888888888888888,
              "#fdca26"
             ],
             [
              1.0,
              "#f0f921"
             ]
            ]
           }
          ],
          "contourcarpet": [
           {
            "type": "contourcarpet",
            "colorbar": {
             "outlinewidth": 0,
             "ticks": ""
            }
           }
          ],
          "contour": [
           {
            "type": "contour",
            "colorbar": {
             "outlinewidth": 0,
             "ticks": ""
            },
            "colorscale": [
             [
              0.0,
              "#0d0887"
             ],
             [
              0.1111111111111111,
              "#46039f"
             ],
             [
              0.2222222222222222,
              "#7201a8"
             ],
             [
              0.3333333333333333,
              "#9c179e"
             ],
             [
              0.4444444444444444,
              "#bd3786"
             ],
             [
              0.5555555555555556,
              "#d8576b"
             ],
             [
              0.6666666666666666,
              "#ed7953"
             ],
             [
              0.7777777777777778,
              "#fb9f3a"
             ],
             [
              0.8888888888888888,
              "#fdca26"
             ],
             [
              1.0,
              "#f0f921"
             ]
            ]
           }
          ],
          "surface": [
           {
            "type": "surface",
            "colorbar": {
             "outlinewidth": 0,
             "ticks": ""
            },
            "colorscale": [
             [
              0.0,
              "#0d0887"
             ],
             [
              0.1111111111111111,
              "#46039f"
             ],
             [
              0.2222222222222222,
              "#7201a8"
             ],
             [
              0.3333333333333333,
              "#9c179e"
             ],
             [
              0.4444444444444444,
              "#bd3786"
             ],
             [
              0.5555555555555556,
              "#d8576b"
             ],
             [
              0.6666666666666666,
              "#ed7953"
             ],
             [
              0.7777777777777778,
              "#fb9f3a"
             ],
             [
              0.8888888888888888,
              "#fdca26"
             ],
             [
              1.0,
              "#f0f921"
             ]
            ]
           }
          ],
          "mesh3d": [
           {
            "type": "mesh3d",
            "colorbar": {
             "outlinewidth": 0,
             "ticks": ""
            }
           }
          ],
          "scatter": [
           {
            "marker": {
             "line": {
              "color": "#283442"
             }
            },
            "type": "scatter"
           }
          ],
          "parcoords": [
           {
            "type": "parcoords",
            "line": {
             "colorbar": {
              "outlinewidth": 0,
              "ticks": ""
             }
            }
           }
          ],
          "scatterpolargl": [
           {
            "type": "scatterpolargl",
            "marker": {
             "colorbar": {
              "outlinewidth": 0,
              "ticks": ""
             }
            }
           }
          ],
          "bar": [
           {
            "error_x": {
             "color": "#f2f5fa"
            },
            "error_y": {
             "color": "#f2f5fa"
            },
            "marker": {
             "line": {
              "color": "rgb(17,17,17)",
              "width": 0.5
             },
             "pattern": {
              "fillmode": "overlay",
              "size": 10,
              "solidity": 0.2
             }
            },
            "type": "bar"
           }
          ],
          "scattergeo": [
           {
            "type": "scattergeo",
            "marker": {
             "colorbar": {
              "outlinewidth": 0,
              "ticks": ""
             }
            }
           }
          ],
          "scatterpolar": [
           {
            "type": "scatterpolar",
            "marker": {
             "colorbar": {
              "outlinewidth": 0,
              "ticks": ""
             }
            }
           }
          ],
          "histogram": [
           {
            "marker": {
             "pattern": {
              "fillmode": "overlay",
              "size": 10,
              "solidity": 0.2
             }
            },
            "type": "histogram"
           }
          ],
          "scattergl": [
           {
            "marker": {
             "line": {
              "color": "#283442"
             }
            },
            "type": "scattergl"
           }
          ],
          "scatter3d": [
           {
            "type": "scatter3d",
            "line": {
             "colorbar": {
              "outlinewidth": 0,
              "ticks": ""
             }
            },
            "marker": {
             "colorbar": {
              "outlinewidth": 0,
              "ticks": ""
             }
            }
           }
          ],
          "scattermapbox": [
           {
            "type": "scattermapbox",
            "marker": {
             "colorbar": {
              "outlinewidth": 0,
              "ticks": ""
             }
            }
           }
          ],
          "scatterternary": [
           {
            "type": "scatterternary",
            "marker": {
             "colorbar": {
              "outlinewidth": 0,
              "ticks": ""
             }
            }
           }
          ],
          "scattercarpet": [
           {
            "type": "scattercarpet",
            "marker": {
             "colorbar": {
              "outlinewidth": 0,
              "ticks": ""
             }
            }
           }
          ],
          "carpet": [
           {
            "aaxis": {
             "endlinecolor": "#A2B1C6",
             "gridcolor": "#506784",
             "linecolor": "#506784",
             "minorgridcolor": "#506784",
             "startlinecolor": "#A2B1C6"
            },
            "baxis": {
             "endlinecolor": "#A2B1C6",
             "gridcolor": "#506784",
             "linecolor": "#506784",
             "minorgridcolor": "#506784",
             "startlinecolor": "#A2B1C6"
            },
            "type": "carpet"
           }
          ],
          "table": [
           {
            "cells": {
             "fill": {
              "color": "#506784"
             },
             "line": {
              "color": "rgb(17,17,17)"
             }
            },
            "header": {
             "fill": {
              "color": "#2a3f5f"
             },
             "line": {
              "color": "rgb(17,17,17)"
             }
            },
            "type": "table"
           }
          ],
          "barpolar": [
           {
            "marker": {
             "line": {
              "color": "rgb(17,17,17)",
              "width": 0.5
             },
             "pattern": {
              "fillmode": "overlay",
              "size": 10,
              "solidity": 0.2
             }
            },
            "type": "barpolar"
           }
          ],
          "pie": [
           {
            "automargin": true,
            "type": "pie"
           }
          ]
         },
         "layout": {
          "autotypenumbers": "strict",
          "colorway": [
           "#636efa",
           "#EF553B",
           "#00cc96",
           "#ab63fa",
           "#FFA15A",
           "#19d3f3",
           "#FF6692",
           "#B6E880",
           "#FF97FF",
           "#FECB52"
          ],
          "font": {
           "color": "#f2f5fa"
          },
          "hovermode": "closest",
          "hoverlabel": {
           "align": "left"
          },
          "paper_bgcolor": "rgb(17,17,17)",
          "plot_bgcolor": "rgb(17,17,17)",
          "polar": {
           "bgcolor": "rgb(17,17,17)",
           "angularaxis": {
            "gridcolor": "#506784",
            "linecolor": "#506784",
            "ticks": ""
           },
           "radialaxis": {
            "gridcolor": "#506784",
            "linecolor": "#506784",
            "ticks": ""
           }
          },
          "ternary": {
           "bgcolor": "rgb(17,17,17)",
           "aaxis": {
            "gridcolor": "#506784",
            "linecolor": "#506784",
            "ticks": ""
           },
           "baxis": {
            "gridcolor": "#506784",
            "linecolor": "#506784",
            "ticks": ""
           },
           "caxis": {
            "gridcolor": "#506784",
            "linecolor": "#506784",
            "ticks": ""
           }
          },
          "coloraxis": {
           "colorbar": {
            "outlinewidth": 0,
            "ticks": ""
           }
          },
          "colorscale": {
           "sequential": [
            [
             0.0,
             "#0d0887"
            ],
            [
             0.1111111111111111,
             "#46039f"
            ],
            [
             0.2222222222222222,
             "#7201a8"
            ],
            [
             0.3333333333333333,
             "#9c179e"
            ],
            [
             0.4444444444444444,
             "#bd3786"
            ],
            [
             0.5555555555555556,
             "#d8576b"
            ],
            [
             0.6666666666666666,
             "#ed7953"
            ],
            [
             0.7777777777777778,
             "#fb9f3a"
            ],
            [
             0.8888888888888888,
             "#fdca26"
            ],
            [
             1.0,
             "#f0f921"
            ]
           ],
           "sequentialminus": [
            [
             0.0,
             "#0d0887"
            ],
            [
             0.1111111111111111,
             "#46039f"
            ],
            [
             0.2222222222222222,
             "#7201a8"
            ],
            [
             0.3333333333333333,
             "#9c179e"
            ],
            [
             0.4444444444444444,
             "#bd3786"
            ],
            [
             0.5555555555555556,
             "#d8576b"
            ],
            [
             0.6666666666666666,
             "#ed7953"
            ],
            [
             0.7777777777777778,
             "#fb9f3a"
            ],
            [
             0.8888888888888888,
             "#fdca26"
            ],
            [
             1.0,
             "#f0f921"
            ]
           ],
           "diverging": [
            [
             0,
             "#8e0152"
            ],
            [
             0.1,
             "#c51b7d"
            ],
            [
             0.2,
             "#de77ae"
            ],
            [
             0.3,
             "#f1b6da"
            ],
            [
             0.4,
             "#fde0ef"
            ],
            [
             0.5,
             "#f7f7f7"
            ],
            [
             0.6,
             "#e6f5d0"
            ],
            [
             0.7,
             "#b8e186"
            ],
            [
             0.8,
             "#7fbc41"
            ],
            [
             0.9,
             "#4d9221"
            ],
            [
             1,
             "#276419"
            ]
           ]
          },
          "xaxis": {
           "gridcolor": "#283442",
           "linecolor": "#506784",
           "ticks": "",
           "title": {
            "standoff": 15
           },
           "zerolinecolor": "#283442",
           "automargin": true,
           "zerolinewidth": 2
          },
          "yaxis": {
           "gridcolor": "#283442",
           "linecolor": "#506784",
           "ticks": "",
           "title": {
            "standoff": 15
           },
           "zerolinecolor": "#283442",
           "automargin": true,
           "zerolinewidth": 2
          },
          "scene": {
           "xaxis": {
            "backgroundcolor": "rgb(17,17,17)",
            "gridcolor": "#506784",
            "linecolor": "#506784",
            "showbackground": true,
            "ticks": "",
            "zerolinecolor": "#C8D4E3",
            "gridwidth": 2
           },
           "yaxis": {
            "backgroundcolor": "rgb(17,17,17)",
            "gridcolor": "#506784",
            "linecolor": "#506784",
            "showbackground": true,
            "ticks": "",
            "zerolinecolor": "#C8D4E3",
            "gridwidth": 2
           },
           "zaxis": {
            "backgroundcolor": "rgb(17,17,17)",
            "gridcolor": "#506784",
            "linecolor": "#506784",
            "showbackground": true,
            "ticks": "",
            "zerolinecolor": "#C8D4E3",
            "gridwidth": 2
           }
          },
          "shapedefaults": {
           "line": {
            "color": "#f2f5fa"
           }
          },
          "annotationdefaults": {
           "arrowcolor": "#f2f5fa",
           "arrowhead": 0,
           "arrowwidth": 1
          },
          "geo": {
           "bgcolor": "rgb(17,17,17)",
           "landcolor": "rgb(17,17,17)",
           "subunitcolor": "#506784",
           "showland": true,
           "showlakes": true,
           "lakecolor": "rgb(17,17,17)"
          },
          "title": {
           "x": 0.05
          },
          "updatemenudefaults": {
           "bgcolor": "#506784",
           "borderwidth": 0
          },
          "sliderdefaults": {
           "bgcolor": "#C8D4E3",
           "borderwidth": 1,
           "bordercolor": "rgb(17,17,17)",
           "tickwidth": 0
          },
          "mapbox": {
           "style": "dark"
          }
         }
        },
        "xaxis": {
         "anchor": "y",
         "domain": [
          0.0,
          1.0
         ],
         "scaleanchor": "y",
         "constrain": "domain",
         "title": {
          "text": "Leto"
         }
        },
        "yaxis": {
         "anchor": "x",
         "domain": [
          0.0,
          1.0
         ],
         "autorange": "reversed",
         "constrain": "domain",
         "title": {
          "text": "Kategorija"
         }
        },
        "coloraxis": {
         "colorscale": [
          [
           0.0,
           "#440154"
          ],
          [
           0.1111111111111111,
           "#482878"
          ],
          [
           0.2222222222222222,
           "#3e4989"
          ],
          [
           0.3333333333333333,
           "#31688e"
          ],
          [
           0.4444444444444444,
           "#26828e"
          ],
          [
           0.5555555555555556,
           "#1f9e89"
          ],
          [
           0.6666666666666666,
           "#35b779"
          ],
          [
           0.7777777777777778,
           "#6ece58"
          ],
          [
           0.8888888888888888,
           "#b5de2b"
          ],
          [
           1.0,
           "#fde725"
          ]
         ]
        },
        "title": {
         "text": "Plačane delovne ure"
        },
        "height": 800,
        "width": 1200
       },
       "config": {
        "plotlyServerURL": "https://plot.ly"
       }
      },
      "text/html": "<div>                            <div id=\"53efa725-5da5-4eac-9723-2e3962b79fa4\" class=\"plotly-graph-div\" style=\"height:800px; width:1200px;\"></div>            <script type=\"text/javascript\">                require([\"plotly\"], function(Plotly) {                    window.PLOTLYENV=window.PLOTLYENV || {};                                    if (document.getElementById(\"53efa725-5da5-4eac-9723-2e3962b79fa4\")) {                    Plotly.newPlot(                        \"53efa725-5da5-4eac-9723-2e3962b79fa4\",                        [{\"coloraxis\":\"coloraxis\",\"name\":\"0\",\"x\":[\"2008\",\"2009\",\"2010\",\"2011\",\"2012\",\"2013\",\"2014\",\"2015\",\"2016\",\"2017\",\"2018\",\"2019\",\"2020\",\"2021\",\"2022\"],\"y\":[\"A KMETIJSTVO IN LOV, GOZDARSTVO, RIBISTVO\",\"B RUDARSTVO\",\"C PREDELOVALNE DEJAVNOSTI\",\"D OSKRBA Z ELEKTRICNO ENERGIJO, PLINOM IN PARO\",\"E OSKRBA Z VODO, RAVNANJE Z ODPLAKAMI IN ODPADKI, SANIRANJE OKOLJA\",\"F GRADBENISTVO\",\"G TRGOVINA, VZDRZEVANJE IN POPRAVILA MOTORNIH VOZIL\",\"H PROMET IN SKLADISCENJE\",\"I GOSTINSTVO\",\"J INFORMACIJSKE IN KOMUNIKACIJSKE DEJAVNOSTI\",\"K FINANCNE IN ZAVAROVALNISKE DEJAVNOSTI\",\"L POSLOVANJE Z NEPREMICNINAMI\",\"M STROKOVNE, ZNANSTVENE IN TEHNICNE DEJAVNOSTI\",\"N DRUGE RAZNOVRSTNE POSLOVNE DEJAVNOSTI\",\"O DEJAVNOST JAVNE UPRAVE IN OBRAMBE, DEJAVNOST OBVEZNE SOCIALNE VARNOSTI\",\"P IZOBRAZEVANJE\",\"Q ZDRAVSTVO IN SOCIALNO VARSTVO\",\"R KULTURNE, RAZVEDRILNE IN REKREACIJSKE DEJAVNOSTI\",\"S DRUGE DEJAVNOSTI\"],\"z\":[[170.5,169.75,171.75,171.5,167.25,166.75,166.5,166.5,164.5,163.75,161.75,162.0,160.75,161.5,160.5],[174.25,170.75,169.0,170.0,173.75,172.0,170.5,170.25,166.75,168.0,169.25,170.0,171.25,167.75,166.0],[171.25,166.0,169.25,169.5,170.5,170.5,170.5,170.25,169.5,169.0,168.75,168.25,165.0,167.25,166.0],[177.0,172.25,171.75,171.0,172.0,172.0,172.0,171.75,171.5,172.5,172.0,171.25,170.5,169.0,166.75],[173.75,172.0,171.75,170.5,171.75,171.25,171.25,171.5,171.5,171.0,171.25,170.0,167.25,168.25,167.5],[169.0,168.0,168.5,168.0,168.25,168.0,168.25,168.5,164.5,164.5,163.0,162.75,162.25,164.0,164.0],[168.25,167.25,167.25,167.0,167.0,166.5,166.25,165.5,164.5,163.75,163.25,163.5,160.75,162.0,162.25],[172.5,170.25,173.5,173.25,170.75,171.25,171.0,171.25,165.25,165.0,165.5,166.0,165.0,166.5,166.75],[163.25,162.25,163.0,161.75,158.5,158.75,157.0,156.0,163.5,162.5,154.75,155.25,149.25,152.5,155.25],[170.5,169.75,169.5,168.75,169.25,168.75,168.0,168.75,168.5,168.25,167.5,168.25,167.75,167.5,166.75],[167.25,167.0,167.5,166.75,166.75,166.5,166.0,165.5,165.75,165.0,165.5,165.5,166.5,165.5,164.0],[167.5,166.5,166.0,166.25,166.0,165.25,165.5,164.75,163.75,163.25,162.75,162.25,162.0,161.25,161.25],[168.5,168.0,167.75,166.5,165.75,165.25,165.0,164.25,161.75,161.5,162.0,162.25,160.75,161.75,161.5],[164.75,164.25,163.75,164.25,163.25,163.0,162.5,161.25,161.75,160.25,159.75,159.0,157.0,158.75,158.25],[169.5,169.0,168.75,168.0,168.25,169.75,170.5,170.5,171.0,171.75,172.25,172.25,172.25,172.0,169.0],[165.75,165.5,165.5,164.75,165.0,165.0,166.5,166.25,166.5,165.25,165.25,165.5,159.25,162.5,162.5],[176.0,174.0,173.25,172.5,172.75,172.25,175.25,175.25,174.5,173.5,173.0,173.0,171.25,174.0,170.25],[166.25,166.0,166.25,165.5,166.0,166.0,166.25,165.25,164.5,164.5,164.75,165.0,156.75,161.25,163.0],[159.75,158.5,160.5,160.25,168.25,168.0,167.0,166.25,161.25,161.0,155.0,155.25,154.5,155.5,157.0]],\"type\":\"heatmap\",\"xaxis\":\"x\",\"yaxis\":\"y\",\"hovertemplate\":\"Leto: %{x}<br>Kategorija: %{y}<br>color: %{z}<extra></extra>\"}],                        {\"template\":{\"data\":{\"histogram2dcontour\":[{\"type\":\"histogram2dcontour\",\"colorbar\":{\"outlinewidth\":0,\"ticks\":\"\"},\"colorscale\":[[0.0,\"#0d0887\"],[0.1111111111111111,\"#46039f\"],[0.2222222222222222,\"#7201a8\"],[0.3333333333333333,\"#9c179e\"],[0.4444444444444444,\"#bd3786\"],[0.5555555555555556,\"#d8576b\"],[0.6666666666666666,\"#ed7953\"],[0.7777777777777778,\"#fb9f3a\"],[0.8888888888888888,\"#fdca26\"],[1.0,\"#f0f921\"]]}],\"choropleth\":[{\"type\":\"choropleth\",\"colorbar\":{\"outlinewidth\":0,\"ticks\":\"\"}}],\"histogram2d\":[{\"type\":\"histogram2d\",\"colorbar\":{\"outlinewidth\":0,\"ticks\":\"\"},\"colorscale\":[[0.0,\"#0d0887\"],[0.1111111111111111,\"#46039f\"],[0.2222222222222222,\"#7201a8\"],[0.3333333333333333,\"#9c179e\"],[0.4444444444444444,\"#bd3786\"],[0.5555555555555556,\"#d8576b\"],[0.6666666666666666,\"#ed7953\"],[0.7777777777777778,\"#fb9f3a\"],[0.8888888888888888,\"#fdca26\"],[1.0,\"#f0f921\"]]}],\"heatmap\":[{\"type\":\"heatmap\",\"colorbar\":{\"outlinewidth\":0,\"ticks\":\"\"},\"colorscale\":[[0.0,\"#0d0887\"],[0.1111111111111111,\"#46039f\"],[0.2222222222222222,\"#7201a8\"],[0.3333333333333333,\"#9c179e\"],[0.4444444444444444,\"#bd3786\"],[0.5555555555555556,\"#d8576b\"],[0.6666666666666666,\"#ed7953\"],[0.7777777777777778,\"#fb9f3a\"],[0.8888888888888888,\"#fdca26\"],[1.0,\"#f0f921\"]]}],\"heatmapgl\":[{\"type\":\"heatmapgl\",\"colorbar\":{\"outlinewidth\":0,\"ticks\":\"\"},\"colorscale\":[[0.0,\"#0d0887\"],[0.1111111111111111,\"#46039f\"],[0.2222222222222222,\"#7201a8\"],[0.3333333333333333,\"#9c179e\"],[0.4444444444444444,\"#bd3786\"],[0.5555555555555556,\"#d8576b\"],[0.6666666666666666,\"#ed7953\"],[0.7777777777777778,\"#fb9f3a\"],[0.8888888888888888,\"#fdca26\"],[1.0,\"#f0f921\"]]}],\"contourcarpet\":[{\"type\":\"contourcarpet\",\"colorbar\":{\"outlinewidth\":0,\"ticks\":\"\"}}],\"contour\":[{\"type\":\"contour\",\"colorbar\":{\"outlinewidth\":0,\"ticks\":\"\"},\"colorscale\":[[0.0,\"#0d0887\"],[0.1111111111111111,\"#46039f\"],[0.2222222222222222,\"#7201a8\"],[0.3333333333333333,\"#9c179e\"],[0.4444444444444444,\"#bd3786\"],[0.5555555555555556,\"#d8576b\"],[0.6666666666666666,\"#ed7953\"],[0.7777777777777778,\"#fb9f3a\"],[0.8888888888888888,\"#fdca26\"],[1.0,\"#f0f921\"]]}],\"surface\":[{\"type\":\"surface\",\"colorbar\":{\"outlinewidth\":0,\"ticks\":\"\"},\"colorscale\":[[0.0,\"#0d0887\"],[0.1111111111111111,\"#46039f\"],[0.2222222222222222,\"#7201a8\"],[0.3333333333333333,\"#9c179e\"],[0.4444444444444444,\"#bd3786\"],[0.5555555555555556,\"#d8576b\"],[0.6666666666666666,\"#ed7953\"],[0.7777777777777778,\"#fb9f3a\"],[0.8888888888888888,\"#fdca26\"],[1.0,\"#f0f921\"]]}],\"mesh3d\":[{\"type\":\"mesh3d\",\"colorbar\":{\"outlinewidth\":0,\"ticks\":\"\"}}],\"scatter\":[{\"marker\":{\"line\":{\"color\":\"#283442\"}},\"type\":\"scatter\"}],\"parcoords\":[{\"type\":\"parcoords\",\"line\":{\"colorbar\":{\"outlinewidth\":0,\"ticks\":\"\"}}}],\"scatterpolargl\":[{\"type\":\"scatterpolargl\",\"marker\":{\"colorbar\":{\"outlinewidth\":0,\"ticks\":\"\"}}}],\"bar\":[{\"error_x\":{\"color\":\"#f2f5fa\"},\"error_y\":{\"color\":\"#f2f5fa\"},\"marker\":{\"line\":{\"color\":\"rgb(17,17,17)\",\"width\":0.5},\"pattern\":{\"fillmode\":\"overlay\",\"size\":10,\"solidity\":0.2}},\"type\":\"bar\"}],\"scattergeo\":[{\"type\":\"scattergeo\",\"marker\":{\"colorbar\":{\"outlinewidth\":0,\"ticks\":\"\"}}}],\"scatterpolar\":[{\"type\":\"scatterpolar\",\"marker\":{\"colorbar\":{\"outlinewidth\":0,\"ticks\":\"\"}}}],\"histogram\":[{\"marker\":{\"pattern\":{\"fillmode\":\"overlay\",\"size\":10,\"solidity\":0.2}},\"type\":\"histogram\"}],\"scattergl\":[{\"marker\":{\"line\":{\"color\":\"#283442\"}},\"type\":\"scattergl\"}],\"scatter3d\":[{\"type\":\"scatter3d\",\"line\":{\"colorbar\":{\"outlinewidth\":0,\"ticks\":\"\"}},\"marker\":{\"colorbar\":{\"outlinewidth\":0,\"ticks\":\"\"}}}],\"scattermapbox\":[{\"type\":\"scattermapbox\",\"marker\":{\"colorbar\":{\"outlinewidth\":0,\"ticks\":\"\"}}}],\"scatterternary\":[{\"type\":\"scatterternary\",\"marker\":{\"colorbar\":{\"outlinewidth\":0,\"ticks\":\"\"}}}],\"scattercarpet\":[{\"type\":\"scattercarpet\",\"marker\":{\"colorbar\":{\"outlinewidth\":0,\"ticks\":\"\"}}}],\"carpet\":[{\"aaxis\":{\"endlinecolor\":\"#A2B1C6\",\"gridcolor\":\"#506784\",\"linecolor\":\"#506784\",\"minorgridcolor\":\"#506784\",\"startlinecolor\":\"#A2B1C6\"},\"baxis\":{\"endlinecolor\":\"#A2B1C6\",\"gridcolor\":\"#506784\",\"linecolor\":\"#506784\",\"minorgridcolor\":\"#506784\",\"startlinecolor\":\"#A2B1C6\"},\"type\":\"carpet\"}],\"table\":[{\"cells\":{\"fill\":{\"color\":\"#506784\"},\"line\":{\"color\":\"rgb(17,17,17)\"}},\"header\":{\"fill\":{\"color\":\"#2a3f5f\"},\"line\":{\"color\":\"rgb(17,17,17)\"}},\"type\":\"table\"}],\"barpolar\":[{\"marker\":{\"line\":{\"color\":\"rgb(17,17,17)\",\"width\":0.5},\"pattern\":{\"fillmode\":\"overlay\",\"size\":10,\"solidity\":0.2}},\"type\":\"barpolar\"}],\"pie\":[{\"automargin\":true,\"type\":\"pie\"}]},\"layout\":{\"autotypenumbers\":\"strict\",\"colorway\":[\"#636efa\",\"#EF553B\",\"#00cc96\",\"#ab63fa\",\"#FFA15A\",\"#19d3f3\",\"#FF6692\",\"#B6E880\",\"#FF97FF\",\"#FECB52\"],\"font\":{\"color\":\"#f2f5fa\"},\"hovermode\":\"closest\",\"hoverlabel\":{\"align\":\"left\"},\"paper_bgcolor\":\"rgb(17,17,17)\",\"plot_bgcolor\":\"rgb(17,17,17)\",\"polar\":{\"bgcolor\":\"rgb(17,17,17)\",\"angularaxis\":{\"gridcolor\":\"#506784\",\"linecolor\":\"#506784\",\"ticks\":\"\"},\"radialaxis\":{\"gridcolor\":\"#506784\",\"linecolor\":\"#506784\",\"ticks\":\"\"}},\"ternary\":{\"bgcolor\":\"rgb(17,17,17)\",\"aaxis\":{\"gridcolor\":\"#506784\",\"linecolor\":\"#506784\",\"ticks\":\"\"},\"baxis\":{\"gridcolor\":\"#506784\",\"linecolor\":\"#506784\",\"ticks\":\"\"},\"caxis\":{\"gridcolor\":\"#506784\",\"linecolor\":\"#506784\",\"ticks\":\"\"}},\"coloraxis\":{\"colorbar\":{\"outlinewidth\":0,\"ticks\":\"\"}},\"colorscale\":{\"sequential\":[[0.0,\"#0d0887\"],[0.1111111111111111,\"#46039f\"],[0.2222222222222222,\"#7201a8\"],[0.3333333333333333,\"#9c179e\"],[0.4444444444444444,\"#bd3786\"],[0.5555555555555556,\"#d8576b\"],[0.6666666666666666,\"#ed7953\"],[0.7777777777777778,\"#fb9f3a\"],[0.8888888888888888,\"#fdca26\"],[1.0,\"#f0f921\"]],\"sequentialminus\":[[0.0,\"#0d0887\"],[0.1111111111111111,\"#46039f\"],[0.2222222222222222,\"#7201a8\"],[0.3333333333333333,\"#9c179e\"],[0.4444444444444444,\"#bd3786\"],[0.5555555555555556,\"#d8576b\"],[0.6666666666666666,\"#ed7953\"],[0.7777777777777778,\"#fb9f3a\"],[0.8888888888888888,\"#fdca26\"],[1.0,\"#f0f921\"]],\"diverging\":[[0,\"#8e0152\"],[0.1,\"#c51b7d\"],[0.2,\"#de77ae\"],[0.3,\"#f1b6da\"],[0.4,\"#fde0ef\"],[0.5,\"#f7f7f7\"],[0.6,\"#e6f5d0\"],[0.7,\"#b8e186\"],[0.8,\"#7fbc41\"],[0.9,\"#4d9221\"],[1,\"#276419\"]]},\"xaxis\":{\"gridcolor\":\"#283442\",\"linecolor\":\"#506784\",\"ticks\":\"\",\"title\":{\"standoff\":15},\"zerolinecolor\":\"#283442\",\"automargin\":true,\"zerolinewidth\":2},\"yaxis\":{\"gridcolor\":\"#283442\",\"linecolor\":\"#506784\",\"ticks\":\"\",\"title\":{\"standoff\":15},\"zerolinecolor\":\"#283442\",\"automargin\":true,\"zerolinewidth\":2},\"scene\":{\"xaxis\":{\"backgroundcolor\":\"rgb(17,17,17)\",\"gridcolor\":\"#506784\",\"linecolor\":\"#506784\",\"showbackground\":true,\"ticks\":\"\",\"zerolinecolor\":\"#C8D4E3\",\"gridwidth\":2},\"yaxis\":{\"backgroundcolor\":\"rgb(17,17,17)\",\"gridcolor\":\"#506784\",\"linecolor\":\"#506784\",\"showbackground\":true,\"ticks\":\"\",\"zerolinecolor\":\"#C8D4E3\",\"gridwidth\":2},\"zaxis\":{\"backgroundcolor\":\"rgb(17,17,17)\",\"gridcolor\":\"#506784\",\"linecolor\":\"#506784\",\"showbackground\":true,\"ticks\":\"\",\"zerolinecolor\":\"#C8D4E3\",\"gridwidth\":2}},\"shapedefaults\":{\"line\":{\"color\":\"#f2f5fa\"}},\"annotationdefaults\":{\"arrowcolor\":\"#f2f5fa\",\"arrowhead\":0,\"arrowwidth\":1},\"geo\":{\"bgcolor\":\"rgb(17,17,17)\",\"landcolor\":\"rgb(17,17,17)\",\"subunitcolor\":\"#506784\",\"showland\":true,\"showlakes\":true,\"lakecolor\":\"rgb(17,17,17)\"},\"title\":{\"x\":0.05},\"updatemenudefaults\":{\"bgcolor\":\"#506784\",\"borderwidth\":0},\"sliderdefaults\":{\"bgcolor\":\"#C8D4E3\",\"borderwidth\":1,\"bordercolor\":\"rgb(17,17,17)\",\"tickwidth\":0},\"mapbox\":{\"style\":\"dark\"}}},\"xaxis\":{\"anchor\":\"y\",\"domain\":[0.0,1.0],\"scaleanchor\":\"y\",\"constrain\":\"domain\",\"title\":{\"text\":\"Leto\"}},\"yaxis\":{\"anchor\":\"x\",\"domain\":[0.0,1.0],\"autorange\":\"reversed\",\"constrain\":\"domain\",\"title\":{\"text\":\"Kategorija\"}},\"coloraxis\":{\"colorscale\":[[0.0,\"#440154\"],[0.1111111111111111,\"#482878\"],[0.2222222222222222,\"#3e4989\"],[0.3333333333333333,\"#31688e\"],[0.4444444444444444,\"#26828e\"],[0.5555555555555556,\"#1f9e89\"],[0.6666666666666666,\"#35b779\"],[0.7777777777777778,\"#6ece58\"],[0.8888888888888888,\"#b5de2b\"],[1.0,\"#fde725\"]]},\"title\":{\"text\":\"Pla\\u010dane delovne ure\"},\"height\":800,\"width\":1200},                        {\"responsive\": true}                    ).then(function(){\n                            \nvar gd = document.getElementById('53efa725-5da5-4eac-9723-2e3962b79fa4');\nvar x = new MutationObserver(function (mutations, observer) {{\n        var display = window.getComputedStyle(gd).display;\n        if (!display || display === 'none') {{\n            console.log([gd, 'removed!']);\n            Plotly.purge(gd);\n            observer.disconnect();\n        }}\n}});\n\n// Listen for the removal of the full notebook cells\nvar notebookContainer = gd.closest('#notebook-container');\nif (notebookContainer) {{\n    x.observe(notebookContainer, {childList: true});\n}}\n\n// Listen for the clearing of the current output cell\nvar outputEl = gd.closest('.output');\nif (outputEl) {{\n    x.observe(outputEl, {childList: true});\n}}\n\n                        })                };                });            </script>        </div>"
     },
     "metadata": {},
     "output_type": "display_data"
    }
   ],
   "source": [
    "df = placane_delovne_ure_grouped\n",
    "df_selected = df.iloc[:, 0:]\n",
    "\n",
    "fig = px.imshow(df_selected.iloc[:, 1:].transpose(), x=df_selected.index, y=df_selected.columns[1:],\n",
    "                color_continuous_scale='viridis', title='Plačane delovne ure',\n",
    "                labels={'x': 'Leto', 'y': 'Kategorija'}, width=1200, height=800)\n",
    "fig.update_layout(yaxis_autorange='reversed')\n",
    "fig.show()\n",
    "\n"
   ],
   "metadata": {
    "collapsed": false
   }
  },
  {
   "cell_type": "code",
   "execution_count": 72,
   "outputs": [
    {
     "data": {
      "application/vnd.plotly.v1+json": {
       "data": [
        {
         "coloraxis": "coloraxis",
         "name": "0",
         "x": [
          "2008",
          "2009",
          "2010",
          "2011",
          "2012",
          "2013",
          "2014",
          "2015",
          "2016",
          "2017",
          "2018",
          "2019",
          "2020",
          "2021",
          "2022"
         ],
         "y": [
          "A KMETIJSTVO IN LOV, GOZDARSTVO, RIBISTVO",
          "B RUDARSTVO",
          "C PREDELOVALNE DEJAVNOSTI",
          "D OSKRBA Z ELEKTRICNO ENERGIJO, PLINOM IN PARO",
          "E OSKRBA Z VODO, RAVNANJE Z ODPLAKAMI IN ODPADKI, SANIRANJE OKOLJA",
          "F GRADBENISTVO",
          "G TRGOVINA, VZDRZEVANJE IN POPRAVILA MOTORNIH VOZIL",
          "H PROMET IN SKLADISCENJE",
          "I GOSTINSTVO",
          "J INFORMACIJSKE IN KOMUNIKACIJSKE DEJAVNOSTI",
          "K FINANCNE IN ZAVAROVALNISKE DEJAVNOSTI",
          "L POSLOVANJE Z NEPREMICNINAMI",
          "M STROKOVNE, ZNANSTVENE IN TEHNICNE DEJAVNOSTI",
          "N DRUGE RAZNOVRSTNE POSLOVNE DEJAVNOSTI",
          "O DEJAVNOST JAVNE UPRAVE IN OBRAMBE, DEJAVNOST OBVEZNE SOCIALNE VARNOSTI",
          "P IZOBRAZEVANJE",
          "Q ZDRAVSTVO IN SOCIALNO VARSTVO",
          "R KULTURNE, RAZVEDRILNE IN REKREACIJSKE DEJAVNOSTI",
          "S DRUGE DEJAVNOSTI"
         ],
         "z": [
          [
           37.0,
           34.75,
           32.0,
           33.75,
           36.75,
           35.25,
           34.0,
           32.75,
           34.25,
           35.0,
           36.0,
           34.5,
           31.75,
           31.5,
           31.25
          ],
          [
           40.5,
           41.0,
           40.25,
           40.0,
           42.75,
           42.0,
           40.25,
           37.75,
           39.75,
           41.0,
           40.75,
           41.0,
           38.25,
           37.75,
           38.75
          ],
          [
           37.25,
           33.75,
           32.75,
           34.5,
           36.5,
           35.25,
           34.25,
           32.5,
           34.0,
           35.75,
           36.75,
           36.75,
           33.0,
           33.25,
           34.75
          ],
          [
           42.0,
           38.25,
           37.25,
           38.0,
           39.5,
           36.5,
           38.25,
           34.75,
           35.5,
           36.5,
           42.25,
           41.25,
           38.25,
           37.75,
           38.25
          ],
          [
           38.75,
           32.75,
           34.5,
           34.25,
           39.75,
           33.75,
           35.25,
           35.5,
           36.25,
           33.0,
           37.75,
           37.75,
           35.0,
           34.5,
           36.0
          ],
          [
           32.5,
           29.5,
           28.25,
           28.25,
           29.25,
           27.25,
           26.25,
           24.75,
           31.75,
           33.0,
           33.5,
           32.75,
           30.0,
           29.5,
           31.0
          ],
          [
           33.75,
           32.0,
           30.25,
           32.25,
           32.75,
           32.75,
           30.5,
           29.25,
           32.25,
           32.75,
           34.0,
           34.25,
           30.75,
           31.0,
           32.75
          ],
          [
           36.5,
           33.5,
           33.25,
           35.0,
           35.0,
           31.75,
           31.0,
           32.5,
           32.0,
           33.5,
           34.75,
           34.25,
           31.75,
           31.25,
           32.25
          ],
          [
           34.75,
           32.5,
           32.25,
           33.25,
           29.5,
           29.0,
           27.5,
           25.75,
           31.25,
           31.75,
           32.25,
           32.25,
           28.25,
           28.5,
           31.25
          ],
          [
           35.25,
           31.5,
           31.5,
           31.75,
           32.0,
           31.75,
           31.5,
           29.5,
           33.75,
           35.25,
           35.25,
           35.25,
           32.0,
           31.25,
           30.75
          ],
          [
           34.25,
           29.75,
           29.75,
           31.0,
           38.0,
           35.0,
           34.75,
           33.75,
           35.5,
           35.75,
           38.0,
           37.5,
           33.25,
           32.75,
           34.5
          ],
          [
           33.0,
           31.25,
           30.0,
           31.25,
           31.5,
           30.25,
           29.25,
           27.0,
           32.5,
           33.75,
           34.75,
           34.25,
           31.0,
           29.5,
           31.75
          ],
          [
           33.25,
           24.75,
           28.75,
           28.25,
           31.5,
           25.0,
           25.75,
           27.75,
           28.75,
           32.5,
           32.5,
           33.0,
           29.5,
           28.75,
           30.5
          ],
          [
           33.75,
           30.5,
           29.25,
           30.5,
           31.25,
           29.75,
           28.25,
           27.5,
           29.75,
           33.25,
           33.5,
           33.5,
           30.25,
           30.0,
           32.25
          ],
          [
           37.25,
           34.5,
           35.5,
           32.25,
           40.25,
           40.5,
           38.75,
           35.75,
           38.75,
           41.0,
           42.25,
           42.0,
           34.5,
           35.75,
           38.75
          ],
          [
           38.0,
           35.5,
           35.0,
           35.0,
           37.5,
           33.75,
           34.0,
           30.75,
           36.0,
           38.0,
           37.5,
           39.0,
           34.5,
           34.75,
           37.25
          ],
          [
           34.25,
           31.75,
           33.75,
           34.0,
           36.25,
           36.25,
           32.75,
           33.25,
           33.0,
           36.5,
           37.5,
           37.75,
           35.5,
           36.0,
           37.5
          ],
          [
           31.0,
           30.5,
           31.25,
           33.25,
           35.25,
           36.0,
           33.75,
           31.0,
           34.75,
           37.25,
           38.0,
           38.0,
           34.5,
           33.75,
           35.0
          ],
          [
           35.0,
           32.25,
           31.5,
           33.0,
           31.75,
           32.5,
           30.75,
           29.25,
           30.75,
           32.75,
           33.25,
           32.5,
           29.25,
           28.25,
           28.75
          ]
         ],
         "type": "heatmap",
         "xaxis": "x",
         "yaxis": "y",
         "hovertemplate": "Leto: %{x}<br>Kategorija: %{y}<br>color: %{z}<extra></extra>"
        }
       ],
       "layout": {
        "template": {
         "data": {
          "histogram2dcontour": [
           {
            "type": "histogram2dcontour",
            "colorbar": {
             "outlinewidth": 0,
             "ticks": ""
            },
            "colorscale": [
             [
              0.0,
              "#0d0887"
             ],
             [
              0.1111111111111111,
              "#46039f"
             ],
             [
              0.2222222222222222,
              "#7201a8"
             ],
             [
              0.3333333333333333,
              "#9c179e"
             ],
             [
              0.4444444444444444,
              "#bd3786"
             ],
             [
              0.5555555555555556,
              "#d8576b"
             ],
             [
              0.6666666666666666,
              "#ed7953"
             ],
             [
              0.7777777777777778,
              "#fb9f3a"
             ],
             [
              0.8888888888888888,
              "#fdca26"
             ],
             [
              1.0,
              "#f0f921"
             ]
            ]
           }
          ],
          "choropleth": [
           {
            "type": "choropleth",
            "colorbar": {
             "outlinewidth": 0,
             "ticks": ""
            }
           }
          ],
          "histogram2d": [
           {
            "type": "histogram2d",
            "colorbar": {
             "outlinewidth": 0,
             "ticks": ""
            },
            "colorscale": [
             [
              0.0,
              "#0d0887"
             ],
             [
              0.1111111111111111,
              "#46039f"
             ],
             [
              0.2222222222222222,
              "#7201a8"
             ],
             [
              0.3333333333333333,
              "#9c179e"
             ],
             [
              0.4444444444444444,
              "#bd3786"
             ],
             [
              0.5555555555555556,
              "#d8576b"
             ],
             [
              0.6666666666666666,
              "#ed7953"
             ],
             [
              0.7777777777777778,
              "#fb9f3a"
             ],
             [
              0.8888888888888888,
              "#fdca26"
             ],
             [
              1.0,
              "#f0f921"
             ]
            ]
           }
          ],
          "heatmap": [
           {
            "type": "heatmap",
            "colorbar": {
             "outlinewidth": 0,
             "ticks": ""
            },
            "colorscale": [
             [
              0.0,
              "#0d0887"
             ],
             [
              0.1111111111111111,
              "#46039f"
             ],
             [
              0.2222222222222222,
              "#7201a8"
             ],
             [
              0.3333333333333333,
              "#9c179e"
             ],
             [
              0.4444444444444444,
              "#bd3786"
             ],
             [
              0.5555555555555556,
              "#d8576b"
             ],
             [
              0.6666666666666666,
              "#ed7953"
             ],
             [
              0.7777777777777778,
              "#fb9f3a"
             ],
             [
              0.8888888888888888,
              "#fdca26"
             ],
             [
              1.0,
              "#f0f921"
             ]
            ]
           }
          ],
          "heatmapgl": [
           {
            "type": "heatmapgl",
            "colorbar": {
             "outlinewidth": 0,
             "ticks": ""
            },
            "colorscale": [
             [
              0.0,
              "#0d0887"
             ],
             [
              0.1111111111111111,
              "#46039f"
             ],
             [
              0.2222222222222222,
              "#7201a8"
             ],
             [
              0.3333333333333333,
              "#9c179e"
             ],
             [
              0.4444444444444444,
              "#bd3786"
             ],
             [
              0.5555555555555556,
              "#d8576b"
             ],
             [
              0.6666666666666666,
              "#ed7953"
             ],
             [
              0.7777777777777778,
              "#fb9f3a"
             ],
             [
              0.8888888888888888,
              "#fdca26"
             ],
             [
              1.0,
              "#f0f921"
             ]
            ]
           }
          ],
          "contourcarpet": [
           {
            "type": "contourcarpet",
            "colorbar": {
             "outlinewidth": 0,
             "ticks": ""
            }
           }
          ],
          "contour": [
           {
            "type": "contour",
            "colorbar": {
             "outlinewidth": 0,
             "ticks": ""
            },
            "colorscale": [
             [
              0.0,
              "#0d0887"
             ],
             [
              0.1111111111111111,
              "#46039f"
             ],
             [
              0.2222222222222222,
              "#7201a8"
             ],
             [
              0.3333333333333333,
              "#9c179e"
             ],
             [
              0.4444444444444444,
              "#bd3786"
             ],
             [
              0.5555555555555556,
              "#d8576b"
             ],
             [
              0.6666666666666666,
              "#ed7953"
             ],
             [
              0.7777777777777778,
              "#fb9f3a"
             ],
             [
              0.8888888888888888,
              "#fdca26"
             ],
             [
              1.0,
              "#f0f921"
             ]
            ]
           }
          ],
          "surface": [
           {
            "type": "surface",
            "colorbar": {
             "outlinewidth": 0,
             "ticks": ""
            },
            "colorscale": [
             [
              0.0,
              "#0d0887"
             ],
             [
              0.1111111111111111,
              "#46039f"
             ],
             [
              0.2222222222222222,
              "#7201a8"
             ],
             [
              0.3333333333333333,
              "#9c179e"
             ],
             [
              0.4444444444444444,
              "#bd3786"
             ],
             [
              0.5555555555555556,
              "#d8576b"
             ],
             [
              0.6666666666666666,
              "#ed7953"
             ],
             [
              0.7777777777777778,
              "#fb9f3a"
             ],
             [
              0.8888888888888888,
              "#fdca26"
             ],
             [
              1.0,
              "#f0f921"
             ]
            ]
           }
          ],
          "mesh3d": [
           {
            "type": "mesh3d",
            "colorbar": {
             "outlinewidth": 0,
             "ticks": ""
            }
           }
          ],
          "scatter": [
           {
            "marker": {
             "line": {
              "color": "#283442"
             }
            },
            "type": "scatter"
           }
          ],
          "parcoords": [
           {
            "type": "parcoords",
            "line": {
             "colorbar": {
              "outlinewidth": 0,
              "ticks": ""
             }
            }
           }
          ],
          "scatterpolargl": [
           {
            "type": "scatterpolargl",
            "marker": {
             "colorbar": {
              "outlinewidth": 0,
              "ticks": ""
             }
            }
           }
          ],
          "bar": [
           {
            "error_x": {
             "color": "#f2f5fa"
            },
            "error_y": {
             "color": "#f2f5fa"
            },
            "marker": {
             "line": {
              "color": "rgb(17,17,17)",
              "width": 0.5
             },
             "pattern": {
              "fillmode": "overlay",
              "size": 10,
              "solidity": 0.2
             }
            },
            "type": "bar"
           }
          ],
          "scattergeo": [
           {
            "type": "scattergeo",
            "marker": {
             "colorbar": {
              "outlinewidth": 0,
              "ticks": ""
             }
            }
           }
          ],
          "scatterpolar": [
           {
            "type": "scatterpolar",
            "marker": {
             "colorbar": {
              "outlinewidth": 0,
              "ticks": ""
             }
            }
           }
          ],
          "histogram": [
           {
            "marker": {
             "pattern": {
              "fillmode": "overlay",
              "size": 10,
              "solidity": 0.2
             }
            },
            "type": "histogram"
           }
          ],
          "scattergl": [
           {
            "marker": {
             "line": {
              "color": "#283442"
             }
            },
            "type": "scattergl"
           }
          ],
          "scatter3d": [
           {
            "type": "scatter3d",
            "line": {
             "colorbar": {
              "outlinewidth": 0,
              "ticks": ""
             }
            },
            "marker": {
             "colorbar": {
              "outlinewidth": 0,
              "ticks": ""
             }
            }
           }
          ],
          "scattermapbox": [
           {
            "type": "scattermapbox",
            "marker": {
             "colorbar": {
              "outlinewidth": 0,
              "ticks": ""
             }
            }
           }
          ],
          "scatterternary": [
           {
            "type": "scatterternary",
            "marker": {
             "colorbar": {
              "outlinewidth": 0,
              "ticks": ""
             }
            }
           }
          ],
          "scattercarpet": [
           {
            "type": "scattercarpet",
            "marker": {
             "colorbar": {
              "outlinewidth": 0,
              "ticks": ""
             }
            }
           }
          ],
          "carpet": [
           {
            "aaxis": {
             "endlinecolor": "#A2B1C6",
             "gridcolor": "#506784",
             "linecolor": "#506784",
             "minorgridcolor": "#506784",
             "startlinecolor": "#A2B1C6"
            },
            "baxis": {
             "endlinecolor": "#A2B1C6",
             "gridcolor": "#506784",
             "linecolor": "#506784",
             "minorgridcolor": "#506784",
             "startlinecolor": "#A2B1C6"
            },
            "type": "carpet"
           }
          ],
          "table": [
           {
            "cells": {
             "fill": {
              "color": "#506784"
             },
             "line": {
              "color": "rgb(17,17,17)"
             }
            },
            "header": {
             "fill": {
              "color": "#2a3f5f"
             },
             "line": {
              "color": "rgb(17,17,17)"
             }
            },
            "type": "table"
           }
          ],
          "barpolar": [
           {
            "marker": {
             "line": {
              "color": "rgb(17,17,17)",
              "width": 0.5
             },
             "pattern": {
              "fillmode": "overlay",
              "size": 10,
              "solidity": 0.2
             }
            },
            "type": "barpolar"
           }
          ],
          "pie": [
           {
            "automargin": true,
            "type": "pie"
           }
          ]
         },
         "layout": {
          "autotypenumbers": "strict",
          "colorway": [
           "#636efa",
           "#EF553B",
           "#00cc96",
           "#ab63fa",
           "#FFA15A",
           "#19d3f3",
           "#FF6692",
           "#B6E880",
           "#FF97FF",
           "#FECB52"
          ],
          "font": {
           "color": "#f2f5fa"
          },
          "hovermode": "closest",
          "hoverlabel": {
           "align": "left"
          },
          "paper_bgcolor": "rgb(17,17,17)",
          "plot_bgcolor": "rgb(17,17,17)",
          "polar": {
           "bgcolor": "rgb(17,17,17)",
           "angularaxis": {
            "gridcolor": "#506784",
            "linecolor": "#506784",
            "ticks": ""
           },
           "radialaxis": {
            "gridcolor": "#506784",
            "linecolor": "#506784",
            "ticks": ""
           }
          },
          "ternary": {
           "bgcolor": "rgb(17,17,17)",
           "aaxis": {
            "gridcolor": "#506784",
            "linecolor": "#506784",
            "ticks": ""
           },
           "baxis": {
            "gridcolor": "#506784",
            "linecolor": "#506784",
            "ticks": ""
           },
           "caxis": {
            "gridcolor": "#506784",
            "linecolor": "#506784",
            "ticks": ""
           }
          },
          "coloraxis": {
           "colorbar": {
            "outlinewidth": 0,
            "ticks": ""
           }
          },
          "colorscale": {
           "sequential": [
            [
             0.0,
             "#0d0887"
            ],
            [
             0.1111111111111111,
             "#46039f"
            ],
            [
             0.2222222222222222,
             "#7201a8"
            ],
            [
             0.3333333333333333,
             "#9c179e"
            ],
            [
             0.4444444444444444,
             "#bd3786"
            ],
            [
             0.5555555555555556,
             "#d8576b"
            ],
            [
             0.6666666666666666,
             "#ed7953"
            ],
            [
             0.7777777777777778,
             "#fb9f3a"
            ],
            [
             0.8888888888888888,
             "#fdca26"
            ],
            [
             1.0,
             "#f0f921"
            ]
           ],
           "sequentialminus": [
            [
             0.0,
             "#0d0887"
            ],
            [
             0.1111111111111111,
             "#46039f"
            ],
            [
             0.2222222222222222,
             "#7201a8"
            ],
            [
             0.3333333333333333,
             "#9c179e"
            ],
            [
             0.4444444444444444,
             "#bd3786"
            ],
            [
             0.5555555555555556,
             "#d8576b"
            ],
            [
             0.6666666666666666,
             "#ed7953"
            ],
            [
             0.7777777777777778,
             "#fb9f3a"
            ],
            [
             0.8888888888888888,
             "#fdca26"
            ],
            [
             1.0,
             "#f0f921"
            ]
           ],
           "diverging": [
            [
             0,
             "#8e0152"
            ],
            [
             0.1,
             "#c51b7d"
            ],
            [
             0.2,
             "#de77ae"
            ],
            [
             0.3,
             "#f1b6da"
            ],
            [
             0.4,
             "#fde0ef"
            ],
            [
             0.5,
             "#f7f7f7"
            ],
            [
             0.6,
             "#e6f5d0"
            ],
            [
             0.7,
             "#b8e186"
            ],
            [
             0.8,
             "#7fbc41"
            ],
            [
             0.9,
             "#4d9221"
            ],
            [
             1,
             "#276419"
            ]
           ]
          },
          "xaxis": {
           "gridcolor": "#283442",
           "linecolor": "#506784",
           "ticks": "",
           "title": {
            "standoff": 15
           },
           "zerolinecolor": "#283442",
           "automargin": true,
           "zerolinewidth": 2
          },
          "yaxis": {
           "gridcolor": "#283442",
           "linecolor": "#506784",
           "ticks": "",
           "title": {
            "standoff": 15
           },
           "zerolinecolor": "#283442",
           "automargin": true,
           "zerolinewidth": 2
          },
          "scene": {
           "xaxis": {
            "backgroundcolor": "rgb(17,17,17)",
            "gridcolor": "#506784",
            "linecolor": "#506784",
            "showbackground": true,
            "ticks": "",
            "zerolinecolor": "#C8D4E3",
            "gridwidth": 2
           },
           "yaxis": {
            "backgroundcolor": "rgb(17,17,17)",
            "gridcolor": "#506784",
            "linecolor": "#506784",
            "showbackground": true,
            "ticks": "",
            "zerolinecolor": "#C8D4E3",
            "gridwidth": 2
           },
           "zaxis": {
            "backgroundcolor": "rgb(17,17,17)",
            "gridcolor": "#506784",
            "linecolor": "#506784",
            "showbackground": true,
            "ticks": "",
            "zerolinecolor": "#C8D4E3",
            "gridwidth": 2
           }
          },
          "shapedefaults": {
           "line": {
            "color": "#f2f5fa"
           }
          },
          "annotationdefaults": {
           "arrowcolor": "#f2f5fa",
           "arrowhead": 0,
           "arrowwidth": 1
          },
          "geo": {
           "bgcolor": "rgb(17,17,17)",
           "landcolor": "rgb(17,17,17)",
           "subunitcolor": "#506784",
           "showland": true,
           "showlakes": true,
           "lakecolor": "rgb(17,17,17)"
          },
          "title": {
           "x": 0.05
          },
          "updatemenudefaults": {
           "bgcolor": "#506784",
           "borderwidth": 0
          },
          "sliderdefaults": {
           "bgcolor": "#C8D4E3",
           "borderwidth": 1,
           "bordercolor": "rgb(17,17,17)",
           "tickwidth": 0
          },
          "mapbox": {
           "style": "dark"
          }
         }
        },
        "xaxis": {
         "anchor": "y",
         "domain": [
          0.0,
          1.0
         ],
         "scaleanchor": "y",
         "constrain": "domain",
         "title": {
          "text": "Leto"
         }
        },
        "yaxis": {
         "anchor": "x",
         "domain": [
          0.0,
          1.0
         ],
         "autorange": "reversed",
         "constrain": "domain",
         "title": {
          "text": "Kategorija"
         }
        },
        "coloraxis": {
         "colorscale": [
          [
           0.0,
           "#440154"
          ],
          [
           0.1111111111111111,
           "#482878"
          ],
          [
           0.2222222222222222,
           "#3e4989"
          ],
          [
           0.3333333333333333,
           "#31688e"
          ],
          [
           0.4444444444444444,
           "#26828e"
          ],
          [
           0.5555555555555556,
           "#1f9e89"
          ],
          [
           0.6666666666666666,
           "#35b779"
          ],
          [
           0.7777777777777778,
           "#6ece58"
          ],
          [
           0.8888888888888888,
           "#b5de2b"
          ],
          [
           1.0,
           "#fde725"
          ]
         ]
        },
        "title": {
         "text": "Razlika med plačanimi urami in opravljenimi delovnimi urami"
        },
        "height": 800,
        "width": 1200
       },
       "config": {
        "plotlyServerURL": "https://plot.ly"
       }
      },
      "text/html": "<div>                            <div id=\"7aec2c5c-9831-4da1-8627-2cb20f8b2e49\" class=\"plotly-graph-div\" style=\"height:800px; width:1200px;\"></div>            <script type=\"text/javascript\">                require([\"plotly\"], function(Plotly) {                    window.PLOTLYENV=window.PLOTLYENV || {};                                    if (document.getElementById(\"7aec2c5c-9831-4da1-8627-2cb20f8b2e49\")) {                    Plotly.newPlot(                        \"7aec2c5c-9831-4da1-8627-2cb20f8b2e49\",                        [{\"coloraxis\":\"coloraxis\",\"name\":\"0\",\"x\":[\"2008\",\"2009\",\"2010\",\"2011\",\"2012\",\"2013\",\"2014\",\"2015\",\"2016\",\"2017\",\"2018\",\"2019\",\"2020\",\"2021\",\"2022\"],\"y\":[\"A KMETIJSTVO IN LOV, GOZDARSTVO, RIBISTVO\",\"B RUDARSTVO\",\"C PREDELOVALNE DEJAVNOSTI\",\"D OSKRBA Z ELEKTRICNO ENERGIJO, PLINOM IN PARO\",\"E OSKRBA Z VODO, RAVNANJE Z ODPLAKAMI IN ODPADKI, SANIRANJE OKOLJA\",\"F GRADBENISTVO\",\"G TRGOVINA, VZDRZEVANJE IN POPRAVILA MOTORNIH VOZIL\",\"H PROMET IN SKLADISCENJE\",\"I GOSTINSTVO\",\"J INFORMACIJSKE IN KOMUNIKACIJSKE DEJAVNOSTI\",\"K FINANCNE IN ZAVAROVALNISKE DEJAVNOSTI\",\"L POSLOVANJE Z NEPREMICNINAMI\",\"M STROKOVNE, ZNANSTVENE IN TEHNICNE DEJAVNOSTI\",\"N DRUGE RAZNOVRSTNE POSLOVNE DEJAVNOSTI\",\"O DEJAVNOST JAVNE UPRAVE IN OBRAMBE, DEJAVNOST OBVEZNE SOCIALNE VARNOSTI\",\"P IZOBRAZEVANJE\",\"Q ZDRAVSTVO IN SOCIALNO VARSTVO\",\"R KULTURNE, RAZVEDRILNE IN REKREACIJSKE DEJAVNOSTI\",\"S DRUGE DEJAVNOSTI\"],\"z\":[[37.0,34.75,32.0,33.75,36.75,35.25,34.0,32.75,34.25,35.0,36.0,34.5,31.75,31.5,31.25],[40.5,41.0,40.25,40.0,42.75,42.0,40.25,37.75,39.75,41.0,40.75,41.0,38.25,37.75,38.75],[37.25,33.75,32.75,34.5,36.5,35.25,34.25,32.5,34.0,35.75,36.75,36.75,33.0,33.25,34.75],[42.0,38.25,37.25,38.0,39.5,36.5,38.25,34.75,35.5,36.5,42.25,41.25,38.25,37.75,38.25],[38.75,32.75,34.5,34.25,39.75,33.75,35.25,35.5,36.25,33.0,37.75,37.75,35.0,34.5,36.0],[32.5,29.5,28.25,28.25,29.25,27.25,26.25,24.75,31.75,33.0,33.5,32.75,30.0,29.5,31.0],[33.75,32.0,30.25,32.25,32.75,32.75,30.5,29.25,32.25,32.75,34.0,34.25,30.75,31.0,32.75],[36.5,33.5,33.25,35.0,35.0,31.75,31.0,32.5,32.0,33.5,34.75,34.25,31.75,31.25,32.25],[34.75,32.5,32.25,33.25,29.5,29.0,27.5,25.75,31.25,31.75,32.25,32.25,28.25,28.5,31.25],[35.25,31.5,31.5,31.75,32.0,31.75,31.5,29.5,33.75,35.25,35.25,35.25,32.0,31.25,30.75],[34.25,29.75,29.75,31.0,38.0,35.0,34.75,33.75,35.5,35.75,38.0,37.5,33.25,32.75,34.5],[33.0,31.25,30.0,31.25,31.5,30.25,29.25,27.0,32.5,33.75,34.75,34.25,31.0,29.5,31.75],[33.25,24.75,28.75,28.25,31.5,25.0,25.75,27.75,28.75,32.5,32.5,33.0,29.5,28.75,30.5],[33.75,30.5,29.25,30.5,31.25,29.75,28.25,27.5,29.75,33.25,33.5,33.5,30.25,30.0,32.25],[37.25,34.5,35.5,32.25,40.25,40.5,38.75,35.75,38.75,41.0,42.25,42.0,34.5,35.75,38.75],[38.0,35.5,35.0,35.0,37.5,33.75,34.0,30.75,36.0,38.0,37.5,39.0,34.5,34.75,37.25],[34.25,31.75,33.75,34.0,36.25,36.25,32.75,33.25,33.0,36.5,37.5,37.75,35.5,36.0,37.5],[31.0,30.5,31.25,33.25,35.25,36.0,33.75,31.0,34.75,37.25,38.0,38.0,34.5,33.75,35.0],[35.0,32.25,31.5,33.0,31.75,32.5,30.75,29.25,30.75,32.75,33.25,32.5,29.25,28.25,28.75]],\"type\":\"heatmap\",\"xaxis\":\"x\",\"yaxis\":\"y\",\"hovertemplate\":\"Leto: %{x}<br>Kategorija: %{y}<br>color: %{z}<extra></extra>\"}],                        {\"template\":{\"data\":{\"histogram2dcontour\":[{\"type\":\"histogram2dcontour\",\"colorbar\":{\"outlinewidth\":0,\"ticks\":\"\"},\"colorscale\":[[0.0,\"#0d0887\"],[0.1111111111111111,\"#46039f\"],[0.2222222222222222,\"#7201a8\"],[0.3333333333333333,\"#9c179e\"],[0.4444444444444444,\"#bd3786\"],[0.5555555555555556,\"#d8576b\"],[0.6666666666666666,\"#ed7953\"],[0.7777777777777778,\"#fb9f3a\"],[0.8888888888888888,\"#fdca26\"],[1.0,\"#f0f921\"]]}],\"choropleth\":[{\"type\":\"choropleth\",\"colorbar\":{\"outlinewidth\":0,\"ticks\":\"\"}}],\"histogram2d\":[{\"type\":\"histogram2d\",\"colorbar\":{\"outlinewidth\":0,\"ticks\":\"\"},\"colorscale\":[[0.0,\"#0d0887\"],[0.1111111111111111,\"#46039f\"],[0.2222222222222222,\"#7201a8\"],[0.3333333333333333,\"#9c179e\"],[0.4444444444444444,\"#bd3786\"],[0.5555555555555556,\"#d8576b\"],[0.6666666666666666,\"#ed7953\"],[0.7777777777777778,\"#fb9f3a\"],[0.8888888888888888,\"#fdca26\"],[1.0,\"#f0f921\"]]}],\"heatmap\":[{\"type\":\"heatmap\",\"colorbar\":{\"outlinewidth\":0,\"ticks\":\"\"},\"colorscale\":[[0.0,\"#0d0887\"],[0.1111111111111111,\"#46039f\"],[0.2222222222222222,\"#7201a8\"],[0.3333333333333333,\"#9c179e\"],[0.4444444444444444,\"#bd3786\"],[0.5555555555555556,\"#d8576b\"],[0.6666666666666666,\"#ed7953\"],[0.7777777777777778,\"#fb9f3a\"],[0.8888888888888888,\"#fdca26\"],[1.0,\"#f0f921\"]]}],\"heatmapgl\":[{\"type\":\"heatmapgl\",\"colorbar\":{\"outlinewidth\":0,\"ticks\":\"\"},\"colorscale\":[[0.0,\"#0d0887\"],[0.1111111111111111,\"#46039f\"],[0.2222222222222222,\"#7201a8\"],[0.3333333333333333,\"#9c179e\"],[0.4444444444444444,\"#bd3786\"],[0.5555555555555556,\"#d8576b\"],[0.6666666666666666,\"#ed7953\"],[0.7777777777777778,\"#fb9f3a\"],[0.8888888888888888,\"#fdca26\"],[1.0,\"#f0f921\"]]}],\"contourcarpet\":[{\"type\":\"contourcarpet\",\"colorbar\":{\"outlinewidth\":0,\"ticks\":\"\"}}],\"contour\":[{\"type\":\"contour\",\"colorbar\":{\"outlinewidth\":0,\"ticks\":\"\"},\"colorscale\":[[0.0,\"#0d0887\"],[0.1111111111111111,\"#46039f\"],[0.2222222222222222,\"#7201a8\"],[0.3333333333333333,\"#9c179e\"],[0.4444444444444444,\"#bd3786\"],[0.5555555555555556,\"#d8576b\"],[0.6666666666666666,\"#ed7953\"],[0.7777777777777778,\"#fb9f3a\"],[0.8888888888888888,\"#fdca26\"],[1.0,\"#f0f921\"]]}],\"surface\":[{\"type\":\"surface\",\"colorbar\":{\"outlinewidth\":0,\"ticks\":\"\"},\"colorscale\":[[0.0,\"#0d0887\"],[0.1111111111111111,\"#46039f\"],[0.2222222222222222,\"#7201a8\"],[0.3333333333333333,\"#9c179e\"],[0.4444444444444444,\"#bd3786\"],[0.5555555555555556,\"#d8576b\"],[0.6666666666666666,\"#ed7953\"],[0.7777777777777778,\"#fb9f3a\"],[0.8888888888888888,\"#fdca26\"],[1.0,\"#f0f921\"]]}],\"mesh3d\":[{\"type\":\"mesh3d\",\"colorbar\":{\"outlinewidth\":0,\"ticks\":\"\"}}],\"scatter\":[{\"marker\":{\"line\":{\"color\":\"#283442\"}},\"type\":\"scatter\"}],\"parcoords\":[{\"type\":\"parcoords\",\"line\":{\"colorbar\":{\"outlinewidth\":0,\"ticks\":\"\"}}}],\"scatterpolargl\":[{\"type\":\"scatterpolargl\",\"marker\":{\"colorbar\":{\"outlinewidth\":0,\"ticks\":\"\"}}}],\"bar\":[{\"error_x\":{\"color\":\"#f2f5fa\"},\"error_y\":{\"color\":\"#f2f5fa\"},\"marker\":{\"line\":{\"color\":\"rgb(17,17,17)\",\"width\":0.5},\"pattern\":{\"fillmode\":\"overlay\",\"size\":10,\"solidity\":0.2}},\"type\":\"bar\"}],\"scattergeo\":[{\"type\":\"scattergeo\",\"marker\":{\"colorbar\":{\"outlinewidth\":0,\"ticks\":\"\"}}}],\"scatterpolar\":[{\"type\":\"scatterpolar\",\"marker\":{\"colorbar\":{\"outlinewidth\":0,\"ticks\":\"\"}}}],\"histogram\":[{\"marker\":{\"pattern\":{\"fillmode\":\"overlay\",\"size\":10,\"solidity\":0.2}},\"type\":\"histogram\"}],\"scattergl\":[{\"marker\":{\"line\":{\"color\":\"#283442\"}},\"type\":\"scattergl\"}],\"scatter3d\":[{\"type\":\"scatter3d\",\"line\":{\"colorbar\":{\"outlinewidth\":0,\"ticks\":\"\"}},\"marker\":{\"colorbar\":{\"outlinewidth\":0,\"ticks\":\"\"}}}],\"scattermapbox\":[{\"type\":\"scattermapbox\",\"marker\":{\"colorbar\":{\"outlinewidth\":0,\"ticks\":\"\"}}}],\"scatterternary\":[{\"type\":\"scatterternary\",\"marker\":{\"colorbar\":{\"outlinewidth\":0,\"ticks\":\"\"}}}],\"scattercarpet\":[{\"type\":\"scattercarpet\",\"marker\":{\"colorbar\":{\"outlinewidth\":0,\"ticks\":\"\"}}}],\"carpet\":[{\"aaxis\":{\"endlinecolor\":\"#A2B1C6\",\"gridcolor\":\"#506784\",\"linecolor\":\"#506784\",\"minorgridcolor\":\"#506784\",\"startlinecolor\":\"#A2B1C6\"},\"baxis\":{\"endlinecolor\":\"#A2B1C6\",\"gridcolor\":\"#506784\",\"linecolor\":\"#506784\",\"minorgridcolor\":\"#506784\",\"startlinecolor\":\"#A2B1C6\"},\"type\":\"carpet\"}],\"table\":[{\"cells\":{\"fill\":{\"color\":\"#506784\"},\"line\":{\"color\":\"rgb(17,17,17)\"}},\"header\":{\"fill\":{\"color\":\"#2a3f5f\"},\"line\":{\"color\":\"rgb(17,17,17)\"}},\"type\":\"table\"}],\"barpolar\":[{\"marker\":{\"line\":{\"color\":\"rgb(17,17,17)\",\"width\":0.5},\"pattern\":{\"fillmode\":\"overlay\",\"size\":10,\"solidity\":0.2}},\"type\":\"barpolar\"}],\"pie\":[{\"automargin\":true,\"type\":\"pie\"}]},\"layout\":{\"autotypenumbers\":\"strict\",\"colorway\":[\"#636efa\",\"#EF553B\",\"#00cc96\",\"#ab63fa\",\"#FFA15A\",\"#19d3f3\",\"#FF6692\",\"#B6E880\",\"#FF97FF\",\"#FECB52\"],\"font\":{\"color\":\"#f2f5fa\"},\"hovermode\":\"closest\",\"hoverlabel\":{\"align\":\"left\"},\"paper_bgcolor\":\"rgb(17,17,17)\",\"plot_bgcolor\":\"rgb(17,17,17)\",\"polar\":{\"bgcolor\":\"rgb(17,17,17)\",\"angularaxis\":{\"gridcolor\":\"#506784\",\"linecolor\":\"#506784\",\"ticks\":\"\"},\"radialaxis\":{\"gridcolor\":\"#506784\",\"linecolor\":\"#506784\",\"ticks\":\"\"}},\"ternary\":{\"bgcolor\":\"rgb(17,17,17)\",\"aaxis\":{\"gridcolor\":\"#506784\",\"linecolor\":\"#506784\",\"ticks\":\"\"},\"baxis\":{\"gridcolor\":\"#506784\",\"linecolor\":\"#506784\",\"ticks\":\"\"},\"caxis\":{\"gridcolor\":\"#506784\",\"linecolor\":\"#506784\",\"ticks\":\"\"}},\"coloraxis\":{\"colorbar\":{\"outlinewidth\":0,\"ticks\":\"\"}},\"colorscale\":{\"sequential\":[[0.0,\"#0d0887\"],[0.1111111111111111,\"#46039f\"],[0.2222222222222222,\"#7201a8\"],[0.3333333333333333,\"#9c179e\"],[0.4444444444444444,\"#bd3786\"],[0.5555555555555556,\"#d8576b\"],[0.6666666666666666,\"#ed7953\"],[0.7777777777777778,\"#fb9f3a\"],[0.8888888888888888,\"#fdca26\"],[1.0,\"#f0f921\"]],\"sequentialminus\":[[0.0,\"#0d0887\"],[0.1111111111111111,\"#46039f\"],[0.2222222222222222,\"#7201a8\"],[0.3333333333333333,\"#9c179e\"],[0.4444444444444444,\"#bd3786\"],[0.5555555555555556,\"#d8576b\"],[0.6666666666666666,\"#ed7953\"],[0.7777777777777778,\"#fb9f3a\"],[0.8888888888888888,\"#fdca26\"],[1.0,\"#f0f921\"]],\"diverging\":[[0,\"#8e0152\"],[0.1,\"#c51b7d\"],[0.2,\"#de77ae\"],[0.3,\"#f1b6da\"],[0.4,\"#fde0ef\"],[0.5,\"#f7f7f7\"],[0.6,\"#e6f5d0\"],[0.7,\"#b8e186\"],[0.8,\"#7fbc41\"],[0.9,\"#4d9221\"],[1,\"#276419\"]]},\"xaxis\":{\"gridcolor\":\"#283442\",\"linecolor\":\"#506784\",\"ticks\":\"\",\"title\":{\"standoff\":15},\"zerolinecolor\":\"#283442\",\"automargin\":true,\"zerolinewidth\":2},\"yaxis\":{\"gridcolor\":\"#283442\",\"linecolor\":\"#506784\",\"ticks\":\"\",\"title\":{\"standoff\":15},\"zerolinecolor\":\"#283442\",\"automargin\":true,\"zerolinewidth\":2},\"scene\":{\"xaxis\":{\"backgroundcolor\":\"rgb(17,17,17)\",\"gridcolor\":\"#506784\",\"linecolor\":\"#506784\",\"showbackground\":true,\"ticks\":\"\",\"zerolinecolor\":\"#C8D4E3\",\"gridwidth\":2},\"yaxis\":{\"backgroundcolor\":\"rgb(17,17,17)\",\"gridcolor\":\"#506784\",\"linecolor\":\"#506784\",\"showbackground\":true,\"ticks\":\"\",\"zerolinecolor\":\"#C8D4E3\",\"gridwidth\":2},\"zaxis\":{\"backgroundcolor\":\"rgb(17,17,17)\",\"gridcolor\":\"#506784\",\"linecolor\":\"#506784\",\"showbackground\":true,\"ticks\":\"\",\"zerolinecolor\":\"#C8D4E3\",\"gridwidth\":2}},\"shapedefaults\":{\"line\":{\"color\":\"#f2f5fa\"}},\"annotationdefaults\":{\"arrowcolor\":\"#f2f5fa\",\"arrowhead\":0,\"arrowwidth\":1},\"geo\":{\"bgcolor\":\"rgb(17,17,17)\",\"landcolor\":\"rgb(17,17,17)\",\"subunitcolor\":\"#506784\",\"showland\":true,\"showlakes\":true,\"lakecolor\":\"rgb(17,17,17)\"},\"title\":{\"x\":0.05},\"updatemenudefaults\":{\"bgcolor\":\"#506784\",\"borderwidth\":0},\"sliderdefaults\":{\"bgcolor\":\"#C8D4E3\",\"borderwidth\":1,\"bordercolor\":\"rgb(17,17,17)\",\"tickwidth\":0},\"mapbox\":{\"style\":\"dark\"}}},\"xaxis\":{\"anchor\":\"y\",\"domain\":[0.0,1.0],\"scaleanchor\":\"y\",\"constrain\":\"domain\",\"title\":{\"text\":\"Leto\"}},\"yaxis\":{\"anchor\":\"x\",\"domain\":[0.0,1.0],\"autorange\":\"reversed\",\"constrain\":\"domain\",\"title\":{\"text\":\"Kategorija\"}},\"coloraxis\":{\"colorscale\":[[0.0,\"#440154\"],[0.1111111111111111,\"#482878\"],[0.2222222222222222,\"#3e4989\"],[0.3333333333333333,\"#31688e\"],[0.4444444444444444,\"#26828e\"],[0.5555555555555556,\"#1f9e89\"],[0.6666666666666666,\"#35b779\"],[0.7777777777777778,\"#6ece58\"],[0.8888888888888888,\"#b5de2b\"],[1.0,\"#fde725\"]]},\"title\":{\"text\":\"Razlika med pla\\u010danimi urami in opravljenimi delovnimi urami\"},\"height\":800,\"width\":1200},                        {\"responsive\": true}                    ).then(function(){\n                            \nvar gd = document.getElementById('7aec2c5c-9831-4da1-8627-2cb20f8b2e49');\nvar x = new MutationObserver(function (mutations, observer) {{\n        var display = window.getComputedStyle(gd).display;\n        if (!display || display === 'none') {{\n            console.log([gd, 'removed!']);\n            Plotly.purge(gd);\n            observer.disconnect();\n        }}\n}});\n\n// Listen for the removal of the full notebook cells\nvar notebookContainer = gd.closest('#notebook-container');\nif (notebookContainer) {{\n    x.observe(notebookContainer, {childList: true});\n}}\n\n// Listen for the clearing of the current output cell\nvar outputEl = gd.closest('.output');\nif (outputEl) {{\n    x.observe(outputEl, {childList: true});\n}}\n\n                        })                };                });            </script>        </div>"
     },
     "metadata": {},
     "output_type": "display_data"
    }
   ],
   "source": [
    "df = placane_delovne_ure_grouped.subtract(opravljene_delovne_ure_grouped)\n",
    "df_selected = df.iloc[:, 0:]\n",
    "\n",
    "fig = px.imshow(df_selected.iloc[:, 1:].transpose(), x=df_selected.index, y=df_selected.columns[1:],\n",
    "                color_continuous_scale='viridis', title='Razlika med plačanimi urami in opravljenimi delovnimi urami',\n",
    "                labels={'x': 'Leto', 'y': 'Kategorija'}, width=1200, height=800)\n",
    "fig.update_layout(yaxis_autorange='reversed')\n",
    "fig.show()\n",
    "\n"
   ],
   "metadata": {
    "collapsed": false
   }
  },
  {
   "cell_type": "code",
   "execution_count": 73,
   "outputs": [
    {
     "data": {
      "application/vnd.plotly.v1+json": {
       "data": [
        {
         "mode": "lines",
         "name": "A KMETIJSTVO IN LOV, GOZDARSTVO, RIBISTVO",
         "x": [
          "2008",
          "2009",
          "2010",
          "2011",
          "2012",
          "2013",
          "2014",
          "2015",
          "2016",
          "2017",
          "2018",
          "2019",
          "2020",
          "2021",
          "2022"
         ],
         "y": [
          37.0,
          34.75,
          32.0,
          33.75,
          36.75,
          35.25,
          34.0,
          32.75,
          34.25,
          35.0,
          36.0,
          34.5,
          31.75,
          31.5,
          31.25
         ],
         "type": "scatter"
        },
        {
         "mode": "lines",
         "name": "B RUDARSTVO",
         "x": [
          "2008",
          "2009",
          "2010",
          "2011",
          "2012",
          "2013",
          "2014",
          "2015",
          "2016",
          "2017",
          "2018",
          "2019",
          "2020",
          "2021",
          "2022"
         ],
         "y": [
          40.5,
          41.0,
          40.25,
          40.0,
          42.75,
          42.0,
          40.25,
          37.75,
          39.75,
          41.0,
          40.75,
          41.0,
          38.25,
          37.75,
          38.75
         ],
         "type": "scatter"
        },
        {
         "mode": "lines",
         "name": "C PREDELOVALNE DEJAVNOSTI",
         "x": [
          "2008",
          "2009",
          "2010",
          "2011",
          "2012",
          "2013",
          "2014",
          "2015",
          "2016",
          "2017",
          "2018",
          "2019",
          "2020",
          "2021",
          "2022"
         ],
         "y": [
          37.25,
          33.75,
          32.75,
          34.5,
          36.5,
          35.25,
          34.25,
          32.5,
          34.0,
          35.75,
          36.75,
          36.75,
          33.0,
          33.25,
          34.75
         ],
         "type": "scatter"
        },
        {
         "mode": "lines",
         "name": "D OSKRBA Z ELEKTRICNO ENERGIJO, PLINOM IN PARO",
         "x": [
          "2008",
          "2009",
          "2010",
          "2011",
          "2012",
          "2013",
          "2014",
          "2015",
          "2016",
          "2017",
          "2018",
          "2019",
          "2020",
          "2021",
          "2022"
         ],
         "y": [
          42.0,
          38.25,
          37.25,
          38.0,
          39.5,
          36.5,
          38.25,
          34.75,
          35.5,
          36.5,
          42.25,
          41.25,
          38.25,
          37.75,
          38.25
         ],
         "type": "scatter"
        },
        {
         "mode": "lines",
         "name": "E OSKRBA Z VODO, RAVNANJE Z ODPLAKAMI IN ODPADKI, SANIRANJE OKOLJA",
         "x": [
          "2008",
          "2009",
          "2010",
          "2011",
          "2012",
          "2013",
          "2014",
          "2015",
          "2016",
          "2017",
          "2018",
          "2019",
          "2020",
          "2021",
          "2022"
         ],
         "y": [
          38.75,
          32.75,
          34.5,
          34.25,
          39.75,
          33.75,
          35.25,
          35.5,
          36.25,
          33.0,
          37.75,
          37.75,
          35.0,
          34.5,
          36.0
         ],
         "type": "scatter"
        },
        {
         "mode": "lines",
         "name": "F GRADBENISTVO",
         "x": [
          "2008",
          "2009",
          "2010",
          "2011",
          "2012",
          "2013",
          "2014",
          "2015",
          "2016",
          "2017",
          "2018",
          "2019",
          "2020",
          "2021",
          "2022"
         ],
         "y": [
          32.5,
          29.5,
          28.25,
          28.25,
          29.25,
          27.25,
          26.25,
          24.75,
          31.75,
          33.0,
          33.5,
          32.75,
          30.0,
          29.5,
          31.0
         ],
         "type": "scatter"
        },
        {
         "mode": "lines",
         "name": "G TRGOVINA, VZDRZEVANJE IN POPRAVILA MOTORNIH VOZIL",
         "x": [
          "2008",
          "2009",
          "2010",
          "2011",
          "2012",
          "2013",
          "2014",
          "2015",
          "2016",
          "2017",
          "2018",
          "2019",
          "2020",
          "2021",
          "2022"
         ],
         "y": [
          33.75,
          32.0,
          30.25,
          32.25,
          32.75,
          32.75,
          30.5,
          29.25,
          32.25,
          32.75,
          34.0,
          34.25,
          30.75,
          31.0,
          32.75
         ],
         "type": "scatter"
        },
        {
         "mode": "lines",
         "name": "H PROMET IN SKLADISCENJE",
         "x": [
          "2008",
          "2009",
          "2010",
          "2011",
          "2012",
          "2013",
          "2014",
          "2015",
          "2016",
          "2017",
          "2018",
          "2019",
          "2020",
          "2021",
          "2022"
         ],
         "y": [
          36.5,
          33.5,
          33.25,
          35.0,
          35.0,
          31.75,
          31.0,
          32.5,
          32.0,
          33.5,
          34.75,
          34.25,
          31.75,
          31.25,
          32.25
         ],
         "type": "scatter"
        },
        {
         "mode": "lines",
         "name": "I GOSTINSTVO",
         "x": [
          "2008",
          "2009",
          "2010",
          "2011",
          "2012",
          "2013",
          "2014",
          "2015",
          "2016",
          "2017",
          "2018",
          "2019",
          "2020",
          "2021",
          "2022"
         ],
         "y": [
          34.75,
          32.5,
          32.25,
          33.25,
          29.5,
          29.0,
          27.5,
          25.75,
          31.25,
          31.75,
          32.25,
          32.25,
          28.25,
          28.5,
          31.25
         ],
         "type": "scatter"
        },
        {
         "mode": "lines",
         "name": "J INFORMACIJSKE IN KOMUNIKACIJSKE DEJAVNOSTI",
         "x": [
          "2008",
          "2009",
          "2010",
          "2011",
          "2012",
          "2013",
          "2014",
          "2015",
          "2016",
          "2017",
          "2018",
          "2019",
          "2020",
          "2021",
          "2022"
         ],
         "y": [
          35.25,
          31.5,
          31.5,
          31.75,
          32.0,
          31.75,
          31.5,
          29.5,
          33.75,
          35.25,
          35.25,
          35.25,
          32.0,
          31.25,
          30.75
         ],
         "type": "scatter"
        },
        {
         "mode": "lines",
         "name": "K FINANCNE IN ZAVAROVALNISKE DEJAVNOSTI",
         "x": [
          "2008",
          "2009",
          "2010",
          "2011",
          "2012",
          "2013",
          "2014",
          "2015",
          "2016",
          "2017",
          "2018",
          "2019",
          "2020",
          "2021",
          "2022"
         ],
         "y": [
          34.25,
          29.75,
          29.75,
          31.0,
          38.0,
          35.0,
          34.75,
          33.75,
          35.5,
          35.75,
          38.0,
          37.5,
          33.25,
          32.75,
          34.5
         ],
         "type": "scatter"
        },
        {
         "mode": "lines",
         "name": "L POSLOVANJE Z NEPREMICNINAMI",
         "x": [
          "2008",
          "2009",
          "2010",
          "2011",
          "2012",
          "2013",
          "2014",
          "2015",
          "2016",
          "2017",
          "2018",
          "2019",
          "2020",
          "2021",
          "2022"
         ],
         "y": [
          33.0,
          31.25,
          30.0,
          31.25,
          31.5,
          30.25,
          29.25,
          27.0,
          32.5,
          33.75,
          34.75,
          34.25,
          31.0,
          29.5,
          31.75
         ],
         "type": "scatter"
        },
        {
         "mode": "lines",
         "name": "M STROKOVNE, ZNANSTVENE IN TEHNICNE DEJAVNOSTI",
         "x": [
          "2008",
          "2009",
          "2010",
          "2011",
          "2012",
          "2013",
          "2014",
          "2015",
          "2016",
          "2017",
          "2018",
          "2019",
          "2020",
          "2021",
          "2022"
         ],
         "y": [
          33.25,
          24.75,
          28.75,
          28.25,
          31.5,
          25.0,
          25.75,
          27.75,
          28.75,
          32.5,
          32.5,
          33.0,
          29.5,
          28.75,
          30.5
         ],
         "type": "scatter"
        },
        {
         "mode": "lines",
         "name": "N DRUGE RAZNOVRSTNE POSLOVNE DEJAVNOSTI",
         "x": [
          "2008",
          "2009",
          "2010",
          "2011",
          "2012",
          "2013",
          "2014",
          "2015",
          "2016",
          "2017",
          "2018",
          "2019",
          "2020",
          "2021",
          "2022"
         ],
         "y": [
          33.75,
          30.5,
          29.25,
          30.5,
          31.25,
          29.75,
          28.25,
          27.5,
          29.75,
          33.25,
          33.5,
          33.5,
          30.25,
          30.0,
          32.25
         ],
         "type": "scatter"
        },
        {
         "mode": "lines",
         "name": "O DEJAVNOST JAVNE UPRAVE IN OBRAMBE, DEJAVNOST OBVEZNE SOCIALNE VARNOSTI",
         "x": [
          "2008",
          "2009",
          "2010",
          "2011",
          "2012",
          "2013",
          "2014",
          "2015",
          "2016",
          "2017",
          "2018",
          "2019",
          "2020",
          "2021",
          "2022"
         ],
         "y": [
          37.25,
          34.5,
          35.5,
          32.25,
          40.25,
          40.5,
          38.75,
          35.75,
          38.75,
          41.0,
          42.25,
          42.0,
          34.5,
          35.75,
          38.75
         ],
         "type": "scatter"
        },
        {
         "mode": "lines",
         "name": "P IZOBRAZEVANJE",
         "x": [
          "2008",
          "2009",
          "2010",
          "2011",
          "2012",
          "2013",
          "2014",
          "2015",
          "2016",
          "2017",
          "2018",
          "2019",
          "2020",
          "2021",
          "2022"
         ],
         "y": [
          38.0,
          35.5,
          35.0,
          35.0,
          37.5,
          33.75,
          34.0,
          30.75,
          36.0,
          38.0,
          37.5,
          39.0,
          34.5,
          34.75,
          37.25
         ],
         "type": "scatter"
        },
        {
         "mode": "lines",
         "name": "Q ZDRAVSTVO IN SOCIALNO VARSTVO",
         "x": [
          "2008",
          "2009",
          "2010",
          "2011",
          "2012",
          "2013",
          "2014",
          "2015",
          "2016",
          "2017",
          "2018",
          "2019",
          "2020",
          "2021",
          "2022"
         ],
         "y": [
          34.25,
          31.75,
          33.75,
          34.0,
          36.25,
          36.25,
          32.75,
          33.25,
          33.0,
          36.5,
          37.5,
          37.75,
          35.5,
          36.0,
          37.5
         ],
         "type": "scatter"
        },
        {
         "mode": "lines",
         "name": "R KULTURNE, RAZVEDRILNE IN REKREACIJSKE DEJAVNOSTI",
         "x": [
          "2008",
          "2009",
          "2010",
          "2011",
          "2012",
          "2013",
          "2014",
          "2015",
          "2016",
          "2017",
          "2018",
          "2019",
          "2020",
          "2021",
          "2022"
         ],
         "y": [
          31.0,
          30.5,
          31.25,
          33.25,
          35.25,
          36.0,
          33.75,
          31.0,
          34.75,
          37.25,
          38.0,
          38.0,
          34.5,
          33.75,
          35.0
         ],
         "type": "scatter"
        },
        {
         "mode": "lines",
         "name": "S DRUGE DEJAVNOSTI",
         "x": [
          "2008",
          "2009",
          "2010",
          "2011",
          "2012",
          "2013",
          "2014",
          "2015",
          "2016",
          "2017",
          "2018",
          "2019",
          "2020",
          "2021",
          "2022"
         ],
         "y": [
          35.0,
          32.25,
          31.5,
          33.0,
          31.75,
          32.5,
          30.75,
          29.25,
          30.75,
          32.75,
          33.25,
          32.5,
          29.25,
          28.25,
          28.75
         ],
         "type": "scatter"
        }
       ],
       "layout": {
        "title": {
         "text": "Razlika med plačanimi urami in opravljenimi delovnimi urami"
        },
        "xaxis": {
         "title": {
          "text": "Leto"
         }
        },
        "yaxis": {
         "title": {
          "text": "Število ur"
         }
        },
        "template": {
         "data": {
          "histogram2dcontour": [
           {
            "type": "histogram2dcontour",
            "colorbar": {
             "outlinewidth": 0,
             "ticks": ""
            },
            "colorscale": [
             [
              0.0,
              "#0d0887"
             ],
             [
              0.1111111111111111,
              "#46039f"
             ],
             [
              0.2222222222222222,
              "#7201a8"
             ],
             [
              0.3333333333333333,
              "#9c179e"
             ],
             [
              0.4444444444444444,
              "#bd3786"
             ],
             [
              0.5555555555555556,
              "#d8576b"
             ],
             [
              0.6666666666666666,
              "#ed7953"
             ],
             [
              0.7777777777777778,
              "#fb9f3a"
             ],
             [
              0.8888888888888888,
              "#fdca26"
             ],
             [
              1.0,
              "#f0f921"
             ]
            ]
           }
          ],
          "choropleth": [
           {
            "type": "choropleth",
            "colorbar": {
             "outlinewidth": 0,
             "ticks": ""
            }
           }
          ],
          "histogram2d": [
           {
            "type": "histogram2d",
            "colorbar": {
             "outlinewidth": 0,
             "ticks": ""
            },
            "colorscale": [
             [
              0.0,
              "#0d0887"
             ],
             [
              0.1111111111111111,
              "#46039f"
             ],
             [
              0.2222222222222222,
              "#7201a8"
             ],
             [
              0.3333333333333333,
              "#9c179e"
             ],
             [
              0.4444444444444444,
              "#bd3786"
             ],
             [
              0.5555555555555556,
              "#d8576b"
             ],
             [
              0.6666666666666666,
              "#ed7953"
             ],
             [
              0.7777777777777778,
              "#fb9f3a"
             ],
             [
              0.8888888888888888,
              "#fdca26"
             ],
             [
              1.0,
              "#f0f921"
             ]
            ]
           }
          ],
          "heatmap": [
           {
            "type": "heatmap",
            "colorbar": {
             "outlinewidth": 0,
             "ticks": ""
            },
            "colorscale": [
             [
              0.0,
              "#0d0887"
             ],
             [
              0.1111111111111111,
              "#46039f"
             ],
             [
              0.2222222222222222,
              "#7201a8"
             ],
             [
              0.3333333333333333,
              "#9c179e"
             ],
             [
              0.4444444444444444,
              "#bd3786"
             ],
             [
              0.5555555555555556,
              "#d8576b"
             ],
             [
              0.6666666666666666,
              "#ed7953"
             ],
             [
              0.7777777777777778,
              "#fb9f3a"
             ],
             [
              0.8888888888888888,
              "#fdca26"
             ],
             [
              1.0,
              "#f0f921"
             ]
            ]
           }
          ],
          "heatmapgl": [
           {
            "type": "heatmapgl",
            "colorbar": {
             "outlinewidth": 0,
             "ticks": ""
            },
            "colorscale": [
             [
              0.0,
              "#0d0887"
             ],
             [
              0.1111111111111111,
              "#46039f"
             ],
             [
              0.2222222222222222,
              "#7201a8"
             ],
             [
              0.3333333333333333,
              "#9c179e"
             ],
             [
              0.4444444444444444,
              "#bd3786"
             ],
             [
              0.5555555555555556,
              "#d8576b"
             ],
             [
              0.6666666666666666,
              "#ed7953"
             ],
             [
              0.7777777777777778,
              "#fb9f3a"
             ],
             [
              0.8888888888888888,
              "#fdca26"
             ],
             [
              1.0,
              "#f0f921"
             ]
            ]
           }
          ],
          "contourcarpet": [
           {
            "type": "contourcarpet",
            "colorbar": {
             "outlinewidth": 0,
             "ticks": ""
            }
           }
          ],
          "contour": [
           {
            "type": "contour",
            "colorbar": {
             "outlinewidth": 0,
             "ticks": ""
            },
            "colorscale": [
             [
              0.0,
              "#0d0887"
             ],
             [
              0.1111111111111111,
              "#46039f"
             ],
             [
              0.2222222222222222,
              "#7201a8"
             ],
             [
              0.3333333333333333,
              "#9c179e"
             ],
             [
              0.4444444444444444,
              "#bd3786"
             ],
             [
              0.5555555555555556,
              "#d8576b"
             ],
             [
              0.6666666666666666,
              "#ed7953"
             ],
             [
              0.7777777777777778,
              "#fb9f3a"
             ],
             [
              0.8888888888888888,
              "#fdca26"
             ],
             [
              1.0,
              "#f0f921"
             ]
            ]
           }
          ],
          "surface": [
           {
            "type": "surface",
            "colorbar": {
             "outlinewidth": 0,
             "ticks": ""
            },
            "colorscale": [
             [
              0.0,
              "#0d0887"
             ],
             [
              0.1111111111111111,
              "#46039f"
             ],
             [
              0.2222222222222222,
              "#7201a8"
             ],
             [
              0.3333333333333333,
              "#9c179e"
             ],
             [
              0.4444444444444444,
              "#bd3786"
             ],
             [
              0.5555555555555556,
              "#d8576b"
             ],
             [
              0.6666666666666666,
              "#ed7953"
             ],
             [
              0.7777777777777778,
              "#fb9f3a"
             ],
             [
              0.8888888888888888,
              "#fdca26"
             ],
             [
              1.0,
              "#f0f921"
             ]
            ]
           }
          ],
          "mesh3d": [
           {
            "type": "mesh3d",
            "colorbar": {
             "outlinewidth": 0,
             "ticks": ""
            }
           }
          ],
          "scatter": [
           {
            "marker": {
             "line": {
              "color": "#283442"
             }
            },
            "type": "scatter"
           }
          ],
          "parcoords": [
           {
            "type": "parcoords",
            "line": {
             "colorbar": {
              "outlinewidth": 0,
              "ticks": ""
             }
            }
           }
          ],
          "scatterpolargl": [
           {
            "type": "scatterpolargl",
            "marker": {
             "colorbar": {
              "outlinewidth": 0,
              "ticks": ""
             }
            }
           }
          ],
          "bar": [
           {
            "error_x": {
             "color": "#f2f5fa"
            },
            "error_y": {
             "color": "#f2f5fa"
            },
            "marker": {
             "line": {
              "color": "rgb(17,17,17)",
              "width": 0.5
             },
             "pattern": {
              "fillmode": "overlay",
              "size": 10,
              "solidity": 0.2
             }
            },
            "type": "bar"
           }
          ],
          "scattergeo": [
           {
            "type": "scattergeo",
            "marker": {
             "colorbar": {
              "outlinewidth": 0,
              "ticks": ""
             }
            }
           }
          ],
          "scatterpolar": [
           {
            "type": "scatterpolar",
            "marker": {
             "colorbar": {
              "outlinewidth": 0,
              "ticks": ""
             }
            }
           }
          ],
          "histogram": [
           {
            "marker": {
             "pattern": {
              "fillmode": "overlay",
              "size": 10,
              "solidity": 0.2
             }
            },
            "type": "histogram"
           }
          ],
          "scattergl": [
           {
            "marker": {
             "line": {
              "color": "#283442"
             }
            },
            "type": "scattergl"
           }
          ],
          "scatter3d": [
           {
            "type": "scatter3d",
            "line": {
             "colorbar": {
              "outlinewidth": 0,
              "ticks": ""
             }
            },
            "marker": {
             "colorbar": {
              "outlinewidth": 0,
              "ticks": ""
             }
            }
           }
          ],
          "scattermapbox": [
           {
            "type": "scattermapbox",
            "marker": {
             "colorbar": {
              "outlinewidth": 0,
              "ticks": ""
             }
            }
           }
          ],
          "scatterternary": [
           {
            "type": "scatterternary",
            "marker": {
             "colorbar": {
              "outlinewidth": 0,
              "ticks": ""
             }
            }
           }
          ],
          "scattercarpet": [
           {
            "type": "scattercarpet",
            "marker": {
             "colorbar": {
              "outlinewidth": 0,
              "ticks": ""
             }
            }
           }
          ],
          "carpet": [
           {
            "aaxis": {
             "endlinecolor": "#A2B1C6",
             "gridcolor": "#506784",
             "linecolor": "#506784",
             "minorgridcolor": "#506784",
             "startlinecolor": "#A2B1C6"
            },
            "baxis": {
             "endlinecolor": "#A2B1C6",
             "gridcolor": "#506784",
             "linecolor": "#506784",
             "minorgridcolor": "#506784",
             "startlinecolor": "#A2B1C6"
            },
            "type": "carpet"
           }
          ],
          "table": [
           {
            "cells": {
             "fill": {
              "color": "#506784"
             },
             "line": {
              "color": "rgb(17,17,17)"
             }
            },
            "header": {
             "fill": {
              "color": "#2a3f5f"
             },
             "line": {
              "color": "rgb(17,17,17)"
             }
            },
            "type": "table"
           }
          ],
          "barpolar": [
           {
            "marker": {
             "line": {
              "color": "rgb(17,17,17)",
              "width": 0.5
             },
             "pattern": {
              "fillmode": "overlay",
              "size": 10,
              "solidity": 0.2
             }
            },
            "type": "barpolar"
           }
          ],
          "pie": [
           {
            "automargin": true,
            "type": "pie"
           }
          ]
         },
         "layout": {
          "autotypenumbers": "strict",
          "colorway": [
           "#636efa",
           "#EF553B",
           "#00cc96",
           "#ab63fa",
           "#FFA15A",
           "#19d3f3",
           "#FF6692",
           "#B6E880",
           "#FF97FF",
           "#FECB52"
          ],
          "font": {
           "color": "#f2f5fa"
          },
          "hovermode": "closest",
          "hoverlabel": {
           "align": "left"
          },
          "paper_bgcolor": "rgb(17,17,17)",
          "plot_bgcolor": "rgb(17,17,17)",
          "polar": {
           "bgcolor": "rgb(17,17,17)",
           "angularaxis": {
            "gridcolor": "#506784",
            "linecolor": "#506784",
            "ticks": ""
           },
           "radialaxis": {
            "gridcolor": "#506784",
            "linecolor": "#506784",
            "ticks": ""
           }
          },
          "ternary": {
           "bgcolor": "rgb(17,17,17)",
           "aaxis": {
            "gridcolor": "#506784",
            "linecolor": "#506784",
            "ticks": ""
           },
           "baxis": {
            "gridcolor": "#506784",
            "linecolor": "#506784",
            "ticks": ""
           },
           "caxis": {
            "gridcolor": "#506784",
            "linecolor": "#506784",
            "ticks": ""
           }
          },
          "coloraxis": {
           "colorbar": {
            "outlinewidth": 0,
            "ticks": ""
           }
          },
          "colorscale": {
           "sequential": [
            [
             0.0,
             "#0d0887"
            ],
            [
             0.1111111111111111,
             "#46039f"
            ],
            [
             0.2222222222222222,
             "#7201a8"
            ],
            [
             0.3333333333333333,
             "#9c179e"
            ],
            [
             0.4444444444444444,
             "#bd3786"
            ],
            [
             0.5555555555555556,
             "#d8576b"
            ],
            [
             0.6666666666666666,
             "#ed7953"
            ],
            [
             0.7777777777777778,
             "#fb9f3a"
            ],
            [
             0.8888888888888888,
             "#fdca26"
            ],
            [
             1.0,
             "#f0f921"
            ]
           ],
           "sequentialminus": [
            [
             0.0,
             "#0d0887"
            ],
            [
             0.1111111111111111,
             "#46039f"
            ],
            [
             0.2222222222222222,
             "#7201a8"
            ],
            [
             0.3333333333333333,
             "#9c179e"
            ],
            [
             0.4444444444444444,
             "#bd3786"
            ],
            [
             0.5555555555555556,
             "#d8576b"
            ],
            [
             0.6666666666666666,
             "#ed7953"
            ],
            [
             0.7777777777777778,
             "#fb9f3a"
            ],
            [
             0.8888888888888888,
             "#fdca26"
            ],
            [
             1.0,
             "#f0f921"
            ]
           ],
           "diverging": [
            [
             0,
             "#8e0152"
            ],
            [
             0.1,
             "#c51b7d"
            ],
            [
             0.2,
             "#de77ae"
            ],
            [
             0.3,
             "#f1b6da"
            ],
            [
             0.4,
             "#fde0ef"
            ],
            [
             0.5,
             "#f7f7f7"
            ],
            [
             0.6,
             "#e6f5d0"
            ],
            [
             0.7,
             "#b8e186"
            ],
            [
             0.8,
             "#7fbc41"
            ],
            [
             0.9,
             "#4d9221"
            ],
            [
             1,
             "#276419"
            ]
           ]
          },
          "xaxis": {
           "gridcolor": "#283442",
           "linecolor": "#506784",
           "ticks": "",
           "title": {
            "standoff": 15
           },
           "zerolinecolor": "#283442",
           "automargin": true,
           "zerolinewidth": 2
          },
          "yaxis": {
           "gridcolor": "#283442",
           "linecolor": "#506784",
           "ticks": "",
           "title": {
            "standoff": 15
           },
           "zerolinecolor": "#283442",
           "automargin": true,
           "zerolinewidth": 2
          },
          "scene": {
           "xaxis": {
            "backgroundcolor": "rgb(17,17,17)",
            "gridcolor": "#506784",
            "linecolor": "#506784",
            "showbackground": true,
            "ticks": "",
            "zerolinecolor": "#C8D4E3",
            "gridwidth": 2
           },
           "yaxis": {
            "backgroundcolor": "rgb(17,17,17)",
            "gridcolor": "#506784",
            "linecolor": "#506784",
            "showbackground": true,
            "ticks": "",
            "zerolinecolor": "#C8D4E3",
            "gridwidth": 2
           },
           "zaxis": {
            "backgroundcolor": "rgb(17,17,17)",
            "gridcolor": "#506784",
            "linecolor": "#506784",
            "showbackground": true,
            "ticks": "",
            "zerolinecolor": "#C8D4E3",
            "gridwidth": 2
           }
          },
          "shapedefaults": {
           "line": {
            "color": "#f2f5fa"
           }
          },
          "annotationdefaults": {
           "arrowcolor": "#f2f5fa",
           "arrowhead": 0,
           "arrowwidth": 1
          },
          "geo": {
           "bgcolor": "rgb(17,17,17)",
           "landcolor": "rgb(17,17,17)",
           "subunitcolor": "#506784",
           "showland": true,
           "showlakes": true,
           "lakecolor": "rgb(17,17,17)"
          },
          "title": {
           "x": 0.05
          },
          "updatemenudefaults": {
           "bgcolor": "#506784",
           "borderwidth": 0
          },
          "sliderdefaults": {
           "bgcolor": "#C8D4E3",
           "borderwidth": 1,
           "bordercolor": "rgb(17,17,17)",
           "tickwidth": 0
          },
          "mapbox": {
           "style": "dark"
          }
         }
        }
       },
       "config": {
        "plotlyServerURL": "https://plot.ly"
       }
      },
      "text/html": "<div>                            <div id=\"71528219-44a8-48e4-abe8-adf9e36e8333\" class=\"plotly-graph-div\" style=\"height:525px; width:100%;\"></div>            <script type=\"text/javascript\">                require([\"plotly\"], function(Plotly) {                    window.PLOTLYENV=window.PLOTLYENV || {};                                    if (document.getElementById(\"71528219-44a8-48e4-abe8-adf9e36e8333\")) {                    Plotly.newPlot(                        \"71528219-44a8-48e4-abe8-adf9e36e8333\",                        [{\"mode\":\"lines\",\"name\":\"A KMETIJSTVO IN LOV, GOZDARSTVO, RIBISTVO\",\"x\":[\"2008\",\"2009\",\"2010\",\"2011\",\"2012\",\"2013\",\"2014\",\"2015\",\"2016\",\"2017\",\"2018\",\"2019\",\"2020\",\"2021\",\"2022\"],\"y\":[37.0,34.75,32.0,33.75,36.75,35.25,34.0,32.75,34.25,35.0,36.0,34.5,31.75,31.5,31.25],\"type\":\"scatter\"},{\"mode\":\"lines\",\"name\":\"B RUDARSTVO\",\"x\":[\"2008\",\"2009\",\"2010\",\"2011\",\"2012\",\"2013\",\"2014\",\"2015\",\"2016\",\"2017\",\"2018\",\"2019\",\"2020\",\"2021\",\"2022\"],\"y\":[40.5,41.0,40.25,40.0,42.75,42.0,40.25,37.75,39.75,41.0,40.75,41.0,38.25,37.75,38.75],\"type\":\"scatter\"},{\"mode\":\"lines\",\"name\":\"C PREDELOVALNE DEJAVNOSTI\",\"x\":[\"2008\",\"2009\",\"2010\",\"2011\",\"2012\",\"2013\",\"2014\",\"2015\",\"2016\",\"2017\",\"2018\",\"2019\",\"2020\",\"2021\",\"2022\"],\"y\":[37.25,33.75,32.75,34.5,36.5,35.25,34.25,32.5,34.0,35.75,36.75,36.75,33.0,33.25,34.75],\"type\":\"scatter\"},{\"mode\":\"lines\",\"name\":\"D OSKRBA Z ELEKTRICNO ENERGIJO, PLINOM IN PARO\",\"x\":[\"2008\",\"2009\",\"2010\",\"2011\",\"2012\",\"2013\",\"2014\",\"2015\",\"2016\",\"2017\",\"2018\",\"2019\",\"2020\",\"2021\",\"2022\"],\"y\":[42.0,38.25,37.25,38.0,39.5,36.5,38.25,34.75,35.5,36.5,42.25,41.25,38.25,37.75,38.25],\"type\":\"scatter\"},{\"mode\":\"lines\",\"name\":\"E OSKRBA Z VODO, RAVNANJE Z ODPLAKAMI IN ODPADKI, SANIRANJE OKOLJA\",\"x\":[\"2008\",\"2009\",\"2010\",\"2011\",\"2012\",\"2013\",\"2014\",\"2015\",\"2016\",\"2017\",\"2018\",\"2019\",\"2020\",\"2021\",\"2022\"],\"y\":[38.75,32.75,34.5,34.25,39.75,33.75,35.25,35.5,36.25,33.0,37.75,37.75,35.0,34.5,36.0],\"type\":\"scatter\"},{\"mode\":\"lines\",\"name\":\"F GRADBENISTVO\",\"x\":[\"2008\",\"2009\",\"2010\",\"2011\",\"2012\",\"2013\",\"2014\",\"2015\",\"2016\",\"2017\",\"2018\",\"2019\",\"2020\",\"2021\",\"2022\"],\"y\":[32.5,29.5,28.25,28.25,29.25,27.25,26.25,24.75,31.75,33.0,33.5,32.75,30.0,29.5,31.0],\"type\":\"scatter\"},{\"mode\":\"lines\",\"name\":\"G TRGOVINA, VZDRZEVANJE IN POPRAVILA MOTORNIH VOZIL\",\"x\":[\"2008\",\"2009\",\"2010\",\"2011\",\"2012\",\"2013\",\"2014\",\"2015\",\"2016\",\"2017\",\"2018\",\"2019\",\"2020\",\"2021\",\"2022\"],\"y\":[33.75,32.0,30.25,32.25,32.75,32.75,30.5,29.25,32.25,32.75,34.0,34.25,30.75,31.0,32.75],\"type\":\"scatter\"},{\"mode\":\"lines\",\"name\":\"H PROMET IN SKLADISCENJE\",\"x\":[\"2008\",\"2009\",\"2010\",\"2011\",\"2012\",\"2013\",\"2014\",\"2015\",\"2016\",\"2017\",\"2018\",\"2019\",\"2020\",\"2021\",\"2022\"],\"y\":[36.5,33.5,33.25,35.0,35.0,31.75,31.0,32.5,32.0,33.5,34.75,34.25,31.75,31.25,32.25],\"type\":\"scatter\"},{\"mode\":\"lines\",\"name\":\"I GOSTINSTVO\",\"x\":[\"2008\",\"2009\",\"2010\",\"2011\",\"2012\",\"2013\",\"2014\",\"2015\",\"2016\",\"2017\",\"2018\",\"2019\",\"2020\",\"2021\",\"2022\"],\"y\":[34.75,32.5,32.25,33.25,29.5,29.0,27.5,25.75,31.25,31.75,32.25,32.25,28.25,28.5,31.25],\"type\":\"scatter\"},{\"mode\":\"lines\",\"name\":\"J INFORMACIJSKE IN KOMUNIKACIJSKE DEJAVNOSTI\",\"x\":[\"2008\",\"2009\",\"2010\",\"2011\",\"2012\",\"2013\",\"2014\",\"2015\",\"2016\",\"2017\",\"2018\",\"2019\",\"2020\",\"2021\",\"2022\"],\"y\":[35.25,31.5,31.5,31.75,32.0,31.75,31.5,29.5,33.75,35.25,35.25,35.25,32.0,31.25,30.75],\"type\":\"scatter\"},{\"mode\":\"lines\",\"name\":\"K FINANCNE IN ZAVAROVALNISKE DEJAVNOSTI\",\"x\":[\"2008\",\"2009\",\"2010\",\"2011\",\"2012\",\"2013\",\"2014\",\"2015\",\"2016\",\"2017\",\"2018\",\"2019\",\"2020\",\"2021\",\"2022\"],\"y\":[34.25,29.75,29.75,31.0,38.0,35.0,34.75,33.75,35.5,35.75,38.0,37.5,33.25,32.75,34.5],\"type\":\"scatter\"},{\"mode\":\"lines\",\"name\":\"L POSLOVANJE Z NEPREMICNINAMI\",\"x\":[\"2008\",\"2009\",\"2010\",\"2011\",\"2012\",\"2013\",\"2014\",\"2015\",\"2016\",\"2017\",\"2018\",\"2019\",\"2020\",\"2021\",\"2022\"],\"y\":[33.0,31.25,30.0,31.25,31.5,30.25,29.25,27.0,32.5,33.75,34.75,34.25,31.0,29.5,31.75],\"type\":\"scatter\"},{\"mode\":\"lines\",\"name\":\"M STROKOVNE, ZNANSTVENE IN TEHNICNE DEJAVNOSTI\",\"x\":[\"2008\",\"2009\",\"2010\",\"2011\",\"2012\",\"2013\",\"2014\",\"2015\",\"2016\",\"2017\",\"2018\",\"2019\",\"2020\",\"2021\",\"2022\"],\"y\":[33.25,24.75,28.75,28.25,31.5,25.0,25.75,27.75,28.75,32.5,32.5,33.0,29.5,28.75,30.5],\"type\":\"scatter\"},{\"mode\":\"lines\",\"name\":\"N DRUGE RAZNOVRSTNE POSLOVNE DEJAVNOSTI\",\"x\":[\"2008\",\"2009\",\"2010\",\"2011\",\"2012\",\"2013\",\"2014\",\"2015\",\"2016\",\"2017\",\"2018\",\"2019\",\"2020\",\"2021\",\"2022\"],\"y\":[33.75,30.5,29.25,30.5,31.25,29.75,28.25,27.5,29.75,33.25,33.5,33.5,30.25,30.0,32.25],\"type\":\"scatter\"},{\"mode\":\"lines\",\"name\":\"O DEJAVNOST JAVNE UPRAVE IN OBRAMBE, DEJAVNOST OBVEZNE SOCIALNE VARNOSTI\",\"x\":[\"2008\",\"2009\",\"2010\",\"2011\",\"2012\",\"2013\",\"2014\",\"2015\",\"2016\",\"2017\",\"2018\",\"2019\",\"2020\",\"2021\",\"2022\"],\"y\":[37.25,34.5,35.5,32.25,40.25,40.5,38.75,35.75,38.75,41.0,42.25,42.0,34.5,35.75,38.75],\"type\":\"scatter\"},{\"mode\":\"lines\",\"name\":\"P IZOBRAZEVANJE\",\"x\":[\"2008\",\"2009\",\"2010\",\"2011\",\"2012\",\"2013\",\"2014\",\"2015\",\"2016\",\"2017\",\"2018\",\"2019\",\"2020\",\"2021\",\"2022\"],\"y\":[38.0,35.5,35.0,35.0,37.5,33.75,34.0,30.75,36.0,38.0,37.5,39.0,34.5,34.75,37.25],\"type\":\"scatter\"},{\"mode\":\"lines\",\"name\":\"Q ZDRAVSTVO IN SOCIALNO VARSTVO\",\"x\":[\"2008\",\"2009\",\"2010\",\"2011\",\"2012\",\"2013\",\"2014\",\"2015\",\"2016\",\"2017\",\"2018\",\"2019\",\"2020\",\"2021\",\"2022\"],\"y\":[34.25,31.75,33.75,34.0,36.25,36.25,32.75,33.25,33.0,36.5,37.5,37.75,35.5,36.0,37.5],\"type\":\"scatter\"},{\"mode\":\"lines\",\"name\":\"R KULTURNE, RAZVEDRILNE IN REKREACIJSKE DEJAVNOSTI\",\"x\":[\"2008\",\"2009\",\"2010\",\"2011\",\"2012\",\"2013\",\"2014\",\"2015\",\"2016\",\"2017\",\"2018\",\"2019\",\"2020\",\"2021\",\"2022\"],\"y\":[31.0,30.5,31.25,33.25,35.25,36.0,33.75,31.0,34.75,37.25,38.0,38.0,34.5,33.75,35.0],\"type\":\"scatter\"},{\"mode\":\"lines\",\"name\":\"S DRUGE DEJAVNOSTI\",\"x\":[\"2008\",\"2009\",\"2010\",\"2011\",\"2012\",\"2013\",\"2014\",\"2015\",\"2016\",\"2017\",\"2018\",\"2019\",\"2020\",\"2021\",\"2022\"],\"y\":[35.0,32.25,31.5,33.0,31.75,32.5,30.75,29.25,30.75,32.75,33.25,32.5,29.25,28.25,28.75],\"type\":\"scatter\"}],                        {\"title\":{\"text\":\"Razlika med pla\\u010danimi urami in opravljenimi delovnimi urami\"},\"xaxis\":{\"title\":{\"text\":\"Leto\"}},\"yaxis\":{\"title\":{\"text\":\"\\u0160tevilo ur\"}},\"template\":{\"data\":{\"histogram2dcontour\":[{\"type\":\"histogram2dcontour\",\"colorbar\":{\"outlinewidth\":0,\"ticks\":\"\"},\"colorscale\":[[0.0,\"#0d0887\"],[0.1111111111111111,\"#46039f\"],[0.2222222222222222,\"#7201a8\"],[0.3333333333333333,\"#9c179e\"],[0.4444444444444444,\"#bd3786\"],[0.5555555555555556,\"#d8576b\"],[0.6666666666666666,\"#ed7953\"],[0.7777777777777778,\"#fb9f3a\"],[0.8888888888888888,\"#fdca26\"],[1.0,\"#f0f921\"]]}],\"choropleth\":[{\"type\":\"choropleth\",\"colorbar\":{\"outlinewidth\":0,\"ticks\":\"\"}}],\"histogram2d\":[{\"type\":\"histogram2d\",\"colorbar\":{\"outlinewidth\":0,\"ticks\":\"\"},\"colorscale\":[[0.0,\"#0d0887\"],[0.1111111111111111,\"#46039f\"],[0.2222222222222222,\"#7201a8\"],[0.3333333333333333,\"#9c179e\"],[0.4444444444444444,\"#bd3786\"],[0.5555555555555556,\"#d8576b\"],[0.6666666666666666,\"#ed7953\"],[0.7777777777777778,\"#fb9f3a\"],[0.8888888888888888,\"#fdca26\"],[1.0,\"#f0f921\"]]}],\"heatmap\":[{\"type\":\"heatmap\",\"colorbar\":{\"outlinewidth\":0,\"ticks\":\"\"},\"colorscale\":[[0.0,\"#0d0887\"],[0.1111111111111111,\"#46039f\"],[0.2222222222222222,\"#7201a8\"],[0.3333333333333333,\"#9c179e\"],[0.4444444444444444,\"#bd3786\"],[0.5555555555555556,\"#d8576b\"],[0.6666666666666666,\"#ed7953\"],[0.7777777777777778,\"#fb9f3a\"],[0.8888888888888888,\"#fdca26\"],[1.0,\"#f0f921\"]]}],\"heatmapgl\":[{\"type\":\"heatmapgl\",\"colorbar\":{\"outlinewidth\":0,\"ticks\":\"\"},\"colorscale\":[[0.0,\"#0d0887\"],[0.1111111111111111,\"#46039f\"],[0.2222222222222222,\"#7201a8\"],[0.3333333333333333,\"#9c179e\"],[0.4444444444444444,\"#bd3786\"],[0.5555555555555556,\"#d8576b\"],[0.6666666666666666,\"#ed7953\"],[0.7777777777777778,\"#fb9f3a\"],[0.8888888888888888,\"#fdca26\"],[1.0,\"#f0f921\"]]}],\"contourcarpet\":[{\"type\":\"contourcarpet\",\"colorbar\":{\"outlinewidth\":0,\"ticks\":\"\"}}],\"contour\":[{\"type\":\"contour\",\"colorbar\":{\"outlinewidth\":0,\"ticks\":\"\"},\"colorscale\":[[0.0,\"#0d0887\"],[0.1111111111111111,\"#46039f\"],[0.2222222222222222,\"#7201a8\"],[0.3333333333333333,\"#9c179e\"],[0.4444444444444444,\"#bd3786\"],[0.5555555555555556,\"#d8576b\"],[0.6666666666666666,\"#ed7953\"],[0.7777777777777778,\"#fb9f3a\"],[0.8888888888888888,\"#fdca26\"],[1.0,\"#f0f921\"]]}],\"surface\":[{\"type\":\"surface\",\"colorbar\":{\"outlinewidth\":0,\"ticks\":\"\"},\"colorscale\":[[0.0,\"#0d0887\"],[0.1111111111111111,\"#46039f\"],[0.2222222222222222,\"#7201a8\"],[0.3333333333333333,\"#9c179e\"],[0.4444444444444444,\"#bd3786\"],[0.5555555555555556,\"#d8576b\"],[0.6666666666666666,\"#ed7953\"],[0.7777777777777778,\"#fb9f3a\"],[0.8888888888888888,\"#fdca26\"],[1.0,\"#f0f921\"]]}],\"mesh3d\":[{\"type\":\"mesh3d\",\"colorbar\":{\"outlinewidth\":0,\"ticks\":\"\"}}],\"scatter\":[{\"marker\":{\"line\":{\"color\":\"#283442\"}},\"type\":\"scatter\"}],\"parcoords\":[{\"type\":\"parcoords\",\"line\":{\"colorbar\":{\"outlinewidth\":0,\"ticks\":\"\"}}}],\"scatterpolargl\":[{\"type\":\"scatterpolargl\",\"marker\":{\"colorbar\":{\"outlinewidth\":0,\"ticks\":\"\"}}}],\"bar\":[{\"error_x\":{\"color\":\"#f2f5fa\"},\"error_y\":{\"color\":\"#f2f5fa\"},\"marker\":{\"line\":{\"color\":\"rgb(17,17,17)\",\"width\":0.5},\"pattern\":{\"fillmode\":\"overlay\",\"size\":10,\"solidity\":0.2}},\"type\":\"bar\"}],\"scattergeo\":[{\"type\":\"scattergeo\",\"marker\":{\"colorbar\":{\"outlinewidth\":0,\"ticks\":\"\"}}}],\"scatterpolar\":[{\"type\":\"scatterpolar\",\"marker\":{\"colorbar\":{\"outlinewidth\":0,\"ticks\":\"\"}}}],\"histogram\":[{\"marker\":{\"pattern\":{\"fillmode\":\"overlay\",\"size\":10,\"solidity\":0.2}},\"type\":\"histogram\"}],\"scattergl\":[{\"marker\":{\"line\":{\"color\":\"#283442\"}},\"type\":\"scattergl\"}],\"scatter3d\":[{\"type\":\"scatter3d\",\"line\":{\"colorbar\":{\"outlinewidth\":0,\"ticks\":\"\"}},\"marker\":{\"colorbar\":{\"outlinewidth\":0,\"ticks\":\"\"}}}],\"scattermapbox\":[{\"type\":\"scattermapbox\",\"marker\":{\"colorbar\":{\"outlinewidth\":0,\"ticks\":\"\"}}}],\"scatterternary\":[{\"type\":\"scatterternary\",\"marker\":{\"colorbar\":{\"outlinewidth\":0,\"ticks\":\"\"}}}],\"scattercarpet\":[{\"type\":\"scattercarpet\",\"marker\":{\"colorbar\":{\"outlinewidth\":0,\"ticks\":\"\"}}}],\"carpet\":[{\"aaxis\":{\"endlinecolor\":\"#A2B1C6\",\"gridcolor\":\"#506784\",\"linecolor\":\"#506784\",\"minorgridcolor\":\"#506784\",\"startlinecolor\":\"#A2B1C6\"},\"baxis\":{\"endlinecolor\":\"#A2B1C6\",\"gridcolor\":\"#506784\",\"linecolor\":\"#506784\",\"minorgridcolor\":\"#506784\",\"startlinecolor\":\"#A2B1C6\"},\"type\":\"carpet\"}],\"table\":[{\"cells\":{\"fill\":{\"color\":\"#506784\"},\"line\":{\"color\":\"rgb(17,17,17)\"}},\"header\":{\"fill\":{\"color\":\"#2a3f5f\"},\"line\":{\"color\":\"rgb(17,17,17)\"}},\"type\":\"table\"}],\"barpolar\":[{\"marker\":{\"line\":{\"color\":\"rgb(17,17,17)\",\"width\":0.5},\"pattern\":{\"fillmode\":\"overlay\",\"size\":10,\"solidity\":0.2}},\"type\":\"barpolar\"}],\"pie\":[{\"automargin\":true,\"type\":\"pie\"}]},\"layout\":{\"autotypenumbers\":\"strict\",\"colorway\":[\"#636efa\",\"#EF553B\",\"#00cc96\",\"#ab63fa\",\"#FFA15A\",\"#19d3f3\",\"#FF6692\",\"#B6E880\",\"#FF97FF\",\"#FECB52\"],\"font\":{\"color\":\"#f2f5fa\"},\"hovermode\":\"closest\",\"hoverlabel\":{\"align\":\"left\"},\"paper_bgcolor\":\"rgb(17,17,17)\",\"plot_bgcolor\":\"rgb(17,17,17)\",\"polar\":{\"bgcolor\":\"rgb(17,17,17)\",\"angularaxis\":{\"gridcolor\":\"#506784\",\"linecolor\":\"#506784\",\"ticks\":\"\"},\"radialaxis\":{\"gridcolor\":\"#506784\",\"linecolor\":\"#506784\",\"ticks\":\"\"}},\"ternary\":{\"bgcolor\":\"rgb(17,17,17)\",\"aaxis\":{\"gridcolor\":\"#506784\",\"linecolor\":\"#506784\",\"ticks\":\"\"},\"baxis\":{\"gridcolor\":\"#506784\",\"linecolor\":\"#506784\",\"ticks\":\"\"},\"caxis\":{\"gridcolor\":\"#506784\",\"linecolor\":\"#506784\",\"ticks\":\"\"}},\"coloraxis\":{\"colorbar\":{\"outlinewidth\":0,\"ticks\":\"\"}},\"colorscale\":{\"sequential\":[[0.0,\"#0d0887\"],[0.1111111111111111,\"#46039f\"],[0.2222222222222222,\"#7201a8\"],[0.3333333333333333,\"#9c179e\"],[0.4444444444444444,\"#bd3786\"],[0.5555555555555556,\"#d8576b\"],[0.6666666666666666,\"#ed7953\"],[0.7777777777777778,\"#fb9f3a\"],[0.8888888888888888,\"#fdca26\"],[1.0,\"#f0f921\"]],\"sequentialminus\":[[0.0,\"#0d0887\"],[0.1111111111111111,\"#46039f\"],[0.2222222222222222,\"#7201a8\"],[0.3333333333333333,\"#9c179e\"],[0.4444444444444444,\"#bd3786\"],[0.5555555555555556,\"#d8576b\"],[0.6666666666666666,\"#ed7953\"],[0.7777777777777778,\"#fb9f3a\"],[0.8888888888888888,\"#fdca26\"],[1.0,\"#f0f921\"]],\"diverging\":[[0,\"#8e0152\"],[0.1,\"#c51b7d\"],[0.2,\"#de77ae\"],[0.3,\"#f1b6da\"],[0.4,\"#fde0ef\"],[0.5,\"#f7f7f7\"],[0.6,\"#e6f5d0\"],[0.7,\"#b8e186\"],[0.8,\"#7fbc41\"],[0.9,\"#4d9221\"],[1,\"#276419\"]]},\"xaxis\":{\"gridcolor\":\"#283442\",\"linecolor\":\"#506784\",\"ticks\":\"\",\"title\":{\"standoff\":15},\"zerolinecolor\":\"#283442\",\"automargin\":true,\"zerolinewidth\":2},\"yaxis\":{\"gridcolor\":\"#283442\",\"linecolor\":\"#506784\",\"ticks\":\"\",\"title\":{\"standoff\":15},\"zerolinecolor\":\"#283442\",\"automargin\":true,\"zerolinewidth\":2},\"scene\":{\"xaxis\":{\"backgroundcolor\":\"rgb(17,17,17)\",\"gridcolor\":\"#506784\",\"linecolor\":\"#506784\",\"showbackground\":true,\"ticks\":\"\",\"zerolinecolor\":\"#C8D4E3\",\"gridwidth\":2},\"yaxis\":{\"backgroundcolor\":\"rgb(17,17,17)\",\"gridcolor\":\"#506784\",\"linecolor\":\"#506784\",\"showbackground\":true,\"ticks\":\"\",\"zerolinecolor\":\"#C8D4E3\",\"gridwidth\":2},\"zaxis\":{\"backgroundcolor\":\"rgb(17,17,17)\",\"gridcolor\":\"#506784\",\"linecolor\":\"#506784\",\"showbackground\":true,\"ticks\":\"\",\"zerolinecolor\":\"#C8D4E3\",\"gridwidth\":2}},\"shapedefaults\":{\"line\":{\"color\":\"#f2f5fa\"}},\"annotationdefaults\":{\"arrowcolor\":\"#f2f5fa\",\"arrowhead\":0,\"arrowwidth\":1},\"geo\":{\"bgcolor\":\"rgb(17,17,17)\",\"landcolor\":\"rgb(17,17,17)\",\"subunitcolor\":\"#506784\",\"showland\":true,\"showlakes\":true,\"lakecolor\":\"rgb(17,17,17)\"},\"title\":{\"x\":0.05},\"updatemenudefaults\":{\"bgcolor\":\"#506784\",\"borderwidth\":0},\"sliderdefaults\":{\"bgcolor\":\"#C8D4E3\",\"borderwidth\":1,\"bordercolor\":\"rgb(17,17,17)\",\"tickwidth\":0},\"mapbox\":{\"style\":\"dark\"}}}},                        {\"responsive\": true}                    ).then(function(){\n                            \nvar gd = document.getElementById('71528219-44a8-48e4-abe8-adf9e36e8333');\nvar x = new MutationObserver(function (mutations, observer) {{\n        var display = window.getComputedStyle(gd).display;\n        if (!display || display === 'none') {{\n            console.log([gd, 'removed!']);\n            Plotly.purge(gd);\n            observer.disconnect();\n        }}\n}});\n\n// Listen for the removal of the full notebook cells\nvar notebookContainer = gd.closest('#notebook-container');\nif (notebookContainer) {{\n    x.observe(notebookContainer, {childList: true});\n}}\n\n// Listen for the clearing of the current output cell\nvar outputEl = gd.closest('.output');\nif (outputEl) {{\n    x.observe(outputEl, {childList: true});\n}}\n\n                        })                };                });            </script>        </div>"
     },
     "metadata": {},
     "output_type": "display_data"
    }
   ],
   "source": [
    "df = placane_delovne_ure_grouped.subtract(opravljene_delovne_ure_grouped)\n",
    "traces = []\n",
    "for column in df.columns[1:]:\n",
    "    trace = go.Scatter(\n",
    "        x=df.index,\n",
    "        y=df[column],\n",
    "        mode='lines',\n",
    "        name=column\n",
    "    )\n",
    "    traces.append(trace)\n",
    "\n",
    "layout = go.Layout(\n",
    "    title='Razlika med plačanimi urami in opravljenimi delovnimi urami',\n",
    "    xaxis=dict(title='Leto'),\n",
    "    yaxis=dict(title='Število ur')\n",
    ")\n",
    "\n",
    "# Kreiranje Figure objekta\n",
    "fig = go.Figure(data=traces, layout=layout)\n",
    "\n",
    "# Prikazivanje interaktivnog grafa ploščine\n",
    "fig.show()"
   ],
   "metadata": {
    "collapsed": false
   }
  },
  {
   "cell_type": "code",
   "execution_count": 74,
   "outputs": [
    {
     "data": {
      "application/vnd.plotly.v1+json": {
       "data": [
        {
         "mode": "markers",
         "name": "A KMETIJSTVO IN LOV, GOZDARSTVO, RIBISTVO",
         "x": [
          "2008",
          "2009",
          "2010",
          "2011",
          "2012",
          "2013",
          "2014",
          "2015",
          "2016",
          "2017",
          "2018",
          "2019",
          "2020",
          "2021",
          "2022"
         ],
         "y": [
          37.0,
          34.75,
          32.0,
          33.75,
          36.75,
          35.25,
          34.0,
          32.75,
          34.25,
          35.0,
          36.0,
          34.5,
          31.75,
          31.5,
          31.25
         ],
         "type": "scatter"
        },
        {
         "mode": "markers",
         "name": "B RUDARSTVO",
         "x": [
          "2008",
          "2009",
          "2010",
          "2011",
          "2012",
          "2013",
          "2014",
          "2015",
          "2016",
          "2017",
          "2018",
          "2019",
          "2020",
          "2021",
          "2022"
         ],
         "y": [
          40.5,
          41.0,
          40.25,
          40.0,
          42.75,
          42.0,
          40.25,
          37.75,
          39.75,
          41.0,
          40.75,
          41.0,
          38.25,
          37.75,
          38.75
         ],
         "type": "scatter"
        },
        {
         "mode": "markers",
         "name": "C PREDELOVALNE DEJAVNOSTI",
         "x": [
          "2008",
          "2009",
          "2010",
          "2011",
          "2012",
          "2013",
          "2014",
          "2015",
          "2016",
          "2017",
          "2018",
          "2019",
          "2020",
          "2021",
          "2022"
         ],
         "y": [
          37.25,
          33.75,
          32.75,
          34.5,
          36.5,
          35.25,
          34.25,
          32.5,
          34.0,
          35.75,
          36.75,
          36.75,
          33.0,
          33.25,
          34.75
         ],
         "type": "scatter"
        },
        {
         "mode": "markers",
         "name": "D OSKRBA Z ELEKTRICNO ENERGIJO, PLINOM IN PARO",
         "x": [
          "2008",
          "2009",
          "2010",
          "2011",
          "2012",
          "2013",
          "2014",
          "2015",
          "2016",
          "2017",
          "2018",
          "2019",
          "2020",
          "2021",
          "2022"
         ],
         "y": [
          42.0,
          38.25,
          37.25,
          38.0,
          39.5,
          36.5,
          38.25,
          34.75,
          35.5,
          36.5,
          42.25,
          41.25,
          38.25,
          37.75,
          38.25
         ],
         "type": "scatter"
        },
        {
         "mode": "markers",
         "name": "E OSKRBA Z VODO, RAVNANJE Z ODPLAKAMI IN ODPADKI, SANIRANJE OKOLJA",
         "x": [
          "2008",
          "2009",
          "2010",
          "2011",
          "2012",
          "2013",
          "2014",
          "2015",
          "2016",
          "2017",
          "2018",
          "2019",
          "2020",
          "2021",
          "2022"
         ],
         "y": [
          38.75,
          32.75,
          34.5,
          34.25,
          39.75,
          33.75,
          35.25,
          35.5,
          36.25,
          33.0,
          37.75,
          37.75,
          35.0,
          34.5,
          36.0
         ],
         "type": "scatter"
        },
        {
         "mode": "markers",
         "name": "F GRADBENISTVO",
         "x": [
          "2008",
          "2009",
          "2010",
          "2011",
          "2012",
          "2013",
          "2014",
          "2015",
          "2016",
          "2017",
          "2018",
          "2019",
          "2020",
          "2021",
          "2022"
         ],
         "y": [
          32.5,
          29.5,
          28.25,
          28.25,
          29.25,
          27.25,
          26.25,
          24.75,
          31.75,
          33.0,
          33.5,
          32.75,
          30.0,
          29.5,
          31.0
         ],
         "type": "scatter"
        },
        {
         "mode": "markers",
         "name": "G TRGOVINA, VZDRZEVANJE IN POPRAVILA MOTORNIH VOZIL",
         "x": [
          "2008",
          "2009",
          "2010",
          "2011",
          "2012",
          "2013",
          "2014",
          "2015",
          "2016",
          "2017",
          "2018",
          "2019",
          "2020",
          "2021",
          "2022"
         ],
         "y": [
          33.75,
          32.0,
          30.25,
          32.25,
          32.75,
          32.75,
          30.5,
          29.25,
          32.25,
          32.75,
          34.0,
          34.25,
          30.75,
          31.0,
          32.75
         ],
         "type": "scatter"
        },
        {
         "mode": "markers",
         "name": "H PROMET IN SKLADISCENJE",
         "x": [
          "2008",
          "2009",
          "2010",
          "2011",
          "2012",
          "2013",
          "2014",
          "2015",
          "2016",
          "2017",
          "2018",
          "2019",
          "2020",
          "2021",
          "2022"
         ],
         "y": [
          36.5,
          33.5,
          33.25,
          35.0,
          35.0,
          31.75,
          31.0,
          32.5,
          32.0,
          33.5,
          34.75,
          34.25,
          31.75,
          31.25,
          32.25
         ],
         "type": "scatter"
        },
        {
         "mode": "markers",
         "name": "I GOSTINSTVO",
         "x": [
          "2008",
          "2009",
          "2010",
          "2011",
          "2012",
          "2013",
          "2014",
          "2015",
          "2016",
          "2017",
          "2018",
          "2019",
          "2020",
          "2021",
          "2022"
         ],
         "y": [
          34.75,
          32.5,
          32.25,
          33.25,
          29.5,
          29.0,
          27.5,
          25.75,
          31.25,
          31.75,
          32.25,
          32.25,
          28.25,
          28.5,
          31.25
         ],
         "type": "scatter"
        },
        {
         "mode": "markers",
         "name": "J INFORMACIJSKE IN KOMUNIKACIJSKE DEJAVNOSTI",
         "x": [
          "2008",
          "2009",
          "2010",
          "2011",
          "2012",
          "2013",
          "2014",
          "2015",
          "2016",
          "2017",
          "2018",
          "2019",
          "2020",
          "2021",
          "2022"
         ],
         "y": [
          35.25,
          31.5,
          31.5,
          31.75,
          32.0,
          31.75,
          31.5,
          29.5,
          33.75,
          35.25,
          35.25,
          35.25,
          32.0,
          31.25,
          30.75
         ],
         "type": "scatter"
        },
        {
         "mode": "markers",
         "name": "K FINANCNE IN ZAVAROVALNISKE DEJAVNOSTI",
         "x": [
          "2008",
          "2009",
          "2010",
          "2011",
          "2012",
          "2013",
          "2014",
          "2015",
          "2016",
          "2017",
          "2018",
          "2019",
          "2020",
          "2021",
          "2022"
         ],
         "y": [
          34.25,
          29.75,
          29.75,
          31.0,
          38.0,
          35.0,
          34.75,
          33.75,
          35.5,
          35.75,
          38.0,
          37.5,
          33.25,
          32.75,
          34.5
         ],
         "type": "scatter"
        },
        {
         "mode": "markers",
         "name": "L POSLOVANJE Z NEPREMICNINAMI",
         "x": [
          "2008",
          "2009",
          "2010",
          "2011",
          "2012",
          "2013",
          "2014",
          "2015",
          "2016",
          "2017",
          "2018",
          "2019",
          "2020",
          "2021",
          "2022"
         ],
         "y": [
          33.0,
          31.25,
          30.0,
          31.25,
          31.5,
          30.25,
          29.25,
          27.0,
          32.5,
          33.75,
          34.75,
          34.25,
          31.0,
          29.5,
          31.75
         ],
         "type": "scatter"
        },
        {
         "mode": "markers",
         "name": "M STROKOVNE, ZNANSTVENE IN TEHNICNE DEJAVNOSTI",
         "x": [
          "2008",
          "2009",
          "2010",
          "2011",
          "2012",
          "2013",
          "2014",
          "2015",
          "2016",
          "2017",
          "2018",
          "2019",
          "2020",
          "2021",
          "2022"
         ],
         "y": [
          33.25,
          24.75,
          28.75,
          28.25,
          31.5,
          25.0,
          25.75,
          27.75,
          28.75,
          32.5,
          32.5,
          33.0,
          29.5,
          28.75,
          30.5
         ],
         "type": "scatter"
        },
        {
         "mode": "markers",
         "name": "N DRUGE RAZNOVRSTNE POSLOVNE DEJAVNOSTI",
         "x": [
          "2008",
          "2009",
          "2010",
          "2011",
          "2012",
          "2013",
          "2014",
          "2015",
          "2016",
          "2017",
          "2018",
          "2019",
          "2020",
          "2021",
          "2022"
         ],
         "y": [
          33.75,
          30.5,
          29.25,
          30.5,
          31.25,
          29.75,
          28.25,
          27.5,
          29.75,
          33.25,
          33.5,
          33.5,
          30.25,
          30.0,
          32.25
         ],
         "type": "scatter"
        },
        {
         "mode": "markers",
         "name": "O DEJAVNOST JAVNE UPRAVE IN OBRAMBE, DEJAVNOST OBVEZNE SOCIALNE VARNOSTI",
         "x": [
          "2008",
          "2009",
          "2010",
          "2011",
          "2012",
          "2013",
          "2014",
          "2015",
          "2016",
          "2017",
          "2018",
          "2019",
          "2020",
          "2021",
          "2022"
         ],
         "y": [
          37.25,
          34.5,
          35.5,
          32.25,
          40.25,
          40.5,
          38.75,
          35.75,
          38.75,
          41.0,
          42.25,
          42.0,
          34.5,
          35.75,
          38.75
         ],
         "type": "scatter"
        },
        {
         "mode": "markers",
         "name": "P IZOBRAZEVANJE",
         "x": [
          "2008",
          "2009",
          "2010",
          "2011",
          "2012",
          "2013",
          "2014",
          "2015",
          "2016",
          "2017",
          "2018",
          "2019",
          "2020",
          "2021",
          "2022"
         ],
         "y": [
          38.0,
          35.5,
          35.0,
          35.0,
          37.5,
          33.75,
          34.0,
          30.75,
          36.0,
          38.0,
          37.5,
          39.0,
          34.5,
          34.75,
          37.25
         ],
         "type": "scatter"
        },
        {
         "mode": "markers",
         "name": "Q ZDRAVSTVO IN SOCIALNO VARSTVO",
         "x": [
          "2008",
          "2009",
          "2010",
          "2011",
          "2012",
          "2013",
          "2014",
          "2015",
          "2016",
          "2017",
          "2018",
          "2019",
          "2020",
          "2021",
          "2022"
         ],
         "y": [
          34.25,
          31.75,
          33.75,
          34.0,
          36.25,
          36.25,
          32.75,
          33.25,
          33.0,
          36.5,
          37.5,
          37.75,
          35.5,
          36.0,
          37.5
         ],
         "type": "scatter"
        },
        {
         "mode": "markers",
         "name": "R KULTURNE, RAZVEDRILNE IN REKREACIJSKE DEJAVNOSTI",
         "x": [
          "2008",
          "2009",
          "2010",
          "2011",
          "2012",
          "2013",
          "2014",
          "2015",
          "2016",
          "2017",
          "2018",
          "2019",
          "2020",
          "2021",
          "2022"
         ],
         "y": [
          31.0,
          30.5,
          31.25,
          33.25,
          35.25,
          36.0,
          33.75,
          31.0,
          34.75,
          37.25,
          38.0,
          38.0,
          34.5,
          33.75,
          35.0
         ],
         "type": "scatter"
        },
        {
         "mode": "markers",
         "name": "S DRUGE DEJAVNOSTI",
         "x": [
          "2008",
          "2009",
          "2010",
          "2011",
          "2012",
          "2013",
          "2014",
          "2015",
          "2016",
          "2017",
          "2018",
          "2019",
          "2020",
          "2021",
          "2022"
         ],
         "y": [
          35.0,
          32.25,
          31.5,
          33.0,
          31.75,
          32.5,
          30.75,
          29.25,
          30.75,
          32.75,
          33.25,
          32.5,
          29.25,
          28.25,
          28.75
         ],
         "type": "scatter"
        }
       ],
       "layout": {
        "title": {
         "text": "Razlika med plačanimi urami in opravljenimi delovnimi urami"
        },
        "xaxis": {
         "title": {
          "text": "Leta"
         }
        },
        "yaxis": {
         "title": {
          "text": "Število ur"
         }
        },
        "template": {
         "data": {
          "histogram2dcontour": [
           {
            "type": "histogram2dcontour",
            "colorbar": {
             "outlinewidth": 0,
             "ticks": ""
            },
            "colorscale": [
             [
              0.0,
              "#0d0887"
             ],
             [
              0.1111111111111111,
              "#46039f"
             ],
             [
              0.2222222222222222,
              "#7201a8"
             ],
             [
              0.3333333333333333,
              "#9c179e"
             ],
             [
              0.4444444444444444,
              "#bd3786"
             ],
             [
              0.5555555555555556,
              "#d8576b"
             ],
             [
              0.6666666666666666,
              "#ed7953"
             ],
             [
              0.7777777777777778,
              "#fb9f3a"
             ],
             [
              0.8888888888888888,
              "#fdca26"
             ],
             [
              1.0,
              "#f0f921"
             ]
            ]
           }
          ],
          "choropleth": [
           {
            "type": "choropleth",
            "colorbar": {
             "outlinewidth": 0,
             "ticks": ""
            }
           }
          ],
          "histogram2d": [
           {
            "type": "histogram2d",
            "colorbar": {
             "outlinewidth": 0,
             "ticks": ""
            },
            "colorscale": [
             [
              0.0,
              "#0d0887"
             ],
             [
              0.1111111111111111,
              "#46039f"
             ],
             [
              0.2222222222222222,
              "#7201a8"
             ],
             [
              0.3333333333333333,
              "#9c179e"
             ],
             [
              0.4444444444444444,
              "#bd3786"
             ],
             [
              0.5555555555555556,
              "#d8576b"
             ],
             [
              0.6666666666666666,
              "#ed7953"
             ],
             [
              0.7777777777777778,
              "#fb9f3a"
             ],
             [
              0.8888888888888888,
              "#fdca26"
             ],
             [
              1.0,
              "#f0f921"
             ]
            ]
           }
          ],
          "heatmap": [
           {
            "type": "heatmap",
            "colorbar": {
             "outlinewidth": 0,
             "ticks": ""
            },
            "colorscale": [
             [
              0.0,
              "#0d0887"
             ],
             [
              0.1111111111111111,
              "#46039f"
             ],
             [
              0.2222222222222222,
              "#7201a8"
             ],
             [
              0.3333333333333333,
              "#9c179e"
             ],
             [
              0.4444444444444444,
              "#bd3786"
             ],
             [
              0.5555555555555556,
              "#d8576b"
             ],
             [
              0.6666666666666666,
              "#ed7953"
             ],
             [
              0.7777777777777778,
              "#fb9f3a"
             ],
             [
              0.8888888888888888,
              "#fdca26"
             ],
             [
              1.0,
              "#f0f921"
             ]
            ]
           }
          ],
          "heatmapgl": [
           {
            "type": "heatmapgl",
            "colorbar": {
             "outlinewidth": 0,
             "ticks": ""
            },
            "colorscale": [
             [
              0.0,
              "#0d0887"
             ],
             [
              0.1111111111111111,
              "#46039f"
             ],
             [
              0.2222222222222222,
              "#7201a8"
             ],
             [
              0.3333333333333333,
              "#9c179e"
             ],
             [
              0.4444444444444444,
              "#bd3786"
             ],
             [
              0.5555555555555556,
              "#d8576b"
             ],
             [
              0.6666666666666666,
              "#ed7953"
             ],
             [
              0.7777777777777778,
              "#fb9f3a"
             ],
             [
              0.8888888888888888,
              "#fdca26"
             ],
             [
              1.0,
              "#f0f921"
             ]
            ]
           }
          ],
          "contourcarpet": [
           {
            "type": "contourcarpet",
            "colorbar": {
             "outlinewidth": 0,
             "ticks": ""
            }
           }
          ],
          "contour": [
           {
            "type": "contour",
            "colorbar": {
             "outlinewidth": 0,
             "ticks": ""
            },
            "colorscale": [
             [
              0.0,
              "#0d0887"
             ],
             [
              0.1111111111111111,
              "#46039f"
             ],
             [
              0.2222222222222222,
              "#7201a8"
             ],
             [
              0.3333333333333333,
              "#9c179e"
             ],
             [
              0.4444444444444444,
              "#bd3786"
             ],
             [
              0.5555555555555556,
              "#d8576b"
             ],
             [
              0.6666666666666666,
              "#ed7953"
             ],
             [
              0.7777777777777778,
              "#fb9f3a"
             ],
             [
              0.8888888888888888,
              "#fdca26"
             ],
             [
              1.0,
              "#f0f921"
             ]
            ]
           }
          ],
          "surface": [
           {
            "type": "surface",
            "colorbar": {
             "outlinewidth": 0,
             "ticks": ""
            },
            "colorscale": [
             [
              0.0,
              "#0d0887"
             ],
             [
              0.1111111111111111,
              "#46039f"
             ],
             [
              0.2222222222222222,
              "#7201a8"
             ],
             [
              0.3333333333333333,
              "#9c179e"
             ],
             [
              0.4444444444444444,
              "#bd3786"
             ],
             [
              0.5555555555555556,
              "#d8576b"
             ],
             [
              0.6666666666666666,
              "#ed7953"
             ],
             [
              0.7777777777777778,
              "#fb9f3a"
             ],
             [
              0.8888888888888888,
              "#fdca26"
             ],
             [
              1.0,
              "#f0f921"
             ]
            ]
           }
          ],
          "mesh3d": [
           {
            "type": "mesh3d",
            "colorbar": {
             "outlinewidth": 0,
             "ticks": ""
            }
           }
          ],
          "scatter": [
           {
            "marker": {
             "line": {
              "color": "#283442"
             }
            },
            "type": "scatter"
           }
          ],
          "parcoords": [
           {
            "type": "parcoords",
            "line": {
             "colorbar": {
              "outlinewidth": 0,
              "ticks": ""
             }
            }
           }
          ],
          "scatterpolargl": [
           {
            "type": "scatterpolargl",
            "marker": {
             "colorbar": {
              "outlinewidth": 0,
              "ticks": ""
             }
            }
           }
          ],
          "bar": [
           {
            "error_x": {
             "color": "#f2f5fa"
            },
            "error_y": {
             "color": "#f2f5fa"
            },
            "marker": {
             "line": {
              "color": "rgb(17,17,17)",
              "width": 0.5
             },
             "pattern": {
              "fillmode": "overlay",
              "size": 10,
              "solidity": 0.2
             }
            },
            "type": "bar"
           }
          ],
          "scattergeo": [
           {
            "type": "scattergeo",
            "marker": {
             "colorbar": {
              "outlinewidth": 0,
              "ticks": ""
             }
            }
           }
          ],
          "scatterpolar": [
           {
            "type": "scatterpolar",
            "marker": {
             "colorbar": {
              "outlinewidth": 0,
              "ticks": ""
             }
            }
           }
          ],
          "histogram": [
           {
            "marker": {
             "pattern": {
              "fillmode": "overlay",
              "size": 10,
              "solidity": 0.2
             }
            },
            "type": "histogram"
           }
          ],
          "scattergl": [
           {
            "marker": {
             "line": {
              "color": "#283442"
             }
            },
            "type": "scattergl"
           }
          ],
          "scatter3d": [
           {
            "type": "scatter3d",
            "line": {
             "colorbar": {
              "outlinewidth": 0,
              "ticks": ""
             }
            },
            "marker": {
             "colorbar": {
              "outlinewidth": 0,
              "ticks": ""
             }
            }
           }
          ],
          "scattermapbox": [
           {
            "type": "scattermapbox",
            "marker": {
             "colorbar": {
              "outlinewidth": 0,
              "ticks": ""
             }
            }
           }
          ],
          "scatterternary": [
           {
            "type": "scatterternary",
            "marker": {
             "colorbar": {
              "outlinewidth": 0,
              "ticks": ""
             }
            }
           }
          ],
          "scattercarpet": [
           {
            "type": "scattercarpet",
            "marker": {
             "colorbar": {
              "outlinewidth": 0,
              "ticks": ""
             }
            }
           }
          ],
          "carpet": [
           {
            "aaxis": {
             "endlinecolor": "#A2B1C6",
             "gridcolor": "#506784",
             "linecolor": "#506784",
             "minorgridcolor": "#506784",
             "startlinecolor": "#A2B1C6"
            },
            "baxis": {
             "endlinecolor": "#A2B1C6",
             "gridcolor": "#506784",
             "linecolor": "#506784",
             "minorgridcolor": "#506784",
             "startlinecolor": "#A2B1C6"
            },
            "type": "carpet"
           }
          ],
          "table": [
           {
            "cells": {
             "fill": {
              "color": "#506784"
             },
             "line": {
              "color": "rgb(17,17,17)"
             }
            },
            "header": {
             "fill": {
              "color": "#2a3f5f"
             },
             "line": {
              "color": "rgb(17,17,17)"
             }
            },
            "type": "table"
           }
          ],
          "barpolar": [
           {
            "marker": {
             "line": {
              "color": "rgb(17,17,17)",
              "width": 0.5
             },
             "pattern": {
              "fillmode": "overlay",
              "size": 10,
              "solidity": 0.2
             }
            },
            "type": "barpolar"
           }
          ],
          "pie": [
           {
            "automargin": true,
            "type": "pie"
           }
          ]
         },
         "layout": {
          "autotypenumbers": "strict",
          "colorway": [
           "#636efa",
           "#EF553B",
           "#00cc96",
           "#ab63fa",
           "#FFA15A",
           "#19d3f3",
           "#FF6692",
           "#B6E880",
           "#FF97FF",
           "#FECB52"
          ],
          "font": {
           "color": "#f2f5fa"
          },
          "hovermode": "closest",
          "hoverlabel": {
           "align": "left"
          },
          "paper_bgcolor": "rgb(17,17,17)",
          "plot_bgcolor": "rgb(17,17,17)",
          "polar": {
           "bgcolor": "rgb(17,17,17)",
           "angularaxis": {
            "gridcolor": "#506784",
            "linecolor": "#506784",
            "ticks": ""
           },
           "radialaxis": {
            "gridcolor": "#506784",
            "linecolor": "#506784",
            "ticks": ""
           }
          },
          "ternary": {
           "bgcolor": "rgb(17,17,17)",
           "aaxis": {
            "gridcolor": "#506784",
            "linecolor": "#506784",
            "ticks": ""
           },
           "baxis": {
            "gridcolor": "#506784",
            "linecolor": "#506784",
            "ticks": ""
           },
           "caxis": {
            "gridcolor": "#506784",
            "linecolor": "#506784",
            "ticks": ""
           }
          },
          "coloraxis": {
           "colorbar": {
            "outlinewidth": 0,
            "ticks": ""
           }
          },
          "colorscale": {
           "sequential": [
            [
             0.0,
             "#0d0887"
            ],
            [
             0.1111111111111111,
             "#46039f"
            ],
            [
             0.2222222222222222,
             "#7201a8"
            ],
            [
             0.3333333333333333,
             "#9c179e"
            ],
            [
             0.4444444444444444,
             "#bd3786"
            ],
            [
             0.5555555555555556,
             "#d8576b"
            ],
            [
             0.6666666666666666,
             "#ed7953"
            ],
            [
             0.7777777777777778,
             "#fb9f3a"
            ],
            [
             0.8888888888888888,
             "#fdca26"
            ],
            [
             1.0,
             "#f0f921"
            ]
           ],
           "sequentialminus": [
            [
             0.0,
             "#0d0887"
            ],
            [
             0.1111111111111111,
             "#46039f"
            ],
            [
             0.2222222222222222,
             "#7201a8"
            ],
            [
             0.3333333333333333,
             "#9c179e"
            ],
            [
             0.4444444444444444,
             "#bd3786"
            ],
            [
             0.5555555555555556,
             "#d8576b"
            ],
            [
             0.6666666666666666,
             "#ed7953"
            ],
            [
             0.7777777777777778,
             "#fb9f3a"
            ],
            [
             0.8888888888888888,
             "#fdca26"
            ],
            [
             1.0,
             "#f0f921"
            ]
           ],
           "diverging": [
            [
             0,
             "#8e0152"
            ],
            [
             0.1,
             "#c51b7d"
            ],
            [
             0.2,
             "#de77ae"
            ],
            [
             0.3,
             "#f1b6da"
            ],
            [
             0.4,
             "#fde0ef"
            ],
            [
             0.5,
             "#f7f7f7"
            ],
            [
             0.6,
             "#e6f5d0"
            ],
            [
             0.7,
             "#b8e186"
            ],
            [
             0.8,
             "#7fbc41"
            ],
            [
             0.9,
             "#4d9221"
            ],
            [
             1,
             "#276419"
            ]
           ]
          },
          "xaxis": {
           "gridcolor": "#283442",
           "linecolor": "#506784",
           "ticks": "",
           "title": {
            "standoff": 15
           },
           "zerolinecolor": "#283442",
           "automargin": true,
           "zerolinewidth": 2
          },
          "yaxis": {
           "gridcolor": "#283442",
           "linecolor": "#506784",
           "ticks": "",
           "title": {
            "standoff": 15
           },
           "zerolinecolor": "#283442",
           "automargin": true,
           "zerolinewidth": 2
          },
          "scene": {
           "xaxis": {
            "backgroundcolor": "rgb(17,17,17)",
            "gridcolor": "#506784",
            "linecolor": "#506784",
            "showbackground": true,
            "ticks": "",
            "zerolinecolor": "#C8D4E3",
            "gridwidth": 2
           },
           "yaxis": {
            "backgroundcolor": "rgb(17,17,17)",
            "gridcolor": "#506784",
            "linecolor": "#506784",
            "showbackground": true,
            "ticks": "",
            "zerolinecolor": "#C8D4E3",
            "gridwidth": 2
           },
           "zaxis": {
            "backgroundcolor": "rgb(17,17,17)",
            "gridcolor": "#506784",
            "linecolor": "#506784",
            "showbackground": true,
            "ticks": "",
            "zerolinecolor": "#C8D4E3",
            "gridwidth": 2
           }
          },
          "shapedefaults": {
           "line": {
            "color": "#f2f5fa"
           }
          },
          "annotationdefaults": {
           "arrowcolor": "#f2f5fa",
           "arrowhead": 0,
           "arrowwidth": 1
          },
          "geo": {
           "bgcolor": "rgb(17,17,17)",
           "landcolor": "rgb(17,17,17)",
           "subunitcolor": "#506784",
           "showland": true,
           "showlakes": true,
           "lakecolor": "rgb(17,17,17)"
          },
          "title": {
           "x": 0.05
          },
          "updatemenudefaults": {
           "bgcolor": "#506784",
           "borderwidth": 0
          },
          "sliderdefaults": {
           "bgcolor": "#C8D4E3",
           "borderwidth": 1,
           "bordercolor": "rgb(17,17,17)",
           "tickwidth": 0
          },
          "mapbox": {
           "style": "dark"
          }
         }
        }
       },
       "config": {
        "plotlyServerURL": "https://plot.ly"
       }
      },
      "text/html": "<div>                            <div id=\"fd151f4e-af21-4d42-a610-d3bf8ae24bb4\" class=\"plotly-graph-div\" style=\"height:525px; width:100%;\"></div>            <script type=\"text/javascript\">                require([\"plotly\"], function(Plotly) {                    window.PLOTLYENV=window.PLOTLYENV || {};                                    if (document.getElementById(\"fd151f4e-af21-4d42-a610-d3bf8ae24bb4\")) {                    Plotly.newPlot(                        \"fd151f4e-af21-4d42-a610-d3bf8ae24bb4\",                        [{\"mode\":\"markers\",\"name\":\"A KMETIJSTVO IN LOV, GOZDARSTVO, RIBISTVO\",\"x\":[\"2008\",\"2009\",\"2010\",\"2011\",\"2012\",\"2013\",\"2014\",\"2015\",\"2016\",\"2017\",\"2018\",\"2019\",\"2020\",\"2021\",\"2022\"],\"y\":[37.0,34.75,32.0,33.75,36.75,35.25,34.0,32.75,34.25,35.0,36.0,34.5,31.75,31.5,31.25],\"type\":\"scatter\"},{\"mode\":\"markers\",\"name\":\"B RUDARSTVO\",\"x\":[\"2008\",\"2009\",\"2010\",\"2011\",\"2012\",\"2013\",\"2014\",\"2015\",\"2016\",\"2017\",\"2018\",\"2019\",\"2020\",\"2021\",\"2022\"],\"y\":[40.5,41.0,40.25,40.0,42.75,42.0,40.25,37.75,39.75,41.0,40.75,41.0,38.25,37.75,38.75],\"type\":\"scatter\"},{\"mode\":\"markers\",\"name\":\"C PREDELOVALNE DEJAVNOSTI\",\"x\":[\"2008\",\"2009\",\"2010\",\"2011\",\"2012\",\"2013\",\"2014\",\"2015\",\"2016\",\"2017\",\"2018\",\"2019\",\"2020\",\"2021\",\"2022\"],\"y\":[37.25,33.75,32.75,34.5,36.5,35.25,34.25,32.5,34.0,35.75,36.75,36.75,33.0,33.25,34.75],\"type\":\"scatter\"},{\"mode\":\"markers\",\"name\":\"D OSKRBA Z ELEKTRICNO ENERGIJO, PLINOM IN PARO\",\"x\":[\"2008\",\"2009\",\"2010\",\"2011\",\"2012\",\"2013\",\"2014\",\"2015\",\"2016\",\"2017\",\"2018\",\"2019\",\"2020\",\"2021\",\"2022\"],\"y\":[42.0,38.25,37.25,38.0,39.5,36.5,38.25,34.75,35.5,36.5,42.25,41.25,38.25,37.75,38.25],\"type\":\"scatter\"},{\"mode\":\"markers\",\"name\":\"E OSKRBA Z VODO, RAVNANJE Z ODPLAKAMI IN ODPADKI, SANIRANJE OKOLJA\",\"x\":[\"2008\",\"2009\",\"2010\",\"2011\",\"2012\",\"2013\",\"2014\",\"2015\",\"2016\",\"2017\",\"2018\",\"2019\",\"2020\",\"2021\",\"2022\"],\"y\":[38.75,32.75,34.5,34.25,39.75,33.75,35.25,35.5,36.25,33.0,37.75,37.75,35.0,34.5,36.0],\"type\":\"scatter\"},{\"mode\":\"markers\",\"name\":\"F GRADBENISTVO\",\"x\":[\"2008\",\"2009\",\"2010\",\"2011\",\"2012\",\"2013\",\"2014\",\"2015\",\"2016\",\"2017\",\"2018\",\"2019\",\"2020\",\"2021\",\"2022\"],\"y\":[32.5,29.5,28.25,28.25,29.25,27.25,26.25,24.75,31.75,33.0,33.5,32.75,30.0,29.5,31.0],\"type\":\"scatter\"},{\"mode\":\"markers\",\"name\":\"G TRGOVINA, VZDRZEVANJE IN POPRAVILA MOTORNIH VOZIL\",\"x\":[\"2008\",\"2009\",\"2010\",\"2011\",\"2012\",\"2013\",\"2014\",\"2015\",\"2016\",\"2017\",\"2018\",\"2019\",\"2020\",\"2021\",\"2022\"],\"y\":[33.75,32.0,30.25,32.25,32.75,32.75,30.5,29.25,32.25,32.75,34.0,34.25,30.75,31.0,32.75],\"type\":\"scatter\"},{\"mode\":\"markers\",\"name\":\"H PROMET IN SKLADISCENJE\",\"x\":[\"2008\",\"2009\",\"2010\",\"2011\",\"2012\",\"2013\",\"2014\",\"2015\",\"2016\",\"2017\",\"2018\",\"2019\",\"2020\",\"2021\",\"2022\"],\"y\":[36.5,33.5,33.25,35.0,35.0,31.75,31.0,32.5,32.0,33.5,34.75,34.25,31.75,31.25,32.25],\"type\":\"scatter\"},{\"mode\":\"markers\",\"name\":\"I GOSTINSTVO\",\"x\":[\"2008\",\"2009\",\"2010\",\"2011\",\"2012\",\"2013\",\"2014\",\"2015\",\"2016\",\"2017\",\"2018\",\"2019\",\"2020\",\"2021\",\"2022\"],\"y\":[34.75,32.5,32.25,33.25,29.5,29.0,27.5,25.75,31.25,31.75,32.25,32.25,28.25,28.5,31.25],\"type\":\"scatter\"},{\"mode\":\"markers\",\"name\":\"J INFORMACIJSKE IN KOMUNIKACIJSKE DEJAVNOSTI\",\"x\":[\"2008\",\"2009\",\"2010\",\"2011\",\"2012\",\"2013\",\"2014\",\"2015\",\"2016\",\"2017\",\"2018\",\"2019\",\"2020\",\"2021\",\"2022\"],\"y\":[35.25,31.5,31.5,31.75,32.0,31.75,31.5,29.5,33.75,35.25,35.25,35.25,32.0,31.25,30.75],\"type\":\"scatter\"},{\"mode\":\"markers\",\"name\":\"K FINANCNE IN ZAVAROVALNISKE DEJAVNOSTI\",\"x\":[\"2008\",\"2009\",\"2010\",\"2011\",\"2012\",\"2013\",\"2014\",\"2015\",\"2016\",\"2017\",\"2018\",\"2019\",\"2020\",\"2021\",\"2022\"],\"y\":[34.25,29.75,29.75,31.0,38.0,35.0,34.75,33.75,35.5,35.75,38.0,37.5,33.25,32.75,34.5],\"type\":\"scatter\"},{\"mode\":\"markers\",\"name\":\"L POSLOVANJE Z NEPREMICNINAMI\",\"x\":[\"2008\",\"2009\",\"2010\",\"2011\",\"2012\",\"2013\",\"2014\",\"2015\",\"2016\",\"2017\",\"2018\",\"2019\",\"2020\",\"2021\",\"2022\"],\"y\":[33.0,31.25,30.0,31.25,31.5,30.25,29.25,27.0,32.5,33.75,34.75,34.25,31.0,29.5,31.75],\"type\":\"scatter\"},{\"mode\":\"markers\",\"name\":\"M STROKOVNE, ZNANSTVENE IN TEHNICNE DEJAVNOSTI\",\"x\":[\"2008\",\"2009\",\"2010\",\"2011\",\"2012\",\"2013\",\"2014\",\"2015\",\"2016\",\"2017\",\"2018\",\"2019\",\"2020\",\"2021\",\"2022\"],\"y\":[33.25,24.75,28.75,28.25,31.5,25.0,25.75,27.75,28.75,32.5,32.5,33.0,29.5,28.75,30.5],\"type\":\"scatter\"},{\"mode\":\"markers\",\"name\":\"N DRUGE RAZNOVRSTNE POSLOVNE DEJAVNOSTI\",\"x\":[\"2008\",\"2009\",\"2010\",\"2011\",\"2012\",\"2013\",\"2014\",\"2015\",\"2016\",\"2017\",\"2018\",\"2019\",\"2020\",\"2021\",\"2022\"],\"y\":[33.75,30.5,29.25,30.5,31.25,29.75,28.25,27.5,29.75,33.25,33.5,33.5,30.25,30.0,32.25],\"type\":\"scatter\"},{\"mode\":\"markers\",\"name\":\"O DEJAVNOST JAVNE UPRAVE IN OBRAMBE, DEJAVNOST OBVEZNE SOCIALNE VARNOSTI\",\"x\":[\"2008\",\"2009\",\"2010\",\"2011\",\"2012\",\"2013\",\"2014\",\"2015\",\"2016\",\"2017\",\"2018\",\"2019\",\"2020\",\"2021\",\"2022\"],\"y\":[37.25,34.5,35.5,32.25,40.25,40.5,38.75,35.75,38.75,41.0,42.25,42.0,34.5,35.75,38.75],\"type\":\"scatter\"},{\"mode\":\"markers\",\"name\":\"P IZOBRAZEVANJE\",\"x\":[\"2008\",\"2009\",\"2010\",\"2011\",\"2012\",\"2013\",\"2014\",\"2015\",\"2016\",\"2017\",\"2018\",\"2019\",\"2020\",\"2021\",\"2022\"],\"y\":[38.0,35.5,35.0,35.0,37.5,33.75,34.0,30.75,36.0,38.0,37.5,39.0,34.5,34.75,37.25],\"type\":\"scatter\"},{\"mode\":\"markers\",\"name\":\"Q ZDRAVSTVO IN SOCIALNO VARSTVO\",\"x\":[\"2008\",\"2009\",\"2010\",\"2011\",\"2012\",\"2013\",\"2014\",\"2015\",\"2016\",\"2017\",\"2018\",\"2019\",\"2020\",\"2021\",\"2022\"],\"y\":[34.25,31.75,33.75,34.0,36.25,36.25,32.75,33.25,33.0,36.5,37.5,37.75,35.5,36.0,37.5],\"type\":\"scatter\"},{\"mode\":\"markers\",\"name\":\"R KULTURNE, RAZVEDRILNE IN REKREACIJSKE DEJAVNOSTI\",\"x\":[\"2008\",\"2009\",\"2010\",\"2011\",\"2012\",\"2013\",\"2014\",\"2015\",\"2016\",\"2017\",\"2018\",\"2019\",\"2020\",\"2021\",\"2022\"],\"y\":[31.0,30.5,31.25,33.25,35.25,36.0,33.75,31.0,34.75,37.25,38.0,38.0,34.5,33.75,35.0],\"type\":\"scatter\"},{\"mode\":\"markers\",\"name\":\"S DRUGE DEJAVNOSTI\",\"x\":[\"2008\",\"2009\",\"2010\",\"2011\",\"2012\",\"2013\",\"2014\",\"2015\",\"2016\",\"2017\",\"2018\",\"2019\",\"2020\",\"2021\",\"2022\"],\"y\":[35.0,32.25,31.5,33.0,31.75,32.5,30.75,29.25,30.75,32.75,33.25,32.5,29.25,28.25,28.75],\"type\":\"scatter\"}],                        {\"title\":{\"text\":\"Razlika med pla\\u010danimi urami in opravljenimi delovnimi urami\"},\"xaxis\":{\"title\":{\"text\":\"Leta\"}},\"yaxis\":{\"title\":{\"text\":\"\\u0160tevilo ur\"}},\"template\":{\"data\":{\"histogram2dcontour\":[{\"type\":\"histogram2dcontour\",\"colorbar\":{\"outlinewidth\":0,\"ticks\":\"\"},\"colorscale\":[[0.0,\"#0d0887\"],[0.1111111111111111,\"#46039f\"],[0.2222222222222222,\"#7201a8\"],[0.3333333333333333,\"#9c179e\"],[0.4444444444444444,\"#bd3786\"],[0.5555555555555556,\"#d8576b\"],[0.6666666666666666,\"#ed7953\"],[0.7777777777777778,\"#fb9f3a\"],[0.8888888888888888,\"#fdca26\"],[1.0,\"#f0f921\"]]}],\"choropleth\":[{\"type\":\"choropleth\",\"colorbar\":{\"outlinewidth\":0,\"ticks\":\"\"}}],\"histogram2d\":[{\"type\":\"histogram2d\",\"colorbar\":{\"outlinewidth\":0,\"ticks\":\"\"},\"colorscale\":[[0.0,\"#0d0887\"],[0.1111111111111111,\"#46039f\"],[0.2222222222222222,\"#7201a8\"],[0.3333333333333333,\"#9c179e\"],[0.4444444444444444,\"#bd3786\"],[0.5555555555555556,\"#d8576b\"],[0.6666666666666666,\"#ed7953\"],[0.7777777777777778,\"#fb9f3a\"],[0.8888888888888888,\"#fdca26\"],[1.0,\"#f0f921\"]]}],\"heatmap\":[{\"type\":\"heatmap\",\"colorbar\":{\"outlinewidth\":0,\"ticks\":\"\"},\"colorscale\":[[0.0,\"#0d0887\"],[0.1111111111111111,\"#46039f\"],[0.2222222222222222,\"#7201a8\"],[0.3333333333333333,\"#9c179e\"],[0.4444444444444444,\"#bd3786\"],[0.5555555555555556,\"#d8576b\"],[0.6666666666666666,\"#ed7953\"],[0.7777777777777778,\"#fb9f3a\"],[0.8888888888888888,\"#fdca26\"],[1.0,\"#f0f921\"]]}],\"heatmapgl\":[{\"type\":\"heatmapgl\",\"colorbar\":{\"outlinewidth\":0,\"ticks\":\"\"},\"colorscale\":[[0.0,\"#0d0887\"],[0.1111111111111111,\"#46039f\"],[0.2222222222222222,\"#7201a8\"],[0.3333333333333333,\"#9c179e\"],[0.4444444444444444,\"#bd3786\"],[0.5555555555555556,\"#d8576b\"],[0.6666666666666666,\"#ed7953\"],[0.7777777777777778,\"#fb9f3a\"],[0.8888888888888888,\"#fdca26\"],[1.0,\"#f0f921\"]]}],\"contourcarpet\":[{\"type\":\"contourcarpet\",\"colorbar\":{\"outlinewidth\":0,\"ticks\":\"\"}}],\"contour\":[{\"type\":\"contour\",\"colorbar\":{\"outlinewidth\":0,\"ticks\":\"\"},\"colorscale\":[[0.0,\"#0d0887\"],[0.1111111111111111,\"#46039f\"],[0.2222222222222222,\"#7201a8\"],[0.3333333333333333,\"#9c179e\"],[0.4444444444444444,\"#bd3786\"],[0.5555555555555556,\"#d8576b\"],[0.6666666666666666,\"#ed7953\"],[0.7777777777777778,\"#fb9f3a\"],[0.8888888888888888,\"#fdca26\"],[1.0,\"#f0f921\"]]}],\"surface\":[{\"type\":\"surface\",\"colorbar\":{\"outlinewidth\":0,\"ticks\":\"\"},\"colorscale\":[[0.0,\"#0d0887\"],[0.1111111111111111,\"#46039f\"],[0.2222222222222222,\"#7201a8\"],[0.3333333333333333,\"#9c179e\"],[0.4444444444444444,\"#bd3786\"],[0.5555555555555556,\"#d8576b\"],[0.6666666666666666,\"#ed7953\"],[0.7777777777777778,\"#fb9f3a\"],[0.8888888888888888,\"#fdca26\"],[1.0,\"#f0f921\"]]}],\"mesh3d\":[{\"type\":\"mesh3d\",\"colorbar\":{\"outlinewidth\":0,\"ticks\":\"\"}}],\"scatter\":[{\"marker\":{\"line\":{\"color\":\"#283442\"}},\"type\":\"scatter\"}],\"parcoords\":[{\"type\":\"parcoords\",\"line\":{\"colorbar\":{\"outlinewidth\":0,\"ticks\":\"\"}}}],\"scatterpolargl\":[{\"type\":\"scatterpolargl\",\"marker\":{\"colorbar\":{\"outlinewidth\":0,\"ticks\":\"\"}}}],\"bar\":[{\"error_x\":{\"color\":\"#f2f5fa\"},\"error_y\":{\"color\":\"#f2f5fa\"},\"marker\":{\"line\":{\"color\":\"rgb(17,17,17)\",\"width\":0.5},\"pattern\":{\"fillmode\":\"overlay\",\"size\":10,\"solidity\":0.2}},\"type\":\"bar\"}],\"scattergeo\":[{\"type\":\"scattergeo\",\"marker\":{\"colorbar\":{\"outlinewidth\":0,\"ticks\":\"\"}}}],\"scatterpolar\":[{\"type\":\"scatterpolar\",\"marker\":{\"colorbar\":{\"outlinewidth\":0,\"ticks\":\"\"}}}],\"histogram\":[{\"marker\":{\"pattern\":{\"fillmode\":\"overlay\",\"size\":10,\"solidity\":0.2}},\"type\":\"histogram\"}],\"scattergl\":[{\"marker\":{\"line\":{\"color\":\"#283442\"}},\"type\":\"scattergl\"}],\"scatter3d\":[{\"type\":\"scatter3d\",\"line\":{\"colorbar\":{\"outlinewidth\":0,\"ticks\":\"\"}},\"marker\":{\"colorbar\":{\"outlinewidth\":0,\"ticks\":\"\"}}}],\"scattermapbox\":[{\"type\":\"scattermapbox\",\"marker\":{\"colorbar\":{\"outlinewidth\":0,\"ticks\":\"\"}}}],\"scatterternary\":[{\"type\":\"scatterternary\",\"marker\":{\"colorbar\":{\"outlinewidth\":0,\"ticks\":\"\"}}}],\"scattercarpet\":[{\"type\":\"scattercarpet\",\"marker\":{\"colorbar\":{\"outlinewidth\":0,\"ticks\":\"\"}}}],\"carpet\":[{\"aaxis\":{\"endlinecolor\":\"#A2B1C6\",\"gridcolor\":\"#506784\",\"linecolor\":\"#506784\",\"minorgridcolor\":\"#506784\",\"startlinecolor\":\"#A2B1C6\"},\"baxis\":{\"endlinecolor\":\"#A2B1C6\",\"gridcolor\":\"#506784\",\"linecolor\":\"#506784\",\"minorgridcolor\":\"#506784\",\"startlinecolor\":\"#A2B1C6\"},\"type\":\"carpet\"}],\"table\":[{\"cells\":{\"fill\":{\"color\":\"#506784\"},\"line\":{\"color\":\"rgb(17,17,17)\"}},\"header\":{\"fill\":{\"color\":\"#2a3f5f\"},\"line\":{\"color\":\"rgb(17,17,17)\"}},\"type\":\"table\"}],\"barpolar\":[{\"marker\":{\"line\":{\"color\":\"rgb(17,17,17)\",\"width\":0.5},\"pattern\":{\"fillmode\":\"overlay\",\"size\":10,\"solidity\":0.2}},\"type\":\"barpolar\"}],\"pie\":[{\"automargin\":true,\"type\":\"pie\"}]},\"layout\":{\"autotypenumbers\":\"strict\",\"colorway\":[\"#636efa\",\"#EF553B\",\"#00cc96\",\"#ab63fa\",\"#FFA15A\",\"#19d3f3\",\"#FF6692\",\"#B6E880\",\"#FF97FF\",\"#FECB52\"],\"font\":{\"color\":\"#f2f5fa\"},\"hovermode\":\"closest\",\"hoverlabel\":{\"align\":\"left\"},\"paper_bgcolor\":\"rgb(17,17,17)\",\"plot_bgcolor\":\"rgb(17,17,17)\",\"polar\":{\"bgcolor\":\"rgb(17,17,17)\",\"angularaxis\":{\"gridcolor\":\"#506784\",\"linecolor\":\"#506784\",\"ticks\":\"\"},\"radialaxis\":{\"gridcolor\":\"#506784\",\"linecolor\":\"#506784\",\"ticks\":\"\"}},\"ternary\":{\"bgcolor\":\"rgb(17,17,17)\",\"aaxis\":{\"gridcolor\":\"#506784\",\"linecolor\":\"#506784\",\"ticks\":\"\"},\"baxis\":{\"gridcolor\":\"#506784\",\"linecolor\":\"#506784\",\"ticks\":\"\"},\"caxis\":{\"gridcolor\":\"#506784\",\"linecolor\":\"#506784\",\"ticks\":\"\"}},\"coloraxis\":{\"colorbar\":{\"outlinewidth\":0,\"ticks\":\"\"}},\"colorscale\":{\"sequential\":[[0.0,\"#0d0887\"],[0.1111111111111111,\"#46039f\"],[0.2222222222222222,\"#7201a8\"],[0.3333333333333333,\"#9c179e\"],[0.4444444444444444,\"#bd3786\"],[0.5555555555555556,\"#d8576b\"],[0.6666666666666666,\"#ed7953\"],[0.7777777777777778,\"#fb9f3a\"],[0.8888888888888888,\"#fdca26\"],[1.0,\"#f0f921\"]],\"sequentialminus\":[[0.0,\"#0d0887\"],[0.1111111111111111,\"#46039f\"],[0.2222222222222222,\"#7201a8\"],[0.3333333333333333,\"#9c179e\"],[0.4444444444444444,\"#bd3786\"],[0.5555555555555556,\"#d8576b\"],[0.6666666666666666,\"#ed7953\"],[0.7777777777777778,\"#fb9f3a\"],[0.8888888888888888,\"#fdca26\"],[1.0,\"#f0f921\"]],\"diverging\":[[0,\"#8e0152\"],[0.1,\"#c51b7d\"],[0.2,\"#de77ae\"],[0.3,\"#f1b6da\"],[0.4,\"#fde0ef\"],[0.5,\"#f7f7f7\"],[0.6,\"#e6f5d0\"],[0.7,\"#b8e186\"],[0.8,\"#7fbc41\"],[0.9,\"#4d9221\"],[1,\"#276419\"]]},\"xaxis\":{\"gridcolor\":\"#283442\",\"linecolor\":\"#506784\",\"ticks\":\"\",\"title\":{\"standoff\":15},\"zerolinecolor\":\"#283442\",\"automargin\":true,\"zerolinewidth\":2},\"yaxis\":{\"gridcolor\":\"#283442\",\"linecolor\":\"#506784\",\"ticks\":\"\",\"title\":{\"standoff\":15},\"zerolinecolor\":\"#283442\",\"automargin\":true,\"zerolinewidth\":2},\"scene\":{\"xaxis\":{\"backgroundcolor\":\"rgb(17,17,17)\",\"gridcolor\":\"#506784\",\"linecolor\":\"#506784\",\"showbackground\":true,\"ticks\":\"\",\"zerolinecolor\":\"#C8D4E3\",\"gridwidth\":2},\"yaxis\":{\"backgroundcolor\":\"rgb(17,17,17)\",\"gridcolor\":\"#506784\",\"linecolor\":\"#506784\",\"showbackground\":true,\"ticks\":\"\",\"zerolinecolor\":\"#C8D4E3\",\"gridwidth\":2},\"zaxis\":{\"backgroundcolor\":\"rgb(17,17,17)\",\"gridcolor\":\"#506784\",\"linecolor\":\"#506784\",\"showbackground\":true,\"ticks\":\"\",\"zerolinecolor\":\"#C8D4E3\",\"gridwidth\":2}},\"shapedefaults\":{\"line\":{\"color\":\"#f2f5fa\"}},\"annotationdefaults\":{\"arrowcolor\":\"#f2f5fa\",\"arrowhead\":0,\"arrowwidth\":1},\"geo\":{\"bgcolor\":\"rgb(17,17,17)\",\"landcolor\":\"rgb(17,17,17)\",\"subunitcolor\":\"#506784\",\"showland\":true,\"showlakes\":true,\"lakecolor\":\"rgb(17,17,17)\"},\"title\":{\"x\":0.05},\"updatemenudefaults\":{\"bgcolor\":\"#506784\",\"borderwidth\":0},\"sliderdefaults\":{\"bgcolor\":\"#C8D4E3\",\"borderwidth\":1,\"bordercolor\":\"rgb(17,17,17)\",\"tickwidth\":0},\"mapbox\":{\"style\":\"dark\"}}}},                        {\"responsive\": true}                    ).then(function(){\n                            \nvar gd = document.getElementById('fd151f4e-af21-4d42-a610-d3bf8ae24bb4');\nvar x = new MutationObserver(function (mutations, observer) {{\n        var display = window.getComputedStyle(gd).display;\n        if (!display || display === 'none') {{\n            console.log([gd, 'removed!']);\n            Plotly.purge(gd);\n            observer.disconnect();\n        }}\n}});\n\n// Listen for the removal of the full notebook cells\nvar notebookContainer = gd.closest('#notebook-container');\nif (notebookContainer) {{\n    x.observe(notebookContainer, {childList: true});\n}}\n\n// Listen for the clearing of the current output cell\nvar outputEl = gd.closest('.output');\nif (outputEl) {{\n    x.observe(outputEl, {childList: true});\n}}\n\n                        })                };                });            </script>        </div>"
     },
     "metadata": {},
     "output_type": "display_data"
    }
   ],
   "source": [
    "# Kreiranje trace-ova za svaku kategoriju\n",
    "traces = []\n",
    "for column in df.columns[1:]:\n",
    "    trace = go.Scatter(\n",
    "        x=df.index,\n",
    "        y=df[column],\n",
    "        mode='markers',\n",
    "        name=column\n",
    "    )\n",
    "    traces.append(trace)\n",
    "\n",
    "# Definiranje layout-a\n",
    "layout = go.Layout(\n",
    "    title='Razlika med plačanimi urami in opravljenimi delovnimi urami',\n",
    "    xaxis=dict(title='Leta'),\n",
    "    yaxis=dict(title='Število ur')\n",
    ")\n",
    "\n",
    "# Kreiranje Figure objekta\n",
    "fig = go.Figure(data=traces, layout=layout)\n",
    "\n",
    "# Prikazivanje interaktivnog scatter grafa\n",
    "fig.show()"
   ],
   "metadata": {
    "collapsed": false
   }
  },
  {
   "cell_type": "code",
   "execution_count": 75,
   "outputs": [
    {
     "data": {
      "text/plain": "<Figure size 1000x600 with 1 Axes>",
      "image/png": "[encoded data removed]"
     },
     "metadata": {},
     "output_type": "display_data"
    }
   ],
   "source": [
    "df = placane_delovne_ure_grouped.subtract(opravljene_delovne_ure_grouped)\n",
    "df_selected = df.iloc[:, 1:]\n",
    "df_selected.columns = ['Leto'] + list(df_selected.columns[1:])\n",
    "df_combined = df_selected.iloc[:, 2:]\n",
    "\n",
    "plt.figure(figsize=(10, 6))\n",
    "\n",
    "# Prikaz združenega boxplot diagrama za več let\n",
    "sns.boxplot(data=df_combined)\n",
    "\n",
    "# Nastavitve grafa\n",
    "plt.xlabel('Kategorija dela')\n",
    "plt.xticks(rotation='vertical')\n",
    "plt.ylabel('Število ur')\n",
    "plt.title('Razlika med plačanimi urami in opravljenimi delovnimi urami')\n",
    "\n",
    "# Prikaz grafa\n",
    "plt.show()"
   ],
   "metadata": {
    "collapsed": false
   }
  },
  {
   "cell_type": "code",
   "execution_count": 75,
   "outputs": [],
   "source": [],
   "metadata": {
    "collapsed": false
   }
  }
 ],
 "metadata": {
  "kernelspec": {
   "display_name": "Python 3 (ipykernel)",
   "language": "python",
   "name": "python3"
  },
  "language_info": {
   "codemirror_mode": {
    "name": "ipython",
    "version": 3
   },
   "file_extension": ".py",
   "mimetype": "text/x-python",
   "name": "python",
   "nbconvert_exporter": "python",
   "pygments_lexer": "ipython3",
   "version": "3.9.5"
  }
 },
 "nbformat": 4,
 "nbformat_minor": 5
}
