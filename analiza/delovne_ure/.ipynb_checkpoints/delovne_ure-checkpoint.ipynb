{
 "cells": [
  {
   "cell_type": "markdown",
   "id": "5180df3a",
   "metadata": {},
   "source": [
    "# Povezava do vira podatkovne zbirke: https://podatki.gov.si/dataset/surs0727802s"
   ]
  },
  {
   "cell_type": "markdown",
   "id": "8b0b7766",
   "metadata": {},
   "source": [
    "## POVPREČNO MESEČNO ŠTEVILO PLAČANIH IN OPRAVLJENIH DELOVNIH UR NA ZAPOSLENO OSEBO PO DEJAVNOSTIH"
   ]
  },
  {
   "cell_type": "code",
   "execution_count": 1,
   "id": "4e809e51",
   "metadata": {},
   "outputs": [],
   "source": [
    "import warnings\n",
    "warnings.simplefilter(\"ignore\", category = FutureWarning)\n",
    "\n",
    "# Uvozimo vse potrebne knjižnice\n",
    "import pandas as pd\n",
    "import matplotlib.pyplot as plt\n",
    "from sklearn.impute import KNNImputer\n",
    "\n",
    "# OPOMBE:\n",
    "# Najprej smo opravili osnovno transformacijo podatkov s pomočjo programa PX-Win\n",
    "# (izbor podatkov, transformacijo vrstic in stolpcev)\n",
    "# Datoteko smo shranili kot .csv, ki ima podatke ločene z ';'\n",
    "# V Excelu smo šumnike nadomestili s sprejemljivimi inačicami (Š - S, Č - C, Ž - Z)\n",
    "\n",
    "# Uvozimo .csv datoteko, ki za delimiter uporablja ';'\n",
    "delovne_ure = pd.read_csv(\"../../podatki/delovne_ure/delovne_ure.csv\", sep = \";\")\n",
    "\n",
    "# Pretvorimo imena stolpcev v velike črke\n",
    "delovne_ure.columns = delovne_ure.columns.str.upper()\n",
    "\n",
    "# Pretvorimo vrstice v velike črke\n",
    "delovne_ure['URE'] = delovne_ure['URE'].apply(lambda x: x.upper())\n",
    "\n",
    "# Izberemo 5 najbljižjih sosedov\n",
    "imputer = KNNImputer(n_neighbors=5)\n",
    "\n",
    "# Nad vsakim stolpec uporabimo KNNImputer, da nadomestimo manjkajoče vrednosti z napovedjo\n",
    "delovne_ure.iloc[:, 2:] = imputer.fit_transform(delovne_ure.iloc[:, 2:])\n",
    "\n",
    "# Prva dva stolpca pretvorimo v 'STRING'\n",
    "delovne_ure.iloc[:, 0:2] = delovne_ure.iloc[:, 0:2].astype(str)\n",
    "# Preostale stolpce pretvorimo v 'INTEGER'\n",
    "delovne_ure.iloc[:, 2:] = delovne_ure.iloc[:, 2:].astype(int)"
   ]
  },
  {
   "cell_type": "code",
   "execution_count": 2,
   "id": "ad3ff319",
   "metadata": {},
   "outputs": [],
   "source": [
    "# Shranimo v .xlsx datoteko\n",
    "# delovne_ure.to_excel('delovne_ure.xlsx', index=False)"
   ]
  },
  {
   "cell_type": "code",
   "execution_count": 3,
   "id": "b2510e7d",
   "metadata": {},
   "outputs": [
    {
     "name": "stdout",
     "output_type": "stream",
     "text": [
      "Index(['URE', 'CETRTLETJE', 'SKD DEJAVNOST - SKUPAJ',\n",
      "       'A KMETIJSTVO IN LOV, GOZDARSTVO, RIBISTVO', 'B RUDARSTVO',\n",
      "       'C PREDELOVALNE DEJAVNOSTI',\n",
      "       'D OSKRBA Z ELEKTRICNO ENERGIJO, PLINOM IN PARO',\n",
      "       'E OSKRBA Z VODO, RAVNANJE Z ODPLAKAMI IN ODPADKI, SANIRANJE OKOLJA',\n",
      "       'F GRADBENISTVO', 'G TRGOVINA, VZDRZEVANJE IN POPRAVILA MOTORNIH VOZIL',\n",
      "       'H PROMET IN SKLADISCENJE', 'I GOSTINSTVO',\n",
      "       'J INFORMACIJSKE IN KOMUNIKACIJSKE DEJAVNOSTI',\n",
      "       'K FINANCNE IN ZAVAROVALNISKE DEJAVNOSTI',\n",
      "       'L POSLOVANJE Z NEPREMICNINAMI',\n",
      "       'M STROKOVNE, ZNANSTVENE IN TEHNICNE DEJAVNOSTI',\n",
      "       'N DRUGE RAZNOVRSTNE POSLOVNE DEJAVNOSTI',\n",
      "       'O DEJAVNOST JAVNE UPRAVE IN OBRAMBE, DEJAVNOST OBVEZNE SOCIALNE VARNOSTI',\n",
      "       'P IZOBRAZEVANJE', 'Q ZDRAVSTVO IN SOCIALNO VARSTVO',\n",
      "       'R KULTURNE, RAZVEDRILNE IN REKREACIJSKE DEJAVNOSTI',\n",
      "       'S DRUGE DEJAVNOSTI'],\n",
      "      dtype='object')\n"
     ]
    }
   ],
   "source": [
    "# Pregled vseh stolpcev\n",
    "print(delovne_ure.columns)"
   ]
  },
  {
   "cell_type": "code",
   "execution_count": 4,
   "id": "0ad4fa96",
   "metadata": {},
   "outputs": [],
   "source": [
    "# Pretvorimo drugi stolpec (ČETRTLETJE) v 'DATETIME'\n",
    "delovne_ure.iloc[:,1] = pd.to_datetime(delovne_ure.iloc[:,1])"
   ]
  },
  {
   "cell_type": "markdown",
   "id": "6ee79005",
   "metadata": {},
   "source": [
    "---"
   ]
  }
 ],
 "metadata": {
  "kernelspec": {
   "display_name": "Python 3 (ipykernel)",
   "language": "python",
   "name": "python3"
  },
  "language_info": {
   "codemirror_mode": {
    "name": "ipython",
    "version": 3
   },
   "file_extension": ".py",
   "mimetype": "text/x-python",
   "name": "python",
   "nbconvert_exporter": "python",
   "pygments_lexer": "ipython3",
   "version": "3.9.5"
  }
 },
 "nbformat": 4,
 "nbformat_minor": 5
}
