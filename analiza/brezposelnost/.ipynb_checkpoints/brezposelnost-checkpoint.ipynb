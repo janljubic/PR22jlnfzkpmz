{
 "cells": [
  {
   "cell_type": "markdown",
   "id": "8149b003",
   "metadata": {},
   "source": [
    "# Povezava do vira podatkovne zbirke: https://podatki.gov.si/dataset/surs0762112s"
   ]
  },
  {
   "cell_type": "markdown",
   "id": "b44faaf1",
   "metadata": {},
   "source": [
    "## BREZPOSELNOST GLEDE NA DOSEŽENO IZOBRAZBO IN SPOL, KOHEZIJSKI REGIJI\n"
   ]
  },
  {
   "cell_type": "code",
   "execution_count": 1,
   "id": "e4f98069",
   "metadata": {},
   "outputs": [],
   "source": [
    "import warnings\n",
    "warnings.simplefilter(\"ignore\", category = FutureWarning)\n",
    "\n",
    "# Uvozimo vse potrebne knjižnice\n",
    "import pandas as pd\n",
    "import matplotlib.pyplot as plt\n",
    "from sklearn.impute import KNNImputer\n",
    "\n",
    "# OPOMBE:\n",
    "# Najprej smo opravili osnovno transformacijo podatkov s pomočjo programa PX-Win\n",
    "# (izbor podatkov, transformacijo vrstic in stolpcev)\n",
    "# Datoteko smo shranili kot .csv, ki ima podatke ločene z ';'\n",
    "# V Excelu smo šumnike nadomestili s sprejemljivimi inačicami (Š - S, Č - C, Ž - Z)\n",
    "\n",
    "# Uvozimo .csv datoteko, ki za delimiter uporablja ';'\n",
    "brezposelnost = pd.read_csv(\"../../podatki/brezposelnost/brezposelnost.csv\", sep = \";\")\n",
    "\n",
    "# V vseh vrsticah (z izjemo imen stolpcev in vrstic v tretjem stolpcu (spol 'MOSKI')) izbrišemo 'M' iz same vrednosti\n",
    "# npr. namesto '3822 M' bo sedaj vrednost '3822'\n",
    "brezposelnost.iloc[:, 3:] = brezposelnost.iloc[:, 3:].applymap(lambda x: x.replace('M', '') if isinstance(x, str) else x)\n",
    "\n",
    "# V naši podatkovni zbirki vrednost 'N' predstavlja manjkajoči podatek - nadomestimo jih z NaN vrednostjo, ki jo bomo\n",
    "# ustrezno nadomestili z uporabo strojnega učenja\n",
    "brezposelnost.iloc[:, 3:] = brezposelnost.iloc[:, 3:].replace('N', pd.np.nan)\n",
    "\n",
    "# Pretvorimo imena stolpcev v velike črke\n",
    "brezposelnost.columns = brezposelnost.columns.str.upper()\n",
    "\n",
    "# Zaradi kasnejših pretvorb v 'FLOAT' nadomestimo vse ',' s '.'\n",
    "brezposelnost.iloc[:, 2:] = brezposelnost.iloc[:, 2:].applymap(lambda x: x.replace(',', '.') if isinstance(x, str) else x)\n",
    "\n",
    "# Pretvorimo vrstice v velike črke\n",
    "brezposelnost['KOHEZIJSKA REGIJA'] = brezposelnost['KOHEZIJSKA REGIJA'].apply(lambda x: x.upper())\n",
    "brezposelnost['SPOL'] = brezposelnost['SPOL'].apply(lambda x: x.upper())\n",
    "\n",
    "# Izberemo 5 najbljižjih sosedov\n",
    "imputer = KNNImputer(n_neighbors=5)\n",
    "\n",
    "# Nad vsakim stolpec uporabimo KNNImputer, da nadomestimo manjkajoče vrednosti z napovedjo\n",
    "brezposelnost.iloc[:, 3:] = imputer.fit_transform(brezposelnost.iloc[:, 3:])\n",
    "\n",
    "# Prvi stolpec pretvorimo v 'INTEGER'\n",
    "brezposelnost.iloc[:, 0] = brezposelnost.iloc[:, 0].astype(int)\n",
    "# Druga dva stolpca pretvorimo v 'STRING'\n",
    "brezposelnost.iloc[:, 1:3] = brezposelnost.iloc[:, 1:3].astype(str)\n",
    "# Preostale stolpce pretvorimo v 'FLOAT'\n",
    "brezposelnost.iloc[:, 3:] = brezposelnost.iloc[:, 3:].astype(float)"
   ]
  },
  {
   "cell_type": "code",
   "execution_count": 2,
   "id": "dff03413",
   "metadata": {},
   "outputs": [],
   "source": [
    "# Shranimo v .xlsx datoteko\n",
    "# brezposelnost.to_excel('brezposelnost.xlsx', index=False)"
   ]
  },
  {
   "cell_type": "code",
   "execution_count": 3,
   "id": "773aeef1",
   "metadata": {},
   "outputs": [
    {
     "name": "stdout",
     "output_type": "stream",
     "text": [
      "Index(['LETO', 'KOHEZIJSKA REGIJA', 'SPOL',\n",
      "       'RAVEN DOSEZENE IZOBRAZBE - SKUPAJ DELEZ (V %)',\n",
      "       'BREZ IZOBRAZBE, NEPOPOLNA OSNOVNOSOLSKA DELEZ (V %)',\n",
      "       'OSNOVNOSOLSKA DELEZ (V %)', 'NIZJA ALI SREDNJA POKLICNA DELEZ (V %)',\n",
      "       'SREDNJA STROKOVNA, SPLOSNA DELEZ (V %)',\n",
      "       'VISJESOLSKA, VISOKOSOLSKA DELEZ (V %)'],\n",
      "      dtype='object')\n"
     ]
    }
   ],
   "source": [
    "# Pregled vseh stolpcev\n",
    "print(brezposelnost.columns)"
   ]
  },
  {
   "cell_type": "markdown",
   "id": "e8e6a53d",
   "metadata": {},
   "source": [
    "![My Image](../../slike/kohezijski_regiji.png)"
   ]
  },
  {
   "cell_type": "markdown",
   "id": "e612dfc1",
   "metadata": {},
   "source": [
    "---"
   ]
  }
 ],
 "metadata": {
  "kernelspec": {
   "display_name": "Python 3 (ipykernel)",
   "language": "python",
   "name": "python3"
  },
  "language_info": {
   "codemirror_mode": {
    "name": "ipython",
    "version": 3
   },
   "file_extension": ".py",
   "mimetype": "text/x-python",
   "name": "python",
   "nbconvert_exporter": "python",
   "pygments_lexer": "ipython3",
   "version": "3.9.5"
  }
 },
 "nbformat": 4,
 "nbformat_minor": 5
}
