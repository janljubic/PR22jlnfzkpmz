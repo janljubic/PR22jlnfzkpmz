{
 "cells": [
  {
   "cell_type": "markdown",
   "id": "667cc080",
   "metadata": {},
   "source": [
    "# Povezava do vira podatkovne zbirke: https://podatki.gov.si/dataset/surs0714611s"
   ]
  },
  {
   "cell_type": "markdown",
   "id": "2e0c2888",
   "metadata": {},
   "source": [
    "## ŠTEVILO PROSTIH DELOVNIH MEST SKUPAJ"
   ]
  },
  {
   "cell_type": "code",
   "execution_count": 1,
   "id": "2c778523",
   "metadata": {
    "scrolled": true
   },
   "outputs": [],
   "source": [
    "import warnings\n",
    "warnings.simplefilter(\"ignore\", category = FutureWarning)\n",
    "\n",
    "# Uvozimo vse potrebne knjižnice\n",
    "import pandas as pd\n",
    "import matplotlib.pyplot as plt\n",
    "from sklearn.impute import KNNImputer\n",
    "\n",
    "# OPOMBE:\n",
    "# Najprej smo opravili osnovno transformacijo podatkov s pomočjo programa PX-Win\n",
    "# (izbor podatkov, transformacijo vrstic in stolpcev)\n",
    "# Datoteko smo shranili kot .csv, ki ima podatke ločene z ';'\n",
    "# V Excelu smo šumnike nadomestili s sprejemljivimi inačicami (Š - S, Č - C, Ž - Z)\n",
    "\n",
    "# Uvozimo .csv datoteko, ki za delimiter uporablja ';'\n",
    "prosta_delovna_mesta_skupaj = pd.read_csv(\"../../podatki/delovna_mesta/prosta_delovna_mesta_skupaj.csv\", sep = \";\")\n",
    "\n",
    "# V vseh vrsticah (z izjemo imen stolpcev) izbrišemo 'M' iz same vrednosti – npr. namesto '3822 M' bo sedaj vrednost '3822'\n",
    "prosta_delovna_mesta_skupaj.iloc[:, 1:] = prosta_delovna_mesta_skupaj.iloc[:, 1:].applymap(lambda x: x.replace('M', '') if isinstance(x, str) else x)\n",
    "\n",
    "# V naši podatkovni zbirki vrednost 'N' predstavlja manjkajoči podatek - nadomestimo jih z NaN vrednostjo, ki jo bomo\n",
    "# ustrezno nadomestili z uporabo strojnega učenja\n",
    "prosta_delovna_mesta_skupaj.iloc[:, 3:] = prosta_delovna_mesta_skupaj.iloc[:, 3:].replace('N', pd.np.nan)\n",
    "\n",
    "# Izberemo 5 najbljižjih sosedov\n",
    "imputer = KNNImputer(n_neighbors=5)\n",
    "\n",
    "# Nad vsakim stolpec uporabimo KNNImputer, da nadomestimo manjkajoče vrednosti z napovedjo\n",
    "prosta_delovna_mesta_skupaj.iloc[:, 3:] = imputer.fit_transform(prosta_delovna_mesta_skupaj.iloc[:, 3:])\n",
    "\n",
    "# Prva dva stolpca pretvorimo v 'STRING'\n",
    "prosta_delovna_mesta_skupaj.iloc[:, 0:2] = prosta_delovna_mesta_skupaj.iloc[:, 0:2].astype(str)\n",
    "# Preostale stolpce pretvorimo v 'INTEGER'\n",
    "prosta_delovna_mesta_skupaj.iloc[:, 2:] = prosta_delovna_mesta_skupaj.iloc[:, 2:].astype(int)"
   ]
  },
  {
   "cell_type": "code",
   "execution_count": 2,
   "id": "25a907e2",
   "metadata": {},
   "outputs": [],
   "source": [
    "# Shranimo v .xlsx datoteko\n",
    "# prosta_delovna_mesta_skupaj.to_excel('prosta_delovna_mesta_skupaj.xlsx', index=False)"
   ]
  },
  {
   "cell_type": "code",
   "execution_count": 3,
   "id": "e756fee7",
   "metadata": {},
   "outputs": [
    {
     "name": "stdout",
     "output_type": "stream",
     "text": [
      "Index(['CETRTLETJE', 'MERITVE', 'SKD Dejavnost - SKUPAJ [B do S]',\n",
      "       'B RUDARSTVO', 'C PREDELOVALNE DEJAVNOSTI',\n",
      "       'D OSKRBA Z ELEKTRICNO ENERGIJO, PLINOM IN PARO',\n",
      "       'E OSKRBA Z VODO, RAVNANJE Z ODPLAKAMI IN ODPADKI, SANIRANJE OKOLJA',\n",
      "       'F GRADBENISTVO', 'G TRGOVINA, VZDRZEVANJE IN POPRAVILA MOTORNIH VOZIL',\n",
      "       'H PROMET IN SKLADISCENJE', 'I GOSTINSTVO',\n",
      "       'J INFORMACIJSKE IN KOMUNIKACIJSKE DEJAVNOSTI',\n",
      "       'K FINANCNE IN ZAVAROVALNISKE DEJAVNOSTI',\n",
      "       'L POSLOVANJE Z NEPREMICNINAMI',\n",
      "       'M STROKOVNE, ZNANSTVENE IN TEHNICNE DEJAVNOSTI',\n",
      "       'N DRUGE RAZNOVRSTNE POSLOVNE DEJAVNOSTI',\n",
      "       'O DEJAVNOST JAVNE UPRAVE IN OBRAMBE, DEJAVNOST OBVEZNE SOCIALNE VARNOSTI',\n",
      "       'P IZOBRAZEVANJE', 'Q ZDRAVSTVO IN SOCIALNO VARSTVO',\n",
      "       'R KULTURNE, RAZVEDRILNE IN REKREACIJSKE DEJAVNOSTI',\n",
      "       'S DRUGE DEJAVNOSTI'],\n",
      "      dtype='object')\n"
     ]
    }
   ],
   "source": [
    "# Pregled vseh stolpcev\n",
    "print(prosta_delovna_mesta_skupaj.columns)"
   ]
  },
  {
   "cell_type": "code",
   "execution_count": 4,
   "id": "00b3fe81",
   "metadata": {},
   "outputs": [],
   "source": [
    "# Pretvorimo prvi stolpec (ČETRTLETJE) v 'DATETIME'\n",
    "prosta_delovna_mesta_skupaj.iloc[:,0] = pd.to_datetime(prosta_delovna_mesta_skupaj.iloc[:,0])"
   ]
  },
  {
   "cell_type": "markdown",
   "id": "184d3991",
   "metadata": {},
   "source": [
    "---"
   ]
  },
  {
   "cell_type": "markdown",
   "id": "c2e5826f",
   "metadata": {},
   "source": [
    "## ŠTEVILO ZASEDENIH DELOVNIH MEST SKUPAJ"
   ]
  },
  {
   "cell_type": "code",
   "execution_count": 5,
   "id": "dbcd0ee8",
   "metadata": {},
   "outputs": [],
   "source": [
    "# OPOMBE:\n",
    "# Najprej smo opravili osnovno transformacijo podatkov s pomočjo programa PX-Win\n",
    "# (izbor podatkov, transformacijo vrstic in stolpcev)\n",
    "# Datoteko smo shranili kot .csv, ki ima podatke ločene z ';'\n",
    "# V Excelu smo šumnike nadomestili s sprejemljivimi inačicami (Š - S, Č - C, Ž - Z)\n",
    "\n",
    "# Uvozimo .csv datoteko, ki za delimiter uporablja ';'\n",
    "zasedena_delovna_mesta_skupaj = pd.read_csv(\"../../podatki/delovna_mesta/zasedena_delovna_mesta_skupaj.csv\", sep = \";\")\n",
    "\n",
    "# V vseh vrsticah (z izjemo imen stolpcev) izbrišemo 'M' iz same vrednosti – npr. namesto '3822 M' bo sedaj vrednost '3822'\n",
    "zasedena_delovna_mesta_skupaj.iloc[:, 1:] = zasedena_delovna_mesta_skupaj.iloc[:, 1:].applymap(lambda x: x.replace('M', '') if isinstance(x, str) else x)\n",
    "\n",
    "# V naši podatkovni zbirki vrednost 'N' predstavlja manjkajoči podatek - nadomestimo jih z NaN vrednostjo, ki jo bomo\n",
    "# ustrezno nadomestili z uporabo strojnega učenja\n",
    "zasedena_delovna_mesta_skupaj.iloc[:, 3:] = zasedena_delovna_mesta_skupaj.iloc[:, 3:].replace('N', pd.np.nan)\n",
    "\n",
    "# Izberemo 5 najbljižjih sosedov\n",
    "imputer = KNNImputer(n_neighbors=5)\n",
    "\n",
    "# Nad vsakim stolpec uporabimo KNNImputer, da nadomestimo manjkajoče vrednosti z napovedjo\n",
    "zasedena_delovna_mesta_skupaj.iloc[:, 3:] = imputer.fit_transform(zasedena_delovna_mesta_skupaj.iloc[:, 3:])\n",
    "\n",
    "# Prva dva stolpca pretvorimo v 'STRING'\n",
    "zasedena_delovna_mesta_skupaj.iloc[:, 0:2] = zasedena_delovna_mesta_skupaj.iloc[:, 0:2].astype(str)\n",
    "# Preostale stolpce pretvorimo v 'INTEGER'\n",
    "zasedena_delovna_mesta_skupaj.iloc[:, 2:] = zasedena_delovna_mesta_skupaj.iloc[:, 2:].astype(int)"
   ]
  },
  {
   "cell_type": "code",
   "execution_count": 6,
   "id": "91fcd8d4",
   "metadata": {},
   "outputs": [],
   "source": [
    "# Shranimo v .xlsx datoteko\n",
    "# prosta_delovna_mesta_skupaj.to_excel('prosta_delovna_mesta_skupaj.xlsx', index=False)"
   ]
  },
  {
   "cell_type": "code",
   "execution_count": 7,
   "id": "5bf348fc",
   "metadata": {},
   "outputs": [
    {
     "name": "stdout",
     "output_type": "stream",
     "text": [
      "Index(['CETRTLETJE', 'MERITVE', 'SKD Dejavnost - SKUPAJ [B do S]',\n",
      "       'B RUDARSTVO', 'C PREDELOVALNE DEJAVNOSTI',\n",
      "       'D OSKRBA Z ELEKTRICNO ENERGIJO, PLINOM IN PARO',\n",
      "       'E OSKRBA Z VODO, RAVNANJE Z ODPLAKAMI IN ODPADKI, SANIRANJE OKOLJA',\n",
      "       'F GRADBENISTVO', 'G TRGOVINA, VZDRZEVANJE IN POPRAVILA MOTORNIH VOZIL',\n",
      "       'H PROMET IN SKLADISCENJE', 'I GOSTINSTVO',\n",
      "       'J INFORMACIJSKE IN KOMUNIKACIJSKE DEJAVNOSTI',\n",
      "       'K FINANCNE IN ZAVAROVALNISKE DEJAVNOSTI',\n",
      "       'L POSLOVANJE Z NEPREMICNINAMI',\n",
      "       'M STROKOVNE, ZNANSTVENE IN TEHNICNE DEJAVNOSTI',\n",
      "       'N DRUGE RAZNOVRSTNE POSLOVNE DEJAVNOSTI',\n",
      "       'O DEJAVNOST JAVNE UPRAVE IN OBRAMBE, DEJAVNOST OBVEZNE SOCIALNE VARNOSTI',\n",
      "       'P IZOBRAZEVANJE', 'Q ZDRAVSTVO IN SOCIALNO VARSTVO',\n",
      "       'R KULTURNE, RAZVEDRILNE IN REKREACIJSKE DEJAVNOSTI',\n",
      "       'S DRUGE DEJAVNOSTI'],\n",
      "      dtype='object')\n"
     ]
    }
   ],
   "source": [
    "# Pregled vseh stolpcev\n",
    "print(zasedena_delovna_mesta_skupaj.columns)"
   ]
  },
  {
   "cell_type": "code",
   "execution_count": 8,
   "id": "d6ef3752",
   "metadata": {},
   "outputs": [],
   "source": [
    "# Pretvorimo prvi stolpec (ČETRTLETJE) v 'DATETIME'\n",
    "zasedena_delovna_mesta_skupaj.iloc[:,0] = pd.to_datetime(zasedena_delovna_mesta_skupaj.iloc[:,0])"
   ]
  },
  {
   "cell_type": "markdown",
   "id": "71905511",
   "metadata": {},
   "source": [
    "---"
   ]
  },
  {
   "cell_type": "markdown",
   "id": "2e995eb1",
   "metadata": {},
   "source": [
    "## STOPNJA PROSTIH DELOVNIH MEST (%) SKUPAJ"
   ]
  },
  {
   "cell_type": "code",
   "execution_count": 9,
   "id": "309d9d1b",
   "metadata": {},
   "outputs": [],
   "source": [
    "# OPOMBE:\n",
    "# Najprej smo opravili osnovno transformacijo podatkov s pomočjo programa PX-Win\n",
    "# (izbor podatkov, transformacijo vrstic in stolpcev)\n",
    "# Datoteko smo shranili kot .csv, ki ima podatke ločene z ';'\n",
    "# V Excelu smo šumnike nadomestili s sprejemljivimi inačicami (Š - S, Č - C, Ž - Z)\n",
    "\n",
    "# Uvozimo .csv datoteko, ki za delimiter uporablja ';'\n",
    "stopnja_prostih_delovnih_mest_skupaj = pd.read_csv(\"../../podatki/delovna_mesta/stopnja_prostih_delovnih_mest_skupaj.csv\", sep = \";\")\n",
    "\n",
    "# V vseh vrsticah (z izjemo imen stolpcev) izbrišemo 'M' iz same vrednosti – npr. namesto '3822 M' bo sedaj vrednost '3822'\n",
    "stopnja_prostih_delovnih_mest_skupaj.iloc[:, 1:] = stopnja_prostih_delovnih_mest_skupaj.iloc[:, 1:].applymap(lambda x: x.replace('M', '') if isinstance(x, str) else x)\n",
    "\n",
    "# V naši podatkovni zbirki vrednost 'N' predstavlja manjkajoči podatek - nadomestimo jih z NaN vrednostjo, ki jo bomo\n",
    "# ustrezno nadomestili z uporabo strojnega učenja\n",
    "stopnja_prostih_delovnih_mest_skupaj.iloc[:, 3:] = stopnja_prostih_delovnih_mest_skupaj.iloc[:, 3:].replace('N', pd.np.nan)\n",
    "\n",
    "# Zaradi kasnejših pretvorb v 'FLOAT' nadomestimo vse ',' s '.'\n",
    "stopnja_prostih_delovnih_mest_skupaj.iloc[:, 2:] = stopnja_prostih_delovnih_mest_skupaj.iloc[:, 2:].applymap(lambda x: x.replace(',', '.') if isinstance(x, str) else x)\n",
    "\n",
    "# Izberemo 5 najbljižjih sosedov\n",
    "imputer = KNNImputer(n_neighbors=5)\n",
    "\n",
    "# Nad vsakim stolpec uporabimo KNNImputer, da nadomestimo manjkajoče vrednosti z napovedjo\n",
    "stopnja_prostih_delovnih_mest_skupaj.iloc[:, 3:] = imputer.fit_transform(stopnja_prostih_delovnih_mest_skupaj.iloc[:, 3:])\n",
    "\n",
    "# Prva dva stolpca pretvorimo v 'STRING'\n",
    "stopnja_prostih_delovnih_mest_skupaj.iloc[:, 0:2] = zasedena_delovna_mesta_skupaj.iloc[:, 0:2].astype(str)\n",
    "# Preostale stolpce pretvorimo v 'FLOAT'\n",
    "stopnja_prostih_delovnih_mest_skupaj.iloc[:, 2:] = stopnja_prostih_delovnih_mest_skupaj.iloc[:, 2:].astype(float)"
   ]
  },
  {
   "cell_type": "code",
   "execution_count": 10,
   "id": "adfa0b01",
   "metadata": {},
   "outputs": [],
   "source": [
    "# Shranimo v .xlsx datoteko\n",
    "# stopnja_prostih_delovnih_mest_skupaj.to_excel('stopnja_prostih_delovnih_mest_skupaj.xlsx', index=False)"
   ]
  },
  {
   "cell_type": "code",
   "execution_count": 11,
   "id": "5bb8a77b",
   "metadata": {},
   "outputs": [
    {
     "name": "stdout",
     "output_type": "stream",
     "text": [
      "Index(['CETRTLETJE', 'MERITVE', 'SKD Dejavnost - SKUPAJ [B do S]',\n",
      "       'B RUDARSTVO', 'C PREDELOVALNE DEJAVNOSTI',\n",
      "       'D OSKRBA Z ELEKTRICNO ENERGIJO, PLINOM IN PARO',\n",
      "       'E OSKRBA Z VODO, RAVNANJE Z ODPLAKAMI IN ODPADKI, SANIRANJE OKOLJA',\n",
      "       'F GRADBENISTVO', 'G TRGOVINA, VZDRZEVANJE IN POPRAVILA MOTORNIH VOZIL',\n",
      "       'H PROMET IN SKLADISCENJE', 'I GOSTINSTVO',\n",
      "       'J INFORMACIJSKE IN KOMUNIKACIJSKE DEJAVNOSTI',\n",
      "       'K FINANCNE IN ZAVAROVALNISKE DEJAVNOSTI',\n",
      "       'L POSLOVANJE Z NEPREMICNINAMI',\n",
      "       'M STROKOVNE, ZNANSTVENE IN TEHNICNE DEJAVNOSTI',\n",
      "       'N DRUGE RAZNOVRSTNE POSLOVNE DEJAVNOSTI',\n",
      "       'O DEJAVNOST JAVNE UPRAVE IN OBRAMBE, DEJAVNOST OBVEZNE SOCIALNE VARNOSTI',\n",
      "       'P IZOBRAZEVANJE', 'Q ZDRAVSTVO IN SOCIALNO VARSTVO',\n",
      "       'R KULTURNE, RAZVEDRILNE IN REKREACIJSKE DEJAVNOSTI',\n",
      "       'S DRUGE DEJAVNOSTI'],\n",
      "      dtype='object')\n"
     ]
    }
   ],
   "source": [
    "# Pregled vseh stolpcev\n",
    "print(zasedena_delovna_mesta_skupaj.columns)"
   ]
  },
  {
   "cell_type": "code",
   "execution_count": 12,
   "id": "01dcf87c",
   "metadata": {},
   "outputs": [],
   "source": [
    "# Pretvorimo prvi stolpec (ČETRTLETJE) v 'DATETIME'\n",
    "stopnja_prostih_delovnih_mest_skupaj.iloc[:,0] = pd.to_datetime(stopnja_prostih_delovnih_mest_skupaj.iloc[:,0])"
   ]
  },
  {
   "cell_type": "markdown",
   "id": "075f5794",
   "metadata": {},
   "source": [
    "---"
   ]
  }
 ],
 "metadata": {
  "kernelspec": {
   "display_name": "Python 3 (ipykernel)",
   "language": "python",
   "name": "python3"
  },
  "language_info": {
   "codemirror_mode": {
    "name": "ipython",
    "version": 3
   },
   "file_extension": ".py",
   "mimetype": "text/x-python",
   "name": "python",
   "nbconvert_exporter": "python",
   "pygments_lexer": "ipython3",
   "version": "3.9.5"
  }
 },
 "nbformat": 4,
 "nbformat_minor": 5
}
