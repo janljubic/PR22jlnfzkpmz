{
 "cells": [
  {
   "cell_type": "markdown",
   "id": "4dee5531",
   "metadata": {},
   "source": [
    "# Povezava do vira podatkovne zbirke: https://podatki.gov.si/dataset/surs0711515s"
   ]
  },
  {
   "cell_type": "markdown",
   "id": "fdca57d8",
   "metadata": {},
   "source": [
    "## ZAPOSLENE OSEBE PO VIŠINI NETO PLAČE PO DEJAVNOSTIH IN SPOLU"
   ]
  },
  {
   "cell_type": "code",
   "execution_count": 1,
   "id": "54cfc609",
   "metadata": {},
   "outputs": [],
   "source": [
    "import warnings\n",
    "warnings.simplefilter(\"ignore\", category = FutureWarning)\n",
    "\n",
    "# Uvozimo vse potrebne knjižnice\n",
    "import pandas as pd\n",
    "import matplotlib.pyplot as plt\n",
    "from sklearn.impute import KNNImputer\n",
    "\n",
    "# OPOMBE:\n",
    "# Najprej smo opravili osnovno transformacijo podatkov s pomočjo programa PX-Win\n",
    "# (izbor podatkov, transformacijo vrstic in stolpcev)\n",
    "# Datoteko smo shranili kot .csv, ki ima podatke ločene z ';'\n",
    "# V Excelu smo šumnike nadomestili s sprejemljivimi inačicami (Š - S, Č - C, Ž - Z)\n",
    "\n",
    "# Uvozimo .csv datoteko, ki za delimiter uporablja ';'\n",
    "neto_placa = pd.read_csv(\"../../podatki/placa/neto_placa.csv\", sep = \";\")\n",
    "\n",
    "# V naši podatkovni zbirki vrednost 'z' in '-' predstavlja manjkajoči podatek - nadomestimo jih z NaN vrednostjo, ki jo bomo\n",
    "# ustrezno nadomestili z uporabo strojnega učenja\n",
    "neto_placa.iloc[:, 3:] = neto_placa.iloc[:, 3:].replace('z', pd.np.nan)\n",
    "neto_placa.iloc[:, 3:] = neto_placa.iloc[:, 3:].replace('-', pd.np.nan)\n",
    "\n",
    "# Pretvorimo imena stolpcev v velike črke\n",
    "neto_placa.columns = neto_placa.columns.str.upper()\n",
    "\n",
    "# Pretvorimo vrstice v velike črke\n",
    "neto_placa['SKD DEJAVNOST'] = neto_placa['SKD DEJAVNOST'].apply(lambda x: x.upper())\n",
    "neto_placa['SPOL'] = neto_placa['SPOL'].apply(lambda x: x.upper())\n",
    "neto_placa['STATUS ZAPOSLITVE'] = neto_placa['STATUS ZAPOSLITVE'].apply(lambda x: x.upper())\n",
    "\n",
    "# Izberemo 5 najbljižjih sosedov\n",
    "imputer = KNNImputer(n_neighbors=5)\n",
    "\n",
    "# Nad vsakim stolpec uporabimo KNNImputer, da nadomestimo manjkajoče vrednosti z napovedjo\n",
    "neto_placa.iloc[:, 4:] = imputer.fit_transform(neto_placa.iloc[:, 4:])\n",
    "\n",
    "# Prve tri stolpce pretvorimo v 'STRING'\n",
    "neto_placa.iloc[:, 0:3] = neto_placa.iloc[:, 0:3].astype(str)\n",
    "# Preostale stolpce pretvorimo v 'INTEGER'\n",
    "neto_placa.iloc[:, 4:] = neto_placa.iloc[:, 4:].astype(int)"
   ]
  },
  {
   "cell_type": "code",
   "execution_count": 2,
   "id": "c1486a0a",
   "metadata": {},
   "outputs": [],
   "source": [
    "# Shranimo v .xlsx datoteko\n",
    "# neto_placa.to_excel('neto_placa.xlsx', index=False)"
   ]
  },
  {
   "cell_type": "code",
   "execution_count": 3,
   "id": "618e4dcf",
   "metadata": {},
   "outputs": [
    {
     "name": "stdout",
     "output_type": "stream",
     "text": [
      "Index(['SKD DEJAVNOST', 'SPOL', 'STATUS ZAPOSLITVE', 'LETO',\n",
      "       'RAZRED NETO - SKUPAJ', '1', '2', '3', '4', '5', '6', '7', '8', '9',\n",
      "       '10', '11', '12', '13', '14', '15', '16', '17', '18', '19', '20'],\n",
      "      dtype='object')\n"
     ]
    }
   ],
   "source": [
    "# Pregled vseh stolpcev\n",
    "print(neto_placa.columns)"
   ]
  },
  {
   "cell_type": "markdown",
   "id": "53d0c718",
   "metadata": {},
   "source": [
    "---"
   ]
  },
  {
   "cell_type": "markdown",
   "id": "e7b052c2",
   "metadata": {},
   "source": [
    "# Povezava do vira podatkovne zbirke: https://podatki.gov.si/dataset/surs0711510s"
   ]
  },
  {
   "cell_type": "markdown",
   "id": "4be2255d",
   "metadata": {},
   "source": [
    "## ZAPOSLENE OSEBE PO VIŠINI BRUTO PLAČE PO DEJAVNOSTIH IN SPOLU"
   ]
  },
  {
   "cell_type": "code",
   "execution_count": 4,
   "id": "4a0bfae3",
   "metadata": {},
   "outputs": [],
   "source": [
    "# OPOMBE:\n",
    "# Najprej smo opravili osnovno transformacijo podatkov s pomočjo programa PX-Win\n",
    "# (izbor podatkov, transformacijo vrstic in stolpcev)\n",
    "# Datoteko smo shranili kot .csv, ki ima podatke ločene z ';'\n",
    "# V Excelu smo šumnike nadomestili s sprejemljivimi inačicami (Š - S, Č - C, Ž - Z)\n",
    "\n",
    "# Uvozimo .csv datoteko, ki za delimiter uporablja ';'\n",
    "bruto_placa = pd.read_csv(\"../../podatki/placa/bruto_placa.csv\", sep = \";\")\n",
    "\n",
    "# V naši podatkovni zbirki vrednost 'z' in '-' predstavlja manjkajoči podatek - nadomestimo jih z NaN vrednostjo, ki jo bomo\n",
    "# ustrezno nadomestili z uporabo strojnega učenja\n",
    "bruto_placa.iloc[:, 3:] = bruto_placa.iloc[:, 3:].replace('z', pd.np.nan)\n",
    "bruto_placa.iloc[:, 3:] = bruto_placa.iloc[:, 3:].replace('-', pd.np.nan)\n",
    "\n",
    "# Pretvorimo imena stolpcev v velike črke\n",
    "bruto_placa.columns = bruto_placa.columns.str.upper()\n",
    "\n",
    "# Pretvorimo vrstice v velike črke\n",
    "bruto_placa['SKD DEJAVNOST'] = bruto_placa['SKD DEJAVNOST'].apply(lambda x: x.upper())\n",
    "bruto_placa['SPOL'] = bruto_placa['SPOL'].apply(lambda x: x.upper())\n",
    "bruto_placa['STATUS ZAPOSLITVE'] = bruto_placa['STATUS ZAPOSLITVE'].apply(lambda x: x.upper())\n",
    "\n",
    "# Izberemo 5 najbljižjih sosedov\n",
    "imputer = KNNImputer(n_neighbors=5)\n",
    "\n",
    "# Nad vsakim stolpec uporabimo KNNImputer, da nadomestimo manjkajoče vrednosti z napovedjo\n",
    "bruto_placa.iloc[:, 4:] = imputer.fit_transform(bruto_placa.iloc[:, 4:])\n",
    "\n",
    "# Prve tri stolpce pretvorimo v 'STRING'\n",
    "bruto_placa.iloc[:, 0:3] = bruto_placa.iloc[:, 0:3].astype(str)\n",
    "# Preostale stolpce pretvorimo v 'INTEGER'\n",
    "bruto_placa.iloc[:, 4:] = bruto_placa.iloc[:, 4:].astype(int)"
   ]
  },
  {
   "cell_type": "code",
   "execution_count": 5,
   "id": "30ef777c",
   "metadata": {},
   "outputs": [],
   "source": [
    "# Shranimo v .xlsx datoteko\n",
    "# bruto_placa.to_excel('bruto_placa.xlsx', index=False)"
   ]
  },
  {
   "cell_type": "code",
   "execution_count": 6,
   "id": "4c765378",
   "metadata": {},
   "outputs": [
    {
     "name": "stdout",
     "output_type": "stream",
     "text": [
      "Index(['SKD DEJAVNOST', 'SPOL', 'STATUS ZAPOSLITVE', 'LETO',\n",
      "       'RAZRED NETO - SKUPAJ', '1', '2', '3', '4', '5', '6', '7', '8', '9',\n",
      "       '10', '11', '12', '13', '14', '15', '16', '17', '18', '19', '20'],\n",
      "      dtype='object')\n"
     ]
    }
   ],
   "source": [
    "# Pregled vseh stolpcev\n",
    "print(bruto_placa.columns)"
   ]
  },
  {
   "cell_type": "markdown",
   "id": "409e400d",
   "metadata": {},
   "source": [
    "---"
   ]
  }
 ],
 "metadata": {
  "kernelspec": {
   "display_name": "Python 3 (ipykernel)",
   "language": "python",
   "name": "python3"
  },
  "language_info": {
   "codemirror_mode": {
    "name": "ipython",
    "version": 3
   },
   "file_extension": ".py",
   "mimetype": "text/x-python",
   "name": "python",
   "nbconvert_exporter": "python",
   "pygments_lexer": "ipython3",
   "version": "3.9.5"
  }
 },
 "nbformat": 4,
 "nbformat_minor": 5
}
