{
 "cells": [
  {
   "cell_type": "markdown",
   "id": "693c557e",
   "metadata": {},
   "source": [
    "# Povezava do vira podatkovne zbirke: https://podatki.gov.si/dataset/surs0867636s"
   ]
  },
  {
   "cell_type": "markdown",
   "id": "31ee95f7",
   "metadata": {},
   "source": [
    "## STOPNJA TVEGANJA REVŠČINE, STATISTIČNE REGIJE"
   ]
  },
  {
   "cell_type": "code",
   "execution_count": 1,
   "id": "6c2a9a0e",
   "metadata": {},
   "outputs": [],
   "source": [
    "import warnings\n",
    "warnings.simplefilter(\"ignore\", category = FutureWarning)\n",
    "\n",
    "# Uvozimo vse potrebne knjižnice\n",
    "import pandas as pd\n",
    "import matplotlib.pyplot as plt\n",
    "from sklearn.impute import KNNImputer\n",
    "\n",
    "# OPOMBE:\n",
    "# Najprej smo opravili osnovno transformacijo podatkov s pomočjo programa PX-Win\n",
    "# (izbor podatkov, transformacijo vrstic in stolpcev)\n",
    "# Datoteko smo shranili kot .csv, ki ima podatke ločene z ';'\n",
    "# V Excelu smo šumnike nadomestili s sprejemljivimi inačicami (Š - S, Č - C, Ž - Z)\n",
    "\n",
    "# Uvozimo .csv datoteko, ki za delimiter uporablja ';'\n",
    "tveganje_revscine = pd.read_csv(\"../../podatki/stopnja_tveganja_revscine/stopnja_tveganja_revscine.csv\", sep = \";\")\n",
    "\n",
    "# Pretvorimo imena stolpcev v velike črke\n",
    "tveganje_revscine.columns = tveganje_revscine.columns.str.upper()\n",
    "\n",
    "# Pretvorimo vrstice v velike črke\n",
    "tveganje_revscine['MERITVE'] = tveganje_revscine['MERITVE'].apply(lambda x: x.upper())\n",
    "\n",
    "# Zaradi kasnejših pretvorb v 'FLOAT' nadomestimo vse ',' s '.'\n",
    "tveganje_revscine.iloc[:, 1:] = tveganje_revscine.iloc[:, 1:].applymap(lambda x: x.replace(',', '.') if isinstance(x, str) else x)\n",
    "\n",
    "# Izberemo 5 najbljižjih sosedov\n",
    "imputer = KNNImputer(n_neighbors=5)\n",
    "\n",
    "# Nad vsakim stolpec uporabimo KNNImputer, da nadomestimo manjkajoče vrednosti z napovedjo\n",
    "tveganje_revscine.iloc[:, 1:] = imputer.fit_transform(tveganje_revscine.iloc[:, 1:])\n",
    "\n",
    "# Prvi stolpec pretvorimo v 'STRING'\n",
    "tveganje_revscine.iloc[:, 0] = tveganje_revscine.iloc[:, 0].astype(str)\n",
    "# Drugi stolpec pretvorimo v 'INTEGER'\n",
    "tveganje_revscine.iloc[:, 1] = tveganje_revscine.iloc[:, 1].astype(int)\n",
    "# Preostale stolpce pretvorimo v 'FLOAT'\n",
    "tveganje_revscine.iloc[:, 1:] = tveganje_revscine.iloc[:, 1:].astype(float)"
   ]
  },
  {
   "cell_type": "code",
   "execution_count": 2,
   "id": "4b0d5f7c",
   "metadata": {},
   "outputs": [],
   "source": [
    "# Shranimo v .xlsx datoteko\n",
    "# tveganje_revscine.to_excel('stopnja_tveganja_revscine.xlsx', index=False)"
   ]
  },
  {
   "cell_type": "code",
   "execution_count": 3,
   "id": "61974a7c",
   "metadata": {},
   "outputs": [
    {
     "name": "stdout",
     "output_type": "stream",
     "text": [
      "Index(['MERITVE', 'LETO', 'SLOVENIJA', 'POMURSKA', 'PODRAVSKA', 'KOROSKA',\n",
      "       'SAVINJSKA', 'ZASAVSKA', 'POSAVSKA', 'JUGOVZHODNA SLOVENIJA',\n",
      "       'OSREDNJESLOVENSKA', 'GORENJSKA', 'PRIMORSKO-NOTRANJSKA', 'GORISKA',\n",
      "       'OBALNO-KRASKA'],\n",
      "      dtype='object')\n"
     ]
    }
   ],
   "source": [
    "# Pregled vseh stolpcev\n",
    "print(tveganje_revscine.columns)"
   ]
  },
  {
   "cell_type": "markdown",
   "id": "159208a9",
   "metadata": {},
   "source": [
    "![My Image](../../slike/statisticne_regije.png)"
   ]
  },
  {
   "cell_type": "markdown",
   "id": "a8574842",
   "metadata": {},
   "source": [
    "---"
   ]
  }
 ],
 "metadata": {
  "kernelspec": {
   "display_name": "Python 3 (ipykernel)",
   "language": "python",
   "name": "python3"
  },
  "language_info": {
   "codemirror_mode": {
    "name": "ipython",
    "version": 3
   },
   "file_extension": ".py",
   "mimetype": "text/x-python",
   "name": "python",
   "nbconvert_exporter": "python",
   "pygments_lexer": "ipython3",
   "version": "3.9.5"
  }
 },
 "nbformat": 4,
 "nbformat_minor": 5
}
